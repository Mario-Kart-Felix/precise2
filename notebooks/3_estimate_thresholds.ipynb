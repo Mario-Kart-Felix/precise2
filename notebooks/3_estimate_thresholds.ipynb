{
 "cells": [
  {
   "cell_type": "markdown",
   "metadata": {},
   "source": [
    "LAST RUN BY: CAM 09/14/2020"
   ]
  },
  {
   "cell_type": "markdown",
   "metadata": {
    "toc": true
   },
   "source": [
    "<h1>Table of Contents<span class=\"tocSkip\"></span></h1>\n",
    "<div class=\"toc\"><ul class=\"toc-item\"><li><span><a href=\"#Get-TF-enrichments-for-top-20-genes-in-each-component\" data-toc-modified-id=\"Get-TF-enrichments-for-top-20-genes-in-each-component-1\"><span class=\"toc-item-num\">1&nbsp;&nbsp;</span>Get TF enrichments for top 20 genes in each component</a></span></li><li><span><a href=\"#Sensitivity-Analysis\" data-toc-modified-id=\"Sensitivity-Analysis-2\"><span class=\"toc-item-num\">2&nbsp;&nbsp;</span>Sensitivity Analysis</a></span></li></ul></div>"
   ]
  },
  {
   "cell_type": "code",
   "execution_count": 1,
   "metadata": {},
   "outputs": [],
   "source": [
    "import sys\n",
    "import matplotlib.pyplot as plt\n",
    "from tqdm import tqdm_notebook as tqdm"
   ]
  },
  {
   "cell_type": "code",
   "execution_count": 2,
   "metadata": {},
   "outputs": [],
   "source": [
    "sys.path.append('..')\n",
    "from icaviz.load import *"
   ]
  },
  {
   "cell_type": "code",
   "execution_count": 3,
   "metadata": {},
   "outputs": [],
   "source": [
    "DATA_DIR = '../data/featureCounts_data2/'\n",
    "GENE_DIR = '../data/annotation/'\n",
    "X_file = DATA_DIR  + 'log_tpm_qc.csv'\n",
    "S_file = DATA_DIR + 'S.csv'\n",
    "A_file = DATA_DIR + 'A.csv'\n",
    "metadata_file = DATA_DIR+'metadata_qc.csv'\n",
    "annotation_file = GENE_DIR + 'gene_info.csv'\n",
    "trn_file = GENE_DIR + 'TRN.csv'"
   ]
  },
  {
   "cell_type": "code",
   "execution_count": 4,
   "metadata": {},
   "outputs": [
    {
     "name": "stderr",
     "output_type": "stream",
     "text": [
      "../icaviz/load.py:350: UserWarning: Genes missing annotations: b0012, b0056, b0057, b4726, b4727, b4728, b0240, b4710, b4709, b4587, b4729, b0282, b4730, b0322, b4579, b4731, b4580, b4732, b0502, b0542, b4733, b0553, b0562, b4734, b4581, b4735, b4736, b4723, b4737, b4490, b1142, b1149, b4738, b4739, b4491, b4521, b4740, b1228, b4573, b4711, b4741, b4742, b1318, b4524, b4743, b4570, b4744, b4492, b4493, b4745, b1459, b1470, b1471, b4746, b4747, b1506, b4696, b1543, b4748, b4749, b4724, b4750, b4534, b4494, b4751, b4752, b4495, b4496, b4582, b4571, b4498, b2092, b2115, b2139, b2190, b4604, b4605, b4725, b2641, b4644, b2649, b2681, b4610, b2850, b2854, b2855, b2858, b2862, b4753, b2891, b4754, b2941, b4658, b4755, b3036, b4756, b3046, b4569, b3268, b3423, b3443, b4612, b4660, b3504, b4615, b3643, b3681, b3682, b4757, b4488, b3777, b3782, b3808, b4038, b4583, b4223, b4575, b4623, b4308, b4720, b4721, b4722, b4715, b4584\n",
      "  warnings.warn('Genes missing annotations: {}'.format(missing_genes))\n"
     ]
    }
   ],
   "source": [
    "# Load ica_data object    \n",
    "ica_data = load_data(X_file,S_file,A_file,\n",
    "                     metadata_file,annotation_file,\n",
    "                     trn_file)"
   ]
  },
  {
   "cell_type": "markdown",
   "metadata": {},
   "source": [
    "# Get TF enrichments for top 20 genes in each component\n",
    "The mean number of genes in an *E. coli* regulon is 30, and the median is 6."
   ]
  },
  {
   "cell_type": "code",
   "execution_count": 5,
   "metadata": {},
   "outputs": [],
   "source": [
    "# Some versions of pandas activate an internal FutureWarning, so we will quiet those\n",
    "\n",
    "import warnings\n",
    "warnings.filterwarnings('ignore',category=FutureWarning)"
   ]
  },
  {
   "cell_type": "code",
   "execution_count": 6,
   "metadata": {
    "scrolled": false
   },
   "outputs": [
    {
     "name": "stderr",
     "output_type": "stream",
     "text": [
      "/Users/cam/.virtualenvs/precise2/lib/python3.7/site-packages/ipykernel_launcher.py:6: TqdmDeprecationWarning: This function will be removed in tqdm==5.0.0\n",
      "Please use `tqdm.notebook.tqdm` instead of `tqdm.tqdm_notebook`\n",
      "  \n"
     ]
    },
    {
     "data": {
      "application/vnd.jupyter.widget-view+json": {
       "model_id": "8b7976050bdd4d6dbd6850f9f77bfe17",
       "version_major": 2,
       "version_minor": 0
      },
      "text/plain": [
       "HBox(children=(FloatProgress(value=0.0, max=202.0), HTML(value='')))"
      ]
     },
     "metadata": {},
     "output_type": "display_data"
    },
    {
     "name": "stdout",
     "output_type": "stream",
     "text": [
      "\n"
     ]
    },
    {
     "data": {
      "text/html": [
       "<div>\n",
       "<style scoped>\n",
       "    .dataframe tbody tr th:only-of-type {\n",
       "        vertical-align: middle;\n",
       "    }\n",
       "\n",
       "    .dataframe tbody tr th {\n",
       "        vertical-align: top;\n",
       "    }\n",
       "\n",
       "    .dataframe thead th {\n",
       "        text-align: right;\n",
       "    }\n",
       "</style>\n",
       "<table border=\"1\" class=\"dataframe\">\n",
       "  <thead>\n",
       "    <tr style=\"text-align: right;\">\n",
       "      <th></th>\n",
       "      <th>TF</th>\n",
       "      <th>log_odds</th>\n",
       "      <th>pvalue</th>\n",
       "      <th>qvalue</th>\n",
       "      <th>precision</th>\n",
       "      <th>recall</th>\n",
       "      <th>f1score</th>\n",
       "      <th>TP</th>\n",
       "      <th>n_genes</th>\n",
       "      <th>n_tf</th>\n",
       "    </tr>\n",
       "    <tr>\n",
       "      <th>component</th>\n",
       "      <th></th>\n",
       "      <th></th>\n",
       "      <th></th>\n",
       "      <th></th>\n",
       "      <th></th>\n",
       "      <th></th>\n",
       "      <th></th>\n",
       "      <th></th>\n",
       "      <th></th>\n",
       "      <th></th>\n",
       "    </tr>\n",
       "  </thead>\n",
       "  <tbody>\n",
       "    <tr>\n",
       "      <th>1</th>\n",
       "      <td>malT</td>\n",
       "      <td>8.173575</td>\n",
       "      <td>1.088122e-21</td>\n",
       "      <td>2.970572e-19</td>\n",
       "      <td>0.45</td>\n",
       "      <td>0.900000</td>\n",
       "      <td>0.600000</td>\n",
       "      <td>9.0</td>\n",
       "      <td>20</td>\n",
       "      <td>1.0</td>\n",
       "    </tr>\n",
       "    <tr>\n",
       "      <th>3</th>\n",
       "      <td>galS</td>\n",
       "      <td>8.173575</td>\n",
       "      <td>1.088122e-21</td>\n",
       "      <td>1.485286e-19</td>\n",
       "      <td>0.45</td>\n",
       "      <td>0.900000</td>\n",
       "      <td>0.600000</td>\n",
       "      <td>9.0</td>\n",
       "      <td>20</td>\n",
       "      <td>1.0</td>\n",
       "    </tr>\n",
       "    <tr>\n",
       "      <th>6</th>\n",
       "      <td>rhaS</td>\n",
       "      <td>inf</td>\n",
       "      <td>4.104722e-15</td>\n",
       "      <td>1.120589e-12</td>\n",
       "      <td>0.30</td>\n",
       "      <td>1.000000</td>\n",
       "      <td>0.461538</td>\n",
       "      <td>6.0</td>\n",
       "      <td>20</td>\n",
       "      <td>1.0</td>\n",
       "    </tr>\n",
       "    <tr>\n",
       "      <th>8</th>\n",
       "      <td>flhD;flhC</td>\n",
       "      <td>4.310373</td>\n",
       "      <td>6.736609e-15</td>\n",
       "      <td>1.839094e-12</td>\n",
       "      <td>0.55</td>\n",
       "      <td>0.135802</td>\n",
       "      <td>0.217822</td>\n",
       "      <td>11.0</td>\n",
       "      <td>20</td>\n",
       "      <td>1.0</td>\n",
       "    </tr>\n",
       "    <tr>\n",
       "      <th>11</th>\n",
       "      <td>cysB</td>\n",
       "      <td>5.525769</td>\n",
       "      <td>7.875556e-20</td>\n",
       "      <td>2.150027e-17</td>\n",
       "      <td>0.55</td>\n",
       "      <td>0.343750</td>\n",
       "      <td>0.423077</td>\n",
       "      <td>11.0</td>\n",
       "      <td>20</td>\n",
       "      <td>1.0</td>\n",
       "    </tr>\n",
       "  </tbody>\n",
       "</table>\n",
       "</div>"
      ],
      "text/plain": [
       "                  TF  log_odds        pvalue        qvalue  precision  \\\n",
       "component                                                               \n",
       "1               malT  8.173575  1.088122e-21  2.970572e-19       0.45   \n",
       "3               galS  8.173575  1.088122e-21  1.485286e-19       0.45   \n",
       "6               rhaS       inf  4.104722e-15  1.120589e-12       0.30   \n",
       "8          flhD;flhC  4.310373  6.736609e-15  1.839094e-12       0.55   \n",
       "11              cysB  5.525769  7.875556e-20  2.150027e-17       0.55   \n",
       "\n",
       "             recall   f1score    TP  n_genes  n_tf  \n",
       "component                                           \n",
       "1          0.900000  0.600000   9.0       20   1.0  \n",
       "3          0.900000  0.600000   9.0       20   1.0  \n",
       "6          1.000000  0.461538   6.0       20   1.0  \n",
       "8          0.135802  0.217822  11.0       20   1.0  \n",
       "11         0.343750  0.423077  11.0       20   1.0  "
      ]
     },
     "execution_count": 6,
     "metadata": {},
     "output_type": "execute_result"
    }
   ],
   "source": [
    "# Initialize objects\n",
    "list2struct = []\n",
    "\n",
    "all_genes = set(ica_data.S.index)\n",
    "\n",
    "for k in tqdm(ica_data.S.columns):\n",
    "    # Get top 20 genes\n",
    "    genes = set(abs(ica_data.S[k]).sort_values().iloc[-20:].index)\n",
    "\n",
    "    # Compute single TF enrichments\n",
    "    enrichments = compute_enrichments(genes, all_genes, \n",
    "                                      ica_data.trn, max_tfs=1, \n",
    "                                      fdr_rate=1e-5)\n",
    "    enrichments['TF'] = enrichments.index\n",
    "    enrichments['component'] = k\n",
    "    enrichments['n_genes'] = len(genes)\n",
    "\n",
    "    list2struct.append(enrichments.reset_index(drop=True))\n",
    "    \n",
    "DF_enriched = pd.concat(list2struct, sort=False).reset_index(drop=True)\n",
    "DF_enriched = DF_enriched[['component', 'TF', 'log_odds', \n",
    "                           'pvalue', 'qvalue','precision',\n",
    "                           'recall','f1score','TP', 'n_genes','n_tf']]\n",
    "    \n",
    "# Sort by p-value\n",
    "DF_enriched = DF_enriched.sort_values(['component','qvalue']).drop_duplicates('component')\n",
    "DF_enriched = DF_enriched.set_index('component')\n",
    "DF_enriched.head()"
   ]
  },
  {
   "cell_type": "code",
   "execution_count": 7,
   "metadata": {},
   "outputs": [
    {
     "name": "stdout",
     "output_type": "stream",
     "text": [
      "Total components: 202\n",
      "Components with regulator enrichments: 91\n",
      "Unique regulators: 74\n"
     ]
    }
   ],
   "source": [
    "print('Total components:',len(ica_data.S.columns))\n",
    "print('Components with regulator enrichments:',len(DF_enriched))\n",
    "print('Unique regulators:',len(DF_enriched.TF.unique()))"
   ]
  },
  {
   "cell_type": "markdown",
   "metadata": {},
   "source": [
    "# Sensitivity Analysis\n",
    "To identify the best cutoff, we can scan across various cutoffs to identify the best results. "
   ]
  },
  {
   "cell_type": "code",
   "execution_count": 8,
   "metadata": {
    "scrolled": false
   },
   "outputs": [
    {
     "name": "stderr",
     "output_type": "stream",
     "text": [
      "/Users/cam/.virtualenvs/precise2/lib/python3.7/site-packages/ipykernel_launcher.py:8: TqdmDeprecationWarning: This function will be removed in tqdm==5.0.0\n",
      "Please use `tqdm.notebook.tqdm` instead of `tqdm.tqdm_notebook`\n",
      "  \n"
     ]
    },
    {
     "data": {
      "application/vnd.jupyter.widget-view+json": {
       "model_id": "036ebb8f6bb24d42be577430ec547f54",
       "version_major": 2,
       "version_minor": 0
      },
      "text/plain": [
       "HBox(children=(FloatProgress(value=0.0, max=28.0), HTML(value='')))"
      ]
     },
     "metadata": {},
     "output_type": "display_data"
    },
    {
     "name": "stdout",
     "output_type": "stream",
     "text": [
      "\n"
     ]
    }
   ],
   "source": [
    "precision = []\n",
    "recall = []\n",
    "fpr = []\n",
    "f1_score = []\n",
    "all_genes = set(ica_data.S.index)\n",
    "vals = np.arange(300,1000,25)\n",
    "\n",
    "for cutoff in tqdm(vals):\n",
    "    prec = []\n",
    "    rec = []\n",
    "    f1_i = []\n",
    "    fpr_i = []\n",
    "\n",
    "    for i,row in DF_enriched.iterrows():\n",
    "        \n",
    "        # Get threshold based on test-statistic cutoff\n",
    "        thresh = compute_threshold(ica_data.S,i,cutoff)\n",
    "        \n",
    "        # Get genes in i-modulon\n",
    "        ic_genes = set(ica_data.S[abs(ica_data.S[i]) > thresh].index)\n",
    "        \n",
    "        # Get genes in linked regulon\n",
    "        reg_genes = set(ica_data.trn[ica_data.trn.TF == row.TF].gene_id)\n",
    "        \n",
    "        # Compute contingency table\n",
    "        ((tp_i,fp_i),(fn_i,tn_i)) = contingency(reg_genes,ic_genes,all_genes)\n",
    "\n",
    "        # Calculate metrics for one regulator-component pair\n",
    "        prec_tmp = np.true_divide(tp_i,tp_i+fp_i)\n",
    "        rec_tmp = np.true_divide(tp_i,tp_i+fn_i)\n",
    "        f1_tmp = (2*prec_tmp*rec_tmp)/(prec_tmp+rec_tmp) if prec_tmp + rec_tmp > 0 else 0\n",
    "        fpr_tmp = np.true_divide(fp_i,fp_i+tn_i)\n",
    "\n",
    "        # Add to list for this cutoff score\n",
    "        prec.append(prec_tmp)\n",
    "        rec.append(rec_tmp)\n",
    "        f1_i.append(f1_tmp)\n",
    "        fpr_i.append(fpr_tmp)\n",
    "\n",
    "    # Get mean of metric for this cutoff score\n",
    "    precision.append(np.mean(prec))\n",
    "    recall.append(np.mean(rec))\n",
    "    fpr.append(np.mean(fpr_i))\n",
    "    f1_score.append(np.mean(f1_i))"
   ]
  },
  {
   "cell_type": "markdown",
   "metadata": {},
   "source": [
    "The [F1-score](https://en.wikipedia.org/wiki/F1_score) measures the balance between [precision and recall](https://en.wikipedia.org/wiki/Precision_and_recall)."
   ]
  },
  {
   "cell_type": "code",
   "execution_count": 9,
   "metadata": {},
   "outputs": [
    {
     "data": {
      "text/plain": [
       "[<matplotlib.lines.Line2D at 0x1275ced10>]"
      ]
     },
     "execution_count": 9,
     "metadata": {},
     "output_type": "execute_result"
    },
    {
     "data": {
      "image/png": "[encoded data removed]",
      "text/plain": [
       "<Figure size 432x288 with 1 Axes>"
      ]
     },
     "metadata": {
      "needs_background": "light"
     },
     "output_type": "display_data"
    }
   ],
   "source": [
    "plt.plot(vals,f1_score)"
   ]
  },
  {
   "cell_type": "code",
   "execution_count": 10,
   "metadata": {},
   "outputs": [
    {
     "name": "stdout",
     "output_type": "stream",
     "text": [
      "Max F1-score: 0.4996415108322335\n",
      "Cutoff value: 600\n"
     ]
    }
   ],
   "source": [
    "print('Max F1-score:',max(f1_score))\n",
    "print('Cutoff value:',vals[np.argmax(f1_score)])"
   ]
  },
  {
   "cell_type": "code",
   "execution_count": 11,
   "metadata": {},
   "outputs": [
    {
     "data": {
      "text/plain": [
       "Text(0.5, 1.0, 'ROC Curve')"
      ]
     },
     "execution_count": 11,
     "metadata": {},
     "output_type": "execute_result"
    },
    {
     "data": {
      "image/png": "[encoded data removed]",
      "text/plain": [
       "<Figure size 288x288 with 1 Axes>"
      ]
     },
     "metadata": {
      "needs_background": "light"
     },
     "output_type": "display_data"
    }
   ],
   "source": [
    "fig,ax = plt.subplots(figsize=(4,4))\n",
    "plt.plot(fpr,recall)\n",
    "plt.xlabel('FPR',fontsize=16)\n",
    "plt.ylabel('TPR',fontsize=16)\n",
    "plt.scatter([fpr[np.argmax(f1_score)]],[recall[np.argmax(f1_score)]],color='k')\n",
    "plt.xlim([0,0.05])\n",
    "plt.ylim([0,1])\n",
    "plt.title('ROC Curve',fontsize=18)"
   ]
  },
  {
   "cell_type": "code",
   "execution_count": 12,
   "metadata": {},
   "outputs": [
    {
     "data": {
      "text/plain": [
       "Text(0.5, 1.0, 'Precision-Recall Curve')"
      ]
     },
     "execution_count": 12,
     "metadata": {},
     "output_type": "execute_result"
    },
    {
     "data": {
      "image/png": "[encoded data removed]",
      "text/plain": [
       "<Figure size 288x288 with 1 Axes>"
      ]
     },
     "metadata": {
      "needs_background": "light"
     },
     "output_type": "display_data"
    }
   ],
   "source": [
    "fig,ax = plt.subplots(figsize=(4,4))\n",
    "plt.plot(recall,precision)\n",
    "plt.xlabel('Recall',fontsize=16)\n",
    "plt.ylabel('Precision',fontsize=16)\n",
    "plt.scatter([recall[np.argmax(f1_score)]],[precision[np.argmax(f1_score)]],color='k')\n",
    "plt.xlim([0,1])\n",
    "plt.ylim([0,1])\n",
    "plt.title('Precision-Recall Curve',fontsize=18)"
   ]
  },
  {
   "cell_type": "code",
   "execution_count": null,
   "metadata": {},
   "outputs": [],
   "source": []
  }
 ],
 "metadata": {
  "kernelspec": {
   "display_name": "Python 3",
   "language": "python",
   "name": "python3"
  },
  "language_info": {
   "codemirror_mode": {
    "name": "ipython",
    "version": 3
   },
   "file_extension": ".py",
   "mimetype": "text/x-python",
   "name": "python",
   "nbconvert_exporter": "python",
   "pygments_lexer": "ipython3",
   "version": "3.7.7"
  },
  "toc": {
   "base_numbering": 1,
   "nav_menu": {},
   "number_sections": true,
   "sideBar": true,
   "skip_h1_title": false,
   "title_cell": "Table of Contents",
   "title_sidebar": "Contents",
   "toc_cell": true,
   "toc_position": {},
   "toc_section_display": true,
   "toc_window_display": false
  }
 },
 "nbformat": 4,
 "nbformat_minor": 2
}
