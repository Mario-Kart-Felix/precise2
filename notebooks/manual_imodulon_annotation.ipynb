{
 "cells": [
  {
   "cell_type": "code",
   "execution_count": 1,
   "metadata": {},
   "outputs": [],
   "source": [
    "from pymodulon.core import IcaData\n",
    "from pymodulon.visualization import *\n",
    "from pymodulon.io import load_json_model, save_to_json\n",
    "import pandas as pd"
   ]
  },
  {
   "cell_type": "code",
   "execution_count": 2,
   "metadata": {},
   "outputs": [],
   "source": [
    "pd.set_option('display.max_rows', 200)"
   ]
  },
  {
   "cell_type": "markdown",
   "metadata": {},
   "source": [
    "# Load IcaData object"
   ]
  },
  {
   "cell_type": "code",
   "execution_count": 4,
   "metadata": {},
   "outputs": [],
   "source": [
    "ica_data = load_json_model('../data/precise2/precise2.json.gz')"
   ]
  },
  {
   "cell_type": "markdown",
   "metadata": {},
   "source": [
    "# Annotate iModulons"
   ]
  },
  {
   "cell_type": "code",
   "execution_count": 4,
   "metadata": {},
   "outputs": [
    {
     "data": {
      "text/plain": [
       "'Glutathione'"
      ]
     },
     "execution_count": 4,
     "metadata": {},
     "output_type": "execute_result"
    }
   ],
   "source": [
    "iM_to_annotate = ica_data.imodulon_names[216]\n",
    "iM_to_annotate"
   ]
  },
  {
   "cell_type": "markdown",
   "metadata": {},
   "source": [
    "## Plot Gene Weights"
   ]
  },
  {
   "cell_type": "code",
   "execution_count": 699,
   "metadata": {},
   "outputs": [
    {
     "data": {
      "text/plain": [
       "<AxesSubplot:xlabel='Gene Start', ylabel='216 Gene Weight'>"
      ]
     },
     "execution_count": 699,
     "metadata": {},
     "output_type": "execute_result"
    },
    {
     "data": {
      "image/png": "[encoded data removed]",
      "text/plain": [
       "<Figure size 432x288 with 1 Axes>"
      ]
     },
     "metadata": {
      "needs_background": "light"
     },
     "output_type": "display_data"
    }
   ],
   "source": [
    "plot_gene_weights(ica_data,iM_to_annotate, adjust_labels=False)"
   ]
  },
  {
   "cell_type": "markdown",
   "metadata": {},
   "source": [
    "## Compute Regulator Enrichment"
   ]
  },
  {
   "cell_type": "code",
   "execution_count": 700,
   "metadata": {
    "scrolled": true
   },
   "outputs": [
    {
     "data": {
      "text/html": [
       "<div>\n",
       "<style scoped>\n",
       "    .dataframe tbody tr th:only-of-type {\n",
       "        vertical-align: middle;\n",
       "    }\n",
       "\n",
       "    .dataframe tbody tr th {\n",
       "        vertical-align: top;\n",
       "    }\n",
       "\n",
       "    .dataframe thead th {\n",
       "        text-align: right;\n",
       "    }\n",
       "</style>\n",
       "<table border=\"1\" class=\"dataframe\">\n",
       "  <thead>\n",
       "    <tr style=\"text-align: right;\">\n",
       "      <th></th>\n",
       "      <th>imodulon</th>\n",
       "      <th>regulator</th>\n",
       "      <th>pvalue</th>\n",
       "      <th>qvalue</th>\n",
       "      <th>precision</th>\n",
       "      <th>recall</th>\n",
       "      <th>f1score</th>\n",
       "      <th>TP</th>\n",
       "      <th>regulon_size</th>\n",
       "      <th>imodulon_size</th>\n",
       "      <th>n_regs</th>\n",
       "    </tr>\n",
       "  </thead>\n",
       "  <tbody>\n",
       "  </tbody>\n",
       "</table>\n",
       "</div>"
      ],
      "text/plain": [
       "Empty DataFrame\n",
       "Columns: [imodulon, regulator, pvalue, qvalue, precision, recall, f1score, TP, regulon_size, imodulon_size, n_regs]\n",
       "Index: []"
      ]
     },
     "execution_count": 700,
     "metadata": {},
     "output_type": "execute_result"
    }
   ],
   "source": [
    "reg_enrichment = ica_data.compute_trn_enrichment(iM_to_annotate, max_regs=2, force=True)\n",
    "reg_enrichment"
   ]
  },
  {
   "cell_type": "markdown",
   "metadata": {},
   "source": [
    "## Plot Regulator Histogram"
   ]
  },
  {
   "cell_type": "code",
   "execution_count": 651,
   "metadata": {
    "scrolled": true
   },
   "outputs": [
    {
     "data": {
      "text/plain": [
       "<AxesSubplot:xlabel='194 Gene Weight', ylabel='Number of Genes'>"
      ]
     },
     "execution_count": 651,
     "metadata": {},
     "output_type": "execute_result"
    },
    {
     "data": {
      "image/png": "[encoded data removed]",
      "text/plain": [
       "<Figure size 432x288 with 1 Axes>"
      ]
     },
     "metadata": {
      "needs_background": "light"
     },
     "output_type": "display_data"
    }
   ],
   "source": [
    "plot_regulon_histogram(ica_data, iM_to_annotate, reg_enrichment.loc[0, 'regulator'])"
   ]
  },
  {
   "cell_type": "markdown",
   "metadata": {},
   "source": [
    "## Show Genes"
   ]
  },
  {
   "cell_type": "code",
   "execution_count": 701,
   "metadata": {
    "scrolled": true
   },
   "outputs": [
    {
     "data": {
      "text/html": [
       "<div>\n",
       "<style scoped>\n",
       "    .dataframe tbody tr th:only-of-type {\n",
       "        vertical-align: middle;\n",
       "    }\n",
       "\n",
       "    .dataframe tbody tr th {\n",
       "        vertical-align: top;\n",
       "    }\n",
       "\n",
       "    .dataframe thead th {\n",
       "        text-align: right;\n",
       "    }\n",
       "</style>\n",
       "<table border=\"1\" class=\"dataframe\">\n",
       "  <thead>\n",
       "    <tr style=\"text-align: right;\">\n",
       "      <th></th>\n",
       "      <th>gene_weight</th>\n",
       "      <th>gene_name</th>\n",
       "      <th>old_locus_tag</th>\n",
       "      <th>start</th>\n",
       "      <th>end</th>\n",
       "      <th>strand</th>\n",
       "      <th>gene_product</th>\n",
       "      <th>COG</th>\n",
       "      <th>uniprot</th>\n",
       "      <th>regulator</th>\n",
       "      <th>length</th>\n",
       "    </tr>\n",
       "  </thead>\n",
       "  <tbody>\n",
       "    <tr>\n",
       "      <th>b0832</th>\n",
       "      <td>0.245805</td>\n",
       "      <td>gsiD</td>\n",
       "      <td>NaN</td>\n",
       "      <td>871890</td>\n",
       "      <td>872801</td>\n",
       "      <td>+</td>\n",
       "      <td>glutathione ABC transporter membrane subunit GsiD</td>\n",
       "      <td>Amino acid transport and metabolism</td>\n",
       "      <td>P75799</td>\n",
       "      <td>arcA</td>\n",
       "      <td>911</td>\n",
       "    </tr>\n",
       "    <tr>\n",
       "      <th>b0831</th>\n",
       "      <td>0.242843</td>\n",
       "      <td>gsiC</td>\n",
       "      <td>NaN</td>\n",
       "      <td>870967</td>\n",
       "      <td>871887</td>\n",
       "      <td>+</td>\n",
       "      <td>glutathione ABC transporter membrane subunit GsiC</td>\n",
       "      <td>Amino acid transport and metabolism</td>\n",
       "      <td>P75798</td>\n",
       "      <td>arcA</td>\n",
       "      <td>920</td>\n",
       "    </tr>\n",
       "    <tr>\n",
       "      <th>b0830</th>\n",
       "      <td>0.230745</td>\n",
       "      <td>gsiB</td>\n",
       "      <td>NaN</td>\n",
       "      <td>869411</td>\n",
       "      <td>870949</td>\n",
       "      <td>+</td>\n",
       "      <td>glutathione ABC transporter periplasmic bindin...</td>\n",
       "      <td>Amino acid transport and metabolism</td>\n",
       "      <td>P75797</td>\n",
       "      <td>arcA</td>\n",
       "      <td>1538</td>\n",
       "    </tr>\n",
       "    <tr>\n",
       "      <th>b0833</th>\n",
       "      <td>0.128653</td>\n",
       "      <td>pdeI</td>\n",
       "      <td>NaN</td>\n",
       "      <td>872979</td>\n",
       "      <td>875327</td>\n",
       "      <td>+</td>\n",
       "      <td>putative c-di-GMP phosphodiesterase PdeI</td>\n",
       "      <td>Signal transduction mechanisms</td>\n",
       "      <td>P75800</td>\n",
       "      <td>NaN</td>\n",
       "      <td>2348</td>\n",
       "    </tr>\n",
       "    <tr>\n",
       "      <th>b0834</th>\n",
       "      <td>0.120272</td>\n",
       "      <td>dgcI</td>\n",
       "      <td>NaN</td>\n",
       "      <td>875335</td>\n",
       "      <td>876663</td>\n",
       "      <td>+</td>\n",
       "      <td>putative diguanylate cyclase DgcI</td>\n",
       "      <td>Signal transduction mechanisms</td>\n",
       "      <td>P75801</td>\n",
       "      <td>NaN</td>\n",
       "      <td>1328</td>\n",
       "    </tr>\n",
       "    <tr>\n",
       "      <th>b0315</th>\n",
       "      <td>-0.131578</td>\n",
       "      <td>pdeL</td>\n",
       "      <td>NaN</td>\n",
       "      <td>332371</td>\n",
       "      <td>333459</td>\n",
       "      <td>+</td>\n",
       "      <td>DNA-binding transcriptional activator/c-di-GMP...</td>\n",
       "      <td>Transcription</td>\n",
       "      <td>P21514</td>\n",
       "      <td>Sigma70,argR,cra,pdeL</td>\n",
       "      <td>1088</td>\n",
       "    </tr>\n",
       "  </tbody>\n",
       "</table>\n",
       "</div>"
      ],
      "text/plain": [
       "       gene_weight gene_name  old_locus_tag   start     end strand  \\\n",
       "b0832     0.245805      gsiD            NaN  871890  872801      +   \n",
       "b0831     0.242843      gsiC            NaN  870967  871887      +   \n",
       "b0830     0.230745      gsiB            NaN  869411  870949      +   \n",
       "b0833     0.128653      pdeI            NaN  872979  875327      +   \n",
       "b0834     0.120272      dgcI            NaN  875335  876663      +   \n",
       "b0315    -0.131578      pdeL            NaN  332371  333459      +   \n",
       "\n",
       "                                            gene_product  \\\n",
       "b0832  glutathione ABC transporter membrane subunit GsiD   \n",
       "b0831  glutathione ABC transporter membrane subunit GsiC   \n",
       "b0830  glutathione ABC transporter periplasmic bindin...   \n",
       "b0833           putative c-di-GMP phosphodiesterase PdeI   \n",
       "b0834                  putative diguanylate cyclase DgcI   \n",
       "b0315  DNA-binding transcriptional activator/c-di-GMP...   \n",
       "\n",
       "                                       COG uniprot              regulator  \\\n",
       "b0832  Amino acid transport and metabolism  P75799                   arcA   \n",
       "b0831  Amino acid transport and metabolism  P75798                   arcA   \n",
       "b0830  Amino acid transport and metabolism  P75797                   arcA   \n",
       "b0833       Signal transduction mechanisms  P75800                    NaN   \n",
       "b0834       Signal transduction mechanisms  P75801                    NaN   \n",
       "b0315                        Transcription  P21514  Sigma70,argR,cra,pdeL   \n",
       "\n",
       "       length  \n",
       "b0832     911  \n",
       "b0831     920  \n",
       "b0830    1538  \n",
       "b0833    2348  \n",
       "b0834    1328  \n",
       "b0315    1088  "
      ]
     },
     "execution_count": 701,
     "metadata": {},
     "output_type": "execute_result"
    }
   ],
   "source": [
    "imod_genes = ica_data.view_imodulon(iM_to_annotate)\n",
    "imod_genes['length'] = imod_genes['end'] - imod_genes['start']\n",
    "imod_genes.sort_values(by='gene_weight', ascending=False)"
   ]
  },
  {
   "cell_type": "markdown",
   "metadata": {},
   "source": [
    "## Plot iModulon Activities"
   ]
  },
  {
   "cell_type": "code",
   "execution_count": 702,
   "metadata": {},
   "outputs": [
    {
     "data": {
      "text/plain": [
       "<AxesSubplot:ylabel='216 iModulon\\nActivity'>"
      ]
     },
     "execution_count": 702,
     "metadata": {},
     "output_type": "execute_result"
    },
    {
     "data": {
      "image/png": "[encoded data removed]",
      "text/plain": [
       "<Figure size 1440x432 with 1 Axes>"
      ]
     },
     "metadata": {
      "needs_background": "light"
     },
     "output_type": "display_data"
    }
   ],
   "source": [
    "_, ax = plt.subplots(figsize=(20, 6))\n",
    "plot_activities(ica_data,iM_to_annotate, ax=ax)"
   ]
  },
  {
   "cell_type": "code",
   "execution_count": 697,
   "metadata": {},
   "outputs": [
    {
     "data": {
      "text/plain": [
       "<AxesSubplot:ylabel='215 iModulon\\nActivity'>"
      ]
     },
     "execution_count": 697,
     "metadata": {},
     "output_type": "execute_result"
    },
    {
     "data": {
      "image/png": "[encoded data removed]",
      "text/plain": [
       "<Figure size 1440x432 with 1 Axes>"
      ]
     },
     "metadata": {
      "needs_background": "light"
     },
     "output_type": "display_data"
    }
   ],
   "source": [
    "_, ax = plt.subplots(figsize=(20, 6))\n",
    "plot_activities(ica_data,iM_to_annotate, projects='crp', ax=ax)"
   ]
  },
  {
   "cell_type": "code",
   "execution_count": 176,
   "metadata": {},
   "outputs": [],
   "source": [
    "pd.set_option('display.max_rows', 200) "
   ]
  },
  {
   "cell_type": "code",
   "execution_count": 185,
   "metadata": {},
   "outputs": [
    {
     "data": {
      "text/plain": [
       "Index(['sample_id', 'study', 'project', 'condition', 'rep_id', 'contact',\n",
       "       'creator', 'run_date', 'Strain Description', 'Strain', 'Base Media',\n",
       "       'Carbon Source (g/L)', 'Nitrogen Source (g/L)', 'Electron Acceptor',\n",
       "       'Trace Element Mixture', 'Supplement', 'Temperature (C)', 'pH',\n",
       "       'Antibiotic for selection', 'Culture Type', 'Growth Rate (1/hr)',\n",
       "       'Evolved Sample', 'Isolate Type', 'Sequencing Machine',\n",
       "       'Additional Details', 'Biological Replicates', 'R1', 'R2', 'BAM',\n",
       "       'alignment', 'DOI', 'GEO', 'Published', 'SRX', 'Run', 'Notes',\n",
       "       'LibraryLayout', 'Platform', 'passed_fastqc', 'passed_pct_reads_mapped',\n",
       "       'passed_reads_mapped_to_CDS', 'passed_global_correlation', 'full_name',\n",
       "       'passed_similar_replicates', 'passed_number_replicates'],\n",
       "      dtype='object')"
      ]
     },
     "execution_count": 185,
     "metadata": {},
     "output_type": "execute_result"
    }
   ],
   "source": [
    "ica_data.sample_table.columns"
   ]
  },
  {
   "cell_type": "code",
   "execution_count": 573,
   "metadata": {
    "scrolled": false
   },
   "outputs": [
    {
     "data": {
      "text/html": [
       "<div>\n",
       "<style scoped>\n",
       "    .dataframe tbody tr th:only-of-type {\n",
       "        vertical-align: middle;\n",
       "    }\n",
       "\n",
       "    .dataframe tbody tr th {\n",
       "        vertical-align: top;\n",
       "    }\n",
       "\n",
       "    .dataframe thead th {\n",
       "        text-align: right;\n",
       "    }\n",
       "</style>\n",
       "<table border=\"1\" class=\"dataframe\">\n",
       "  <thead>\n",
       "    <tr style=\"text-align: right;\">\n",
       "      <th></th>\n",
       "      <th>sample_id</th>\n",
       "      <th>Strain</th>\n",
       "      <th>Base Media</th>\n",
       "      <th>Carbon Source (g/L)</th>\n",
       "      <th>Nitrogen Source (g/L)</th>\n",
       "      <th>Electron Acceptor</th>\n",
       "      <th>Trace Element Mixture</th>\n",
       "      <th>Supplement</th>\n",
       "      <th>Temperature (C)</th>\n",
       "      <th>pH</th>\n",
       "    </tr>\n",
       "  </thead>\n",
       "  <tbody>\n",
       "    <tr>\n",
       "      <th>ecoli_00285</th>\n",
       "      <td>misc2__arg_cytd__1</td>\n",
       "      <td>MG1655</td>\n",
       "      <td>M9</td>\n",
       "      <td>glucose(2)</td>\n",
       "      <td>NH4Cl(1)</td>\n",
       "      <td>O2</td>\n",
       "      <td>sauer trace element mixture</td>\n",
       "      <td>cytidine (1mM) + arginine (5mM)</td>\n",
       "      <td>37</td>\n",
       "      <td>7.0</td>\n",
       "    </tr>\n",
       "    <tr>\n",
       "      <th>ecoli_00286</th>\n",
       "      <td>misc2__arg_cytd__2</td>\n",
       "      <td>MG1655</td>\n",
       "      <td>M9</td>\n",
       "      <td>glucose(2)</td>\n",
       "      <td>NH4Cl(1)</td>\n",
       "      <td>O2</td>\n",
       "      <td>sauer trace element mixture</td>\n",
       "      <td>cytidine (1mM) + arginine (5mM)</td>\n",
       "      <td>37</td>\n",
       "      <td>7.0</td>\n",
       "    </tr>\n",
       "    <tr>\n",
       "      <th>ecoli_00281</th>\n",
       "      <td>misc2__dbcn_glc__1</td>\n",
       "      <td>MG1655</td>\n",
       "      <td>M9</td>\n",
       "      <td>glucose(2)</td>\n",
       "      <td>NH4Cl(1)</td>\n",
       "      <td>O2</td>\n",
       "      <td>sauer trace element mixture</td>\n",
       "      <td>dibucaine</td>\n",
       "      <td>37</td>\n",
       "      <td>7.0</td>\n",
       "    </tr>\n",
       "    <tr>\n",
       "      <th>ecoli_00282</th>\n",
       "      <td>misc2__dbcn_glc__2</td>\n",
       "      <td>MG1655</td>\n",
       "      <td>M9</td>\n",
       "      <td>glucose(2)</td>\n",
       "      <td>NH4Cl(1)</td>\n",
       "      <td>O2</td>\n",
       "      <td>sauer trace element mixture</td>\n",
       "      <td>dibucaine</td>\n",
       "      <td>37</td>\n",
       "      <td>7.0</td>\n",
       "    </tr>\n",
       "    <tr>\n",
       "      <th>ecoli_00832</th>\n",
       "      <td>misc2__dellon_glc__1</td>\n",
       "      <td>MG1655</td>\n",
       "      <td>M9</td>\n",
       "      <td>glucose(4)</td>\n",
       "      <td>NH4Cl(1)</td>\n",
       "      <td>O2</td>\n",
       "      <td>sauer trace element mixture</td>\n",
       "      <td>None</td>\n",
       "      <td>37</td>\n",
       "      <td>7.0</td>\n",
       "    </tr>\n",
       "    <tr>\n",
       "      <th>ecoli_00833</th>\n",
       "      <td>misc2__dellon_glc__2</td>\n",
       "      <td>MG1655</td>\n",
       "      <td>M9</td>\n",
       "      <td>glucose(4)</td>\n",
       "      <td>NH4Cl(1)</td>\n",
       "      <td>O2</td>\n",
       "      <td>sauer trace element mixture</td>\n",
       "      <td>None</td>\n",
       "      <td>37</td>\n",
       "      <td>7.0</td>\n",
       "    </tr>\n",
       "    <tr>\n",
       "      <th>ecoli_00287</th>\n",
       "      <td>misc2__delyheO_pyr__1</td>\n",
       "      <td>MG1655</td>\n",
       "      <td>M9</td>\n",
       "      <td>pyruvate(3.3)</td>\n",
       "      <td>NH4Cl(1)</td>\n",
       "      <td>O2</td>\n",
       "      <td>sauer trace element mixture</td>\n",
       "      <td>None</td>\n",
       "      <td>37</td>\n",
       "      <td>7.0</td>\n",
       "    </tr>\n",
       "    <tr>\n",
       "      <th>ecoli_00288</th>\n",
       "      <td>misc2__delyheO_pyr__2</td>\n",
       "      <td>MG1655</td>\n",
       "      <td>M9</td>\n",
       "      <td>pyruvate(3.3)</td>\n",
       "      <td>NH4Cl(1)</td>\n",
       "      <td>O2</td>\n",
       "      <td>sauer trace element mixture</td>\n",
       "      <td>None</td>\n",
       "      <td>37</td>\n",
       "      <td>7.0</td>\n",
       "    </tr>\n",
       "    <tr>\n",
       "      <th>ecoli_00279</th>\n",
       "      <td>misc2__salc_glc__1</td>\n",
       "      <td>MG1655</td>\n",
       "      <td>M9</td>\n",
       "      <td>glucose(2)</td>\n",
       "      <td>NH4Cl(1)</td>\n",
       "      <td>O2</td>\n",
       "      <td>sauer trace element mixture</td>\n",
       "      <td>salicylate</td>\n",
       "      <td>37</td>\n",
       "      <td>7.0</td>\n",
       "    </tr>\n",
       "    <tr>\n",
       "      <th>ecoli_00280</th>\n",
       "      <td>misc2__salc_glc__2</td>\n",
       "      <td>MG1655</td>\n",
       "      <td>M9</td>\n",
       "      <td>glucose(2)</td>\n",
       "      <td>NH4Cl(1)</td>\n",
       "      <td>O2</td>\n",
       "      <td>sauer trace element mixture</td>\n",
       "      <td>salicylate</td>\n",
       "      <td>37</td>\n",
       "      <td>7.0</td>\n",
       "    </tr>\n",
       "    <tr>\n",
       "      <th>ecoli_00283</th>\n",
       "      <td>misc2__tyr_glc__1</td>\n",
       "      <td>MG1655</td>\n",
       "      <td>M9</td>\n",
       "      <td>glucose(2)</td>\n",
       "      <td>NH4Cl(1)</td>\n",
       "      <td>O2</td>\n",
       "      <td>sauer trace element mixture</td>\n",
       "      <td>tyrosine (5mM)</td>\n",
       "      <td>37</td>\n",
       "      <td>7.0</td>\n",
       "    </tr>\n",
       "    <tr>\n",
       "      <th>ecoli_00284</th>\n",
       "      <td>misc2__tyr_glc__2</td>\n",
       "      <td>MG1655</td>\n",
       "      <td>M9</td>\n",
       "      <td>glucose(2)</td>\n",
       "      <td>NH4Cl(1)</td>\n",
       "      <td>O2</td>\n",
       "      <td>sauer trace element mixture</td>\n",
       "      <td>tyrosine (5mM)</td>\n",
       "      <td>37</td>\n",
       "      <td>7.0</td>\n",
       "    </tr>\n",
       "  </tbody>\n",
       "</table>\n",
       "</div>"
      ],
      "text/plain": [
       "                         sample_id  Strain Base Media Carbon Source (g/L)  \\\n",
       "ecoli_00285     misc2__arg_cytd__1  MG1655         M9          glucose(2)   \n",
       "ecoli_00286     misc2__arg_cytd__2  MG1655         M9          glucose(2)   \n",
       "ecoli_00281     misc2__dbcn_glc__1  MG1655         M9          glucose(2)   \n",
       "ecoli_00282     misc2__dbcn_glc__2  MG1655         M9          glucose(2)   \n",
       "ecoli_00832   misc2__dellon_glc__1  MG1655         M9          glucose(4)   \n",
       "ecoli_00833   misc2__dellon_glc__2  MG1655         M9          glucose(4)   \n",
       "ecoli_00287  misc2__delyheO_pyr__1  MG1655         M9       pyruvate(3.3)   \n",
       "ecoli_00288  misc2__delyheO_pyr__2  MG1655         M9       pyruvate(3.3)   \n",
       "ecoli_00279     misc2__salc_glc__1  MG1655         M9          glucose(2)   \n",
       "ecoli_00280     misc2__salc_glc__2  MG1655         M9          glucose(2)   \n",
       "ecoli_00283      misc2__tyr_glc__1  MG1655         M9          glucose(2)   \n",
       "ecoli_00284      misc2__tyr_glc__2  MG1655         M9          glucose(2)   \n",
       "\n",
       "            Nitrogen Source (g/L) Electron Acceptor  \\\n",
       "ecoli_00285              NH4Cl(1)                O2   \n",
       "ecoli_00286              NH4Cl(1)                O2   \n",
       "ecoli_00281              NH4Cl(1)                O2   \n",
       "ecoli_00282              NH4Cl(1)                O2   \n",
       "ecoli_00832              NH4Cl(1)                O2   \n",
       "ecoli_00833              NH4Cl(1)                O2   \n",
       "ecoli_00287              NH4Cl(1)                O2   \n",
       "ecoli_00288              NH4Cl(1)                O2   \n",
       "ecoli_00279              NH4Cl(1)                O2   \n",
       "ecoli_00280              NH4Cl(1)                O2   \n",
       "ecoli_00283              NH4Cl(1)                O2   \n",
       "ecoli_00284              NH4Cl(1)                O2   \n",
       "\n",
       "                   Trace Element Mixture                       Supplement  \\\n",
       "ecoli_00285  sauer trace element mixture  cytidine (1mM) + arginine (5mM)   \n",
       "ecoli_00286  sauer trace element mixture  cytidine (1mM) + arginine (5mM)   \n",
       "ecoli_00281  sauer trace element mixture                        dibucaine   \n",
       "ecoli_00282  sauer trace element mixture                        dibucaine   \n",
       "ecoli_00832  sauer trace element mixture                             None   \n",
       "ecoli_00833  sauer trace element mixture                             None   \n",
       "ecoli_00287  sauer trace element mixture                             None   \n",
       "ecoli_00288  sauer trace element mixture                             None   \n",
       "ecoli_00279  sauer trace element mixture                       salicylate   \n",
       "ecoli_00280  sauer trace element mixture                       salicylate   \n",
       "ecoli_00283  sauer trace element mixture                   tyrosine (5mM)   \n",
       "ecoli_00284  sauer trace element mixture                   tyrosine (5mM)   \n",
       "\n",
       "             Temperature (C)   pH  \n",
       "ecoli_00285               37  7.0  \n",
       "ecoli_00286               37  7.0  \n",
       "ecoli_00281               37  7.0  \n",
       "ecoli_00282               37  7.0  \n",
       "ecoli_00832               37  7.0  \n",
       "ecoli_00833               37  7.0  \n",
       "ecoli_00287               37  7.0  \n",
       "ecoli_00288               37  7.0  \n",
       "ecoli_00279               37  7.0  \n",
       "ecoli_00280               37  7.0  \n",
       "ecoli_00283               37  7.0  \n",
       "ecoli_00284               37  7.0  "
      ]
     },
     "execution_count": 573,
     "metadata": {},
     "output_type": "execute_result"
    }
   ],
   "source": [
    "ica_data.sample_table[ica_data.sample_table['project'].isin(['misc2'])].sort_values(by='condition')[[\n",
    "    'sample_id', 'Strain', 'Base Media',\n",
    "       'Carbon Source (g/L)', 'Nitrogen Source (g/L)', 'Electron Acceptor',\n",
    "       'Trace Element Mixture', 'Supplement', 'Temperature (C)', 'pH'\n",
    "]]"
   ]
  },
  {
   "cell_type": "markdown",
   "metadata": {},
   "source": [
    "## Add iModulon Table to IcaData"
   ]
  },
  {
   "cell_type": "code",
   "execution_count": 29,
   "metadata": {},
   "outputs": [
    {
     "data": {
      "text/html": [
       "<div>\n",
       "<style scoped>\n",
       "    .dataframe tbody tr th:only-of-type {\n",
       "        vertical-align: middle;\n",
       "    }\n",
       "\n",
       "    .dataframe tbody tr th {\n",
       "        vertical-align: top;\n",
       "    }\n",
       "\n",
       "    .dataframe thead th {\n",
       "        text-align: right;\n",
       "    }\n",
       "</style>\n",
       "<table border=\"1\" class=\"dataframe\">\n",
       "  <thead>\n",
       "    <tr style=\"text-align: right;\">\n",
       "      <th></th>\n",
       "      <th>regulator</th>\n",
       "      <th>pvalue</th>\n",
       "      <th>qvalue</th>\n",
       "      <th>precision</th>\n",
       "      <th>recall</th>\n",
       "      <th>f1score</th>\n",
       "      <th>TP</th>\n",
       "      <th>regulon_size</th>\n",
       "      <th>imodulon_size</th>\n",
       "      <th>n_regs</th>\n",
       "      <th>single_gene</th>\n",
       "      <th>note</th>\n",
       "    </tr>\n",
       "  </thead>\n",
       "  <tbody>\n",
       "    <tr>\n",
       "      <th>e14-1</th>\n",
       "      <td>NaN</td>\n",
       "      <td>NaN</td>\n",
       "      <td>NaN</td>\n",
       "      <td>NaN</td>\n",
       "      <td>NaN</td>\n",
       "      <td>NaN</td>\n",
       "      <td>NaN</td>\n",
       "      <td>NaN</td>\n",
       "      <td>NaN</td>\n",
       "      <td>NaN</td>\n",
       "      <td>NaN</td>\n",
       "      <td>NaN</td>\n",
       "    </tr>\n",
       "    <tr>\n",
       "      <th>SG_yzfA</th>\n",
       "      <td>NaN</td>\n",
       "      <td>NaN</td>\n",
       "      <td>NaN</td>\n",
       "      <td>NaN</td>\n",
       "      <td>NaN</td>\n",
       "      <td>NaN</td>\n",
       "      <td>NaN</td>\n",
       "      <td>NaN</td>\n",
       "      <td>NaN</td>\n",
       "      <td>NaN</td>\n",
       "      <td>True</td>\n",
       "      <td>NaN</td>\n",
       "    </tr>\n",
       "    <tr>\n",
       "      <th>SG_ytiD</th>\n",
       "      <td>NaN</td>\n",
       "      <td>NaN</td>\n",
       "      <td>NaN</td>\n",
       "      <td>NaN</td>\n",
       "      <td>NaN</td>\n",
       "      <td>NaN</td>\n",
       "      <td>NaN</td>\n",
       "      <td>NaN</td>\n",
       "      <td>NaN</td>\n",
       "      <td>NaN</td>\n",
       "      <td>True</td>\n",
       "      <td>NaN</td>\n",
       "    </tr>\n",
       "    <tr>\n",
       "      <th>membrane?</th>\n",
       "      <td>NaN</td>\n",
       "      <td>NaN</td>\n",
       "      <td>NaN</td>\n",
       "      <td>NaN</td>\n",
       "      <td>NaN</td>\n",
       "      <td>NaN</td>\n",
       "      <td>NaN</td>\n",
       "      <td>NaN</td>\n",
       "      <td>NaN</td>\n",
       "      <td>NaN</td>\n",
       "      <td>NaN</td>\n",
       "      <td>seems membrane-related</td>\n",
       "    </tr>\n",
       "    <tr>\n",
       "      <th>CysB-1</th>\n",
       "      <td>cysB</td>\n",
       "      <td>3.770000e-28</td>\n",
       "      <td>1.940000e-23</td>\n",
       "      <td>0.5</td>\n",
       "      <td>0.516129</td>\n",
       "      <td>0.507937</td>\n",
       "      <td>16.0</td>\n",
       "      <td>32.0</td>\n",
       "      <td>31.0</td>\n",
       "      <td>1.0</td>\n",
       "      <td>NaN</td>\n",
       "      <td>NaN</td>\n",
       "    </tr>\n",
       "  </tbody>\n",
       "</table>\n",
       "</div>"
      ],
      "text/plain": [
       "          regulator        pvalue        qvalue  precision    recall  \\\n",
       "e14-1           NaN           NaN           NaN        NaN       NaN   \n",
       "SG_yzfA         NaN           NaN           NaN        NaN       NaN   \n",
       "SG_ytiD         NaN           NaN           NaN        NaN       NaN   \n",
       "membrane?       NaN           NaN           NaN        NaN       NaN   \n",
       "CysB-1         cysB  3.770000e-28  1.940000e-23        0.5  0.516129   \n",
       "\n",
       "            f1score    TP  regulon_size  imodulon_size  n_regs single_gene  \\\n",
       "e14-1           NaN   NaN           NaN            NaN     NaN         NaN   \n",
       "SG_yzfA         NaN   NaN           NaN            NaN     NaN        True   \n",
       "SG_ytiD         NaN   NaN           NaN            NaN     NaN        True   \n",
       "membrane?       NaN   NaN           NaN            NaN     NaN         NaN   \n",
       "CysB-1     0.507937  16.0          32.0           31.0     1.0         NaN   \n",
       "\n",
       "                             note  \n",
       "e14-1                         NaN  \n",
       "SG_yzfA                       NaN  \n",
       "SG_ytiD                       NaN  \n",
       "membrane?  seems membrane-related  \n",
       "CysB-1                        NaN  "
      ]
     },
     "execution_count": 29,
     "metadata": {},
     "output_type": "execute_result"
    }
   ],
   "source": [
    "imod_table = pd.read_csv('../data/precise2/imodulon_table.csv', index_col=0)\n",
    "imod_table.head()"
   ]
  },
  {
   "cell_type": "code",
   "execution_count": 30,
   "metadata": {},
   "outputs": [],
   "source": [
    "ica_data.rename_imodulons(dict(zip(ica_data.imodulon_names, list(imod_table.index))))"
   ]
  },
  {
   "cell_type": "code",
   "execution_count": 31,
   "metadata": {},
   "outputs": [],
   "source": [
    "ica_data.imodulon_table = imod_table"
   ]
  },
  {
   "cell_type": "code",
   "execution_count": 32,
   "metadata": {},
   "outputs": [],
   "source": [
    "save_to_json(ica_data, '../data/precise2/precise2.json', compress=True)"
   ]
  },
  {
   "cell_type": "code",
   "execution_count": null,
   "metadata": {},
   "outputs": [],
   "source": []
  }
 ],
 "metadata": {
  "kernelspec": {
   "display_name": "Python 3",
   "language": "python",
   "name": "python3"
  },
  "language_info": {
   "codemirror_mode": {
    "name": "ipython",
    "version": 3
   },
   "file_extension": ".py",
   "mimetype": "text/x-python",
   "name": "python",
   "nbconvert_exporter": "python",
   "pygments_lexer": "ipython3",
   "version": "3.8.5"
  },
  "toc": {
   "base_numbering": 1,
   "nav_menu": {},
   "number_sections": true,
   "sideBar": true,
   "skip_h1_title": false,
   "title_cell": "Table of Contents",
   "title_sidebar": "Contents",
   "toc_cell": true,
   "toc_position": {},
   "toc_section_display": true,
   "toc_window_display": false
  }
 },
 "nbformat": 4,
 "nbformat_minor": 1
}
