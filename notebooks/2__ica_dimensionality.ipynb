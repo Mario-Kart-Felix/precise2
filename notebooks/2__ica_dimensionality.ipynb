{
 "cells": [
  {
   "cell_type": "markdown",
   "metadata": {
    "toc": true
   },
   "source": [
    "<h1>Table of Contents<span class=\"tocSkip\"></span></h1>\n",
    "<div class=\"toc\"><ul class=\"toc-item\"><li><span><a href=\"#Load-Data\" data-toc-modified-id=\"Load-Data-1\"><span class=\"toc-item-num\">1&nbsp;&nbsp;</span>Load Data</a></span></li><li><span><a href=\"#Compare-dimensionalities\" data-toc-modified-id=\"Compare-dimensionalities-2\"><span class=\"toc-item-num\">2&nbsp;&nbsp;</span>Compare dimensionalities</a></span></li><li><span><a href=\"#Find-&quot;single-gene&quot;-iModulons\" data-toc-modified-id=\"Find-&quot;single-gene&quot;-iModulons-3\"><span class=\"toc-item-num\">3&nbsp;&nbsp;</span>Find \"single-gene\" iModulons</a></span></li><li><span><a href=\"#Plot-Components\" data-toc-modified-id=\"Plot-Components-4\"><span class=\"toc-item-num\">4&nbsp;&nbsp;</span>Plot Components</a></span></li></ul></div>"
   ]
  },
  {
   "cell_type": "code",
   "execution_count": 1,
   "metadata": {},
   "outputs": [],
   "source": [
    "from pymodulon.core import IcaData\n",
    "import os\n",
    "import pandas as pd\n",
    "import matplotlib.pyplot as plt\n",
    "from scipy import stats\n",
    "import numpy as np\n",
    "from tqdm.notebook import tqdm"
   ]
  },
  {
   "cell_type": "code",
   "execution_count": 2,
   "metadata": {},
   "outputs": [],
   "source": [
    "# Directory containing ICA outputs\n",
    "DATA_DIR = '../data/precise1k/optica/'"
   ]
  },
  {
   "cell_type": "markdown",
   "metadata": {},
   "source": [
    "# Load Data"
   ]
  },
  {
   "cell_type": "code",
   "execution_count": 3,
   "metadata": {},
   "outputs": [],
   "source": [
    "def load_M(dim):\n",
    "    return pd.read_csv(os.path.join(DATA_DIR,str(dim),'S.csv'),index_col=0)\n",
    "\n",
    "def load_A(dim):\n",
    "    return pd.read_csv(os.path.join(DATA_DIR,str(dim),'A.csv'),index_col=0)"
   ]
  },
  {
   "cell_type": "code",
   "execution_count": 5,
   "metadata": {},
   "outputs": [],
   "source": [
    "dims = sorted([int(x) for x in os.listdir(DATA_DIR) if '.DS_Store' not in x])\n",
    "M_data = [load_M(dim) for dim in dims]\n",
    "A_data = [load_A(dim) for dim in dims]"
   ]
  },
  {
   "cell_type": "code",
   "execution_count": 6,
   "metadata": {},
   "outputs": [],
   "source": [
    "n_components = [m.shape[1] for m in M_data]"
   ]
  },
  {
   "cell_type": "markdown",
   "metadata": {},
   "source": [
    "# Compare dimensionalities"
   ]
  },
  {
   "cell_type": "code",
   "execution_count": 7,
   "metadata": {},
   "outputs": [],
   "source": [
    "final_m = M_data[-1]\n",
    "thresh = 0.7"
   ]
  },
  {
   "cell_type": "code",
   "execution_count": 8,
   "metadata": {},
   "outputs": [
    {
     "data": {
      "application/vnd.jupyter.widget-view+json": {
       "model_id": "5dc3237a7072495cab21bae2419ffea0",
       "version_major": 2,
       "version_minor": 0
      },
      "text/plain": [
       "HBox(children=(HTML(value=''), FloatProgress(value=0.0, max=26.0), HTML(value='')))"
      ]
     },
     "metadata": {},
     "output_type": "display_data"
    },
    {
     "name": "stdout",
     "output_type": "stream",
     "text": [
      "\n"
     ]
    }
   ],
   "source": [
    "n_final_mods = []\n",
    "for m in tqdm(M_data):\n",
    "    corrs = pd.DataFrame(index=final_m.columns,columns=m.columns)\n",
    "    for col1 in final_m.columns:\n",
    "        for col2 in m.columns:\n",
    "            corrs.loc[col1,col2] = abs(stats.pearsonr(final_m[col1],m[col2])[0])\n",
    "    n_final_mods.append(len(np.where(corrs > thresh)[0]))"
   ]
  },
  {
   "cell_type": "markdown",
   "metadata": {},
   "source": [
    "# Find \"single-gene\" iModulons\n",
    "At a high enough dimensionality, some iModulons track the expression trajectory of a single iModulon"
   ]
  },
  {
   "cell_type": "code",
   "execution_count": 9,
   "metadata": {},
   "outputs": [
    {
     "data": {
      "application/vnd.jupyter.widget-view+json": {
       "model_id": "fceeaddcbd71404e85df77c863bbec3c",
       "version_major": 2,
       "version_minor": 0
      },
      "text/plain": [
       "HBox(children=(HTML(value=''), FloatProgress(value=0.0, max=26.0), HTML(value='')))"
      ]
     },
     "metadata": {},
     "output_type": "display_data"
    },
    {
     "name": "stdout",
     "output_type": "stream",
     "text": [
      "\n"
     ]
    }
   ],
   "source": [
    "n_single_genes = []\n",
    "for m in tqdm(M_data):\n",
    "    counter = 0\n",
    "    for col in m.columns:\n",
    "        sorted_genes = abs(m[col]).sort_values(ascending=False)\n",
    "        if sorted_genes.iloc[0] > 2 * sorted_genes.iloc[1]:\n",
    "            counter += 1\n",
    "    n_single_genes.append(counter)"
   ]
  },
  {
   "cell_type": "markdown",
   "metadata": {},
   "source": [
    "# Plot Components"
   ]
  },
  {
   "cell_type": "code",
   "execution_count": 10,
   "metadata": {},
   "outputs": [],
   "source": [
    "non_single_components = np.array(n_components) - np.array(n_single_genes)"
   ]
  },
  {
   "cell_type": "code",
   "execution_count": 11,
   "metadata": {},
   "outputs": [],
   "source": [
    "DF_stats = pd.DataFrame([n_components,n_final_mods,non_single_components,n_single_genes],\n",
    "                        index=['Robust Components','Final Components','Multi-gene Components',\n",
    "                        'Single Gene Components'],\n",
    "                        columns=dims).T\n",
    "DF_stats.sort_index(inplace=True)"
   ]
  },
  {
   "cell_type": "code",
   "execution_count": 12,
   "metadata": {},
   "outputs": [
    {
     "name": "stdout",
     "output_type": "stream",
     "text": [
      "Optimal Dimensionality: 500\n"
     ]
    }
   ],
   "source": [
    "dimensionality = DF_stats[DF_stats['Final Components'] >= DF_stats['Multi-gene Components']].iloc[0].name\n",
    "print('Optimal Dimensionality:',dimensionality)"
   ]
  },
  {
   "cell_type": "code",
   "execution_count": 13,
   "metadata": {
    "tags": []
   },
   "outputs": [
    {
     "data": {
      "text/plain": [
       "<matplotlib.legend.Legend at 0x12b2ee160>"
      ]
     },
     "execution_count": 13,
     "metadata": {},
     "output_type": "execute_result"
    },
    {
     "data": {
      "image/png": "[encoded data removed]",
      "text/plain": [
       "<Figure size 432x288 with 1 Axes>"
      ]
     },
     "metadata": {
      "needs_background": "light"
     },
     "output_type": "display_data"
    }
   ],
   "source": [
    "plt.plot(dims,n_components,label='Robust Components')\n",
    "plt.plot(dims,n_final_mods,label='Final Components')\n",
    "plt.plot(dims,non_single_components,label='Non-single-gene Components')\n",
    "plt.plot(dims,n_single_genes,label='Single Gene Components')\n",
    "\n",
    "plt.vlines(dimensionality,0,max(n_components),linestyle='dashed')\n",
    "\n",
    "plt.xlabel('Dimensionality')\n",
    "plt.ylabel('# Components')\n",
    "plt.legend(bbox_to_anchor=(1,1))"
   ]
  },
  {
   "cell_type": "markdown",
   "metadata": {},
   "source": [
    "# NOTE: the orange curve crosses the green curve closer to 400 than 500; we'll choose 400 as our final dimensionality to reduce the number of single-gene components. Do not expect regulatory component discovery to suffer substantially. "
   ]
  },
  {
   "cell_type": "code",
   "execution_count": null,
   "metadata": {},
   "outputs": [],
   "source": []
  }
 ],
 "metadata": {
  "kernelspec": {
   "display_name": "Python 3",
   "language": "python",
   "name": "python3"
  },
  "language_info": {
   "codemirror_mode": {
    "name": "ipython",
    "version": 3
   },
   "file_extension": ".py",
   "mimetype": "text/x-python",
   "name": "python",
   "nbconvert_exporter": "python",
   "pygments_lexer": "ipython3",
   "version": "3.8.5"
  },
  "toc": {
   "base_numbering": 1,
   "nav_menu": {},
   "number_sections": true,
   "sideBar": true,
   "skip_h1_title": false,
   "title_cell": "Table of Contents",
   "title_sidebar": "Contents",
   "toc_cell": true,
   "toc_position": {},
   "toc_section_display": true,
   "toc_window_display": false
  }
 },
 "nbformat": 4,
 "nbformat_minor": 4
}
