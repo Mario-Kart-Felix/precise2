{
 "cells": [
  {
   "cell_type": "markdown",
   "metadata": {
    "toc": true
   },
   "source": [
    "<h1>Table of Contents<span class=\"tocSkip\"></span></h1>\n",
    "<div class=\"toc\"><ul class=\"toc-item\"><li><span><a href=\"#Setup\" data-toc-modified-id=\"Setup-1\"><span class=\"toc-item-num\">1&nbsp;&nbsp;</span>Setup</a></span><ul class=\"toc-item\"><li><span><a href=\"#QC-Thresholds\" data-toc-modified-id=\"QC-Thresholds-1.1\"><span class=\"toc-item-num\">1.1&nbsp;&nbsp;</span>QC Thresholds</a></span></li><li><span><a href=\"#Inputs\" data-toc-modified-id=\"Inputs-1.2\"><span class=\"toc-item-num\">1.2&nbsp;&nbsp;</span>Inputs</a></span></li><li><span><a href=\"#Load-expression-data\" data-toc-modified-id=\"Load-expression-data-1.3\"><span class=\"toc-item-num\">1.3&nbsp;&nbsp;</span>Load expression data</a></span></li><li><span><a href=\"#Load-QC-data\" data-toc-modified-id=\"Load-QC-data-1.4\"><span class=\"toc-item-num\">1.4&nbsp;&nbsp;</span>Load QC data</a></span></li><li><span><a href=\"#Load-metadata\" data-toc-modified-id=\"Load-metadata-1.5\"><span class=\"toc-item-num\">1.5&nbsp;&nbsp;</span>Load metadata</a></span></li><li><span><a href=\"#Remove-extra-sample-rows\" data-toc-modified-id=\"Remove-extra-sample-rows-1.6\"><span class=\"toc-item-num\">1.6&nbsp;&nbsp;</span>Remove extra sample rows</a></span></li></ul></li><li><span><a href=\"#Check-statistics\" data-toc-modified-id=\"Check-statistics-2\"><span class=\"toc-item-num\">2&nbsp;&nbsp;</span>Check statistics</a></span><ul class=\"toc-item\"><li><span><a href=\"#FastQC-stats\" data-toc-modified-id=\"FastQC-stats-2.1\"><span class=\"toc-item-num\">2.1&nbsp;&nbsp;</span>FastQC stats</a></span></li><li><span><a href=\"#Percent-of-reads-aligned-to-genome\" data-toc-modified-id=\"Percent-of-reads-aligned-to-genome-2.2\"><span class=\"toc-item-num\">2.2&nbsp;&nbsp;</span>Percent of reads aligned to genome</a></span></li><li><span><a href=\"#Number-of-aligned-reads\" data-toc-modified-id=\"Number-of-aligned-reads-2.3\"><span class=\"toc-item-num\">2.3&nbsp;&nbsp;</span>Number of aligned reads</a></span></li></ul></li><li><span><a href=\"#Examine-Global-Correlations\" data-toc-modified-id=\"Examine-Global-Correlations-3\"><span class=\"toc-item-num\">3&nbsp;&nbsp;</span>Examine Global Correlations</a></span><ul class=\"toc-item\"><li><span><a href=\"#Hierarchical-Clustering\" data-toc-modified-id=\"Hierarchical-Clustering-3.1\"><span class=\"toc-item-num\">3.1&nbsp;&nbsp;</span>Hierarchical Clustering</a></span></li></ul></li><li><span><a href=\"#Remove-failed-samples\" data-toc-modified-id=\"Remove-failed-samples-4\"><span class=\"toc-item-num\">4&nbsp;&nbsp;</span>Remove failed samples</a></span></li><li><span><a href=\"#Metadata-Curation\" data-toc-modified-id=\"Metadata-Curation-5\"><span class=\"toc-item-num\">5&nbsp;&nbsp;</span>Metadata Curation</a></span><ul class=\"toc-item\"><li><span><a href=\"#BioProject-counts-of-passing-metadata\" data-toc-modified-id=\"BioProject-counts-of-passing-metadata-5.1\"><span class=\"toc-item-num\">5.1&nbsp;&nbsp;</span>BioProject counts of passing metadata</a></span></li><li><span><a href=\"#BioProject-counts-of-all-metadata\" data-toc-modified-id=\"BioProject-counts-of-all-metadata-5.2\"><span class=\"toc-item-num\">5.2&nbsp;&nbsp;</span>BioProject counts of all metadata</a></span></li><li><span><a href=\"#Compute-Pearson-R-Score\" data-toc-modified-id=\"Compute-Pearson-R-Score-5.3\"><span class=\"toc-item-num\">5.3&nbsp;&nbsp;</span>Compute Pearson R Score</a></span></li></ul></li><li><span><a href=\"#Correlations-between-replicates\" data-toc-modified-id=\"Correlations-between-replicates-6\"><span class=\"toc-item-num\">6&nbsp;&nbsp;</span>Correlations between replicates</a></span></li><li><span><a href=\"#Remove-failed-samples\" data-toc-modified-id=\"Remove-failed-samples-7\"><span class=\"toc-item-num\">7&nbsp;&nbsp;</span>Remove failed samples</a></span><ul class=\"toc-item\"><li><ul class=\"toc-item\"><li><span><a href=\"#Failed-Samples-analysis---part-2\" data-toc-modified-id=\"Failed-Samples-analysis---part-2-7.0.1\"><span class=\"toc-item-num\">7.0.1&nbsp;&nbsp;</span>Failed Samples analysis - part 2</a></span></li></ul></li></ul></li><li><span><a href=\"#Remove-Small-Genes-and-low-FPM\" data-toc-modified-id=\"Remove-Small-Genes-and-low-FPM-8\"><span class=\"toc-item-num\">8&nbsp;&nbsp;</span>Remove Small Genes and low FPM</a></span></li><li><span><a href=\"#Save-final-datasets\" data-toc-modified-id=\"Save-final-datasets-9\"><span class=\"toc-item-num\">9&nbsp;&nbsp;</span>Save final datasets</a></span></li><li><span><a href=\"#Analyze-difference-compared-to-rockhopper-data\" data-toc-modified-id=\"Analyze-difference-compared-to-rockhopper-data-10\"><span class=\"toc-item-num\">10&nbsp;&nbsp;</span>Analyze difference compared to rockhopper data</a></span><ul class=\"toc-item\"><li><ul class=\"toc-item\"><li><span><a href=\"#Samples-that-only-failed-Rockhopper-and-passed-FeatureCounts\" data-toc-modified-id=\"Samples-that-only-failed-Rockhopper-and-passed-FeatureCounts-10.0.1\"><span class=\"toc-item-num\">10.0.1&nbsp;&nbsp;</span>Samples that only failed Rockhopper and passed FeatureCounts</a></span></li><li><span><a href=\"#Samples-that-failed-both-Rockhopper-and-FeatureCounts-(FeatureCounts-stats)\" data-toc-modified-id=\"Samples-that-failed-both-Rockhopper-and-FeatureCounts-(FeatureCounts-stats)-10.0.2\"><span class=\"toc-item-num\">10.0.2&nbsp;&nbsp;</span>Samples that failed both Rockhopper and FeatureCounts (FeatureCounts stats)</a></span></li><li><span><a href=\"#Samples-that-only-failed-with-FeatureCounts-and-not-Rockhopper\" data-toc-modified-id=\"Samples-that-only-failed-with-FeatureCounts-and-not-Rockhopper-10.0.3\"><span class=\"toc-item-num\">10.0.3&nbsp;&nbsp;</span>Samples that only failed with FeatureCounts and not Rockhopper</a></span></li><li><span><a href=\"#Samples-that-were-only-run-through-the-Rockhopper-pipeline-and-not-FeatureCounts\" data-toc-modified-id=\"Samples-that-were-only-run-through-the-Rockhopper-pipeline-and-not-FeatureCounts-10.0.4\"><span class=\"toc-item-num\">10.0.4&nbsp;&nbsp;</span>Samples that were only run through the Rockhopper pipeline and not FeatureCounts</a></span></li></ul></li></ul></li></ul></div>"
   ]
  },
  {
   "cell_type": "markdown",
   "metadata": {},
   "source": [
    "<font size=\"4\">This is a template notebook for performing preliminary quality control on your organism's expression data.</font>"
   ]
  },
  {
   "cell_type": "code",
   "execution_count": 1,
   "metadata": {},
   "outputs": [],
   "source": [
    "import pandas as pd\n",
    "import os\n",
    "from os import path\n",
    "import matplotlib.pyplot as plt\n",
    "import seaborn as sns\n",
    "import numpy as np"
   ]
  },
  {
   "cell_type": "code",
   "execution_count": 2,
   "metadata": {},
   "outputs": [],
   "source": [
    "sns.set_style('ticks')"
   ]
  },
  {
   "cell_type": "markdown",
   "metadata": {},
   "source": [
    "# Setup"
   ]
  },
  {
   "cell_type": "markdown",
   "metadata": {},
   "source": [
    "## QC Thresholds"
   ]
  },
  {
   "cell_type": "code",
   "execution_count": 3,
   "metadata": {},
   "outputs": [],
   "source": [
    "min_pct_aligned = 40 # Minimum percent of reads aligned to genome\n",
    "min_mrna_reads = 5e5 # Minimum number of reads mapped to mRNA"
   ]
  },
  {
   "cell_type": "markdown",
   "metadata": {},
   "source": [
    "## Inputs"
   ]
  },
  {
   "cell_type": "markdown",
   "metadata": {},
   "source": [
    "<font size=\"4\">Show files in the organism directory</font>"
   ]
  },
  {
   "cell_type": "code",
   "execution_count": 4,
   "metadata": {},
   "outputs": [
    {
     "data": {
      "text/plain": [
       "['GO_annotations.csv',\n",
       " 'gene_info.csv',\n",
       " 'multiqc_stats.tsv',\n",
       " 'A.csv',\n",
       " 'metadata.tsv',\n",
       " 'imodulon_table.csv',\n",
       " 'M.csv',\n",
       " 'multiqc_report.html',\n",
       " 'log_tpm_qc.csv',\n",
       " 'counts.csv',\n",
       " 'TRN.csv',\n",
       " 'log_tpm_norm_qc.csv',\n",
       " 'log_tpm.csv',\n",
       " 'precise2.json.gz',\n",
       " 'metadata_qc.csv']"
      ]
     },
     "execution_count": 4,
     "metadata": {},
     "output_type": "execute_result"
    }
   ],
   "source": [
    "org_dir = path.join('../../data/precise2/')\n",
    "os.listdir(org_dir)"
   ]
  },
  {
   "cell_type": "markdown",
   "metadata": {},
   "source": [
    "<font size=\"4\">Enter name of curated metadata file here</font>"
   ]
  },
  {
   "cell_type": "code",
   "execution_count": 5,
   "metadata": {},
   "outputs": [],
   "source": [
    "metadata_file = \"metadata.tsv\""
   ]
  },
  {
   "cell_type": "markdown",
   "metadata": {},
   "source": [
    "## Load expression data"
   ]
  },
  {
   "cell_type": "markdown",
   "metadata": {},
   "source": [
    "The latest NextFlow download pulled all of the public E. coli data as well; so I one-time just wiped all of the columns from the log_tpm file that aren't in the metadata"
   ]
  },
  {
   "cell_type": "code",
   "execution_count": 6,
   "metadata": {},
   "outputs": [
    {
     "name": "stdout",
     "output_type": "stream",
     "text": [
      "Number of genes: 4355\n",
      "Number of samples: 820\n"
     ]
    }
   ],
   "source": [
    "DF_log_tpm = pd.read_csv(path.join(org_dir,'log_tpm.csv'),index_col=0).fillna(0)\n",
    "#DF_log_tpm = pd.read_csv('log_tpm.csv',index_col=0)\n",
    "print('Number of genes:',DF_log_tpm.shape[0])\n",
    "print('Number of samples:',DF_log_tpm.shape[1])"
   ]
  },
  {
   "cell_type": "code",
   "execution_count": 7,
   "metadata": {},
   "outputs": [
    {
     "data": {
      "text/html": [
       "<div>\n",
       "<style scoped>\n",
       "    .dataframe tbody tr th:only-of-type {\n",
       "        vertical-align: middle;\n",
       "    }\n",
       "\n",
       "    .dataframe tbody tr th {\n",
       "        vertical-align: top;\n",
       "    }\n",
       "\n",
       "    .dataframe thead th {\n",
       "        text-align: right;\n",
       "    }\n",
       "</style>\n",
       "<table border=\"1\" class=\"dataframe\">\n",
       "  <thead>\n",
       "    <tr style=\"text-align: right;\">\n",
       "      <th></th>\n",
       "      <th>ecoli_00001</th>\n",
       "      <th>ecoli_00002</th>\n",
       "      <th>ecoli_00003</th>\n",
       "      <th>ecoli_00004</th>\n",
       "      <th>ecoli_00005</th>\n",
       "      <th>ecoli_00006</th>\n",
       "      <th>ecoli_00007</th>\n",
       "      <th>ecoli_00008</th>\n",
       "      <th>ecoli_00009</th>\n",
       "      <th>ecoli_00010</th>\n",
       "      <th>...</th>\n",
       "      <th>ecoli_00836</th>\n",
       "      <th>ecoli_00837</th>\n",
       "      <th>ecoli_00838</th>\n",
       "      <th>ecoli_00839</th>\n",
       "      <th>ecoli_00840</th>\n",
       "      <th>ecoli_00841</th>\n",
       "      <th>ecoli_00842</th>\n",
       "      <th>ecoli_00843</th>\n",
       "      <th>ecoli_00844</th>\n",
       "      <th>ecoli_00845</th>\n",
       "    </tr>\n",
       "    <tr>\n",
       "      <th>Geneid</th>\n",
       "      <th></th>\n",
       "      <th></th>\n",
       "      <th></th>\n",
       "      <th></th>\n",
       "      <th></th>\n",
       "      <th></th>\n",
       "      <th></th>\n",
       "      <th></th>\n",
       "      <th></th>\n",
       "      <th></th>\n",
       "      <th></th>\n",
       "      <th></th>\n",
       "      <th></th>\n",
       "      <th></th>\n",
       "      <th></th>\n",
       "      <th></th>\n",
       "      <th></th>\n",
       "      <th></th>\n",
       "      <th></th>\n",
       "      <th></th>\n",
       "      <th></th>\n",
       "    </tr>\n",
       "  </thead>\n",
       "  <tbody>\n",
       "    <tr>\n",
       "      <th>b0001</th>\n",
       "      <td>10.473721</td>\n",
       "      <td>10.271944</td>\n",
       "      <td>6.238716</td>\n",
       "      <td>6.608164</td>\n",
       "      <td>9.864757</td>\n",
       "      <td>10.307057</td>\n",
       "      <td>5.566341</td>\n",
       "      <td>6.535879</td>\n",
       "      <td>10.315476</td>\n",
       "      <td>10.808135</td>\n",
       "      <td>...</td>\n",
       "      <td>8.058857</td>\n",
       "      <td>9.384276</td>\n",
       "      <td>8.785916</td>\n",
       "      <td>8.834321</td>\n",
       "      <td>8.234481</td>\n",
       "      <td>9.034106</td>\n",
       "      <td>7.802155</td>\n",
       "      <td>8.269851</td>\n",
       "      <td>8.221648</td>\n",
       "      <td>7.781672</td>\n",
       "    </tr>\n",
       "    <tr>\n",
       "      <th>b0002</th>\n",
       "      <td>10.260569</td>\n",
       "      <td>10.368555</td>\n",
       "      <td>11.193605</td>\n",
       "      <td>11.404163</td>\n",
       "      <td>10.497016</td>\n",
       "      <td>10.235690</td>\n",
       "      <td>9.477470</td>\n",
       "      <td>9.811860</td>\n",
       "      <td>10.735874</td>\n",
       "      <td>10.726916</td>\n",
       "      <td>...</td>\n",
       "      <td>10.742892</td>\n",
       "      <td>10.725977</td>\n",
       "      <td>10.991453</td>\n",
       "      <td>11.032539</td>\n",
       "      <td>10.881214</td>\n",
       "      <td>10.808622</td>\n",
       "      <td>10.706326</td>\n",
       "      <td>10.668702</td>\n",
       "      <td>10.826346</td>\n",
       "      <td>10.825976</td>\n",
       "    </tr>\n",
       "    <tr>\n",
       "      <th>b0003</th>\n",
       "      <td>9.920277</td>\n",
       "      <td>10.044224</td>\n",
       "      <td>11.045580</td>\n",
       "      <td>11.460140</td>\n",
       "      <td>10.374823</td>\n",
       "      <td>10.216922</td>\n",
       "      <td>9.219235</td>\n",
       "      <td>9.861262</td>\n",
       "      <td>10.528432</td>\n",
       "      <td>10.503092</td>\n",
       "      <td>...</td>\n",
       "      <td>10.101063</td>\n",
       "      <td>10.118400</td>\n",
       "      <td>10.265804</td>\n",
       "      <td>10.294868</td>\n",
       "      <td>10.200303</td>\n",
       "      <td>10.161210</td>\n",
       "      <td>9.979079</td>\n",
       "      <td>9.992112</td>\n",
       "      <td>10.225943</td>\n",
       "      <td>10.061164</td>\n",
       "    </tr>\n",
       "    <tr>\n",
       "      <th>b0004</th>\n",
       "      <td>9.936694</td>\n",
       "      <td>10.010638</td>\n",
       "      <td>9.976798</td>\n",
       "      <td>10.330368</td>\n",
       "      <td>9.876910</td>\n",
       "      <td>9.638754</td>\n",
       "      <td>8.258753</td>\n",
       "      <td>8.650959</td>\n",
       "      <td>9.739519</td>\n",
       "      <td>9.722997</td>\n",
       "      <td>...</td>\n",
       "      <td>10.042148</td>\n",
       "      <td>9.975089</td>\n",
       "      <td>10.047559</td>\n",
       "      <td>10.103176</td>\n",
       "      <td>10.093910</td>\n",
       "      <td>9.998449</td>\n",
       "      <td>9.894860</td>\n",
       "      <td>9.873453</td>\n",
       "      <td>10.085281</td>\n",
       "      <td>10.029110</td>\n",
       "    </tr>\n",
       "    <tr>\n",
       "      <th>b0005</th>\n",
       "      <td>7.027515</td>\n",
       "      <td>7.237449</td>\n",
       "      <td>6.014337</td>\n",
       "      <td>5.854519</td>\n",
       "      <td>6.950936</td>\n",
       "      <td>6.768425</td>\n",
       "      <td>5.011006</td>\n",
       "      <td>5.137711</td>\n",
       "      <td>6.745798</td>\n",
       "      <td>6.497823</td>\n",
       "      <td>...</td>\n",
       "      <td>6.336199</td>\n",
       "      <td>6.246364</td>\n",
       "      <td>6.237686</td>\n",
       "      <td>6.181453</td>\n",
       "      <td>6.462037</td>\n",
       "      <td>6.452577</td>\n",
       "      <td>6.369624</td>\n",
       "      <td>6.362859</td>\n",
       "      <td>6.576650</td>\n",
       "      <td>6.243859</td>\n",
       "    </tr>\n",
       "  </tbody>\n",
       "</table>\n",
       "<p>5 rows × 820 columns</p>\n",
       "</div>"
      ],
      "text/plain": [
       "        ecoli_00001  ecoli_00002  ecoli_00003  ecoli_00004  ecoli_00005  \\\n",
       "Geneid                                                                    \n",
       "b0001     10.473721    10.271944     6.238716     6.608164     9.864757   \n",
       "b0002     10.260569    10.368555    11.193605    11.404163    10.497016   \n",
       "b0003      9.920277    10.044224    11.045580    11.460140    10.374823   \n",
       "b0004      9.936694    10.010638     9.976798    10.330368     9.876910   \n",
       "b0005      7.027515     7.237449     6.014337     5.854519     6.950936   \n",
       "\n",
       "        ecoli_00006  ecoli_00007  ecoli_00008  ecoli_00009  ecoli_00010  ...  \\\n",
       "Geneid                                                                   ...   \n",
       "b0001     10.307057     5.566341     6.535879    10.315476    10.808135  ...   \n",
       "b0002     10.235690     9.477470     9.811860    10.735874    10.726916  ...   \n",
       "b0003     10.216922     9.219235     9.861262    10.528432    10.503092  ...   \n",
       "b0004      9.638754     8.258753     8.650959     9.739519     9.722997  ...   \n",
       "b0005      6.768425     5.011006     5.137711     6.745798     6.497823  ...   \n",
       "\n",
       "        ecoli_00836  ecoli_00837  ecoli_00838  ecoli_00839  ecoli_00840  \\\n",
       "Geneid                                                                    \n",
       "b0001      8.058857     9.384276     8.785916     8.834321     8.234481   \n",
       "b0002     10.742892    10.725977    10.991453    11.032539    10.881214   \n",
       "b0003     10.101063    10.118400    10.265804    10.294868    10.200303   \n",
       "b0004     10.042148     9.975089    10.047559    10.103176    10.093910   \n",
       "b0005      6.336199     6.246364     6.237686     6.181453     6.462037   \n",
       "\n",
       "        ecoli_00841  ecoli_00842  ecoli_00843  ecoli_00844  ecoli_00845  \n",
       "Geneid                                                                   \n",
       "b0001      9.034106     7.802155     8.269851     8.221648     7.781672  \n",
       "b0002     10.808622    10.706326    10.668702    10.826346    10.825976  \n",
       "b0003     10.161210     9.979079     9.992112    10.225943    10.061164  \n",
       "b0004      9.998449     9.894860     9.873453    10.085281    10.029110  \n",
       "b0005      6.452577     6.369624     6.362859     6.576650     6.243859  \n",
       "\n",
       "[5 rows x 820 columns]"
      ]
     },
     "execution_count": 7,
     "metadata": {},
     "output_type": "execute_result"
    }
   ],
   "source": [
    "DF_log_tpm.fillna(0,inplace=True)\n",
    "DF_log_tpm.head()"
   ]
  },
  {
   "cell_type": "markdown",
   "metadata": {},
   "source": [
    "## Load QC data\n",
    "<font size=\"4\">There may be some datasets that failed along the processing pipeline, so the number of samples with QC data may be higher than the number of samples with expression data.</font>"
   ]
  },
  {
   "cell_type": "code",
   "execution_count": 8,
   "metadata": {},
   "outputs": [
    {
     "name": "stdout",
     "output_type": "stream",
     "text": [
      "Number of samples with QC data: 944\n"
     ]
    }
   ],
   "source": [
    "DF_qc_stats = pd.read_csv(path.join(org_dir,'multiqc_stats.tsv'),index_col=0, sep='\\t')\n",
    "print('Number of samples with QC data:',DF_qc_stats.shape[0])"
   ]
  },
  {
   "cell_type": "code",
   "execution_count": 9,
   "metadata": {},
   "outputs": [
    {
     "data": {
      "text/html": [
       "<div>\n",
       "<style scoped>\n",
       "    .dataframe tbody tr th:only-of-type {\n",
       "        vertical-align: middle;\n",
       "    }\n",
       "\n",
       "    .dataframe tbody tr th {\n",
       "        vertical-align: top;\n",
       "    }\n",
       "\n",
       "    .dataframe thead th {\n",
       "        text-align: right;\n",
       "    }\n",
       "</style>\n",
       "<table border=\"1\" class=\"dataframe\">\n",
       "  <thead>\n",
       "    <tr style=\"text-align: right;\">\n",
       "      <th></th>\n",
       "      <th>Total</th>\n",
       "      <th>Assigned</th>\n",
       "      <th>Unassigned_rRNA</th>\n",
       "      <th>Unassigned_Unmapped</th>\n",
       "      <th>Unassigned_Read_Type</th>\n",
       "      <th>Unassigned_Singleton</th>\n",
       "      <th>Unassigned_MappingQuality</th>\n",
       "      <th>Unassigned_Chimera</th>\n",
       "      <th>Unassigned_FragmentLength</th>\n",
       "      <th>Unassigned_Duplicate</th>\n",
       "      <th>...</th>\n",
       "      <th>r_written</th>\n",
       "      <th>bp_processed</th>\n",
       "      <th>quality_trimmed</th>\n",
       "      <th>bp_written</th>\n",
       "      <th>percent_trimmed</th>\n",
       "      <th>pe_sense</th>\n",
       "      <th>pe_antisense</th>\n",
       "      <th>failed</th>\n",
       "      <th>se_sense</th>\n",
       "      <th>se_antisense</th>\n",
       "    </tr>\n",
       "    <tr>\n",
       "      <th>Sample</th>\n",
       "      <th></th>\n",
       "      <th></th>\n",
       "      <th></th>\n",
       "      <th></th>\n",
       "      <th></th>\n",
       "      <th></th>\n",
       "      <th></th>\n",
       "      <th></th>\n",
       "      <th></th>\n",
       "      <th></th>\n",
       "      <th></th>\n",
       "      <th></th>\n",
       "      <th></th>\n",
       "      <th></th>\n",
       "      <th></th>\n",
       "      <th></th>\n",
       "      <th></th>\n",
       "      <th></th>\n",
       "      <th></th>\n",
       "      <th></th>\n",
       "      <th></th>\n",
       "    </tr>\n",
       "  </thead>\n",
       "  <tbody>\n",
       "    <tr>\n",
       "      <th>ecoli_00001</th>\n",
       "      <td>6372886</td>\n",
       "      <td>4580249</td>\n",
       "      <td>53735</td>\n",
       "      <td>229666</td>\n",
       "      <td>0</td>\n",
       "      <td>0</td>\n",
       "      <td>0</td>\n",
       "      <td>0</td>\n",
       "      <td>164385</td>\n",
       "      <td>0</td>\n",
       "      <td>...</td>\n",
       "      <td>6496162</td>\n",
       "      <td>201381022</td>\n",
       "      <td>10060007</td>\n",
       "      <td>188572802</td>\n",
       "      <td>6.360192</td>\n",
       "      <td>0.0399</td>\n",
       "      <td>0.4468</td>\n",
       "      <td>0.5133</td>\n",
       "      <td>0.0</td>\n",
       "      <td>0.0</td>\n",
       "    </tr>\n",
       "    <tr>\n",
       "      <th>ecoli_00002</th>\n",
       "      <td>4346353</td>\n",
       "      <td>3183361</td>\n",
       "      <td>26600</td>\n",
       "      <td>199565</td>\n",
       "      <td>0</td>\n",
       "      <td>0</td>\n",
       "      <td>0</td>\n",
       "      <td>0</td>\n",
       "      <td>85094</td>\n",
       "      <td>0</td>\n",
       "      <td>...</td>\n",
       "      <td>4394188</td>\n",
       "      <td>136219828</td>\n",
       "      <td>6035575</td>\n",
       "      <td>128348546</td>\n",
       "      <td>5.778367</td>\n",
       "      <td>0.0409</td>\n",
       "      <td>0.4453</td>\n",
       "      <td>0.5138</td>\n",
       "      <td>0.0</td>\n",
       "      <td>0.0</td>\n",
       "    </tr>\n",
       "    <tr>\n",
       "      <th>ecoli_00003</th>\n",
       "      <td>11421794</td>\n",
       "      <td>8766514</td>\n",
       "      <td>5167</td>\n",
       "      <td>179345</td>\n",
       "      <td>0</td>\n",
       "      <td>0</td>\n",
       "      <td>0</td>\n",
       "      <td>0</td>\n",
       "      <td>12511</td>\n",
       "      <td>0</td>\n",
       "      <td>...</td>\n",
       "      <td>11445313</td>\n",
       "      <td>354804703</td>\n",
       "      <td>6338224</td>\n",
       "      <td>346636233</td>\n",
       "      <td>2.302244</td>\n",
       "      <td>0.0261</td>\n",
       "      <td>0.5113</td>\n",
       "      <td>0.4626</td>\n",
       "      <td>0.0</td>\n",
       "      <td>0.0</td>\n",
       "    </tr>\n",
       "    <tr>\n",
       "      <th>ecoli_00004</th>\n",
       "      <td>10539531</td>\n",
       "      <td>7948124</td>\n",
       "      <td>2907</td>\n",
       "      <td>131778</td>\n",
       "      <td>0</td>\n",
       "      <td>0</td>\n",
       "      <td>0</td>\n",
       "      <td>0</td>\n",
       "      <td>4468</td>\n",
       "      <td>0</td>\n",
       "      <td>...</td>\n",
       "      <td>10563549</td>\n",
       "      <td>327470019</td>\n",
       "      <td>6001546</td>\n",
       "      <td>319757327</td>\n",
       "      <td>2.355236</td>\n",
       "      <td>0.0234</td>\n",
       "      <td>0.5314</td>\n",
       "      <td>0.4452</td>\n",
       "      <td>0.0</td>\n",
       "      <td>0.0</td>\n",
       "    </tr>\n",
       "    <tr>\n",
       "      <th>ecoli_00005</th>\n",
       "      <td>10713890</td>\n",
       "      <td>8153912</td>\n",
       "      <td>1176</td>\n",
       "      <td>562512</td>\n",
       "      <td>0</td>\n",
       "      <td>0</td>\n",
       "      <td>0</td>\n",
       "      <td>0</td>\n",
       "      <td>41191</td>\n",
       "      <td>0</td>\n",
       "      <td>...</td>\n",
       "      <td>10848313</td>\n",
       "      <td>336297703</td>\n",
       "      <td>8690930</td>\n",
       "      <td>325858317</td>\n",
       "      <td>3.104210</td>\n",
       "      <td>0.0314</td>\n",
       "      <td>0.4550</td>\n",
       "      <td>0.5135</td>\n",
       "      <td>0.0</td>\n",
       "      <td>0.0</td>\n",
       "    </tr>\n",
       "  </tbody>\n",
       "</table>\n",
       "<p>5 rows × 54 columns</p>\n",
       "</div>"
      ],
      "text/plain": [
       "                Total  Assigned  Unassigned_rRNA  Unassigned_Unmapped  \\\n",
       "Sample                                                                  \n",
       "ecoli_00001   6372886   4580249            53735               229666   \n",
       "ecoli_00002   4346353   3183361            26600               199565   \n",
       "ecoli_00003  11421794   8766514             5167               179345   \n",
       "ecoli_00004  10539531   7948124             2907               131778   \n",
       "ecoli_00005  10713890   8153912             1176               562512   \n",
       "\n",
       "             Unassigned_Read_Type  Unassigned_Singleton  \\\n",
       "Sample                                                    \n",
       "ecoli_00001                     0                     0   \n",
       "ecoli_00002                     0                     0   \n",
       "ecoli_00003                     0                     0   \n",
       "ecoli_00004                     0                     0   \n",
       "ecoli_00005                     0                     0   \n",
       "\n",
       "             Unassigned_MappingQuality  Unassigned_Chimera  \\\n",
       "Sample                                                       \n",
       "ecoli_00001                          0                   0   \n",
       "ecoli_00002                          0                   0   \n",
       "ecoli_00003                          0                   0   \n",
       "ecoli_00004                          0                   0   \n",
       "ecoli_00005                          0                   0   \n",
       "\n",
       "             Unassigned_FragmentLength  Unassigned_Duplicate  ...  r_written  \\\n",
       "Sample                                                        ...              \n",
       "ecoli_00001                     164385                     0  ...    6496162   \n",
       "ecoli_00002                      85094                     0  ...    4394188   \n",
       "ecoli_00003                      12511                     0  ...   11445313   \n",
       "ecoli_00004                       4468                     0  ...   10563549   \n",
       "ecoli_00005                      41191                     0  ...   10848313   \n",
       "\n",
       "             bp_processed  quality_trimmed  bp_written  percent_trimmed  \\\n",
       "Sample                                                                    \n",
       "ecoli_00001     201381022         10060007   188572802         6.360192   \n",
       "ecoli_00002     136219828          6035575   128348546         5.778367   \n",
       "ecoli_00003     354804703          6338224   346636233         2.302244   \n",
       "ecoli_00004     327470019          6001546   319757327         2.355236   \n",
       "ecoli_00005     336297703          8690930   325858317         3.104210   \n",
       "\n",
       "             pe_sense  pe_antisense  failed  se_sense  se_antisense  \n",
       "Sample                                                               \n",
       "ecoli_00001    0.0399        0.4468  0.5133       0.0           0.0  \n",
       "ecoli_00002    0.0409        0.4453  0.5138       0.0           0.0  \n",
       "ecoli_00003    0.0261        0.5113  0.4626       0.0           0.0  \n",
       "ecoli_00004    0.0234        0.5314  0.4452       0.0           0.0  \n",
       "ecoli_00005    0.0314        0.4550  0.5135       0.0           0.0  \n",
       "\n",
       "[5 rows x 54 columns]"
      ]
     },
     "execution_count": 9,
     "metadata": {},
     "output_type": "execute_result"
    }
   ],
   "source": [
    "DF_qc_stats.fillna(0,inplace=True)\n",
    "DF_qc_stats.head()"
   ]
  },
  {
   "cell_type": "markdown",
   "metadata": {},
   "source": [
    "## Load metadata"
   ]
  },
  {
   "cell_type": "code",
   "execution_count": 10,
   "metadata": {},
   "outputs": [
    {
     "name": "stdout",
     "output_type": "stream",
     "text": [
      "Number of samples with metadata: 820\n"
     ]
    },
    {
     "data": {
      "text/html": [
       "<div>\n",
       "<style scoped>\n",
       "    .dataframe tbody tr th:only-of-type {\n",
       "        vertical-align: middle;\n",
       "    }\n",
       "\n",
       "    .dataframe tbody tr th {\n",
       "        vertical-align: top;\n",
       "    }\n",
       "\n",
       "    .dataframe thead th {\n",
       "        text-align: right;\n",
       "    }\n",
       "</style>\n",
       "<table border=\"1\" class=\"dataframe\">\n",
       "  <thead>\n",
       "    <tr style=\"text-align: right;\">\n",
       "      <th></th>\n",
       "      <th>sample_id</th>\n",
       "      <th>study</th>\n",
       "      <th>project_id</th>\n",
       "      <th>condition_id</th>\n",
       "      <th>rep_id</th>\n",
       "      <th>contact</th>\n",
       "      <th>creator</th>\n",
       "      <th>run_date</th>\n",
       "      <th>Strain Description</th>\n",
       "      <th>Strain</th>\n",
       "      <th>...</th>\n",
       "      <th>BAM</th>\n",
       "      <th>alignment</th>\n",
       "      <th>DOI</th>\n",
       "      <th>GEO</th>\n",
       "      <th>Published</th>\n",
       "      <th>SRX</th>\n",
       "      <th>Run</th>\n",
       "      <th>Notes</th>\n",
       "      <th>LibraryLayout</th>\n",
       "      <th>Platform</th>\n",
       "    </tr>\n",
       "    <tr>\n",
       "      <th>Experiment</th>\n",
       "      <th></th>\n",
       "      <th></th>\n",
       "      <th></th>\n",
       "      <th></th>\n",
       "      <th></th>\n",
       "      <th></th>\n",
       "      <th></th>\n",
       "      <th></th>\n",
       "      <th></th>\n",
       "      <th></th>\n",
       "      <th></th>\n",
       "      <th></th>\n",
       "      <th></th>\n",
       "      <th></th>\n",
       "      <th></th>\n",
       "      <th></th>\n",
       "      <th></th>\n",
       "      <th></th>\n",
       "      <th></th>\n",
       "      <th></th>\n",
       "      <th></th>\n",
       "    </tr>\n",
       "  </thead>\n",
       "  <tbody>\n",
       "    <tr>\n",
       "      <th>ecoli_00001</th>\n",
       "      <td>control__wt_glc__1</td>\n",
       "      <td>Control</td>\n",
       "      <td>control</td>\n",
       "      <td>wt_glc</td>\n",
       "      <td>1</td>\n",
       "      <td>Sangwoo Seo</td>\n",
       "      <td>Sangwoo Seo</td>\n",
       "      <td>4/17/13</td>\n",
       "      <td>Escherichia coli K-12 MG1655</td>\n",
       "      <td>MG1655</td>\n",
       "      <td>...</td>\n",
       "      <td>control__wt_glc__1.bam</td>\n",
       "      <td>94.33</td>\n",
       "      <td>doi.org/10.1101/080929</td>\n",
       "      <td>GSE65643</td>\n",
       "      <td>1.0</td>\n",
       "      <td>SRX865357</td>\n",
       "      <td>SRR1787590</td>\n",
       "      <td>NaN</td>\n",
       "      <td>PAIRED</td>\n",
       "      <td>ILLUMINA</td>\n",
       "    </tr>\n",
       "    <tr>\n",
       "      <th>ecoli_00002</th>\n",
       "      <td>control__wt_glc__2</td>\n",
       "      <td>Control</td>\n",
       "      <td>control</td>\n",
       "      <td>wt_glc</td>\n",
       "      <td>2</td>\n",
       "      <td>Sangwoo Seo</td>\n",
       "      <td>Sangwoo Seo</td>\n",
       "      <td>4/17/13</td>\n",
       "      <td>Escherichia coli K-12 MG1655</td>\n",
       "      <td>MG1655</td>\n",
       "      <td>...</td>\n",
       "      <td>control__wt_glc__2.bam</td>\n",
       "      <td>94.24</td>\n",
       "      <td>doi.org/10.1101/080929</td>\n",
       "      <td>GSE65643</td>\n",
       "      <td>1.0</td>\n",
       "      <td>SRX865358</td>\n",
       "      <td>SRR1787591</td>\n",
       "      <td>NaN</td>\n",
       "      <td>PAIRED</td>\n",
       "      <td>ILLUMINA</td>\n",
       "    </tr>\n",
       "    <tr>\n",
       "      <th>ecoli_00003</th>\n",
       "      <td>fur__wt_dpd__1</td>\n",
       "      <td>Fur</td>\n",
       "      <td>fur</td>\n",
       "      <td>wt_dpd</td>\n",
       "      <td>1</td>\n",
       "      <td>Sangwoo Seo</td>\n",
       "      <td>Sangwoo Seo</td>\n",
       "      <td>10/2/13</td>\n",
       "      <td>Escherichia coli K-12 MG1655</td>\n",
       "      <td>MG1655</td>\n",
       "      <td>...</td>\n",
       "      <td>fur__wt_dpd__1.bam</td>\n",
       "      <td>98.04</td>\n",
       "      <td>doi.org/10.1038/ncomms5910</td>\n",
       "      <td>GSE54900</td>\n",
       "      <td>1.0</td>\n",
       "      <td>SRX469840</td>\n",
       "      <td>SRR1168135</td>\n",
       "      <td>NaN</td>\n",
       "      <td>PAIRED</td>\n",
       "      <td>ILLUMINA</td>\n",
       "    </tr>\n",
       "    <tr>\n",
       "      <th>ecoli_00004</th>\n",
       "      <td>fur__wt_dpd__2</td>\n",
       "      <td>Fur</td>\n",
       "      <td>fur</td>\n",
       "      <td>wt_dpd</td>\n",
       "      <td>2</td>\n",
       "      <td>Sangwoo Seo</td>\n",
       "      <td>Sangwoo Seo</td>\n",
       "      <td>10/2/13</td>\n",
       "      <td>Escherichia coli K-12 MG1655</td>\n",
       "      <td>MG1655</td>\n",
       "      <td>...</td>\n",
       "      <td>fur__wt_dpd__2.bam</td>\n",
       "      <td>98.30</td>\n",
       "      <td>doi.org/10.1038/ncomms5910</td>\n",
       "      <td>GSE54900</td>\n",
       "      <td>1.0</td>\n",
       "      <td>SRX469841</td>\n",
       "      <td>SRR1168136</td>\n",
       "      <td>NaN</td>\n",
       "      <td>PAIRED</td>\n",
       "      <td>ILLUMINA</td>\n",
       "    </tr>\n",
       "    <tr>\n",
       "      <th>ecoli_00005</th>\n",
       "      <td>fur__wt_fe__1</td>\n",
       "      <td>Fur</td>\n",
       "      <td>fur</td>\n",
       "      <td>wt_fe</td>\n",
       "      <td>1</td>\n",
       "      <td>Sangwoo Seo</td>\n",
       "      <td>Sangwoo Seo</td>\n",
       "      <td>9/5/13</td>\n",
       "      <td>Escherichia coli K-12 MG1655</td>\n",
       "      <td>MG1655</td>\n",
       "      <td>...</td>\n",
       "      <td>fur__wt_fe__1.bam</td>\n",
       "      <td>93.35</td>\n",
       "      <td>doi.org/10.1038/ncomms5910</td>\n",
       "      <td>GSE54900</td>\n",
       "      <td>1.0</td>\n",
       "      <td>SRX469838</td>\n",
       "      <td>SRR1168133</td>\n",
       "      <td>NaN</td>\n",
       "      <td>PAIRED</td>\n",
       "      <td>ILLUMINA</td>\n",
       "    </tr>\n",
       "  </tbody>\n",
       "</table>\n",
       "<p>5 rows × 38 columns</p>\n",
       "</div>"
      ],
      "text/plain": [
       "                      sample_id    study project_id condition_id  rep_id  \\\n",
       "Experiment                                                                 \n",
       "ecoli_00001  control__wt_glc__1  Control    control       wt_glc       1   \n",
       "ecoli_00002  control__wt_glc__2  Control    control       wt_glc       2   \n",
       "ecoli_00003      fur__wt_dpd__1      Fur        fur       wt_dpd       1   \n",
       "ecoli_00004      fur__wt_dpd__2      Fur        fur       wt_dpd       2   \n",
       "ecoli_00005       fur__wt_fe__1      Fur        fur        wt_fe       1   \n",
       "\n",
       "                 contact      creator run_date            Strain Description  \\\n",
       "Experiment                                                                     \n",
       "ecoli_00001  Sangwoo Seo  Sangwoo Seo  4/17/13  Escherichia coli K-12 MG1655   \n",
       "ecoli_00002  Sangwoo Seo  Sangwoo Seo  4/17/13  Escherichia coli K-12 MG1655   \n",
       "ecoli_00003  Sangwoo Seo  Sangwoo Seo  10/2/13  Escherichia coli K-12 MG1655   \n",
       "ecoli_00004  Sangwoo Seo  Sangwoo Seo  10/2/13  Escherichia coli K-12 MG1655   \n",
       "ecoli_00005  Sangwoo Seo  Sangwoo Seo   9/5/13  Escherichia coli K-12 MG1655   \n",
       "\n",
       "             Strain  ...                     BAM alignment  \\\n",
       "Experiment           ...                                     \n",
       "ecoli_00001  MG1655  ...  control__wt_glc__1.bam     94.33   \n",
       "ecoli_00002  MG1655  ...  control__wt_glc__2.bam     94.24   \n",
       "ecoli_00003  MG1655  ...      fur__wt_dpd__1.bam     98.04   \n",
       "ecoli_00004  MG1655  ...      fur__wt_dpd__2.bam     98.30   \n",
       "ecoli_00005  MG1655  ...       fur__wt_fe__1.bam     93.35   \n",
       "\n",
       "                                    DOI       GEO Published        SRX  \\\n",
       "Experiment                                                               \n",
       "ecoli_00001      doi.org/10.1101/080929  GSE65643       1.0  SRX865357   \n",
       "ecoli_00002      doi.org/10.1101/080929  GSE65643       1.0  SRX865358   \n",
       "ecoli_00003  doi.org/10.1038/ncomms5910  GSE54900       1.0  SRX469840   \n",
       "ecoli_00004  doi.org/10.1038/ncomms5910  GSE54900       1.0  SRX469841   \n",
       "ecoli_00005  doi.org/10.1038/ncomms5910  GSE54900       1.0  SRX469838   \n",
       "\n",
       "                    Run  Notes LibraryLayout  Platform  \n",
       "Experiment                                              \n",
       "ecoli_00001  SRR1787590    NaN        PAIRED  ILLUMINA  \n",
       "ecoli_00002  SRR1787591    NaN        PAIRED  ILLUMINA  \n",
       "ecoli_00003  SRR1168135    NaN        PAIRED  ILLUMINA  \n",
       "ecoli_00004  SRR1168136    NaN        PAIRED  ILLUMINA  \n",
       "ecoli_00005  SRR1168133    NaN        PAIRED  ILLUMINA  \n",
       "\n",
       "[5 rows x 38 columns]"
      ]
     },
     "execution_count": 10,
     "metadata": {},
     "output_type": "execute_result"
    }
   ],
   "source": [
    "DF_metadata = pd.read_csv(path.join(org_dir,metadata_file),index_col=0,sep='\\t')\n",
    "print('Number of samples with metadata:',DF_metadata.shape[0])\n",
    "DF_metadata.head()"
   ]
  },
  {
   "cell_type": "markdown",
   "metadata": {},
   "source": [
    "## Remove extra sample rows"
   ]
  },
  {
   "cell_type": "code",
   "execution_count": 11,
   "metadata": {},
   "outputs": [],
   "source": [
    "# Ensure that metadata and qc_stats data contain all log_tpm sample information\n",
    "assert(set(DF_log_tpm.columns) - set(DF_metadata.index) == set())\n",
    "assert(set(DF_log_tpm.columns) - set(DF_qc_stats.index) == set())"
   ]
  },
  {
   "cell_type": "code",
   "execution_count": 12,
   "metadata": {},
   "outputs": [],
   "source": [
    "DF_metadata = DF_metadata.loc[DF_log_tpm.columns]\n",
    "DF_qc_stats = DF_qc_stats.loc[DF_log_tpm.columns]"
   ]
  },
  {
   "cell_type": "markdown",
   "metadata": {},
   "source": [
    "# Check statistics"
   ]
  },
  {
   "cell_type": "markdown",
   "metadata": {},
   "source": [
    "<font size=\"4\">From here, create a new spreadsheet where you can flag samples based on various QC statistics</font>\n"
   ]
  },
  {
   "cell_type": "markdown",
   "metadata": {},
   "source": [
    "## FastQC stats"
   ]
  },
  {
   "cell_type": "code",
   "execution_count": 13,
   "metadata": {},
   "outputs": [],
   "source": [
    "fastqc_cols = ['per_base_sequence_quality',\n",
    "       'per_tile_sequence_quality', 'per_sequence_quality_scores',\n",
    "       'per_base_sequence_content', 'per_sequence_gc_content',\n",
    "       'per_base_n_content', 'sequence_length_distribution',\n",
    "       'sequence_duplication_levels', 'overrepresented_sequences',\n",
    "       'adapter_content']"
   ]
  },
  {
   "cell_type": "code",
   "execution_count": 14,
   "metadata": {},
   "outputs": [
    {
     "data": {
      "image/png": "[encoded data removed]",
      "text/plain": [
       "<Figure size 432x288 with 2 Axes>"
      ]
     },
     "metadata": {},
     "output_type": "display_data"
    }
   ],
   "source": [
    "DF_fastqc = DF_qc_stats[fastqc_cols]\n",
    "ax = sns.heatmap(DF_fastqc.replace('pass',1).replace('warn',0).replace('fail',-1),\n",
    "            cmap='RdYlBu',vmax=1.3,vmin=-1.3)\n",
    "cbar = ax.collections[0].colorbar\n",
    "cbar.set_ticks([-1,0,1])\n",
    "cbar.set_ticklabels(['fail','warn','pass'])"
   ]
  },
  {
   "cell_type": "markdown",
   "metadata": {},
   "source": [
    "<font size=\"4\">The following four categories are the most important:\n",
    "    - per_base_sequence_quality\n",
    "    - per_sequence_quality_scores\n",
    "    - per_base_n_content\n",
    "    - adapter_content\n",
    "    \n",
    "If a sample does not pass any of these four categories, discard the sample\n",
    "</font>"
   ]
  },
  {
   "cell_type": "code",
   "execution_count": 15,
   "metadata": {},
   "outputs": [],
   "source": [
    "fastqc_fail_cols = ['per_base_sequence_quality','per_sequence_quality_scores','per_base_n_content','adapter_content']"
   ]
  },
  {
   "cell_type": "code",
   "execution_count": 16,
   "metadata": {},
   "outputs": [
    {
     "data": {
      "text/html": [
       "<div>\n",
       "<style scoped>\n",
       "    .dataframe tbody tr th:only-of-type {\n",
       "        vertical-align: middle;\n",
       "    }\n",
       "\n",
       "    .dataframe tbody tr th {\n",
       "        vertical-align: top;\n",
       "    }\n",
       "\n",
       "    .dataframe thead th {\n",
       "        text-align: right;\n",
       "    }\n",
       "</style>\n",
       "<table border=\"1\" class=\"dataframe\">\n",
       "  <thead>\n",
       "    <tr style=\"text-align: right;\">\n",
       "      <th></th>\n",
       "      <th>per_base_sequence_quality</th>\n",
       "      <th>per_sequence_quality_scores</th>\n",
       "      <th>per_base_n_content</th>\n",
       "      <th>adapter_content</th>\n",
       "    </tr>\n",
       "  </thead>\n",
       "  <tbody>\n",
       "    <tr>\n",
       "      <th>ecoli_00013</th>\n",
       "      <td>fail</td>\n",
       "      <td>warn</td>\n",
       "      <td>pass</td>\n",
       "      <td>pass</td>\n",
       "    </tr>\n",
       "    <tr>\n",
       "      <th>ecoli_00069</th>\n",
       "      <td>fail</td>\n",
       "      <td>pass</td>\n",
       "      <td>fail</td>\n",
       "      <td>pass</td>\n",
       "    </tr>\n",
       "    <tr>\n",
       "      <th>ecoli_00076</th>\n",
       "      <td>fail</td>\n",
       "      <td>pass</td>\n",
       "      <td>fail</td>\n",
       "      <td>pass</td>\n",
       "    </tr>\n",
       "  </tbody>\n",
       "</table>\n",
       "</div>"
      ],
      "text/plain": [
       "            per_base_sequence_quality per_sequence_quality_scores  \\\n",
       "ecoli_00013                      fail                        warn   \n",
       "ecoli_00069                      fail                        pass   \n",
       "ecoli_00076                      fail                        pass   \n",
       "\n",
       "            per_base_n_content adapter_content  \n",
       "ecoli_00013               pass            pass  \n",
       "ecoli_00069               fail            pass  \n",
       "ecoli_00076               fail            pass  "
      ]
     },
     "execution_count": 16,
     "metadata": {},
     "output_type": "execute_result"
    }
   ],
   "source": [
    "DF_failed_fastqc = DF_fastqc[fastqc_fail_cols][(DF_fastqc[fastqc_fail_cols] == 'fail').any(axis=1)]\n",
    "DF_failed_fastqc[fastqc_fail_cols]"
   ]
  },
  {
   "cell_type": "markdown",
   "metadata": {},
   "source": [
    "<font size=\"4\">Mark samples as failed.</font>"
   ]
  },
  {
   "cell_type": "code",
   "execution_count": 17,
   "metadata": {},
   "outputs": [],
   "source": [
    "DF_metadata['passed_fastqc'] = ~DF_metadata.index.isin(DF_failed_fastqc.index)"
   ]
  },
  {
   "cell_type": "markdown",
   "metadata": {},
   "source": [
    "## Percent of reads aligned to genome"
   ]
  },
  {
   "cell_type": "code",
   "execution_count": 18,
   "metadata": {},
   "outputs": [
    {
     "data": {
      "text/plain": [
       "40"
      ]
     },
     "execution_count": 18,
     "metadata": {},
     "output_type": "execute_result"
    }
   ],
   "source": [
    "min_pct_aligned"
   ]
  },
  {
   "cell_type": "code",
   "execution_count": 19,
   "metadata": {},
   "outputs": [],
   "source": [
    "align_cols = ['Assigned']\n",
    "total_alignment = DF_qc_stats[align_cols].sum(axis=1)\n",
    "percent_alignment = total_alignment.divide(DF_qc_stats['Total'])*100"
   ]
  },
  {
   "cell_type": "code",
   "execution_count": 20,
   "metadata": {},
   "outputs": [
    {
     "data": {
      "text/plain": [
       "Text(0.5, 1.0, 'Histogram of Alignment Percentage')"
      ]
     },
     "execution_count": 20,
     "metadata": {},
     "output_type": "execute_result"
    },
    {
     "data": {
      "image/png": "[encoded data removed]",
      "text/plain": [
       "<Figure size 432x288 with 1 Axes>"
      ]
     },
     "metadata": {},
     "output_type": "display_data"
    }
   ],
   "source": [
    "fig,ax = plt.subplots()\n",
    "ax.hist(percent_alignment,bins=50,alpha=0.8)\n",
    "ymin,ymax = ax.get_ylim()\n",
    "ax.vlines(min_pct_aligned,ymin,ymax,color='r')\n",
    "ax.set_ylim((ymin,ymax))\n",
    "ax.set_xlabel('% of reads mapped to genome',fontsize=14)\n",
    "ax.set_ylabel('# Samples',fontsize=14)\n",
    "ax.set_title('Histogram of Alignment Percentage',fontsize=16)"
   ]
  },
  {
   "cell_type": "code",
   "execution_count": 21,
   "metadata": {},
   "outputs": [
    {
     "data": {
      "text/html": [
       "<div>\n",
       "<style scoped>\n",
       "    .dataframe tbody tr th:only-of-type {\n",
       "        vertical-align: middle;\n",
       "    }\n",
       "\n",
       "    .dataframe tbody tr th {\n",
       "        vertical-align: top;\n",
       "    }\n",
       "\n",
       "    .dataframe thead th {\n",
       "        text-align: right;\n",
       "    }\n",
       "</style>\n",
       "<table border=\"1\" class=\"dataframe\">\n",
       "  <thead>\n",
       "    <tr style=\"text-align: right;\">\n",
       "      <th></th>\n",
       "      <th>Total</th>\n",
       "      <th>Assigned</th>\n",
       "      <th>Unassigned_rRNA</th>\n",
       "      <th>Unassigned_Unmapped</th>\n",
       "      <th>Unassigned_Read_Type</th>\n",
       "      <th>Unassigned_Singleton</th>\n",
       "      <th>Unassigned_MappingQuality</th>\n",
       "      <th>Unassigned_Chimera</th>\n",
       "      <th>Unassigned_FragmentLength</th>\n",
       "      <th>Unassigned_Duplicate</th>\n",
       "      <th>...</th>\n",
       "      <th>r_written</th>\n",
       "      <th>bp_processed</th>\n",
       "      <th>quality_trimmed</th>\n",
       "      <th>bp_written</th>\n",
       "      <th>percent_trimmed</th>\n",
       "      <th>pe_sense</th>\n",
       "      <th>pe_antisense</th>\n",
       "      <th>failed</th>\n",
       "      <th>se_sense</th>\n",
       "      <th>se_antisense</th>\n",
       "    </tr>\n",
       "  </thead>\n",
       "  <tbody>\n",
       "    <tr>\n",
       "      <th>ecoli_00151</th>\n",
       "      <td>3906008</td>\n",
       "      <td>1537833</td>\n",
       "      <td>1479914</td>\n",
       "      <td>55929</td>\n",
       "      <td>0</td>\n",
       "      <td>0</td>\n",
       "      <td>0</td>\n",
       "      <td>0</td>\n",
       "      <td>9857</td>\n",
       "      <td>0</td>\n",
       "      <td>...</td>\n",
       "      <td>3922738</td>\n",
       "      <td>137295830</td>\n",
       "      <td>143152</td>\n",
       "      <td>135630362</td>\n",
       "      <td>1.213051</td>\n",
       "      <td>0.4081</td>\n",
       "      <td>0.3212</td>\n",
       "      <td>0.2707</td>\n",
       "      <td>0.0</td>\n",
       "      <td>0.0</td>\n",
       "    </tr>\n",
       "    <tr>\n",
       "      <th>ecoli_00156</th>\n",
       "      <td>4833809</td>\n",
       "      <td>14785</td>\n",
       "      <td>3893423</td>\n",
       "      <td>251465</td>\n",
       "      <td>0</td>\n",
       "      <td>0</td>\n",
       "      <td>0</td>\n",
       "      <td>0</td>\n",
       "      <td>3031</td>\n",
       "      <td>0</td>\n",
       "      <td>...</td>\n",
       "      <td>4841148</td>\n",
       "      <td>726172200</td>\n",
       "      <td>1536519</td>\n",
       "      <td>656317481</td>\n",
       "      <td>9.619580</td>\n",
       "      <td>0.8505</td>\n",
       "      <td>0.0637</td>\n",
       "      <td>0.0858</td>\n",
       "      <td>0.0</td>\n",
       "      <td>0.0</td>\n",
       "    </tr>\n",
       "    <tr>\n",
       "      <th>ecoli_00367</th>\n",
       "      <td>6409073</td>\n",
       "      <td>2396849</td>\n",
       "      <td>2999202</td>\n",
       "      <td>80540</td>\n",
       "      <td>0</td>\n",
       "      <td>0</td>\n",
       "      <td>0</td>\n",
       "      <td>0</td>\n",
       "      <td>105408</td>\n",
       "      <td>0</td>\n",
       "      <td>...</td>\n",
       "      <td>6415979</td>\n",
       "      <td>256639160</td>\n",
       "      <td>564443</td>\n",
       "      <td>253273411</td>\n",
       "      <td>1.311471</td>\n",
       "      <td>0.0360</td>\n",
       "      <td>0.2346</td>\n",
       "      <td>0.7294</td>\n",
       "      <td>0.0</td>\n",
       "      <td>0.0</td>\n",
       "    </tr>\n",
       "    <tr>\n",
       "      <th>ecoli_00403</th>\n",
       "      <td>4837452</td>\n",
       "      <td>809302</td>\n",
       "      <td>3361607</td>\n",
       "      <td>175788</td>\n",
       "      <td>0</td>\n",
       "      <td>0</td>\n",
       "      <td>0</td>\n",
       "      <td>0</td>\n",
       "      <td>47770</td>\n",
       "      <td>0</td>\n",
       "      <td>...</td>\n",
       "      <td>4846082</td>\n",
       "      <td>489454282</td>\n",
       "      <td>2006772</td>\n",
       "      <td>485061325</td>\n",
       "      <td>0.897521</td>\n",
       "      <td>0.0611</td>\n",
       "      <td>0.1761</td>\n",
       "      <td>0.7627</td>\n",
       "      <td>0.0</td>\n",
       "      <td>0.0</td>\n",
       "    </tr>\n",
       "    <tr>\n",
       "      <th>ecoli_00726</th>\n",
       "      <td>9009414</td>\n",
       "      <td>31284</td>\n",
       "      <td>3668370</td>\n",
       "      <td>859929</td>\n",
       "      <td>0</td>\n",
       "      <td>0</td>\n",
       "      <td>0</td>\n",
       "      <td>0</td>\n",
       "      <td>27719</td>\n",
       "      <td>0</td>\n",
       "      <td>...</td>\n",
       "      <td>9033164</td>\n",
       "      <td>682613640</td>\n",
       "      <td>2339290</td>\n",
       "      <td>678983256</td>\n",
       "      <td>0.531836</td>\n",
       "      <td>0.4545</td>\n",
       "      <td>0.1599</td>\n",
       "      <td>0.3857</td>\n",
       "      <td>0.0</td>\n",
       "      <td>0.0</td>\n",
       "    </tr>\n",
       "    <tr>\n",
       "      <th>ecoli_00799</th>\n",
       "      <td>4206750</td>\n",
       "      <td>1593431</td>\n",
       "      <td>416287</td>\n",
       "      <td>97804</td>\n",
       "      <td>0</td>\n",
       "      <td>0</td>\n",
       "      <td>0</td>\n",
       "      <td>0</td>\n",
       "      <td>12376</td>\n",
       "      <td>0</td>\n",
       "      <td>...</td>\n",
       "      <td>4208394</td>\n",
       "      <td>214628094</td>\n",
       "      <td>221755</td>\n",
       "      <td>212514750</td>\n",
       "      <td>0.984654</td>\n",
       "      <td>0.0605</td>\n",
       "      <td>0.5627</td>\n",
       "      <td>0.3768</td>\n",
       "      <td>0.0</td>\n",
       "      <td>0.0</td>\n",
       "    </tr>\n",
       "    <tr>\n",
       "      <th>ecoli_00800</th>\n",
       "      <td>6136173</td>\n",
       "      <td>2135300</td>\n",
       "      <td>1522795</td>\n",
       "      <td>234165</td>\n",
       "      <td>0</td>\n",
       "      <td>0</td>\n",
       "      <td>0</td>\n",
       "      <td>0</td>\n",
       "      <td>23901</td>\n",
       "      <td>0</td>\n",
       "      <td>...</td>\n",
       "      <td>6138877</td>\n",
       "      <td>313082727</td>\n",
       "      <td>152877</td>\n",
       "      <td>310451375</td>\n",
       "      <td>0.840465</td>\n",
       "      <td>0.0507</td>\n",
       "      <td>0.4412</td>\n",
       "      <td>0.5081</td>\n",
       "      <td>0.0</td>\n",
       "      <td>0.0</td>\n",
       "    </tr>\n",
       "  </tbody>\n",
       "</table>\n",
       "<p>7 rows × 54 columns</p>\n",
       "</div>"
      ],
      "text/plain": [
       "               Total  Assigned  Unassigned_rRNA  Unassigned_Unmapped  \\\n",
       "ecoli_00151  3906008   1537833          1479914                55929   \n",
       "ecoli_00156  4833809     14785          3893423               251465   \n",
       "ecoli_00367  6409073   2396849          2999202                80540   \n",
       "ecoli_00403  4837452    809302          3361607               175788   \n",
       "ecoli_00726  9009414     31284          3668370               859929   \n",
       "ecoli_00799  4206750   1593431           416287                97804   \n",
       "ecoli_00800  6136173   2135300          1522795               234165   \n",
       "\n",
       "             Unassigned_Read_Type  Unassigned_Singleton  \\\n",
       "ecoli_00151                     0                     0   \n",
       "ecoli_00156                     0                     0   \n",
       "ecoli_00367                     0                     0   \n",
       "ecoli_00403                     0                     0   \n",
       "ecoli_00726                     0                     0   \n",
       "ecoli_00799                     0                     0   \n",
       "ecoli_00800                     0                     0   \n",
       "\n",
       "             Unassigned_MappingQuality  Unassigned_Chimera  \\\n",
       "ecoli_00151                          0                   0   \n",
       "ecoli_00156                          0                   0   \n",
       "ecoli_00367                          0                   0   \n",
       "ecoli_00403                          0                   0   \n",
       "ecoli_00726                          0                   0   \n",
       "ecoli_00799                          0                   0   \n",
       "ecoli_00800                          0                   0   \n",
       "\n",
       "             Unassigned_FragmentLength  Unassigned_Duplicate  ...  r_written  \\\n",
       "ecoli_00151                       9857                     0  ...    3922738   \n",
       "ecoli_00156                       3031                     0  ...    4841148   \n",
       "ecoli_00367                     105408                     0  ...    6415979   \n",
       "ecoli_00403                      47770                     0  ...    4846082   \n",
       "ecoli_00726                      27719                     0  ...    9033164   \n",
       "ecoli_00799                      12376                     0  ...    4208394   \n",
       "ecoli_00800                      23901                     0  ...    6138877   \n",
       "\n",
       "             bp_processed  quality_trimmed  bp_written  percent_trimmed  \\\n",
       "ecoli_00151     137295830           143152   135630362         1.213051   \n",
       "ecoli_00156     726172200          1536519   656317481         9.619580   \n",
       "ecoli_00367     256639160           564443   253273411         1.311471   \n",
       "ecoli_00403     489454282          2006772   485061325         0.897521   \n",
       "ecoli_00726     682613640          2339290   678983256         0.531836   \n",
       "ecoli_00799     214628094           221755   212514750         0.984654   \n",
       "ecoli_00800     313082727           152877   310451375         0.840465   \n",
       "\n",
       "             pe_sense  pe_antisense  failed  se_sense  se_antisense  \n",
       "ecoli_00151    0.4081        0.3212  0.2707       0.0           0.0  \n",
       "ecoli_00156    0.8505        0.0637  0.0858       0.0           0.0  \n",
       "ecoli_00367    0.0360        0.2346  0.7294       0.0           0.0  \n",
       "ecoli_00403    0.0611        0.1761  0.7627       0.0           0.0  \n",
       "ecoli_00726    0.4545        0.1599  0.3857       0.0           0.0  \n",
       "ecoli_00799    0.0605        0.5627  0.3768       0.0           0.0  \n",
       "ecoli_00800    0.0507        0.4412  0.5081       0.0           0.0  \n",
       "\n",
       "[7 rows x 54 columns]"
      ]
     },
     "execution_count": 21,
     "metadata": {},
     "output_type": "execute_result"
    }
   ],
   "source": [
    "DF_failed_mapping = DF_qc_stats[percent_alignment < min_pct_aligned]\n",
    "DF_failed_mapping"
   ]
  },
  {
   "cell_type": "code",
   "execution_count": 22,
   "metadata": {},
   "outputs": [],
   "source": [
    "DF_metadata['passed_pct_reads_mapped'] = ~DF_metadata.index.isin(DF_failed_mapping.index)"
   ]
  },
  {
   "cell_type": "markdown",
   "metadata": {},
   "source": [
    "## Number of aligned reads"
   ]
  },
  {
   "cell_type": "markdown",
   "metadata": {},
   "source": [
    "<font size=\"4\">The following histogram shows how many reads map to coding sequences (i.e. mRNA). Too few aligned reads reduces the sensitivity of the resulting data.</font>"
   ]
  },
  {
   "cell_type": "code",
   "execution_count": 23,
   "metadata": {},
   "outputs": [
    {
     "data": {
      "text/plain": [
       "500000.0"
      ]
     },
     "execution_count": 23,
     "metadata": {},
     "output_type": "execute_result"
    }
   ],
   "source": [
    "min_mrna_reads"
   ]
  },
  {
   "cell_type": "code",
   "execution_count": 24,
   "metadata": {},
   "outputs": [
    {
     "data": {
      "text/plain": [
       "Text(0.5, 1.0, 'Number of reads mapped to CDS')"
      ]
     },
     "execution_count": 24,
     "metadata": {},
     "output_type": "execute_result"
    },
    {
     "data": {
      "image/png": "[encoded data removed]",
      "text/plain": [
       "<Figure size 432x288 with 1 Axes>"
      ]
     },
     "metadata": {},
     "output_type": "display_data"
    }
   ],
   "source": [
    "fig,ax = plt.subplots()\n",
    "ax.hist(DF_qc_stats['Assigned']/1e6,bins=50,alpha=0.8)\n",
    "ymin,ymax = ax.get_ylim()\n",
    "ax.vlines(min_mrna_reads/1e6,ymin,ymax,color='r')\n",
    "ax.set_ylim((ymin,ymax))\n",
    "ax.set_xlabel('# Reads (M)',fontsize=14)\n",
    "ax.set_ylabel('# Samples',fontsize=14)\n",
    "ax.set_title('Number of reads mapped to CDS',fontsize=16)"
   ]
  },
  {
   "cell_type": "markdown",
   "metadata": {},
   "source": [
    "<font size=\"4\">Identify samples with poor read depth:</font>"
   ]
  },
  {
   "cell_type": "code",
   "execution_count": 25,
   "metadata": {},
   "outputs": [
    {
     "data": {
      "text/html": [
       "<div>\n",
       "<style scoped>\n",
       "    .dataframe tbody tr th:only-of-type {\n",
       "        vertical-align: middle;\n",
       "    }\n",
       "\n",
       "    .dataframe tbody tr th {\n",
       "        vertical-align: top;\n",
       "    }\n",
       "\n",
       "    .dataframe thead th {\n",
       "        text-align: right;\n",
       "    }\n",
       "</style>\n",
       "<table border=\"1\" class=\"dataframe\">\n",
       "  <thead>\n",
       "    <tr style=\"text-align: right;\">\n",
       "      <th></th>\n",
       "      <th>Total</th>\n",
       "      <th>Assigned</th>\n",
       "      <th>Unassigned_rRNA</th>\n",
       "      <th>Unassigned_Unmapped</th>\n",
       "      <th>Unassigned_Read_Type</th>\n",
       "      <th>Unassigned_Singleton</th>\n",
       "      <th>Unassigned_MappingQuality</th>\n",
       "      <th>Unassigned_Chimera</th>\n",
       "      <th>Unassigned_FragmentLength</th>\n",
       "      <th>Unassigned_Duplicate</th>\n",
       "      <th>...</th>\n",
       "      <th>r_written</th>\n",
       "      <th>bp_processed</th>\n",
       "      <th>quality_trimmed</th>\n",
       "      <th>bp_written</th>\n",
       "      <th>percent_trimmed</th>\n",
       "      <th>pe_sense</th>\n",
       "      <th>pe_antisense</th>\n",
       "      <th>failed</th>\n",
       "      <th>se_sense</th>\n",
       "      <th>se_antisense</th>\n",
       "    </tr>\n",
       "  </thead>\n",
       "  <tbody>\n",
       "    <tr>\n",
       "      <th>ecoli_00156</th>\n",
       "      <td>4833809</td>\n",
       "      <td>14785</td>\n",
       "      <td>3893423</td>\n",
       "      <td>251465</td>\n",
       "      <td>0</td>\n",
       "      <td>0</td>\n",
       "      <td>0</td>\n",
       "      <td>0</td>\n",
       "      <td>3031</td>\n",
       "      <td>0</td>\n",
       "      <td>...</td>\n",
       "      <td>4841148</td>\n",
       "      <td>726172200</td>\n",
       "      <td>1536519</td>\n",
       "      <td>656317481</td>\n",
       "      <td>9.619580</td>\n",
       "      <td>0.8505</td>\n",
       "      <td>0.0637</td>\n",
       "      <td>0.0858</td>\n",
       "      <td>0.0</td>\n",
       "      <td>0.0</td>\n",
       "    </tr>\n",
       "    <tr>\n",
       "      <th>ecoli_00726</th>\n",
       "      <td>9009414</td>\n",
       "      <td>31284</td>\n",
       "      <td>3668370</td>\n",
       "      <td>859929</td>\n",
       "      <td>0</td>\n",
       "      <td>0</td>\n",
       "      <td>0</td>\n",
       "      <td>0</td>\n",
       "      <td>27719</td>\n",
       "      <td>0</td>\n",
       "      <td>...</td>\n",
       "      <td>9033164</td>\n",
       "      <td>682613640</td>\n",
       "      <td>2339290</td>\n",
       "      <td>678983256</td>\n",
       "      <td>0.531836</td>\n",
       "      <td>0.4545</td>\n",
       "      <td>0.1599</td>\n",
       "      <td>0.3857</td>\n",
       "      <td>0.0</td>\n",
       "      <td>0.0</td>\n",
       "    </tr>\n",
       "  </tbody>\n",
       "</table>\n",
       "<p>2 rows × 54 columns</p>\n",
       "</div>"
      ],
      "text/plain": [
       "               Total  Assigned  Unassigned_rRNA  Unassigned_Unmapped  \\\n",
       "ecoli_00156  4833809     14785          3893423               251465   \n",
       "ecoli_00726  9009414     31284          3668370               859929   \n",
       "\n",
       "             Unassigned_Read_Type  Unassigned_Singleton  \\\n",
       "ecoli_00156                     0                     0   \n",
       "ecoli_00726                     0                     0   \n",
       "\n",
       "             Unassigned_MappingQuality  Unassigned_Chimera  \\\n",
       "ecoli_00156                          0                   0   \n",
       "ecoli_00726                          0                   0   \n",
       "\n",
       "             Unassigned_FragmentLength  Unassigned_Duplicate  ...  r_written  \\\n",
       "ecoli_00156                       3031                     0  ...    4841148   \n",
       "ecoli_00726                      27719                     0  ...    9033164   \n",
       "\n",
       "             bp_processed  quality_trimmed  bp_written  percent_trimmed  \\\n",
       "ecoli_00156     726172200          1536519   656317481         9.619580   \n",
       "ecoli_00726     682613640          2339290   678983256         0.531836   \n",
       "\n",
       "             pe_sense  pe_antisense  failed  se_sense  se_antisense  \n",
       "ecoli_00156    0.8505        0.0637  0.0858       0.0           0.0  \n",
       "ecoli_00726    0.4545        0.1599  0.3857       0.0           0.0  \n",
       "\n",
       "[2 rows x 54 columns]"
      ]
     },
     "execution_count": 25,
     "metadata": {},
     "output_type": "execute_result"
    }
   ],
   "source": [
    "DF_failed_mrna = DF_qc_stats[DF_qc_stats['Assigned'] < min_mrna_reads].sort_values('Assigned')\n",
    "DF_failed_mrna"
   ]
  },
  {
   "cell_type": "markdown",
   "metadata": {},
   "source": [
    "<font size=\"4\">Mark samples as failed.</font>"
   ]
  },
  {
   "cell_type": "code",
   "execution_count": 26,
   "metadata": {},
   "outputs": [],
   "source": [
    "DF_metadata['passed_reads_mapped_to_CDS'] = ~DF_metadata.index.isin(DF_failed_mrna.index)"
   ]
  },
  {
   "cell_type": "markdown",
   "metadata": {},
   "source": [
    "# Examine Global Correlations"
   ]
  },
  {
   "cell_type": "markdown",
   "metadata": {},
   "source": [
    "## Hierarchical Clustering"
   ]
  },
  {
   "cell_type": "markdown",
   "metadata": {},
   "source": [
    "<font size=4> A clustermap is a great way to visualize the global correlations between one sample and all others. The following code uses hierarchical clustering to identify specific clusters in the clustermap <font size=4>\n",
    "    \n",
    "<font size=4> To increase the number of clusters, decrease the value of `thresh`. To decrease the number of clusters, increase the value of `thresh` <font size=4>"
   ]
  },
  {
   "cell_type": "code",
   "execution_count": 27,
   "metadata": {},
   "outputs": [
    {
     "name": "stdout",
     "output_type": "stream",
     "text": [
      "Number of cluster:  3\n"
     ]
    }
   ],
   "source": [
    "import scipy.cluster.hierarchy as sch\n",
    "import matplotlib.patches as patches\n",
    "# change this to get different number of clusters\n",
    "thresh = .3\n",
    "\n",
    "# retrieve clusters using fcluster \n",
    "corr = DF_log_tpm.corr()\n",
    "corr.fillna(0,inplace=True)\n",
    "dist = sch.distance.pdist(corr)\n",
    "link = sch.linkage(dist, method='complete')\n",
    "clst = pd.DataFrame(index=DF_log_tpm.columns)\n",
    "clst['cluster'] = sch.fcluster(link, thresh * dist.max(), 'distance')\n",
    "\n",
    "#get colors for each cluster\n",
    "cm = plt.cm.get_cmap('tab20')\n",
    "clr = dict(zip(clst.cluster.unique(), cm.colors))\n",
    "clst['color'] = clst.cluster.map(clr)\n",
    "\n",
    "print('Number of cluster: ', len(clr))"
   ]
  },
  {
   "cell_type": "markdown",
   "metadata": {},
   "source": [
    "<font size=\"4\">To view sample IDs in the clustermap, set `xticklabels` and `yticklabels` to `True`. You can increase the `size` variable to improve readability of sample IDs<font>"
   ]
  },
  {
   "cell_type": "code",
   "execution_count": 28,
   "metadata": {
    "scrolled": false
   },
   "outputs": [
    {
     "data": {
      "image/png": "[encoded data removed]",
      "text/plain": [
       "<Figure size 648x648 with 5 Axes>"
      ]
     },
     "metadata": {},
     "output_type": "display_data"
    }
   ],
   "source": [
    "size = 9\n",
    "\n",
    "legend_TN = [patches.Patch(color=c, label=l) for l,c in clr.items()]\n",
    "\n",
    "sns.set(rc={'figure.facecolor':'white'})\n",
    "g = sns.clustermap(DF_log_tpm.corr(), figsize=(size,size), \n",
    "                   row_linkage=link, col_linkage=link, col_colors=clst.color,\n",
    "                  yticklabels=False, xticklabels=False)\n",
    "\n",
    "l2=g.ax_heatmap.legend(loc='upper left', bbox_to_anchor=(1.01,0.85), handles=legend_TN,frameon=True)\n",
    "l2.set_title(title='Clusters',prop={'size':10})"
   ]
  },
  {
   "cell_type": "markdown",
   "metadata": {},
   "source": [
    "<font size=\"4\">Select clusters to remove.</font>"
   ]
  },
  {
   "cell_type": "code",
   "execution_count": 29,
   "metadata": {},
   "outputs": [],
   "source": [
    "#indicate which clusters you want to remove\n",
    "remove_clst = [2,3]\n",
    "failed_global_corr = clst[clst.cluster.isin(remove_clst)].index"
   ]
  },
  {
   "cell_type": "code",
   "execution_count": 30,
   "metadata": {},
   "outputs": [
    {
     "data": {
      "text/html": [
       "<div>\n",
       "<style scoped>\n",
       "    .dataframe tbody tr th:only-of-type {\n",
       "        vertical-align: middle;\n",
       "    }\n",
       "\n",
       "    .dataframe tbody tr th {\n",
       "        vertical-align: top;\n",
       "    }\n",
       "\n",
       "    .dataframe thead th {\n",
       "        text-align: right;\n",
       "    }\n",
       "</style>\n",
       "<table border=\"1\" class=\"dataframe\">\n",
       "  <thead>\n",
       "    <tr style=\"text-align: right;\">\n",
       "      <th></th>\n",
       "      <th>cluster</th>\n",
       "      <th>color</th>\n",
       "    </tr>\n",
       "  </thead>\n",
       "  <tbody>\n",
       "    <tr>\n",
       "      <th>ecoli_00156</th>\n",
       "      <td>2</td>\n",
       "      <td>(0.6823529411764706, 0.7803921568627451, 0.909...</td>\n",
       "    </tr>\n",
       "    <tr>\n",
       "      <th>ecoli_00726</th>\n",
       "      <td>3</td>\n",
       "      <td>(1.0, 0.4980392156862745, 0.054901960784313725)</td>\n",
       "    </tr>\n",
       "  </tbody>\n",
       "</table>\n",
       "</div>"
      ],
      "text/plain": [
       "             cluster                                              color\n",
       "ecoli_00156        2  (0.6823529411764706, 0.7803921568627451, 0.909...\n",
       "ecoli_00726        3    (1.0, 0.4980392156862745, 0.054901960784313725)"
      ]
     },
     "execution_count": 30,
     "metadata": {},
     "output_type": "execute_result"
    }
   ],
   "source": [
    "clst[clst.cluster.isin(remove_clst)]"
   ]
  },
  {
   "cell_type": "code",
   "execution_count": 31,
   "metadata": {},
   "outputs": [],
   "source": [
    "DF_metadata['passed_global_correlation'] = ~DF_metadata.index.isin(failed_global_corr)"
   ]
  },
  {
   "cell_type": "code",
   "execution_count": 32,
   "metadata": {},
   "outputs": [
    {
     "data": {
      "text/html": [
       "<div>\n",
       "<style scoped>\n",
       "    .dataframe tbody tr th:only-of-type {\n",
       "        vertical-align: middle;\n",
       "    }\n",
       "\n",
       "    .dataframe tbody tr th {\n",
       "        vertical-align: top;\n",
       "    }\n",
       "\n",
       "    .dataframe thead th {\n",
       "        text-align: right;\n",
       "    }\n",
       "</style>\n",
       "<table border=\"1\" class=\"dataframe\">\n",
       "  <thead>\n",
       "    <tr style=\"text-align: right;\">\n",
       "      <th></th>\n",
       "      <th>sample_id</th>\n",
       "      <th>study</th>\n",
       "      <th>project_id</th>\n",
       "      <th>condition_id</th>\n",
       "      <th>rep_id</th>\n",
       "      <th>contact</th>\n",
       "      <th>creator</th>\n",
       "      <th>run_date</th>\n",
       "      <th>Strain Description</th>\n",
       "      <th>Strain</th>\n",
       "      <th>...</th>\n",
       "      <th>Published</th>\n",
       "      <th>SRX</th>\n",
       "      <th>Run</th>\n",
       "      <th>Notes</th>\n",
       "      <th>LibraryLayout</th>\n",
       "      <th>Platform</th>\n",
       "      <th>passed_fastqc</th>\n",
       "      <th>passed_pct_reads_mapped</th>\n",
       "      <th>passed_reads_mapped_to_CDS</th>\n",
       "      <th>passed_global_correlation</th>\n",
       "    </tr>\n",
       "  </thead>\n",
       "  <tbody>\n",
       "    <tr>\n",
       "      <th>ecoli_00001</th>\n",
       "      <td>control__wt_glc__1</td>\n",
       "      <td>Control</td>\n",
       "      <td>control</td>\n",
       "      <td>wt_glc</td>\n",
       "      <td>1</td>\n",
       "      <td>Sangwoo Seo</td>\n",
       "      <td>Sangwoo Seo</td>\n",
       "      <td>4/17/13</td>\n",
       "      <td>Escherichia coli K-12 MG1655</td>\n",
       "      <td>MG1655</td>\n",
       "      <td>...</td>\n",
       "      <td>1.0</td>\n",
       "      <td>SRX865357</td>\n",
       "      <td>SRR1787590</td>\n",
       "      <td>NaN</td>\n",
       "      <td>PAIRED</td>\n",
       "      <td>ILLUMINA</td>\n",
       "      <td>True</td>\n",
       "      <td>True</td>\n",
       "      <td>True</td>\n",
       "      <td>True</td>\n",
       "    </tr>\n",
       "    <tr>\n",
       "      <th>ecoli_00002</th>\n",
       "      <td>control__wt_glc__2</td>\n",
       "      <td>Control</td>\n",
       "      <td>control</td>\n",
       "      <td>wt_glc</td>\n",
       "      <td>2</td>\n",
       "      <td>Sangwoo Seo</td>\n",
       "      <td>Sangwoo Seo</td>\n",
       "      <td>4/17/13</td>\n",
       "      <td>Escherichia coli K-12 MG1655</td>\n",
       "      <td>MG1655</td>\n",
       "      <td>...</td>\n",
       "      <td>1.0</td>\n",
       "      <td>SRX865358</td>\n",
       "      <td>SRR1787591</td>\n",
       "      <td>NaN</td>\n",
       "      <td>PAIRED</td>\n",
       "      <td>ILLUMINA</td>\n",
       "      <td>True</td>\n",
       "      <td>True</td>\n",
       "      <td>True</td>\n",
       "      <td>True</td>\n",
       "    </tr>\n",
       "    <tr>\n",
       "      <th>ecoli_00003</th>\n",
       "      <td>fur__wt_dpd__1</td>\n",
       "      <td>Fur</td>\n",
       "      <td>fur</td>\n",
       "      <td>wt_dpd</td>\n",
       "      <td>1</td>\n",
       "      <td>Sangwoo Seo</td>\n",
       "      <td>Sangwoo Seo</td>\n",
       "      <td>10/2/13</td>\n",
       "      <td>Escherichia coli K-12 MG1655</td>\n",
       "      <td>MG1655</td>\n",
       "      <td>...</td>\n",
       "      <td>1.0</td>\n",
       "      <td>SRX469840</td>\n",
       "      <td>SRR1168135</td>\n",
       "      <td>NaN</td>\n",
       "      <td>PAIRED</td>\n",
       "      <td>ILLUMINA</td>\n",
       "      <td>True</td>\n",
       "      <td>True</td>\n",
       "      <td>True</td>\n",
       "      <td>True</td>\n",
       "    </tr>\n",
       "    <tr>\n",
       "      <th>ecoli_00004</th>\n",
       "      <td>fur__wt_dpd__2</td>\n",
       "      <td>Fur</td>\n",
       "      <td>fur</td>\n",
       "      <td>wt_dpd</td>\n",
       "      <td>2</td>\n",
       "      <td>Sangwoo Seo</td>\n",
       "      <td>Sangwoo Seo</td>\n",
       "      <td>10/2/13</td>\n",
       "      <td>Escherichia coli K-12 MG1655</td>\n",
       "      <td>MG1655</td>\n",
       "      <td>...</td>\n",
       "      <td>1.0</td>\n",
       "      <td>SRX469841</td>\n",
       "      <td>SRR1168136</td>\n",
       "      <td>NaN</td>\n",
       "      <td>PAIRED</td>\n",
       "      <td>ILLUMINA</td>\n",
       "      <td>True</td>\n",
       "      <td>True</td>\n",
       "      <td>True</td>\n",
       "      <td>True</td>\n",
       "    </tr>\n",
       "    <tr>\n",
       "      <th>ecoli_00005</th>\n",
       "      <td>fur__wt_fe__1</td>\n",
       "      <td>Fur</td>\n",
       "      <td>fur</td>\n",
       "      <td>wt_fe</td>\n",
       "      <td>1</td>\n",
       "      <td>Sangwoo Seo</td>\n",
       "      <td>Sangwoo Seo</td>\n",
       "      <td>9/5/13</td>\n",
       "      <td>Escherichia coli K-12 MG1655</td>\n",
       "      <td>MG1655</td>\n",
       "      <td>...</td>\n",
       "      <td>1.0</td>\n",
       "      <td>SRX469838</td>\n",
       "      <td>SRR1168133</td>\n",
       "      <td>NaN</td>\n",
       "      <td>PAIRED</td>\n",
       "      <td>ILLUMINA</td>\n",
       "      <td>True</td>\n",
       "      <td>True</td>\n",
       "      <td>True</td>\n",
       "      <td>True</td>\n",
       "    </tr>\n",
       "  </tbody>\n",
       "</table>\n",
       "<p>5 rows × 42 columns</p>\n",
       "</div>"
      ],
      "text/plain": [
       "                      sample_id    study project_id condition_id  rep_id  \\\n",
       "ecoli_00001  control__wt_glc__1  Control    control       wt_glc       1   \n",
       "ecoli_00002  control__wt_glc__2  Control    control       wt_glc       2   \n",
       "ecoli_00003      fur__wt_dpd__1      Fur        fur       wt_dpd       1   \n",
       "ecoli_00004      fur__wt_dpd__2      Fur        fur       wt_dpd       2   \n",
       "ecoli_00005       fur__wt_fe__1      Fur        fur        wt_fe       1   \n",
       "\n",
       "                 contact      creator run_date            Strain Description  \\\n",
       "ecoli_00001  Sangwoo Seo  Sangwoo Seo  4/17/13  Escherichia coli K-12 MG1655   \n",
       "ecoli_00002  Sangwoo Seo  Sangwoo Seo  4/17/13  Escherichia coli K-12 MG1655   \n",
       "ecoli_00003  Sangwoo Seo  Sangwoo Seo  10/2/13  Escherichia coli K-12 MG1655   \n",
       "ecoli_00004  Sangwoo Seo  Sangwoo Seo  10/2/13  Escherichia coli K-12 MG1655   \n",
       "ecoli_00005  Sangwoo Seo  Sangwoo Seo   9/5/13  Escherichia coli K-12 MG1655   \n",
       "\n",
       "             Strain  ... Published        SRX         Run Notes LibraryLayout  \\\n",
       "ecoli_00001  MG1655  ...       1.0  SRX865357  SRR1787590   NaN        PAIRED   \n",
       "ecoli_00002  MG1655  ...       1.0  SRX865358  SRR1787591   NaN        PAIRED   \n",
       "ecoli_00003  MG1655  ...       1.0  SRX469840  SRR1168135   NaN        PAIRED   \n",
       "ecoli_00004  MG1655  ...       1.0  SRX469841  SRR1168136   NaN        PAIRED   \n",
       "ecoli_00005  MG1655  ...       1.0  SRX469838  SRR1168133   NaN        PAIRED   \n",
       "\n",
       "             Platform  passed_fastqc  passed_pct_reads_mapped  \\\n",
       "ecoli_00001  ILLUMINA           True                     True   \n",
       "ecoli_00002  ILLUMINA           True                     True   \n",
       "ecoli_00003  ILLUMINA           True                     True   \n",
       "ecoli_00004  ILLUMINA           True                     True   \n",
       "ecoli_00005  ILLUMINA           True                     True   \n",
       "\n",
       "            passed_reads_mapped_to_CDS passed_global_correlation  \n",
       "ecoli_00001                       True                      True  \n",
       "ecoli_00002                       True                      True  \n",
       "ecoli_00003                       True                      True  \n",
       "ecoli_00004                       True                      True  \n",
       "ecoli_00005                       True                      True  \n",
       "\n",
       "[5 rows x 42 columns]"
      ]
     },
     "execution_count": 32,
     "metadata": {},
     "output_type": "execute_result"
    }
   ],
   "source": [
    "DF_metadata.head()"
   ]
  },
  {
   "cell_type": "markdown",
   "metadata": {},
   "source": [
    "# Remove failed samples"
   ]
  },
  {
   "cell_type": "code",
   "execution_count": 33,
   "metadata": {},
   "outputs": [],
   "source": [
    "qc_columns = ['passed_fastqc',\n",
    "              'passed_reads_mapped_to_CDS',\n",
    "              'passed_global_correlation']"
   ]
  },
  {
   "cell_type": "code",
   "execution_count": 34,
   "metadata": {},
   "outputs": [],
   "source": [
    "pass_qc = DF_metadata[qc_columns].all(axis=1)\n",
    "DF_metadata_passed = DF_metadata[pass_qc]"
   ]
  },
  {
   "cell_type": "code",
   "execution_count": 35,
   "metadata": {},
   "outputs": [
    {
     "data": {
      "image/png": "[encoded data removed]",
      "text/plain": [
       "<Figure size 432x288 with 1 Axes>"
      ]
     },
     "metadata": {},
     "output_type": "display_data"
    }
   ],
   "source": [
    "_,_,pcts = plt.pie(pass_qc.value_counts().sort_values(),\n",
    "        labels = ['Failed','Passed'],\n",
    "        colors=['tab:red','tab:blue'],\n",
    "        autopct='%.0f%%',textprops={'size':16});\n",
    "\n",
    "# Colors percents white\n",
    "for pct in pcts:\n",
    "    pct.set_color('white')"
   ]
  },
  {
   "cell_type": "markdown",
   "metadata": {},
   "source": [
    "# Metadata Curation"
   ]
  },
  {
   "cell_type": "markdown",
   "metadata": {},
   "source": [
    "<font size=4>The following sections can only be run after metadata curation is complete. To enable metadata curation, the code in this section sorts data by BioProject. </font>"
   ]
  },
  {
   "cell_type": "markdown",
   "metadata": {},
   "source": [
    "## BioProject counts of passing metadata"
   ]
  },
  {
   "cell_type": "code",
   "execution_count": 1,
   "metadata": {
    "scrolled": true
   },
   "outputs": [
    {
     "ename": "NameError",
     "evalue": "name 'DF_metadata_passed' is not defined",
     "output_type": "error",
     "traceback": [
      "\u001b[0;31m---------------------------------------------------------------------------\u001b[0m",
      "\u001b[0;31mNameError\u001b[0m                                 Traceback (most recent call last)",
      "\u001b[0;32m<ipython-input-1-2990ba561739>\u001b[0m in \u001b[0;36m<module>\u001b[0;34m\u001b[0m\n\u001b[0;32m----> 1\u001b[0;31m \u001b[0mprint\u001b[0m\u001b[0;34m(\u001b[0m\u001b[0mlen\u001b[0m\u001b[0;34m(\u001b[0m\u001b[0mDF_metadata_passed\u001b[0m\u001b[0;34m)\u001b[0m\u001b[0;34m)\u001b[0m\u001b[0;34m\u001b[0m\u001b[0;34m\u001b[0m\u001b[0m\n\u001b[0m\u001b[1;32m      2\u001b[0m \u001b[0mDF_metadata_passed\u001b[0m\u001b[0;34m.\u001b[0m\u001b[0mproject_id\u001b[0m\u001b[0;34m.\u001b[0m\u001b[0mvalue_counts\u001b[0m\u001b[0;34m(\u001b[0m\u001b[0;34m)\u001b[0m\u001b[0;34m.\u001b[0m\u001b[0msort_values\u001b[0m\u001b[0;34m(\u001b[0m\u001b[0mascending\u001b[0m\u001b[0;34m=\u001b[0m\u001b[0;32mFalse\u001b[0m\u001b[0;34m)\u001b[0m\u001b[0;34m\u001b[0m\u001b[0;34m\u001b[0m\u001b[0m\n",
      "\u001b[0;31mNameError\u001b[0m: name 'DF_metadata_passed' is not defined"
     ]
    }
   ],
   "source": [
    "print(len(DF_metadata_passed))\n",
    "DF_metadata_passed.project_id.value_counts().sort_values(ascending=False)"
   ]
  },
  {
   "cell_type": "markdown",
   "metadata": {},
   "source": [
    "## BioProject counts of all metadata"
   ]
  },
  {
   "cell_type": "code",
   "execution_count": 37,
   "metadata": {},
   "outputs": [
    {
     "name": "stdout",
     "output_type": "stream",
     "text": [
      "820\n"
     ]
    },
    {
     "data": {
      "text/plain": [
       "ros_tale     105\n",
       "pcoli         94\n",
       "tcs           62\n",
       "hot_tale      54\n",
       "ica           30\n",
       "abx_media     30\n",
       "ytf           28\n",
       "oxyR          24\n",
       "pal           22\n",
       "quinone       22\n",
       "acid_tale     20\n",
       "crp           20\n",
       "ssw           19\n",
       "cck_pgi       19\n",
       "efeU          16\n",
       "svns_pgi      16\n",
       "omics         14\n",
       "ytf2          14\n",
       "minspan       14\n",
       "fps           14\n",
       "nac_ntrc      14\n",
       "rpoB          13\n",
       "misc2         12\n",
       "ytf3          12\n",
       "nquinone      12\n",
       "cck_tpiA      10\n",
       "42c           10\n",
       "cck_pts       10\n",
       "cra_crp       10\n",
       "misc           9\n",
       "acid           8\n",
       "cck_gnd        8\n",
       "cck_sdh        8\n",
       "pdhr_ale       8\n",
       "oxidative      8\n",
       "fur            8\n",
       "glu            7\n",
       "cck            6\n",
       "ompr           4\n",
       "adnB           4\n",
       "control        2\n",
       "Name: project_id, dtype: int64"
      ]
     },
     "execution_count": 37,
     "metadata": {},
     "output_type": "execute_result"
    }
   ],
   "source": [
    "print(len(DF_metadata))\n",
    "DF_metadata.project_id.value_counts().sort_values(ascending=False)"
   ]
  },
  {
   "cell_type": "code",
   "execution_count": 38,
   "metadata": {},
   "outputs": [],
   "source": [
    "# Store Failed Samples for analysis\n",
    "\n",
    "DF_metadata_fail_step1 = DF_metadata.loc[DF_metadata.index.difference(DF_metadata_passed.index), :]\n",
    "\n",
    "DF_metadata_fail_step1.to_csv(data_dir+'metadata_failed_QC_step1_featureCounts.tsv', sep = \"\\t\")\n",
    "\n",
    "# Create copy here for part 2 \n",
    "DF_metadata_passed_step1 = DF_metadata_passed.copy()"
   ]
  },
  {
   "cell_type": "markdown",
   "metadata": {},
   "source": [
    "## Compute Pearson R Score"
   ]
  },
  {
   "cell_type": "markdown",
   "metadata": {},
   "source": [
    "<font size=\"4\">Once you have updated your metadata files with the sample information, we can investigate correlations between biological replicates. We require biological replicates to have a Pearson R correlation above 0.95. </font>"
   ]
  },
  {
   "cell_type": "code",
   "execution_count": 39,
   "metadata": {},
   "outputs": [],
   "source": [
    "from tqdm import tqdm_notebook as tqdm\n",
    "import itertools\n",
    "from scipy import stats"
   ]
  },
  {
   "cell_type": "code",
   "execution_count": 40,
   "metadata": {},
   "outputs": [
    {
     "name": "stderr",
     "output_type": "stream",
     "text": [
      "/home/katherine/anaconda3/lib/python3.7/site-packages/ipykernel_launcher.py:1: SettingWithCopyWarning: \n",
      "A value is trying to be set on a copy of a slice from a DataFrame.\n",
      "Try using .loc[row_indexer,col_indexer] = value instead\n",
      "\n",
      "See the caveats in the documentation: https://pandas.pydata.org/pandas-docs/stable/user_guide/indexing.html#returning-a-view-versus-a-copy\n",
      "  \"\"\"Entry point for launching an IPython kernel.\n"
     ]
    }
   ],
   "source": [
    "DF_metadata_passed['full_name'] = DF_metadata_passed.loc[:,'project_id'].str.cat(DF_metadata_passed.loc[:,'condition_id'],sep=':')"
   ]
  },
  {
   "cell_type": "code",
   "execution_count": 41,
   "metadata": {},
   "outputs": [
    {
     "name": "stderr",
     "output_type": "stream",
     "text": [
      "/home/katherine/anaconda3/lib/python3.7/site-packages/ipykernel_launcher.py:5: TqdmDeprecationWarning: This function will be removed in tqdm==5.0.0\n",
      "Please use `tqdm.notebook.tqdm` instead of `tqdm.tqdm_notebook`\n",
      "  \"\"\"\n"
     ]
    },
    {
     "data": {
      "application/vnd.jupyter.widget-view+json": {
       "model_id": "2f5abbafa88e4232b0efb2d224cf1089",
       "version_major": 2,
       "version_minor": 0
      },
      "text/plain": [
       "HBox(children=(FloatProgress(value=0.0, max=331705.0), HTML(value='')))"
      ]
     },
     "metadata": {},
     "output_type": "display_data"
    },
    {
     "name": "stdout",
     "output_type": "stream",
     "text": [
      "\n"
     ]
    }
   ],
   "source": [
    "rep_corrs = {}\n",
    "rand_corrs = {}\n",
    "\n",
    "num_comparisons = len(DF_metadata_passed)*(len(DF_metadata_passed)-1)/2\n",
    "for exp1,exp2 in tqdm(itertools.combinations(DF_metadata_passed.index,2),total=num_comparisons):\n",
    "    if DF_metadata_passed.loc[exp1,'full_name'] == DF_metadata_passed.loc[exp2,'full_name']:\n",
    "        rep_corrs[(exp1,exp2)] = stats.pearsonr(DF_log_tpm[exp1],DF_log_tpm[exp2])[0]\n",
    "    else:\n",
    "        rand_corrs[(exp1,exp2)] = stats.pearsonr(DF_log_tpm[exp1],DF_log_tpm[exp2])[0]"
   ]
  },
  {
   "cell_type": "code",
   "execution_count": 42,
   "metadata": {},
   "outputs": [],
   "source": [
    "sns.set_style('ticks')"
   ]
  },
  {
   "cell_type": "code",
   "execution_count": 43,
   "metadata": {},
   "outputs": [
    {
     "name": "stdout",
     "output_type": "stream",
     "text": [
      "Median Pearson R between replicates: 0.99\n"
     ]
    },
    {
     "data": {
      "image/png": "[encoded data removed]",
      "text/plain": [
       "<Figure size 360x360 with 2 Axes>"
      ]
     },
     "metadata": {},
     "output_type": "display_data"
    }
   ],
   "source": [
    "fig,ax = plt.subplots(figsize=(5,5))\n",
    "ax2 = ax.twinx()\n",
    "ax2.hist(rep_corrs.values(),bins=50,range=(0.2,1),alpha=0.8,color='green',linewidth=0)\n",
    "ax.hist(rand_corrs.values(),bins=50,range=(0.2,1),alpha=0.8,color='blue',linewidth=0)\n",
    "ax.set_title('Pearson R correlation between experiments',fontsize=14)\n",
    "ax.set_xlabel('Pearson R correlation',fontsize=14)\n",
    "ax.set_ylabel('Different Conditions',fontsize=14)\n",
    "ax2.set_ylabel('Known Replicates',fontsize=14)\n",
    "\n",
    "med_corr = np.median([v for k,v in rep_corrs.items()])\n",
    "print('Median Pearson R between replicates: {:.2f}'.format(med_corr))"
   ]
  },
  {
   "cell_type": "code",
   "execution_count": 44,
   "metadata": {},
   "outputs": [
    {
     "name": "stdout",
     "output_type": "stream",
     "text": [
      "Most dissimilar replicates:\n"
     ]
    },
    {
     "name": "stderr",
     "output_type": "stream",
     "text": [
      "/home/katherine/anaconda3/lib/python3.7/site-packages/ipykernel_launcher.py:8: SettingWithCopyWarning: \n",
      "A value is trying to be set on a copy of a slice from a DataFrame.\n",
      "Try using .loc[row_indexer,col_indexer] = value instead\n",
      "\n",
      "See the caveats in the documentation: https://pandas.pydata.org/pandas-docs/stable/user_guide/indexing.html#returning-a-view-versus-a-copy\n",
      "  \n"
     ]
    }
   ],
   "source": [
    "dissimilar = []\n",
    "print('Most dissimilar replicates:')\n",
    "for x in [(k,v) for k,v in rep_corrs.items() if v < 0.9]: #adjusted to be 0.9\n",
    "    print(x)\n",
    "    dissimilar.append(x[0][0])\n",
    "    dissimilar.append(x[0][1])\n",
    "dissimilar = set(dissimilar)\n",
    "DF_metadata_passed['passed_similar_replicates'] = ~DF_metadata_passed.index.isin(dissimilar) #Changed condition ID to index"
   ]
  },
  {
   "cell_type": "markdown",
   "metadata": {},
   "source": [
    "# Correlations between replicates"
   ]
  },
  {
   "cell_type": "code",
   "execution_count": 45,
   "metadata": {},
   "outputs": [],
   "source": [
    "DF_metadata_passed_input = DF_metadata_passed[DF_metadata_passed['passed_similar_replicates']]"
   ]
  },
  {
   "cell_type": "markdown",
   "metadata": {},
   "source": [
    "<font size=4> First, get a full sample name </font>"
   ]
  },
  {
   "cell_type": "code",
   "execution_count": 46,
   "metadata": {},
   "outputs": [],
   "source": [
    "# Turn off pesky warning\n",
    "pd.set_option('mode.chained_assignment', None)"
   ]
  },
  {
   "cell_type": "code",
   "execution_count": 47,
   "metadata": {},
   "outputs": [
    {
     "name": "stdout",
     "output_type": "stream",
     "text": [
      "49\n"
     ]
    },
    {
     "data": {
      "text/plain": [
       "Index(['glc_xyl_glc', 'glu_ale5', 'delgadx_ph5', 'wt_031', 'wt_42c',\n",
       "       '42c_ale3', 'bw_delmntr', 'xyl_ale3', '42c_ale1', 'glyc_ale1',\n",
       "       'bw_delcra_trp', 'nitr_031', 'glu_ale3', '42c_ale2', 'glc_ale2',\n",
       "       'lyx_ale2_f6', 'glc_glyc_glc', '42c_ale5', 'wt_ade', 'glyc_ale2',\n",
       "       '42c_ale8', 'sdh_ale2', 'glc_glyc_glyc', 'glu_ale8', 'wt_xyl',\n",
       "       'xyl_ale2', 'glc_ale1', '42c_ale6', 'rpoBE546V_031', 'bw_delnac_ade',\n",
       "       '42c_ale9', 'glc_xyl_xyl', 'pgi_ale2', 'wt_trp', 'bw_delnac_glc',\n",
       "       'xyl_ale1', 'rpoBE546V_044', 'wt_044', 'bw_delcra_glc', '42c_ale4',\n",
       "       'glu_ale6', 'glu_ale9', 'glc_ac_glc1', 'glc_ac_ac2', 'glc_ale3',\n",
       "       'glu_ale10', '5drib_ale10', 'rpoBE546V_glc', '42c_ale10'],\n",
       "      dtype='object')"
      ]
     },
     "execution_count": 47,
     "metadata": {},
     "output_type": "execute_result"
    }
   ],
   "source": [
    "# Drop Samples with no replicates\n",
    "cond_counts = DF_metadata_passed_input.condition_id.value_counts()\n",
    "drop_conds = cond_counts[cond_counts < 2].index\n",
    "print(len(drop_conds))\n",
    "drop_conds"
   ]
  },
  {
   "cell_type": "code",
   "execution_count": 48,
   "metadata": {},
   "outputs": [],
   "source": [
    "DF_metadata_passed['passed_number_replicates'] = ~DF_metadata_passed.condition_id.isin(drop_conds)"
   ]
  },
  {
   "cell_type": "markdown",
   "metadata": {},
   "source": [
    "# Remove failed samples"
   ]
  },
  {
   "cell_type": "code",
   "execution_count": 49,
   "metadata": {},
   "outputs": [],
   "source": [
    "qc_columns = ['passed_similar_replicates']"
   ]
  },
  {
   "cell_type": "code",
   "execution_count": 50,
   "metadata": {},
   "outputs": [],
   "source": [
    "DF_metadata_final = DF_metadata_passed[DF_metadata_passed[qc_columns].all(axis=1)]"
   ]
  },
  {
   "cell_type": "markdown",
   "metadata": {},
   "source": [
    "We've determined that the putrescine project has serious issues, let's drop it entirely here:"
   ]
  },
  {
   "cell_type": "code",
   "execution_count": 51,
   "metadata": {},
   "outputs": [],
   "source": [
    "DF_metadata_final = DF_metadata_final[DF_metadata_final['project_id'] != 'ptrc_reg']"
   ]
  },
  {
   "cell_type": "code",
   "execution_count": 52,
   "metadata": {},
   "outputs": [
    {
     "data": {
      "text/plain": [
       "(815, 45)"
      ]
     },
     "execution_count": 52,
     "metadata": {},
     "output_type": "execute_result"
    }
   ],
   "source": [
    "DF_metadata_final.shape"
   ]
  },
  {
   "cell_type": "code",
   "execution_count": 53,
   "metadata": {},
   "outputs": [],
   "source": [
    "DF_log_tpm_final = DF_log_tpm[DF_metadata_final.index]"
   ]
  },
  {
   "cell_type": "markdown",
   "metadata": {},
   "source": [
    "### Failed Samples analysis - part 2"
   ]
  },
  {
   "cell_type": "code",
   "execution_count": 54,
   "metadata": {},
   "outputs": [],
   "source": [
    "# Store Failed Samples for analysis\n",
    "\n",
    "DF_metadata_fail_step2 = DF_metadata_passed.loc[DF_metadata_passed_step1.index.difference(DF_metadata_final.index), :]\n",
    "\n",
    "DF_metadata_fail_step2.to_csv('meta_data_failed_QC_step2_featureCounts.tsv', sep = \"\\t\")"
   ]
  },
  {
   "cell_type": "code",
   "execution_count": 55,
   "metadata": {},
   "outputs": [
    {
     "data": {
      "image/png": "[encoded data removed]",
      "text/plain": [
       "<Figure size 432x288 with 1 Axes>"
      ]
     },
     "metadata": {},
     "output_type": "display_data"
    }
   ],
   "source": [
    "_,_,pcts = plt.pie([len(DF_metadata_fail_step2), len(DF_metadata)],\n",
    "        labels = ['Failed','Passed'],\n",
    "        colors=['tab:red','tab:blue'],\n",
    "        autopct='%.0f%%',textprops={'size':16});\n",
    "\n",
    "# Colors percents white\n",
    "for pct in pcts:\n",
    "    pct.set_color('white')"
   ]
  },
  {
   "cell_type": "code",
   "execution_count": 56,
   "metadata": {},
   "outputs": [
    {
     "name": "stdout",
     "output_type": "stream",
     "text": [
      "0\n"
     ]
    },
    {
     "data": {
      "text/plain": [
       "Series([], Name: project_id, dtype: int64)"
      ]
     },
     "execution_count": 56,
     "metadata": {},
     "output_type": "execute_result"
    }
   ],
   "source": [
    "print(len(DF_metadata_fail_step2))\n",
    "\n",
    "DF_metadata_fail_step2.project_id.value_counts().sort_values(ascending=False)"
   ]
  },
  {
   "cell_type": "code",
   "execution_count": 57,
   "metadata": {},
   "outputs": [],
   "source": [
    "# All Failed\n",
    "\n",
    "DF_metadata_fail_total = pd.concat([DF_metadata_fail_step1, DF_metadata_fail_step2])\n",
    "\n",
    "DF_metadata_fail_total.to_csv('meta_data_failed_QC_total_featureCounts.tsv', sep = \"\\t\")"
   ]
  },
  {
   "cell_type": "markdown",
   "metadata": {},
   "source": [
    "# Remove Small Genes and low FPM\n",
    "(<100nt)"
   ]
  },
  {
   "cell_type": "code",
   "execution_count": 58,
   "metadata": {},
   "outputs": [
    {
     "data": {
      "text/html": [
       "<div>\n",
       "<style scoped>\n",
       "    .dataframe tbody tr th:only-of-type {\n",
       "        vertical-align: middle;\n",
       "    }\n",
       "\n",
       "    .dataframe tbody tr th {\n",
       "        vertical-align: top;\n",
       "    }\n",
       "\n",
       "    .dataframe thead th {\n",
       "        text-align: right;\n",
       "    }\n",
       "</style>\n",
       "<table border=\"1\" class=\"dataframe\">\n",
       "  <thead>\n",
       "    <tr style=\"text-align: right;\">\n",
       "      <th></th>\n",
       "      <th>ecoli_00001</th>\n",
       "      <th>ecoli_00002</th>\n",
       "      <th>ecoli_00003</th>\n",
       "      <th>ecoli_00004</th>\n",
       "      <th>ecoli_00005</th>\n",
       "      <th>ecoli_00006</th>\n",
       "      <th>ecoli_00007</th>\n",
       "      <th>ecoli_00008</th>\n",
       "      <th>ecoli_00009</th>\n",
       "      <th>ecoli_00010</th>\n",
       "      <th>...</th>\n",
       "      <th>ecoli_00836</th>\n",
       "      <th>ecoli_00837</th>\n",
       "      <th>ecoli_00838</th>\n",
       "      <th>ecoli_00839</th>\n",
       "      <th>ecoli_00840</th>\n",
       "      <th>ecoli_00841</th>\n",
       "      <th>ecoli_00842</th>\n",
       "      <th>ecoli_00843</th>\n",
       "      <th>ecoli_00844</th>\n",
       "      <th>ecoli_00845</th>\n",
       "    </tr>\n",
       "    <tr>\n",
       "      <th>Geneid</th>\n",
       "      <th></th>\n",
       "      <th></th>\n",
       "      <th></th>\n",
       "      <th></th>\n",
       "      <th></th>\n",
       "      <th></th>\n",
       "      <th></th>\n",
       "      <th></th>\n",
       "      <th></th>\n",
       "      <th></th>\n",
       "      <th></th>\n",
       "      <th></th>\n",
       "      <th></th>\n",
       "      <th></th>\n",
       "      <th></th>\n",
       "      <th></th>\n",
       "      <th></th>\n",
       "      <th></th>\n",
       "      <th></th>\n",
       "      <th></th>\n",
       "      <th></th>\n",
       "    </tr>\n",
       "  </thead>\n",
       "  <tbody>\n",
       "    <tr>\n",
       "      <th>b0001</th>\n",
       "      <td>10.473721</td>\n",
       "      <td>10.271944</td>\n",
       "      <td>6.238716</td>\n",
       "      <td>6.608164</td>\n",
       "      <td>9.864757</td>\n",
       "      <td>10.307057</td>\n",
       "      <td>5.566341</td>\n",
       "      <td>6.535879</td>\n",
       "      <td>10.315476</td>\n",
       "      <td>10.808135</td>\n",
       "      <td>...</td>\n",
       "      <td>8.058857</td>\n",
       "      <td>9.384276</td>\n",
       "      <td>8.785916</td>\n",
       "      <td>8.834321</td>\n",
       "      <td>8.234481</td>\n",
       "      <td>9.034106</td>\n",
       "      <td>7.802155</td>\n",
       "      <td>8.269851</td>\n",
       "      <td>8.221648</td>\n",
       "      <td>7.781672</td>\n",
       "    </tr>\n",
       "    <tr>\n",
       "      <th>b0002</th>\n",
       "      <td>10.260569</td>\n",
       "      <td>10.368555</td>\n",
       "      <td>11.193605</td>\n",
       "      <td>11.404163</td>\n",
       "      <td>10.497016</td>\n",
       "      <td>10.235690</td>\n",
       "      <td>9.477470</td>\n",
       "      <td>9.811860</td>\n",
       "      <td>10.735874</td>\n",
       "      <td>10.726916</td>\n",
       "      <td>...</td>\n",
       "      <td>10.742892</td>\n",
       "      <td>10.725977</td>\n",
       "      <td>10.991453</td>\n",
       "      <td>11.032539</td>\n",
       "      <td>10.881214</td>\n",
       "      <td>10.808622</td>\n",
       "      <td>10.706326</td>\n",
       "      <td>10.668702</td>\n",
       "      <td>10.826346</td>\n",
       "      <td>10.825976</td>\n",
       "    </tr>\n",
       "  </tbody>\n",
       "</table>\n",
       "<p>2 rows × 815 columns</p>\n",
       "</div>"
      ],
      "text/plain": [
       "        ecoli_00001  ecoli_00002  ecoli_00003  ecoli_00004  ecoli_00005  \\\n",
       "Geneid                                                                    \n",
       "b0001     10.473721    10.271944     6.238716     6.608164     9.864757   \n",
       "b0002     10.260569    10.368555    11.193605    11.404163    10.497016   \n",
       "\n",
       "        ecoli_00006  ecoli_00007  ecoli_00008  ecoli_00009  ecoli_00010  ...  \\\n",
       "Geneid                                                                   ...   \n",
       "b0001     10.307057     5.566341     6.535879    10.315476    10.808135  ...   \n",
       "b0002     10.235690     9.477470     9.811860    10.735874    10.726916  ...   \n",
       "\n",
       "        ecoli_00836  ecoli_00837  ecoli_00838  ecoli_00839  ecoli_00840  \\\n",
       "Geneid                                                                    \n",
       "b0001      8.058857     9.384276     8.785916     8.834321     8.234481   \n",
       "b0002     10.742892    10.725977    10.991453    11.032539    10.881214   \n",
       "\n",
       "        ecoli_00841  ecoli_00842  ecoli_00843  ecoli_00844  ecoli_00845  \n",
       "Geneid                                                                   \n",
       "b0001      9.034106     7.802155     8.269851     8.221648     7.781672  \n",
       "b0002     10.808622    10.706326    10.668702    10.826346    10.825976  \n",
       "\n",
       "[2 rows x 815 columns]"
      ]
     },
     "execution_count": 58,
     "metadata": {},
     "output_type": "execute_result"
    }
   ],
   "source": [
    "DF_log_tpm_final.head(2)"
   ]
  },
  {
   "cell_type": "code",
   "execution_count": 59,
   "metadata": {},
   "outputs": [
    {
     "name": "stdout",
     "output_type": "stream",
     "text": [
      "66\n"
     ]
    },
    {
     "data": {
      "text/plain": [
       "['b0001', 'b0075', 'b4726', 'b4727', 'b4728']"
      ]
     },
     "execution_count": 59,
     "metadata": {},
     "output_type": "execute_result"
    }
   ],
   "source": [
    "gene_info = pd.read_csv('../../data/annotation/gene_info.csv', index_col=0)\n",
    "\n",
    "short_genes = gene_info[(gene_info.end-gene_info.start+1)<100].index.to_list()\n",
    "\n",
    "print(len(short_genes))\n",
    "short_genes[0:5]"
   ]
  },
  {
   "cell_type": "code",
   "execution_count": 60,
   "metadata": {},
   "outputs": [
    {
     "data": {
      "text/html": [
       "<div>\n",
       "<style scoped>\n",
       "    .dataframe tbody tr th:only-of-type {\n",
       "        vertical-align: middle;\n",
       "    }\n",
       "\n",
       "    .dataframe tbody tr th {\n",
       "        vertical-align: top;\n",
       "    }\n",
       "\n",
       "    .dataframe thead th {\n",
       "        text-align: right;\n",
       "    }\n",
       "</style>\n",
       "<table border=\"1\" class=\"dataframe\">\n",
       "  <thead>\n",
       "    <tr style=\"text-align: right;\">\n",
       "      <th></th>\n",
       "      <th>ecoli_00178</th>\n",
       "      <th>ecoli_00188</th>\n",
       "      <th>ecoli_00825</th>\n",
       "      <th>ecoli_00057</th>\n",
       "      <th>ecoli_00471</th>\n",
       "      <th>ecoli_00215</th>\n",
       "      <th>ecoli_00270</th>\n",
       "      <th>ecoli_00100</th>\n",
       "      <th>ecoli_00019</th>\n",
       "      <th>ecoli_00837</th>\n",
       "      <th>...</th>\n",
       "      <th>ecoli_00393</th>\n",
       "      <th>ecoli_00800</th>\n",
       "      <th>ecoli_00195</th>\n",
       "      <th>ecoli_00265</th>\n",
       "      <th>ecoli_00037</th>\n",
       "      <th>ecoli_00419</th>\n",
       "      <th>ecoli_00567</th>\n",
       "      <th>ecoli_00784</th>\n",
       "      <th>ecoli_00544</th>\n",
       "      <th>ecoli_00338</th>\n",
       "    </tr>\n",
       "    <tr>\n",
       "      <th>Geneid</th>\n",
       "      <th></th>\n",
       "      <th></th>\n",
       "      <th></th>\n",
       "      <th></th>\n",
       "      <th></th>\n",
       "      <th></th>\n",
       "      <th></th>\n",
       "      <th></th>\n",
       "      <th></th>\n",
       "      <th></th>\n",
       "      <th></th>\n",
       "      <th></th>\n",
       "      <th></th>\n",
       "      <th></th>\n",
       "      <th></th>\n",
       "      <th></th>\n",
       "      <th></th>\n",
       "      <th></th>\n",
       "      <th></th>\n",
       "      <th></th>\n",
       "      <th></th>\n",
       "    </tr>\n",
       "  </thead>\n",
       "  <tbody>\n",
       "    <tr>\n",
       "      <th>b0001</th>\n",
       "      <td>1033</td>\n",
       "      <td>64</td>\n",
       "      <td>1079</td>\n",
       "      <td>464</td>\n",
       "      <td>19</td>\n",
       "      <td>1515</td>\n",
       "      <td>52</td>\n",
       "      <td>761</td>\n",
       "      <td>13</td>\n",
       "      <td>477</td>\n",
       "      <td>...</td>\n",
       "      <td>258</td>\n",
       "      <td>435</td>\n",
       "      <td>363</td>\n",
       "      <td>372</td>\n",
       "      <td>5</td>\n",
       "      <td>238</td>\n",
       "      <td>677</td>\n",
       "      <td>101</td>\n",
       "      <td>48</td>\n",
       "      <td>385</td>\n",
       "    </tr>\n",
       "    <tr>\n",
       "      <th>b0002</th>\n",
       "      <td>4831</td>\n",
       "      <td>47376</td>\n",
       "      <td>29852</td>\n",
       "      <td>4125</td>\n",
       "      <td>715</td>\n",
       "      <td>36396</td>\n",
       "      <td>13114</td>\n",
       "      <td>15639</td>\n",
       "      <td>3164</td>\n",
       "      <td>45157</td>\n",
       "      <td>...</td>\n",
       "      <td>16736</td>\n",
       "      <td>6609</td>\n",
       "      <td>34432</td>\n",
       "      <td>22045</td>\n",
       "      <td>7387</td>\n",
       "      <td>25654</td>\n",
       "      <td>32192</td>\n",
       "      <td>19660</td>\n",
       "      <td>1827</td>\n",
       "      <td>56611</td>\n",
       "    </tr>\n",
       "  </tbody>\n",
       "</table>\n",
       "<p>2 rows × 820 columns</p>\n",
       "</div>"
      ],
      "text/plain": [
       "        ecoli_00178  ecoli_00188  ecoli_00825  ecoli_00057  ecoli_00471  \\\n",
       "Geneid                                                                    \n",
       "b0001          1033           64         1079          464           19   \n",
       "b0002          4831        47376        29852         4125          715   \n",
       "\n",
       "        ecoli_00215  ecoli_00270  ecoli_00100  ecoli_00019  ecoli_00837  ...  \\\n",
       "Geneid                                                                   ...   \n",
       "b0001          1515           52          761           13          477  ...   \n",
       "b0002         36396        13114        15639         3164        45157  ...   \n",
       "\n",
       "        ecoli_00393  ecoli_00800  ecoli_00195  ecoli_00265  ecoli_00037  \\\n",
       "Geneid                                                                    \n",
       "b0001           258          435          363          372            5   \n",
       "b0002         16736         6609        34432        22045         7387   \n",
       "\n",
       "        ecoli_00419  ecoli_00567  ecoli_00784  ecoli_00544  ecoli_00338  \n",
       "Geneid                                                                   \n",
       "b0001           238          677          101           48          385  \n",
       "b0002         25654        32192        19660         1827        56611  \n",
       "\n",
       "[2 rows x 820 columns]"
      ]
     },
     "execution_count": 60,
     "metadata": {},
     "output_type": "execute_result"
    }
   ],
   "source": [
    "counts = pd.read_csv('../../data/precise2/counts.csv', index_col=0)\n",
    "\n",
    "counts.head(2)"
   ]
  },
  {
   "cell_type": "code",
   "execution_count": 61,
   "metadata": {},
   "outputs": [
    {
     "data": {
      "text/html": [
       "<div>\n",
       "<style scoped>\n",
       "    .dataframe tbody tr th:only-of-type {\n",
       "        vertical-align: middle;\n",
       "    }\n",
       "\n",
       "    .dataframe tbody tr th {\n",
       "        vertical-align: top;\n",
       "    }\n",
       "\n",
       "    .dataframe thead th {\n",
       "        text-align: right;\n",
       "    }\n",
       "</style>\n",
       "<table border=\"1\" class=\"dataframe\">\n",
       "  <thead>\n",
       "    <tr style=\"text-align: right;\">\n",
       "      <th></th>\n",
       "      <th>ecoli_00178</th>\n",
       "      <th>ecoli_00188</th>\n",
       "      <th>ecoli_00825</th>\n",
       "      <th>ecoli_00057</th>\n",
       "      <th>ecoli_00471</th>\n",
       "      <th>ecoli_00215</th>\n",
       "      <th>ecoli_00270</th>\n",
       "      <th>ecoli_00100</th>\n",
       "      <th>ecoli_00019</th>\n",
       "      <th>ecoli_00837</th>\n",
       "      <th>...</th>\n",
       "      <th>ecoli_00393</th>\n",
       "      <th>ecoli_00800</th>\n",
       "      <th>ecoli_00195</th>\n",
       "      <th>ecoli_00265</th>\n",
       "      <th>ecoli_00037</th>\n",
       "      <th>ecoli_00419</th>\n",
       "      <th>ecoli_00567</th>\n",
       "      <th>ecoli_00784</th>\n",
       "      <th>ecoli_00544</th>\n",
       "      <th>ecoli_00338</th>\n",
       "    </tr>\n",
       "    <tr>\n",
       "      <th>Geneid</th>\n",
       "      <th></th>\n",
       "      <th></th>\n",
       "      <th></th>\n",
       "      <th></th>\n",
       "      <th></th>\n",
       "      <th></th>\n",
       "      <th></th>\n",
       "      <th></th>\n",
       "      <th></th>\n",
       "      <th></th>\n",
       "      <th></th>\n",
       "      <th></th>\n",
       "      <th></th>\n",
       "      <th></th>\n",
       "      <th></th>\n",
       "      <th></th>\n",
       "      <th></th>\n",
       "      <th></th>\n",
       "      <th></th>\n",
       "      <th></th>\n",
       "      <th></th>\n",
       "    </tr>\n",
       "  </thead>\n",
       "  <tbody>\n",
       "    <tr>\n",
       "      <th>b0001</th>\n",
       "      <td>175.274785</td>\n",
       "      <td>5.256807</td>\n",
       "      <td>191.287196</td>\n",
       "      <td>142.556361</td>\n",
       "      <td>5.047808</td>\n",
       "      <td>169.832825</td>\n",
       "      <td>8.696096</td>\n",
       "      <td>215.131459</td>\n",
       "      <td>2.001814</td>\n",
       "      <td>55.115122</td>\n",
       "      <td>...</td>\n",
       "      <td>40.528103</td>\n",
       "      <td>203.718447</td>\n",
       "      <td>51.317742</td>\n",
       "      <td>44.647460</td>\n",
       "      <td>1.561809</td>\n",
       "      <td>33.781602</td>\n",
       "      <td>79.520490</td>\n",
       "      <td>15.467144</td>\n",
       "      <td>7.961227</td>\n",
       "      <td>46.077434</td>\n",
       "    </tr>\n",
       "    <tr>\n",
       "      <th>b0002</th>\n",
       "      <td>819.702311</td>\n",
       "      <td>3891.351329</td>\n",
       "      <td>5292.220000</td>\n",
       "      <td>1267.338341</td>\n",
       "      <td>189.956987</td>\n",
       "      <td>4080.023434</td>\n",
       "      <td>2193.088443</td>\n",
       "      <td>4421.078699</td>\n",
       "      <td>487.210644</td>\n",
       "      <td>5217.680469</td>\n",
       "      <td>...</td>\n",
       "      <td>2628.985794</td>\n",
       "      <td>3095.115440</td>\n",
       "      <td>4867.692824</td>\n",
       "      <td>2645.842067</td>\n",
       "      <td>2307.416468</td>\n",
       "      <td>3641.316035</td>\n",
       "      <td>3781.275661</td>\n",
       "      <td>3010.733126</td>\n",
       "      <td>303.024222</td>\n",
       "      <td>6775.297708</td>\n",
       "    </tr>\n",
       "  </tbody>\n",
       "</table>\n",
       "<p>2 rows × 820 columns</p>\n",
       "</div>"
      ],
      "text/plain": [
       "        ecoli_00178  ecoli_00188  ecoli_00825  ecoli_00057  ecoli_00471  \\\n",
       "Geneid                                                                    \n",
       "b0001    175.274785     5.256807   191.287196   142.556361     5.047808   \n",
       "b0002    819.702311  3891.351329  5292.220000  1267.338341   189.956987   \n",
       "\n",
       "        ecoli_00215  ecoli_00270  ecoli_00100  ecoli_00019  ecoli_00837  ...  \\\n",
       "Geneid                                                                   ...   \n",
       "b0001    169.832825     8.696096   215.131459     2.001814    55.115122  ...   \n",
       "b0002   4080.023434  2193.088443  4421.078699   487.210644  5217.680469  ...   \n",
       "\n",
       "        ecoli_00393  ecoli_00800  ecoli_00195  ecoli_00265  ecoli_00037  \\\n",
       "Geneid                                                                    \n",
       "b0001     40.528103   203.718447    51.317742    44.647460     1.561809   \n",
       "b0002   2628.985794  3095.115440  4867.692824  2645.842067  2307.416468   \n",
       "\n",
       "        ecoli_00419  ecoli_00567  ecoli_00784  ecoli_00544  ecoli_00338  \n",
       "Geneid                                                                   \n",
       "b0001     33.781602    79.520490    15.467144     7.961227    46.077434  \n",
       "b0002   3641.316035  3781.275661  3010.733126   303.024222  6775.297708  \n",
       "\n",
       "[2 rows x 820 columns]"
      ]
     },
     "execution_count": 61,
     "metadata": {},
     "output_type": "execute_result"
    }
   ],
   "source": [
    "fpm = counts.divide(counts.sum(axis=0)) * (10**6)\n",
    "fpm.head(2)"
   ]
  },
  {
   "cell_type": "code",
   "execution_count": 62,
   "metadata": {},
   "outputs": [
    {
     "data": {
      "text/plain": [
       "1000000.0"
      ]
     },
     "execution_count": 62,
     "metadata": {},
     "output_type": "execute_result"
    }
   ],
   "source": [
    "# Check sum of column is 10^6\n",
    "fpm['ecoli_00001'].sum()"
   ]
  },
  {
   "cell_type": "code",
   "execution_count": 63,
   "metadata": {},
   "outputs": [
    {
     "data": {
      "text/plain": [
       "Geneid\n",
       "b0001     2104.177968\n",
       "b0002    12376.086515\n",
       "dtype: float64"
      ]
     },
     "execution_count": 63,
     "metadata": {},
     "output_type": "execute_result"
    }
   ],
   "source": [
    "fpm.max(axis=1).head(2)"
   ]
  },
  {
   "cell_type": "code",
   "execution_count": 64,
   "metadata": {},
   "outputs": [
    {
     "name": "stdout",
     "output_type": "stream",
     "text": [
      "92\n"
     ]
    },
    {
     "data": {
      "text/html": [
       "<div>\n",
       "<style scoped>\n",
       "    .dataframe tbody tr th:only-of-type {\n",
       "        vertical-align: middle;\n",
       "    }\n",
       "\n",
       "    .dataframe tbody tr th {\n",
       "        vertical-align: top;\n",
       "    }\n",
       "\n",
       "    .dataframe thead th {\n",
       "        text-align: right;\n",
       "    }\n",
       "</style>\n",
       "<table border=\"1\" class=\"dataframe\">\n",
       "  <thead>\n",
       "    <tr style=\"text-align: right;\">\n",
       "      <th></th>\n",
       "      <th>ecoli_00178</th>\n",
       "      <th>ecoli_00188</th>\n",
       "      <th>ecoli_00825</th>\n",
       "      <th>ecoli_00057</th>\n",
       "      <th>ecoli_00471</th>\n",
       "      <th>ecoli_00215</th>\n",
       "      <th>ecoli_00270</th>\n",
       "      <th>ecoli_00100</th>\n",
       "      <th>ecoli_00019</th>\n",
       "      <th>ecoli_00837</th>\n",
       "      <th>...</th>\n",
       "      <th>ecoli_00393</th>\n",
       "      <th>ecoli_00800</th>\n",
       "      <th>ecoli_00195</th>\n",
       "      <th>ecoli_00265</th>\n",
       "      <th>ecoli_00037</th>\n",
       "      <th>ecoli_00419</th>\n",
       "      <th>ecoli_00567</th>\n",
       "      <th>ecoli_00784</th>\n",
       "      <th>ecoli_00544</th>\n",
       "      <th>ecoli_00338</th>\n",
       "    </tr>\n",
       "    <tr>\n",
       "      <th>Geneid</th>\n",
       "      <th></th>\n",
       "      <th></th>\n",
       "      <th></th>\n",
       "      <th></th>\n",
       "      <th></th>\n",
       "      <th></th>\n",
       "      <th></th>\n",
       "      <th></th>\n",
       "      <th></th>\n",
       "      <th></th>\n",
       "      <th></th>\n",
       "      <th></th>\n",
       "      <th></th>\n",
       "      <th></th>\n",
       "      <th></th>\n",
       "      <th></th>\n",
       "      <th></th>\n",
       "      <th></th>\n",
       "      <th></th>\n",
       "      <th></th>\n",
       "      <th></th>\n",
       "    </tr>\n",
       "  </thead>\n",
       "  <tbody>\n",
       "    <tr>\n",
       "      <th>b4412</th>\n",
       "      <td>0.000000</td>\n",
       "      <td>0.000000</td>\n",
       "      <td>0.000000</td>\n",
       "      <td>0.000000</td>\n",
       "      <td>0.000000</td>\n",
       "      <td>0.000000</td>\n",
       "      <td>0.000000</td>\n",
       "      <td>0.000000</td>\n",
       "      <td>0.000000</td>\n",
       "      <td>0.000000</td>\n",
       "      <td>...</td>\n",
       "      <td>0.000000</td>\n",
       "      <td>0.000000</td>\n",
       "      <td>0.000000</td>\n",
       "      <td>0.0</td>\n",
       "      <td>0.0</td>\n",
       "      <td>0.000000</td>\n",
       "      <td>0.00000</td>\n",
       "      <td>0.00000</td>\n",
       "      <td>0.000000</td>\n",
       "      <td>0.00000</td>\n",
       "    </tr>\n",
       "    <tr>\n",
       "      <th>b0044</th>\n",
       "      <td>1.696755</td>\n",
       "      <td>1.067789</td>\n",
       "      <td>0.177282</td>\n",
       "      <td>0.307234</td>\n",
       "      <td>0.265674</td>\n",
       "      <td>0.224202</td>\n",
       "      <td>0.836163</td>\n",
       "      <td>0.282696</td>\n",
       "      <td>0.615943</td>\n",
       "      <td>0.231091</td>\n",
       "      <td>...</td>\n",
       "      <td>0.157086</td>\n",
       "      <td>0.468318</td>\n",
       "      <td>1.555083</td>\n",
       "      <td>0.0</td>\n",
       "      <td>0.0</td>\n",
       "      <td>0.283879</td>\n",
       "      <td>0.23492</td>\n",
       "      <td>0.15314</td>\n",
       "      <td>0.165859</td>\n",
       "      <td>0.71809</td>\n",
       "    </tr>\n",
       "  </tbody>\n",
       "</table>\n",
       "<p>2 rows × 820 columns</p>\n",
       "</div>"
      ],
      "text/plain": [
       "        ecoli_00178  ecoli_00188  ecoli_00825  ecoli_00057  ecoli_00471  \\\n",
       "Geneid                                                                    \n",
       "b4412      0.000000     0.000000     0.000000     0.000000     0.000000   \n",
       "b0044      1.696755     1.067789     0.177282     0.307234     0.265674   \n",
       "\n",
       "        ecoli_00215  ecoli_00270  ecoli_00100  ecoli_00019  ecoli_00837  ...  \\\n",
       "Geneid                                                                   ...   \n",
       "b4412      0.000000     0.000000     0.000000     0.000000     0.000000  ...   \n",
       "b0044      0.224202     0.836163     0.282696     0.615943     0.231091  ...   \n",
       "\n",
       "        ecoli_00393  ecoli_00800  ecoli_00195  ecoli_00265  ecoli_00037  \\\n",
       "Geneid                                                                    \n",
       "b4412      0.000000     0.000000     0.000000          0.0          0.0   \n",
       "b0044      0.157086     0.468318     1.555083          0.0          0.0   \n",
       "\n",
       "        ecoli_00419  ecoli_00567  ecoli_00784  ecoli_00544  ecoli_00338  \n",
       "Geneid                                                                   \n",
       "b4412      0.000000      0.00000      0.00000     0.000000      0.00000  \n",
       "b0044      0.283879      0.23492      0.15314     0.165859      0.71809  \n",
       "\n",
       "[2 rows x 820 columns]"
      ]
     },
     "execution_count": 64,
     "metadata": {},
     "output_type": "execute_result"
    }
   ],
   "source": [
    "print(len(fpm.loc[fpm.max(axis=1) < 10]))\n",
    "fpm.loc[fpm.max(axis=1) < 10].head(2)"
   ]
  },
  {
   "cell_type": "code",
   "execution_count": 65,
   "metadata": {},
   "outputs": [],
   "source": [
    "low_fpm_genes = fpm.loc[fpm.max(axis=1) < 10].index.to_list()"
   ]
  },
  {
   "cell_type": "code",
   "execution_count": 66,
   "metadata": {},
   "outputs": [
    {
     "data": {
      "text/plain": [
       "144"
      ]
     },
     "execution_count": 66,
     "metadata": {},
     "output_type": "execute_result"
    }
   ],
   "source": [
    "drop_genes = list(dict.fromkeys(low_fpm_genes + short_genes)) # dict.fromkeys step removes duplicates\n",
    "\n",
    "len(drop_genes)"
   ]
  },
  {
   "cell_type": "code",
   "execution_count": 67,
   "metadata": {},
   "outputs": [
    {
     "data": {
      "text/html": [
       "<div>\n",
       "<style scoped>\n",
       "    .dataframe tbody tr th:only-of-type {\n",
       "        vertical-align: middle;\n",
       "    }\n",
       "\n",
       "    .dataframe tbody tr th {\n",
       "        vertical-align: top;\n",
       "    }\n",
       "\n",
       "    .dataframe thead th {\n",
       "        text-align: right;\n",
       "    }\n",
       "</style>\n",
       "<table border=\"1\" class=\"dataframe\">\n",
       "  <thead>\n",
       "    <tr style=\"text-align: right;\">\n",
       "      <th></th>\n",
       "      <th>ecoli_00001</th>\n",
       "      <th>ecoli_00002</th>\n",
       "      <th>ecoli_00003</th>\n",
       "      <th>ecoli_00004</th>\n",
       "      <th>ecoli_00005</th>\n",
       "      <th>ecoli_00006</th>\n",
       "      <th>ecoli_00007</th>\n",
       "      <th>ecoli_00008</th>\n",
       "      <th>ecoli_00009</th>\n",
       "      <th>ecoli_00010</th>\n",
       "      <th>...</th>\n",
       "      <th>ecoli_00836</th>\n",
       "      <th>ecoli_00837</th>\n",
       "      <th>ecoli_00838</th>\n",
       "      <th>ecoli_00839</th>\n",
       "      <th>ecoli_00840</th>\n",
       "      <th>ecoli_00841</th>\n",
       "      <th>ecoli_00842</th>\n",
       "      <th>ecoli_00843</th>\n",
       "      <th>ecoli_00844</th>\n",
       "      <th>ecoli_00845</th>\n",
       "    </tr>\n",
       "    <tr>\n",
       "      <th>Geneid</th>\n",
       "      <th></th>\n",
       "      <th></th>\n",
       "      <th></th>\n",
       "      <th></th>\n",
       "      <th></th>\n",
       "      <th></th>\n",
       "      <th></th>\n",
       "      <th></th>\n",
       "      <th></th>\n",
       "      <th></th>\n",
       "      <th></th>\n",
       "      <th></th>\n",
       "      <th></th>\n",
       "      <th></th>\n",
       "      <th></th>\n",
       "      <th></th>\n",
       "      <th></th>\n",
       "      <th></th>\n",
       "      <th></th>\n",
       "      <th></th>\n",
       "      <th></th>\n",
       "    </tr>\n",
       "  </thead>\n",
       "  <tbody>\n",
       "    <tr>\n",
       "      <th>b0002</th>\n",
       "      <td>10.260569</td>\n",
       "      <td>10.368555</td>\n",
       "      <td>11.193605</td>\n",
       "      <td>11.404163</td>\n",
       "      <td>10.497016</td>\n",
       "      <td>10.235690</td>\n",
       "      <td>9.477470</td>\n",
       "      <td>9.811860</td>\n",
       "      <td>10.735874</td>\n",
       "      <td>10.726916</td>\n",
       "      <td>...</td>\n",
       "      <td>10.742892</td>\n",
       "      <td>10.725977</td>\n",
       "      <td>10.991453</td>\n",
       "      <td>11.032539</td>\n",
       "      <td>10.881214</td>\n",
       "      <td>10.808622</td>\n",
       "      <td>10.706326</td>\n",
       "      <td>10.668702</td>\n",
       "      <td>10.826346</td>\n",
       "      <td>10.825976</td>\n",
       "    </tr>\n",
       "    <tr>\n",
       "      <th>b0003</th>\n",
       "      <td>9.920277</td>\n",
       "      <td>10.044224</td>\n",
       "      <td>11.045580</td>\n",
       "      <td>11.460140</td>\n",
       "      <td>10.374823</td>\n",
       "      <td>10.216922</td>\n",
       "      <td>9.219235</td>\n",
       "      <td>9.861262</td>\n",
       "      <td>10.528432</td>\n",
       "      <td>10.503092</td>\n",
       "      <td>...</td>\n",
       "      <td>10.101063</td>\n",
       "      <td>10.118400</td>\n",
       "      <td>10.265804</td>\n",
       "      <td>10.294868</td>\n",
       "      <td>10.200303</td>\n",
       "      <td>10.161210</td>\n",
       "      <td>9.979079</td>\n",
       "      <td>9.992112</td>\n",
       "      <td>10.225943</td>\n",
       "      <td>10.061164</td>\n",
       "    </tr>\n",
       "    <tr>\n",
       "      <th>b0004</th>\n",
       "      <td>9.936694</td>\n",
       "      <td>10.010638</td>\n",
       "      <td>9.976798</td>\n",
       "      <td>10.330368</td>\n",
       "      <td>9.876910</td>\n",
       "      <td>9.638754</td>\n",
       "      <td>8.258753</td>\n",
       "      <td>8.650959</td>\n",
       "      <td>9.739519</td>\n",
       "      <td>9.722997</td>\n",
       "      <td>...</td>\n",
       "      <td>10.042148</td>\n",
       "      <td>9.975089</td>\n",
       "      <td>10.047559</td>\n",
       "      <td>10.103176</td>\n",
       "      <td>10.093910</td>\n",
       "      <td>9.998449</td>\n",
       "      <td>9.894860</td>\n",
       "      <td>9.873453</td>\n",
       "      <td>10.085281</td>\n",
       "      <td>10.029110</td>\n",
       "    </tr>\n",
       "    <tr>\n",
       "      <th>b0005</th>\n",
       "      <td>7.027515</td>\n",
       "      <td>7.237449</td>\n",
       "      <td>6.014337</td>\n",
       "      <td>5.854519</td>\n",
       "      <td>6.950936</td>\n",
       "      <td>6.768425</td>\n",
       "      <td>5.011006</td>\n",
       "      <td>5.137711</td>\n",
       "      <td>6.745798</td>\n",
       "      <td>6.497823</td>\n",
       "      <td>...</td>\n",
       "      <td>6.336199</td>\n",
       "      <td>6.246364</td>\n",
       "      <td>6.237686</td>\n",
       "      <td>6.181453</td>\n",
       "      <td>6.462037</td>\n",
       "      <td>6.452577</td>\n",
       "      <td>6.369624</td>\n",
       "      <td>6.362859</td>\n",
       "      <td>6.576650</td>\n",
       "      <td>6.243859</td>\n",
       "    </tr>\n",
       "    <tr>\n",
       "      <th>b0006</th>\n",
       "      <td>6.537183</td>\n",
       "      <td>6.452699</td>\n",
       "      <td>6.371349</td>\n",
       "      <td>6.387164</td>\n",
       "      <td>6.321764</td>\n",
       "      <td>6.405053</td>\n",
       "      <td>6.286808</td>\n",
       "      <td>6.491897</td>\n",
       "      <td>6.460234</td>\n",
       "      <td>6.467135</td>\n",
       "      <td>...</td>\n",
       "      <td>6.517823</td>\n",
       "      <td>6.626320</td>\n",
       "      <td>6.495392</td>\n",
       "      <td>6.468725</td>\n",
       "      <td>6.559674</td>\n",
       "      <td>6.472753</td>\n",
       "      <td>6.575436</td>\n",
       "      <td>6.600744</td>\n",
       "      <td>6.584743</td>\n",
       "      <td>6.751315</td>\n",
       "    </tr>\n",
       "  </tbody>\n",
       "</table>\n",
       "<p>5 rows × 815 columns</p>\n",
       "</div>"
      ],
      "text/plain": [
       "        ecoli_00001  ecoli_00002  ecoli_00003  ecoli_00004  ecoli_00005  \\\n",
       "Geneid                                                                    \n",
       "b0002     10.260569    10.368555    11.193605    11.404163    10.497016   \n",
       "b0003      9.920277    10.044224    11.045580    11.460140    10.374823   \n",
       "b0004      9.936694    10.010638     9.976798    10.330368     9.876910   \n",
       "b0005      7.027515     7.237449     6.014337     5.854519     6.950936   \n",
       "b0006      6.537183     6.452699     6.371349     6.387164     6.321764   \n",
       "\n",
       "        ecoli_00006  ecoli_00007  ecoli_00008  ecoli_00009  ecoli_00010  ...  \\\n",
       "Geneid                                                                   ...   \n",
       "b0002     10.235690     9.477470     9.811860    10.735874    10.726916  ...   \n",
       "b0003     10.216922     9.219235     9.861262    10.528432    10.503092  ...   \n",
       "b0004      9.638754     8.258753     8.650959     9.739519     9.722997  ...   \n",
       "b0005      6.768425     5.011006     5.137711     6.745798     6.497823  ...   \n",
       "b0006      6.405053     6.286808     6.491897     6.460234     6.467135  ...   \n",
       "\n",
       "        ecoli_00836  ecoli_00837  ecoli_00838  ecoli_00839  ecoli_00840  \\\n",
       "Geneid                                                                    \n",
       "b0002     10.742892    10.725977    10.991453    11.032539    10.881214   \n",
       "b0003     10.101063    10.118400    10.265804    10.294868    10.200303   \n",
       "b0004     10.042148     9.975089    10.047559    10.103176    10.093910   \n",
       "b0005      6.336199     6.246364     6.237686     6.181453     6.462037   \n",
       "b0006      6.517823     6.626320     6.495392     6.468725     6.559674   \n",
       "\n",
       "        ecoli_00841  ecoli_00842  ecoli_00843  ecoli_00844  ecoli_00845  \n",
       "Geneid                                                                   \n",
       "b0002     10.808622    10.706326    10.668702    10.826346    10.825976  \n",
       "b0003     10.161210     9.979079     9.992112    10.225943    10.061164  \n",
       "b0004      9.998449     9.894860     9.873453    10.085281    10.029110  \n",
       "b0005      6.452577     6.369624     6.362859     6.576650     6.243859  \n",
       "b0006      6.472753     6.575436     6.600744     6.584743     6.751315  \n",
       "\n",
       "[5 rows x 815 columns]"
      ]
     },
     "execution_count": 67,
     "metadata": {},
     "output_type": "execute_result"
    }
   ],
   "source": [
    "DF_log_tpm_final = DF_log_tpm_final.drop(drop_genes)\n",
    "DF_log_tpm_final.head()"
   ]
  },
  {
   "cell_type": "markdown",
   "metadata": {},
   "source": [
    "# Save final datasets"
   ]
  },
  {
   "cell_type": "markdown",
   "metadata": {},
   "source": [
    "<font size=4> Choose a condition as the reference condition. Ideally, this would be the WT strain, grown in the most common base media for your organism. Defined media like M9 or MOPS are preferred, but many organisms only grow on rich media such as LB. </font>"
   ]
  },
  {
   "cell_type": "code",
   "execution_count": 68,
   "metadata": {},
   "outputs": [],
   "source": [
    "# List all replicates for the reference condition\n",
    "reference = ['ecoli_00001','ecoli_00002']"
   ]
  },
  {
   "cell_type": "code",
   "execution_count": 69,
   "metadata": {},
   "outputs": [],
   "source": [
    "# Subtract mean expression of reference from entire dataset\n",
    "DF_log_tpm_norm = DF_log_tpm_final.sub(DF_log_tpm_final[reference].mean(axis=1),axis=0)"
   ]
  },
  {
   "cell_type": "code",
   "execution_count": 70,
   "metadata": {},
   "outputs": [],
   "source": [
    "DF_log_tpm_final.to_csv(os.path.join(org_dir,'log_tpm_qc.csv'))\n",
    "DF_log_tpm_norm.to_csv(os.path.join(org_dir,'log_tpm_norm_qc.csv'))\n",
    "DF_metadata_final.to_csv(os.path.join(org_dir,'metadata_qc.csv'))"
   ]
  },
  {
   "cell_type": "markdown",
   "metadata": {},
   "source": [
    "# Analyze difference compared to rockhopper data"
   ]
  },
  {
   "cell_type": "code",
   "execution_count": 71,
   "metadata": {},
   "outputs": [
    {
     "ename": "FileNotFoundError",
     "evalue": "[Errno 2] No such file or directory: '../../data/precise2_data/log_tpm_norm_qc.csv'",
     "output_type": "error",
     "traceback": [
      "\u001b[0;31m---------------------------------------------------------------------------\u001b[0m",
      "\u001b[0;31mFileNotFoundError\u001b[0m                         Traceback (most recent call last)",
      "\u001b[0;32m<ipython-input-71-9f5a057ea7e7>\u001b[0m in \u001b[0;36m<module>\u001b[0;34m\u001b[0m\n\u001b[1;32m      1\u001b[0m \u001b[0;31m# additional datasets run through FeatureCounts not present in QC-ed Rockhopper data\u001b[0m\u001b[0;34m\u001b[0m\u001b[0;34m\u001b[0m\u001b[0;34m\u001b[0m\u001b[0m\n\u001b[1;32m      2\u001b[0m \u001b[0;34m\u001b[0m\u001b[0m\n\u001b[0;32m----> 3\u001b[0;31m \u001b[0mold_log_tpm_qc\u001b[0m \u001b[0;34m=\u001b[0m \u001b[0mpd\u001b[0m\u001b[0;34m.\u001b[0m\u001b[0mread_csv\u001b[0m\u001b[0;34m(\u001b[0m\u001b[0;34m'../../data/precise2_data/log_tpm_norm_qc.csv'\u001b[0m\u001b[0;34m)\u001b[0m\u001b[0;34m\u001b[0m\u001b[0;34m\u001b[0m\u001b[0m\n\u001b[0m\u001b[1;32m      4\u001b[0m \u001b[0;34m\u001b[0m\u001b[0m\n\u001b[1;32m      5\u001b[0m \u001b[0mRH_failed_inputs\u001b[0m \u001b[0;34m=\u001b[0m \u001b[0mDF_metadata\u001b[0m\u001b[0;34m.\u001b[0m\u001b[0mT\u001b[0m\u001b[0;34m[\u001b[0m\u001b[0mset\u001b[0m\u001b[0;34m(\u001b[0m\u001b[0mDF_log_tpm\u001b[0m\u001b[0;34m.\u001b[0m\u001b[0mcolumns\u001b[0m\u001b[0;34m)\u001b[0m \u001b[0;34m-\u001b[0m \u001b[0mset\u001b[0m\u001b[0;34m(\u001b[0m\u001b[0mold_log_tpm_qc\u001b[0m\u001b[0;34m.\u001b[0m\u001b[0mcolumns\u001b[0m\u001b[0;34m)\u001b[0m\u001b[0;34m]\u001b[0m\u001b[0;34m.\u001b[0m\u001b[0mT\u001b[0m\u001b[0;34m.\u001b[0m\u001b[0msort_index\u001b[0m\u001b[0;34m(\u001b[0m\u001b[0;34m)\u001b[0m\u001b[0;34m\u001b[0m\u001b[0;34m\u001b[0m\u001b[0m\n",
      "\u001b[0;32m~/anaconda3/lib/python3.7/site-packages/pandas/io/parsers.py\u001b[0m in \u001b[0;36mread_csv\u001b[0;34m(filepath_or_buffer, sep, delimiter, header, names, index_col, usecols, squeeze, prefix, mangle_dupe_cols, dtype, engine, converters, true_values, false_values, skipinitialspace, skiprows, skipfooter, nrows, na_values, keep_default_na, na_filter, verbose, skip_blank_lines, parse_dates, infer_datetime_format, keep_date_col, date_parser, dayfirst, cache_dates, iterator, chunksize, compression, thousands, decimal, lineterminator, quotechar, quoting, doublequote, escapechar, comment, encoding, dialect, error_bad_lines, warn_bad_lines, delim_whitespace, low_memory, memory_map, float_precision)\u001b[0m\n\u001b[1;32m    684\u001b[0m     )\n\u001b[1;32m    685\u001b[0m \u001b[0;34m\u001b[0m\u001b[0m\n\u001b[0;32m--> 686\u001b[0;31m     \u001b[0;32mreturn\u001b[0m \u001b[0m_read\u001b[0m\u001b[0;34m(\u001b[0m\u001b[0mfilepath_or_buffer\u001b[0m\u001b[0;34m,\u001b[0m \u001b[0mkwds\u001b[0m\u001b[0;34m)\u001b[0m\u001b[0;34m\u001b[0m\u001b[0;34m\u001b[0m\u001b[0m\n\u001b[0m\u001b[1;32m    687\u001b[0m \u001b[0;34m\u001b[0m\u001b[0m\n\u001b[1;32m    688\u001b[0m \u001b[0;34m\u001b[0m\u001b[0m\n",
      "\u001b[0;32m~/anaconda3/lib/python3.7/site-packages/pandas/io/parsers.py\u001b[0m in \u001b[0;36m_read\u001b[0;34m(filepath_or_buffer, kwds)\u001b[0m\n\u001b[1;32m    450\u001b[0m \u001b[0;34m\u001b[0m\u001b[0m\n\u001b[1;32m    451\u001b[0m     \u001b[0;31m# Create the parser.\u001b[0m\u001b[0;34m\u001b[0m\u001b[0;34m\u001b[0m\u001b[0;34m\u001b[0m\u001b[0m\n\u001b[0;32m--> 452\u001b[0;31m     \u001b[0mparser\u001b[0m \u001b[0;34m=\u001b[0m \u001b[0mTextFileReader\u001b[0m\u001b[0;34m(\u001b[0m\u001b[0mfp_or_buf\u001b[0m\u001b[0;34m,\u001b[0m \u001b[0;34m**\u001b[0m\u001b[0mkwds\u001b[0m\u001b[0;34m)\u001b[0m\u001b[0;34m\u001b[0m\u001b[0;34m\u001b[0m\u001b[0m\n\u001b[0m\u001b[1;32m    453\u001b[0m \u001b[0;34m\u001b[0m\u001b[0m\n\u001b[1;32m    454\u001b[0m     \u001b[0;32mif\u001b[0m \u001b[0mchunksize\u001b[0m \u001b[0;32mor\u001b[0m \u001b[0miterator\u001b[0m\u001b[0;34m:\u001b[0m\u001b[0;34m\u001b[0m\u001b[0;34m\u001b[0m\u001b[0m\n",
      "\u001b[0;32m~/anaconda3/lib/python3.7/site-packages/pandas/io/parsers.py\u001b[0m in \u001b[0;36m__init__\u001b[0;34m(self, f, engine, **kwds)\u001b[0m\n\u001b[1;32m    934\u001b[0m             \u001b[0mself\u001b[0m\u001b[0;34m.\u001b[0m\u001b[0moptions\u001b[0m\u001b[0;34m[\u001b[0m\u001b[0;34m\"has_index_names\"\u001b[0m\u001b[0;34m]\u001b[0m \u001b[0;34m=\u001b[0m \u001b[0mkwds\u001b[0m\u001b[0;34m[\u001b[0m\u001b[0;34m\"has_index_names\"\u001b[0m\u001b[0;34m]\u001b[0m\u001b[0;34m\u001b[0m\u001b[0;34m\u001b[0m\u001b[0m\n\u001b[1;32m    935\u001b[0m \u001b[0;34m\u001b[0m\u001b[0m\n\u001b[0;32m--> 936\u001b[0;31m         \u001b[0mself\u001b[0m\u001b[0;34m.\u001b[0m\u001b[0m_make_engine\u001b[0m\u001b[0;34m(\u001b[0m\u001b[0mself\u001b[0m\u001b[0;34m.\u001b[0m\u001b[0mengine\u001b[0m\u001b[0;34m)\u001b[0m\u001b[0;34m\u001b[0m\u001b[0;34m\u001b[0m\u001b[0m\n\u001b[0m\u001b[1;32m    937\u001b[0m \u001b[0;34m\u001b[0m\u001b[0m\n\u001b[1;32m    938\u001b[0m     \u001b[0;32mdef\u001b[0m \u001b[0mclose\u001b[0m\u001b[0;34m(\u001b[0m\u001b[0mself\u001b[0m\u001b[0;34m)\u001b[0m\u001b[0;34m:\u001b[0m\u001b[0;34m\u001b[0m\u001b[0;34m\u001b[0m\u001b[0m\n",
      "\u001b[0;32m~/anaconda3/lib/python3.7/site-packages/pandas/io/parsers.py\u001b[0m in \u001b[0;36m_make_engine\u001b[0;34m(self, engine)\u001b[0m\n\u001b[1;32m   1166\u001b[0m     \u001b[0;32mdef\u001b[0m \u001b[0m_make_engine\u001b[0m\u001b[0;34m(\u001b[0m\u001b[0mself\u001b[0m\u001b[0;34m,\u001b[0m \u001b[0mengine\u001b[0m\u001b[0;34m=\u001b[0m\u001b[0;34m\"c\"\u001b[0m\u001b[0;34m)\u001b[0m\u001b[0;34m:\u001b[0m\u001b[0;34m\u001b[0m\u001b[0;34m\u001b[0m\u001b[0m\n\u001b[1;32m   1167\u001b[0m         \u001b[0;32mif\u001b[0m \u001b[0mengine\u001b[0m \u001b[0;34m==\u001b[0m \u001b[0;34m\"c\"\u001b[0m\u001b[0;34m:\u001b[0m\u001b[0;34m\u001b[0m\u001b[0;34m\u001b[0m\u001b[0m\n\u001b[0;32m-> 1168\u001b[0;31m             \u001b[0mself\u001b[0m\u001b[0;34m.\u001b[0m\u001b[0m_engine\u001b[0m \u001b[0;34m=\u001b[0m \u001b[0mCParserWrapper\u001b[0m\u001b[0;34m(\u001b[0m\u001b[0mself\u001b[0m\u001b[0;34m.\u001b[0m\u001b[0mf\u001b[0m\u001b[0;34m,\u001b[0m \u001b[0;34m**\u001b[0m\u001b[0mself\u001b[0m\u001b[0;34m.\u001b[0m\u001b[0moptions\u001b[0m\u001b[0;34m)\u001b[0m\u001b[0;34m\u001b[0m\u001b[0;34m\u001b[0m\u001b[0m\n\u001b[0m\u001b[1;32m   1169\u001b[0m         \u001b[0;32melse\u001b[0m\u001b[0;34m:\u001b[0m\u001b[0;34m\u001b[0m\u001b[0;34m\u001b[0m\u001b[0m\n\u001b[1;32m   1170\u001b[0m             \u001b[0;32mif\u001b[0m \u001b[0mengine\u001b[0m \u001b[0;34m==\u001b[0m \u001b[0;34m\"python\"\u001b[0m\u001b[0;34m:\u001b[0m\u001b[0;34m\u001b[0m\u001b[0;34m\u001b[0m\u001b[0m\n",
      "\u001b[0;32m~/anaconda3/lib/python3.7/site-packages/pandas/io/parsers.py\u001b[0m in \u001b[0;36m__init__\u001b[0;34m(self, src, **kwds)\u001b[0m\n\u001b[1;32m   1996\u001b[0m         \u001b[0mkwds\u001b[0m\u001b[0;34m[\u001b[0m\u001b[0;34m\"usecols\"\u001b[0m\u001b[0;34m]\u001b[0m \u001b[0;34m=\u001b[0m \u001b[0mself\u001b[0m\u001b[0;34m.\u001b[0m\u001b[0musecols\u001b[0m\u001b[0;34m\u001b[0m\u001b[0;34m\u001b[0m\u001b[0m\n\u001b[1;32m   1997\u001b[0m \u001b[0;34m\u001b[0m\u001b[0m\n\u001b[0;32m-> 1998\u001b[0;31m         \u001b[0mself\u001b[0m\u001b[0;34m.\u001b[0m\u001b[0m_reader\u001b[0m \u001b[0;34m=\u001b[0m \u001b[0mparsers\u001b[0m\u001b[0;34m.\u001b[0m\u001b[0mTextReader\u001b[0m\u001b[0;34m(\u001b[0m\u001b[0msrc\u001b[0m\u001b[0;34m,\u001b[0m \u001b[0;34m**\u001b[0m\u001b[0mkwds\u001b[0m\u001b[0;34m)\u001b[0m\u001b[0;34m\u001b[0m\u001b[0;34m\u001b[0m\u001b[0m\n\u001b[0m\u001b[1;32m   1999\u001b[0m         \u001b[0mself\u001b[0m\u001b[0;34m.\u001b[0m\u001b[0munnamed_cols\u001b[0m \u001b[0;34m=\u001b[0m \u001b[0mself\u001b[0m\u001b[0;34m.\u001b[0m\u001b[0m_reader\u001b[0m\u001b[0;34m.\u001b[0m\u001b[0munnamed_cols\u001b[0m\u001b[0;34m\u001b[0m\u001b[0;34m\u001b[0m\u001b[0m\n\u001b[1;32m   2000\u001b[0m \u001b[0;34m\u001b[0m\u001b[0m\n",
      "\u001b[0;32mpandas/_libs/parsers.pyx\u001b[0m in \u001b[0;36mpandas._libs.parsers.TextReader.__cinit__\u001b[0;34m()\u001b[0m\n",
      "\u001b[0;32mpandas/_libs/parsers.pyx\u001b[0m in \u001b[0;36mpandas._libs.parsers.TextReader._setup_parser_source\u001b[0;34m()\u001b[0m\n",
      "\u001b[0;31mFileNotFoundError\u001b[0m: [Errno 2] No such file or directory: '../../data/precise2_data/log_tpm_norm_qc.csv'"
     ]
    }
   ],
   "source": [
    "# additional datasets run through FeatureCounts not present in QC-ed Rockhopper data\n",
    "\n",
    "old_log_tpm_qc = pd.read_csv('../../data/precise2_data/log_tpm_norm_qc.csv')\n",
    "\n",
    "RH_failed_inputs = DF_metadata.T[set(DF_log_tpm.columns) - set(old_log_tpm_qc.columns)].T.sort_index()\n",
    "# exclude the newly-added EEP project (only run through featureCounts)\n",
    "RH_failed_inputs = RH_failed_inputs[RH_failed_inputs['project_id'] != 'eep']\n",
    "RH_failed_inputs"
   ]
  },
  {
   "cell_type": "code",
   "execution_count": null,
   "metadata": {},
   "outputs": [],
   "source": [
    "new_failed = DF_metadata_fail_total.iloc[:,pd.np.r_[0:2,-7:-1]]\n",
    "\n",
    "new_failed"
   ]
  },
  {
   "cell_type": "code",
   "execution_count": null,
   "metadata": {},
   "outputs": [],
   "source": [
    "old_DF_metadata_fail = pd.read_csv('meta_data_failed_QC_total.tsv', sep = '\\t', index_col=0)\n",
    "\n",
    "old_failed = old_DF_metadata_fail.iloc[:,pd.np.r_[0:2,-7:-1]]\n",
    "\n",
    "old_failed"
   ]
  },
  {
   "cell_type": "markdown",
   "metadata": {},
   "source": [
    "### Samples that only failed Rockhopper and passed FeatureCounts"
   ]
  },
  {
   "cell_type": "markdown",
   "metadata": {},
   "source": [
    "Rockhopper stats"
   ]
  },
  {
   "cell_type": "code",
   "execution_count": null,
   "metadata": {},
   "outputs": [],
   "source": [
    "RH_failed_inputs"
   ]
  },
  {
   "cell_type": "code",
   "execution_count": null,
   "metadata": {},
   "outputs": [],
   "source": [
    "RH_failed_inputs[~RH_failed_inputs.index.isin(new_failed.index)].index"
   ]
  },
  {
   "cell_type": "code",
   "execution_count": null,
   "metadata": {},
   "outputs": [],
   "source": [
    "old_failed.loc[RH_failed_inputs[~RH_failed_inputs.index.isin(new_failed.index)].index]"
   ]
  },
  {
   "cell_type": "markdown",
   "metadata": {},
   "source": [
    "### Samples that failed both Rockhopper and FeatureCounts (FeatureCounts stats)"
   ]
  },
  {
   "cell_type": "markdown",
   "metadata": {},
   "source": [
    "Rockhopper stats"
   ]
  },
  {
   "cell_type": "code",
   "execution_count": null,
   "metadata": {},
   "outputs": [],
   "source": [
    "old_failed.loc[RH_failed_inputs[RH_failed_inputs.index.isin(new_failed.index)].index]"
   ]
  },
  {
   "cell_type": "markdown",
   "metadata": {},
   "source": [
    "FeatureCounts Stats"
   ]
  },
  {
   "cell_type": "code",
   "execution_count": null,
   "metadata": {},
   "outputs": [],
   "source": [
    "new_failed.loc[RH_failed_inputs[RH_failed_inputs.index.isin(new_failed.index)].index]"
   ]
  },
  {
   "cell_type": "markdown",
   "metadata": {},
   "source": [
    "### Samples that only failed with FeatureCounts and not Rockhopper"
   ]
  },
  {
   "cell_type": "markdown",
   "metadata": {},
   "source": [
    "FeatureCounts Stats"
   ]
  },
  {
   "cell_type": "code",
   "execution_count": null,
   "metadata": {},
   "outputs": [],
   "source": [
    "new_failed.loc[new_failed[~new_failed.index.isin(RH_failed_inputs.index)].index]"
   ]
  },
  {
   "cell_type": "markdown",
   "metadata": {},
   "source": [
    "### Samples that were only run through the Rockhopper pipeline and not FeatureCounts"
   ]
  },
  {
   "cell_type": "code",
   "execution_count": null,
   "metadata": {},
   "outputs": [],
   "source": [
    "DF_log_tpm = pd.read_csv(path.join(org_dir,'log_tpm.csv'),index_col=0).fillna(0)\n",
    "\n",
    "old_failed.loc[old_failed[~old_failed.index.isin(DF_log_tpm.columns)].index]"
   ]
  },
  {
   "cell_type": "code",
   "execution_count": null,
   "metadata": {},
   "outputs": [],
   "source": [
    "len(old_failed.loc[old_failed[~old_failed.index.isin(DF_log_tpm.columns)].index])"
   ]
  }
 ],
 "metadata": {
  "kernelspec": {
   "display_name": "Python 3",
   "language": "python",
   "name": "python3"
  },
  "language_info": {
   "codemirror_mode": {
    "name": "ipython",
    "version": 3
   },
   "file_extension": ".py",
   "mimetype": "text/x-python",
   "name": "python",
   "nbconvert_exporter": "python",
   "pygments_lexer": "ipython3",
   "version": "3.7.6"
  },
  "toc": {
   "base_numbering": 1,
   "nav_menu": {},
   "number_sections": true,
   "sideBar": true,
   "skip_h1_title": false,
   "title_cell": "Table of Contents",
   "title_sidebar": "Contents",
   "toc_cell": true,
   "toc_position": {},
   "toc_section_display": true,
   "toc_window_display": false
  }
 },
 "nbformat": 4,
 "nbformat_minor": 2
}
