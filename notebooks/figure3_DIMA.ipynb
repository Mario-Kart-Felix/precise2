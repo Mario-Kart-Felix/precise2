{
 "cells": [
  {
   "cell_type": "code",
   "execution_count": 1,
   "metadata": {},
   "outputs": [],
   "source": [
    "import sys\n",
    "sys.path.append('../')\n",
    "from icaviz.plotting import *\n",
    "from tqdm import tqdm_notebook as tqdm\n",
    "import pandas as pd\n",
    "from matplotlib.lines import Line2D\n",
    "from matplotlib import gridspec\n",
    "from matplotlib import cm\n",
    "import matplotlib\n",
    "import scipy\n",
    "\n",
    "from pymodulon.core import *\n",
    "from pymodulon.plotting import *\n",
    "from pymodulon.compare import *\n",
    "from pymodulon.io import *\n",
    "\n",
    "\n",
    "pd.options.display.max_columns = 999 "
   ]
  },
  {
   "cell_type": "code",
   "execution_count": 2,
   "metadata": {},
   "outputs": [],
   "source": [
    "#format figures\n",
    "matplotlib.rcParams['pdf.fonttype'] = 42\n",
    "matplotlib.rcParams['ps.fonttype'] = 42\n",
    "\n",
    "#Also, if you want your axes lines to be true black, and not this weird dark gray:\n",
    "matplotlib.rcParams['text.color'] = 'black'\n",
    "matplotlib.rcParams['axes.labelcolor'] = 'black'\n",
    "matplotlib.rcParams['xtick.color'] = 'black'\n",
    "matplotlib.rcParams['ytick.color'] = 'black'\n",
    "\n",
    "# Say, \"the default sans-serif font is COMIC SANS\"\n",
    "matplotlib.rcParams['font.sans-serif'] = \"Arial\"\n",
    "# Then, \"ALWAYS use sans-serif fonts\"\n",
    "matplotlib.rcParams['font.family'] = \"sans-serif\"\n",
    "matplotlib.rcParams['ytick.color'] = 'black'"
   ]
  },
  {
   "cell_type": "code",
   "execution_count": 3,
   "metadata": {},
   "outputs": [],
   "source": [
    "DATA_DIR = '../data/precise2/'\n",
    "PRECISE_DIR = '../data/precise/'\n",
    "GENE_DIR = '../data/annotation/'\n",
    "gene_info = pd.read_csv(GENE_DIR+'gene_info.csv', index_col =0)"
   ]
  },
  {
   "cell_type": "code",
   "execution_count": 4,
   "metadata": {},
   "outputs": [],
   "source": [
    "ica_data = load_json_model(DATA_DIR+'precise2.json.gz')"
   ]
  },
  {
   "cell_type": "markdown",
   "metadata": {},
   "source": [
    "# DIMA Histogram"
   ]
  },
  {
   "cell_type": "code",
   "execution_count": 14,
   "metadata": {},
   "outputs": [],
   "source": [
    "rep_list = list(ica_data.sample_table.reset_index().groupby([\"full_name\"])['index'].apply(list))\n"
   ]
  },
  {
   "cell_type": "code",
   "execution_count": 15,
   "metadata": {},
   "outputs": [],
   "source": [
    "df_dima = pd.read_csv('./data/dima_combined_final.csv', index_col=0)"
   ]
  },
  {
   "cell_type": "code",
   "execution_count": 16,
   "metadata": {},
   "outputs": [],
   "source": [
    "sns.set_style('ticks')"
   ]
  },
  {
   "cell_type": "code",
   "execution_count": 17,
   "metadata": {},
   "outputs": [
    {
     "data": {
      "image/png": "[encoded data removed]",
      "text/plain": [
       "<Figure size 237.6x144 with 1 Axes>"
      ]
     },
     "metadata": {},
     "output_type": "display_data"
    }
   ],
   "source": [
    "dima_list = df_dima.values.tolist()\n",
    "dima_list = list(itertools.chain.from_iterable(dima_list))\n",
    "dima_list = [x for x in dima_list if str(x) != 'nan']\n",
    "\n",
    "from statistics import mean \n",
    "dima_mean = int(round(mean(dima_list),0))\n",
    "\n",
    "\n",
    "fig, ax = plt.subplots(figsize = (3.3,2))\n",
    "\n",
    "sns.distplot(dima_list, kde=False, bins=20, color='#3a3596')\n",
    "ax.axvline(dima_mean, 0,1, color = '#3F4EA2')\n",
    "ax.text(dima_mean, 9400, 'Avg. # of DIMAs = '+str(dima_mean), color='#3F4EA2')\n",
    "\n",
    "ax.spines['top'].set_color('0'); ax.spines['bottom'].set_color('0')\n",
    "ax.spines['left'].set_color('0'); ax.spines['right'].set_color('0')\n",
    "\n",
    "ax.spines['top'].set_linewidth(2); ax.spines['bottom'].set_linewidth(2)\n",
    "ax.spines['left'].set_linewidth(2); ax.spines['right'].set_linewidth(2)\n",
    "ax.set_ylim(0,10300)\n",
    "\n",
    "ax.set_ylabel('Frequency', fontweight ='bold')\n",
    "ax.set_xlabel('Number of DIMAs between Conditions', fontweight ='bold' )\n",
    "plt.savefig('./fig3/dimas_histogram.pdf', dpi = 600, bbox_inches = 'tight')"
   ]
  },
  {
   "cell_type": "code",
   "execution_count": 18,
   "metadata": {},
   "outputs": [
    {
     "data": {
      "text/html": [
       "<div>\n",
       "<style scoped>\n",
       "    .dataframe tbody tr th:only-of-type {\n",
       "        vertical-align: middle;\n",
       "    }\n",
       "\n",
       "    .dataframe tbody tr th {\n",
       "        vertical-align: top;\n",
       "    }\n",
       "\n",
       "    .dataframe thead th {\n",
       "        text-align: right;\n",
       "    }\n",
       "</style>\n",
       "<table border=\"1\" class=\"dataframe\">\n",
       "  <thead>\n",
       "    <tr style=\"text-align: right;\">\n",
       "      <th></th>\n",
       "      <th>cond1</th>\n",
       "      <th>cond2</th>\n",
       "      <th>Number of DIMAs</th>\n",
       "      <th>cond1_cond2</th>\n",
       "    </tr>\n",
       "  </thead>\n",
       "  <tbody>\n",
       "    <tr>\n",
       "      <th>1</th>\n",
       "      <td>42c:42c:ale1</td>\n",
       "      <td>42c:42c:ale10</td>\n",
       "      <td>20.0</td>\n",
       "      <td>42c:42c:ale1_42c:42c:ale10</td>\n",
       "    </tr>\n",
       "    <tr>\n",
       "      <th>2</th>\n",
       "      <td>42c:42c:ale1</td>\n",
       "      <td>42c:42c:ale2</td>\n",
       "      <td>41.0</td>\n",
       "      <td>42c:42c:ale1_42c:42c:ale2</td>\n",
       "    </tr>\n",
       "    <tr>\n",
       "      <th>3</th>\n",
       "      <td>42c:42c:ale10</td>\n",
       "      <td>42c:42c:ale2</td>\n",
       "      <td>22.0</td>\n",
       "      <td>42c:42c:ale10_42c:42c:ale2</td>\n",
       "    </tr>\n",
       "    <tr>\n",
       "      <th>4</th>\n",
       "      <td>42c:42c:ale1</td>\n",
       "      <td>42c:42c:ale3</td>\n",
       "      <td>40.0</td>\n",
       "      <td>42c:42c:ale1_42c:42c:ale3</td>\n",
       "    </tr>\n",
       "    <tr>\n",
       "      <th>5</th>\n",
       "      <td>42c:42c:ale10</td>\n",
       "      <td>42c:42c:ale3</td>\n",
       "      <td>20.0</td>\n",
       "      <td>42c:42c:ale10_42c:42c:ale3</td>\n",
       "    </tr>\n",
       "  </tbody>\n",
       "</table>\n",
       "</div>"
      ],
      "text/plain": [
       "           cond1          cond2  Number of DIMAs                 cond1_cond2\n",
       "1   42c:42c:ale1  42c:42c:ale10             20.0  42c:42c:ale1_42c:42c:ale10\n",
       "2   42c:42c:ale1   42c:42c:ale2             41.0   42c:42c:ale1_42c:42c:ale2\n",
       "3  42c:42c:ale10   42c:42c:ale2             22.0  42c:42c:ale10_42c:42c:ale2\n",
       "4   42c:42c:ale1   42c:42c:ale3             40.0   42c:42c:ale1_42c:42c:ale3\n",
       "5  42c:42c:ale10   42c:42c:ale3             20.0  42c:42c:ale10_42c:42c:ale3"
      ]
     },
     "execution_count": 18,
     "metadata": {},
     "output_type": "execute_result"
    }
   ],
   "source": [
    "dima_collapse = pd.melt(df_dima, ignore_index=False).dropna().reset_index().rename(columns={'index':'cond1', 'variable':'cond2', 'value':'Number of DIMAs'})\n",
    "dima_collapse['cond1'] = dima_collapse['cond1'].str.replace('_',':')\n",
    "dima_collapse['cond2'] = dima_collapse['cond2'].str.replace('_',':')\n",
    "dima_collapse = dima_collapse[dima_collapse['cond1'] != dima_collapse['cond2']]\n",
    "dima_collapse['cond1_cond2'] = dima_collapse['cond1']+\"_\"+dima_collapse['cond2']\n",
    "\n",
    "dima_collapse.head()"
   ]
  },
  {
   "cell_type": "code",
   "execution_count": 19,
   "metadata": {},
   "outputs": [
    {
     "data": {
      "text/html": [
       "<div>\n",
       "<style scoped>\n",
       "    .dataframe tbody tr th:only-of-type {\n",
       "        vertical-align: middle;\n",
       "    }\n",
       "\n",
       "    .dataframe tbody tr th {\n",
       "        vertical-align: top;\n",
       "    }\n",
       "\n",
       "    .dataframe thead th {\n",
       "        text-align: right;\n",
       "    }\n",
       "</style>\n",
       "<table border=\"1\" class=\"dataframe\">\n",
       "  <thead>\n",
       "    <tr style=\"text-align: right;\">\n",
       "      <th></th>\n",
       "      <th>cond1</th>\n",
       "      <th>cond2</th>\n",
       "      <th>Number of DEGs</th>\n",
       "      <th>cond1_cond2</th>\n",
       "    </tr>\n",
       "  </thead>\n",
       "  <tbody>\n",
       "    <tr>\n",
       "      <th>0</th>\n",
       "      <td>control:wt:glc</td>\n",
       "      <td>fur:wt:dpd</td>\n",
       "      <td>659.0</td>\n",
       "      <td>control:wt:glc_control:wt:glc</td>\n",
       "    </tr>\n",
       "    <tr>\n",
       "      <th>1</th>\n",
       "      <td>control:wt:glc</td>\n",
       "      <td>fur:wt:fe</td>\n",
       "      <td>54.0</td>\n",
       "      <td>control:wt:glc_control:wt:glc</td>\n",
       "    </tr>\n",
       "    <tr>\n",
       "      <th>2</th>\n",
       "      <td>fur:wt:dpd</td>\n",
       "      <td>fur:wt:fe</td>\n",
       "      <td>714.0</td>\n",
       "      <td>fur:wt:dpd_fur:wt:dpd</td>\n",
       "    </tr>\n",
       "    <tr>\n",
       "      <th>3</th>\n",
       "      <td>control:wt:glc</td>\n",
       "      <td>fur:delfur:dpd</td>\n",
       "      <td>566.0</td>\n",
       "      <td>control:wt:glc_control:wt:glc</td>\n",
       "    </tr>\n",
       "    <tr>\n",
       "      <th>4</th>\n",
       "      <td>fur:wt:dpd</td>\n",
       "      <td>fur:delfur:dpd</td>\n",
       "      <td>42.0</td>\n",
       "      <td>fur:wt:dpd_fur:wt:dpd</td>\n",
       "    </tr>\n",
       "  </tbody>\n",
       "</table>\n",
       "</div>"
      ],
      "text/plain": [
       "            cond1           cond2  Number of DEGs  \\\n",
       "0  control:wt:glc      fur:wt:dpd           659.0   \n",
       "1  control:wt:glc       fur:wt:fe            54.0   \n",
       "2      fur:wt:dpd       fur:wt:fe           714.0   \n",
       "3  control:wt:glc  fur:delfur:dpd           566.0   \n",
       "4      fur:wt:dpd  fur:delfur:dpd            42.0   \n",
       "\n",
       "                     cond1_cond2  \n",
       "0  control:wt:glc_control:wt:glc  \n",
       "1  control:wt:glc_control:wt:glc  \n",
       "2          fur:wt:dpd_fur:wt:dpd  \n",
       "3  control:wt:glc_control:wt:glc  \n",
       "4          fur:wt:dpd_fur:wt:dpd  "
      ]
     },
     "execution_count": 19,
     "metadata": {},
     "output_type": "execute_result"
    }
   ],
   "source": [
    "degs = pd.read_csv('./data/degs_combined.csv', index_col=0)\n",
    "degs_collapse = pd.melt(degs, ignore_index=False).dropna().reset_index().rename(columns={'index':'cond1', 'variable':'cond2','value':'Number of DEGs'})\n",
    "degs_collapse['cond1'] = degs_collapse['cond1'].str.replace('_',':')\n",
    "degs_collapse['cond2'] = degs_collapse['cond2'].str.replace('_',':')\n",
    "degs_collapse = degs_collapse[degs_collapse['cond1'] != degs_collapse['cond2']]\n",
    "degs_collapse['cond1_cond2'] = degs_collapse['cond1']+\"_\"+degs_collapse['cond1']\n",
    "\n",
    "degs_collapse.head()"
   ]
  },
  {
   "cell_type": "code",
   "execution_count": 20,
   "metadata": {},
   "outputs": [
    {
     "data": {
      "text/html": [
       "<div>\n",
       "<style scoped>\n",
       "    .dataframe tbody tr th:only-of-type {\n",
       "        vertical-align: middle;\n",
       "    }\n",
       "\n",
       "    .dataframe tbody tr th {\n",
       "        vertical-align: top;\n",
       "    }\n",
       "\n",
       "    .dataframe thead th {\n",
       "        text-align: right;\n",
       "    }\n",
       "</style>\n",
       "<table border=\"1\" class=\"dataframe\">\n",
       "  <thead>\n",
       "    <tr style=\"text-align: right;\">\n",
       "      <th></th>\n",
       "      <th>cond1</th>\n",
       "      <th>cond2</th>\n",
       "      <th>Number of DEGs</th>\n",
       "      <th>cond1_cond2</th>\n",
       "    </tr>\n",
       "  </thead>\n",
       "  <tbody>\n",
       "    <tr>\n",
       "      <th>0</th>\n",
       "      <td>control:wt:glc</td>\n",
       "      <td>fur:wt:dpd</td>\n",
       "      <td>659.0</td>\n",
       "      <td>fur:wt:dpd_control:wt:glc</td>\n",
       "    </tr>\n",
       "    <tr>\n",
       "      <th>1</th>\n",
       "      <td>control:wt:glc</td>\n",
       "      <td>fur:wt:fe</td>\n",
       "      <td>54.0</td>\n",
       "      <td>fur:wt:fe_control:wt:glc</td>\n",
       "    </tr>\n",
       "    <tr>\n",
       "      <th>2</th>\n",
       "      <td>fur:wt:dpd</td>\n",
       "      <td>fur:wt:fe</td>\n",
       "      <td>714.0</td>\n",
       "      <td>fur:wt:fe_fur:wt:dpd</td>\n",
       "    </tr>\n",
       "    <tr>\n",
       "      <th>3</th>\n",
       "      <td>control:wt:glc</td>\n",
       "      <td>fur:delfur:dpd</td>\n",
       "      <td>566.0</td>\n",
       "      <td>fur:delfur:dpd_control:wt:glc</td>\n",
       "    </tr>\n",
       "    <tr>\n",
       "      <th>4</th>\n",
       "      <td>fur:wt:dpd</td>\n",
       "      <td>fur:delfur:dpd</td>\n",
       "      <td>42.0</td>\n",
       "      <td>fur:delfur:dpd_fur:wt:dpd</td>\n",
       "    </tr>\n",
       "  </tbody>\n",
       "</table>\n",
       "</div>"
      ],
      "text/plain": [
       "            cond1           cond2  Number of DEGs  \\\n",
       "0  control:wt:glc      fur:wt:dpd           659.0   \n",
       "1  control:wt:glc       fur:wt:fe            54.0   \n",
       "2      fur:wt:dpd       fur:wt:fe           714.0   \n",
       "3  control:wt:glc  fur:delfur:dpd           566.0   \n",
       "4      fur:wt:dpd  fur:delfur:dpd            42.0   \n",
       "\n",
       "                     cond1_cond2  \n",
       "0      fur:wt:dpd_control:wt:glc  \n",
       "1       fur:wt:fe_control:wt:glc  \n",
       "2           fur:wt:fe_fur:wt:dpd  \n",
       "3  fur:delfur:dpd_control:wt:glc  \n",
       "4      fur:delfur:dpd_fur:wt:dpd  "
      ]
     },
     "execution_count": 20,
     "metadata": {},
     "output_type": "execute_result"
    }
   ],
   "source": [
    "degs_collapse2 = pd.melt(degs, ignore_index=False).dropna().reset_index().rename(columns={'index':'cond1', 'variable':'cond2','value':'Number of DEGs'})\n",
    "degs_collapse2['cond1'] = degs_collapse2['cond1'].str.replace('_',':')\n",
    "degs_collapse2['cond2'] = degs_collapse2['cond2'].str.replace('_',':')\n",
    "degs_collapse2 = degs_collapse2[degs_collapse2['cond1'] != degs_collapse2['cond2']]\n",
    "degs_collapse2['cond1_cond2'] = degs_collapse2['cond2']+\"_\"+degs_collapse2['cond1']\n",
    "\n",
    "degs_collapse2.head()"
   ]
  },
  {
   "cell_type": "code",
   "execution_count": 21,
   "metadata": {},
   "outputs": [
    {
     "data": {
      "text/html": [
       "<div>\n",
       "<style scoped>\n",
       "    .dataframe tbody tr th:only-of-type {\n",
       "        vertical-align: middle;\n",
       "    }\n",
       "\n",
       "    .dataframe tbody tr th {\n",
       "        vertical-align: top;\n",
       "    }\n",
       "\n",
       "    .dataframe thead th {\n",
       "        text-align: right;\n",
       "    }\n",
       "</style>\n",
       "<table border=\"1\" class=\"dataframe\">\n",
       "  <thead>\n",
       "    <tr style=\"text-align: right;\">\n",
       "      <th></th>\n",
       "      <th>cond1_x</th>\n",
       "      <th>cond2_x</th>\n",
       "      <th>Number of DIMAs</th>\n",
       "      <th>cond1_cond2</th>\n",
       "      <th>cond1_y</th>\n",
       "      <th>cond2_y</th>\n",
       "      <th>Number of DEGs</th>\n",
       "    </tr>\n",
       "  </thead>\n",
       "  <tbody>\n",
       "    <tr>\n",
       "      <th>0</th>\n",
       "      <td>abx:media:camhb:cef</td>\n",
       "      <td>abx:media:camhb:ctrl</td>\n",
       "      <td>0.0</td>\n",
       "      <td>abx:media:camhb:cef_abx:media:camhb:ctrl</td>\n",
       "      <td>abx:media:camhb:ctrl</td>\n",
       "      <td>abx:media:camhb:cef</td>\n",
       "      <td>220.0</td>\n",
       "    </tr>\n",
       "    <tr>\n",
       "      <th>1</th>\n",
       "      <td>abx:media:camhb:cipro</td>\n",
       "      <td>abx:media:camhb:ctrl</td>\n",
       "      <td>9.0</td>\n",
       "      <td>abx:media:camhb:cipro_abx:media:camhb:ctrl</td>\n",
       "      <td>abx:media:camhb:ctrl</td>\n",
       "      <td>abx:media:camhb:cipro</td>\n",
       "      <td>352.0</td>\n",
       "    </tr>\n",
       "    <tr>\n",
       "      <th>2</th>\n",
       "      <td>abx:media:camhb:cef</td>\n",
       "      <td>abx:media:camhb:mero</td>\n",
       "      <td>0.0</td>\n",
       "      <td>abx:media:camhb:cef_abx:media:camhb:mero</td>\n",
       "      <td>abx:media:camhb:mero</td>\n",
       "      <td>abx:media:camhb:cef</td>\n",
       "      <td>100.0</td>\n",
       "    </tr>\n",
       "    <tr>\n",
       "      <th>3</th>\n",
       "      <td>abx:media:camhb:cipro</td>\n",
       "      <td>abx:media:camhb:mero</td>\n",
       "      <td>6.0</td>\n",
       "      <td>abx:media:camhb:cipro_abx:media:camhb:mero</td>\n",
       "      <td>abx:media:camhb:mero</td>\n",
       "      <td>abx:media:camhb:cipro</td>\n",
       "      <td>257.0</td>\n",
       "    </tr>\n",
       "    <tr>\n",
       "      <th>4</th>\n",
       "      <td>abx:media:camhb:cef</td>\n",
       "      <td>abx:media:camhb:trisulf</td>\n",
       "      <td>0.0</td>\n",
       "      <td>abx:media:camhb:cef_abx:media:camhb:trisulf</td>\n",
       "      <td>abx:media:camhb:trisulf</td>\n",
       "      <td>abx:media:camhb:cef</td>\n",
       "      <td>84.0</td>\n",
       "    </tr>\n",
       "  </tbody>\n",
       "</table>\n",
       "</div>"
      ],
      "text/plain": [
       "                 cond1_x                  cond2_x  Number of DIMAs  \\\n",
       "0    abx:media:camhb:cef     abx:media:camhb:ctrl              0.0   \n",
       "1  abx:media:camhb:cipro     abx:media:camhb:ctrl              9.0   \n",
       "2    abx:media:camhb:cef     abx:media:camhb:mero              0.0   \n",
       "3  abx:media:camhb:cipro     abx:media:camhb:mero              6.0   \n",
       "4    abx:media:camhb:cef  abx:media:camhb:trisulf              0.0   \n",
       "\n",
       "                                   cond1_cond2                  cond1_y  \\\n",
       "0     abx:media:camhb:cef_abx:media:camhb:ctrl     abx:media:camhb:ctrl   \n",
       "1   abx:media:camhb:cipro_abx:media:camhb:ctrl     abx:media:camhb:ctrl   \n",
       "2     abx:media:camhb:cef_abx:media:camhb:mero     abx:media:camhb:mero   \n",
       "3   abx:media:camhb:cipro_abx:media:camhb:mero     abx:media:camhb:mero   \n",
       "4  abx:media:camhb:cef_abx:media:camhb:trisulf  abx:media:camhb:trisulf   \n",
       "\n",
       "                 cond2_y  Number of DEGs  \n",
       "0    abx:media:camhb:cef           220.0  \n",
       "1  abx:media:camhb:cipro           352.0  \n",
       "2    abx:media:camhb:cef           100.0  \n",
       "3  abx:media:camhb:cipro           257.0  \n",
       "4    abx:media:camhb:cef            84.0  "
      ]
     },
     "execution_count": 21,
     "metadata": {},
     "output_type": "execute_result"
    }
   ],
   "source": [
    "df_com = pd.concat([dima_collapse.merge(degs_collapse, on='cond1_cond2'), dima_collapse.merge(degs_collapse2, on='cond1_cond2')],axis=0)\n",
    "\n",
    "df_com.head()"
   ]
  },
  {
   "cell_type": "code",
   "execution_count": 22,
   "metadata": {},
   "outputs": [
    {
     "data": {
      "image/png": "[encoded data removed]",
      "text/plain": [
       "<Figure size 216x216 with 1 Axes>"
      ]
     },
     "metadata": {},
     "output_type": "display_data"
    }
   ],
   "source": [
    "fig, ax = plt.subplots(figsize=(3,3))\n",
    "\n",
    "y=df_com[\"Number of DEGs\"]\n",
    "x=df_com[\"Number of DIMAs\"]\n",
    "ax.scatter(x=x, y=y, color='gray', alpha=.2, s=6)\n",
    "\n",
    "#best fit line\n",
    "m, b = np.polyfit(x, y, 1)\n",
    "ax.plot(np.unique(x), np.poly1d(np.polyfit(x, y, 1))(np.unique(x)),\n",
    "        ls = '--', color='blue')\n",
    "ax.text(0,2050, 'Best fit: '+str(round(m,1))+'x+'+str(round(b,1)),\n",
    "        fontweight ='bold', color='blue')\n",
    "\n",
    "#format\n",
    "ax.spines['top'].set_color('0'); ax.spines['bottom'].set_color('0')\n",
    "ax.spines['left'].set_color('0'); ax.spines['right'].set_color('0')\n",
    "ax.spines['top'].set_linewidth(2); ax.spines['bottom'].set_linewidth(2)\n",
    "ax.spines['left'].set_linewidth(2); ax.spines['right'].set_linewidth(2)\n",
    "\n",
    "ax.set_xlabel('Number of DIMAs', fontweight ='bold')\n",
    "ax.set_ylabel('Number of DEGs', fontweight ='bold' )\n",
    "plt.savefig('./fig3/degs_versus_dima.pdf', dpi = 600, bbox_inches = 'tight')"
   ]
  },
  {
   "cell_type": "code",
   "execution_count": 24,
   "metadata": {
    "scrolled": true
   },
   "outputs": [
    {
     "data": {
      "image/png": "[encoded data removed]",
      "text/plain": [
       "<Figure size 216x180 with 2 Axes>"
      ]
     },
     "metadata": {},
     "output_type": "display_data"
    }
   ],
   "source": [
    "# heat version\n",
    "\n",
    "fig, ax = plt.subplots(figsize=(3,2.5))\n",
    "\n",
    "y=df_com[\"Number of DEGs\"]\n",
    "x=df_com[\"Number of DIMAs\"]\n",
    "\n",
    "# code from https://stackoverflow.com/questions/2369492/generate-a-heatmap-in-matplotlib-using-a-scatter-data-set\n",
    "heatmap, xedges, yedges = np.histogram2d(x, y, bins=(50,50))\n",
    "extent = [xedges[0], xedges[-1], yedges[0], yedges[-1]]\n",
    "scatterheat = ax.imshow(heatmap.T, extent=extent, origin='lower', \n",
    "                        aspect='auto', cmap='RdPu')\n",
    "plt.colorbar(scatterheat)\n",
    "\n",
    "# best fit line\n",
    "m, b, r_value, p_value, std_err = scipy.stats.linregress(x, y)\n",
    "\n",
    "# R^2 calc\n",
    "y_bar = y.mean()\n",
    "y_pred = [m*x_i+b for x_i in x]\n",
    "SS_TOT = sum([(y_i-y_bar)**2 for y_i in y])\n",
    "SS_RES = sum((y - y_pred)**2)\n",
    "R_2 = 1- SS_RES/SS_TOT\n",
    "\n",
    "# plot fit line\n",
    "ax.plot(np.unique(x), m*(np.unique(x))+b,\n",
    "        ls = '--', color='#4a9696')\n",
    "ax.text(5,1650, 'Best fit: '+str(round(m,1))+'x+'+str(round(b,1))+'\\n $R^2$='+str(round(R_2,2)),\n",
    "        fontweight ='bold', color='#4a9696')\n",
    "\n",
    "#format\n",
    "ax.spines['top'].set_color('0'); ax.spines['bottom'].set_color('0')\n",
    "ax.spines['left'].set_color('0'); ax.spines['right'].set_color('0')\n",
    "ax.spines['top'].set_linewidth(2); ax.spines['bottom'].set_linewidth(2)\n",
    "ax.spines['left'].set_linewidth(2); ax.spines['right'].set_linewidth(2)\n",
    "\n",
    "ax.set_xlabel('Number of DIMAs', fontweight ='bold')\n",
    "ax.set_ylabel('Number of DEGs', fontweight ='bold' )\n",
    "plt.savefig('./fig3/degs_versus_dima.pdf', dpi = 600, bbox_inches = 'tight')"
   ]
  },
  {
   "cell_type": "code",
   "execution_count": null,
   "metadata": {},
   "outputs": [],
   "source": []
  }
 ],
 "metadata": {
  "kernelspec": {
   "display_name": "Python 3",
   "language": "python",
   "name": "python3"
  },
  "language_info": {
   "codemirror_mode": {
    "name": "ipython",
    "version": 3
   },
   "file_extension": ".py",
   "mimetype": "text/x-python",
   "name": "python",
   "nbconvert_exporter": "python",
   "pygments_lexer": "ipython3",
   "version": "3.8.5"
  },
  "toc": {
   "base_numbering": 1,
   "nav_menu": {},
   "number_sections": true,
   "sideBar": true,
   "skip_h1_title": false,
   "title_cell": "Table of Contents",
   "title_sidebar": "Contents",
   "toc_cell": false,
   "toc_position": {
    "height": "calc(100% - 180px)",
    "left": "10px",
    "top": "150px",
    "width": "165px"
   },
   "toc_section_display": true,
   "toc_window_display": true
  }
 },
 "nbformat": 4,
 "nbformat_minor": 4
}
