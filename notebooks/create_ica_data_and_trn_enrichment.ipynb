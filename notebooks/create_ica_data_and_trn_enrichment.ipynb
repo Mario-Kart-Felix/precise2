{
 "cells": [
  {
   "cell_type": "markdown",
   "metadata": {
    "toc": true
   },
   "source": [
    "<h1>Table of Contents<span class=\"tocSkip\"></span></h1>\n",
    "<div class=\"toc\"><ul class=\"toc-item\"><li><span><a href=\"#Setup\" data-toc-modified-id=\"Setup-1\"><span class=\"toc-item-num\">1&nbsp;&nbsp;</span>Setup</a></span><ul class=\"toc-item\"><li><span><a href=\"#Check-your-sample-table-(i.e.-metadata-file)\" data-toc-modified-id=\"Check-your-sample-table-(i.e.-metadata-file)-1.1\"><span class=\"toc-item-num\">1.1&nbsp;&nbsp;</span>Check your sample table (i.e. metadata file)</a></span></li><li><span><a href=\"#Check-your-TRN\" data-toc-modified-id=\"Check-your-TRN-1.2\"><span class=\"toc-item-num\">1.2&nbsp;&nbsp;</span>Check your TRN</a></span></li><li><span><a href=\"#Load-the-data\" data-toc-modified-id=\"Load-the-data-1.3\"><span class=\"toc-item-num\">1.3&nbsp;&nbsp;</span>Load the data</a></span></li></ul></li><li><span><a href=\"#Regulatory-iModulons\" data-toc-modified-id=\"Regulatory-iModulons-2\"><span class=\"toc-item-num\">2&nbsp;&nbsp;</span>Regulatory iModulons</a></span></li><li><span><a href=\"#Check-for-single-gene-iModulons\" data-toc-modified-id=\"Check-for-single-gene-iModulons-3\"><span class=\"toc-item-num\">3&nbsp;&nbsp;</span>Check for single gene iModulons</a></span></li><li><span><a href=\"#Add-Explained-Variance\" data-toc-modified-id=\"Add-Explained-Variance-4\"><span class=\"toc-item-num\">4&nbsp;&nbsp;</span>Add Explained Variance</a></span></li><li><span><a href=\"#Save-iModulon-object\" data-toc-modified-id=\"Save-iModulon-object-5\"><span class=\"toc-item-num\">5&nbsp;&nbsp;</span>Save iModulon object</a></span></li></ul></div>"
   ]
  },
  {
   "cell_type": "markdown",
   "metadata": {},
   "source": [
    "# Setup\n",
    "This IPython notebook will walk through the steps of characterizing iModulons through semi-automated tools. You will need:\n",
    "* M and A matrices\n",
    "* Expression data (e.g. `log_tpm_norm.csv`)\n",
    "* Gene table and KEGG/GO annotations (Generated in `gene_annotation.ipynb`)\n",
    "* Sample table, with a column for `project` and `condition`\n",
    "* TRN file\n",
    "\n",
    "Optional:\n",
    "* iModulon table (if you already have some characterized iModulons)"
   ]
  },
  {
   "cell_type": "code",
   "execution_count": 1,
   "metadata": {},
   "outputs": [],
   "source": [
    "from pymodulon.core import IcaData\n",
    "from pymodulon.io import save_to_json\n",
    "from os import path\n",
    "import pandas as pd\n",
    "import re\n",
    "from Bio.KEGG import REST\n",
    "from tqdm.notebook import tqdm"
   ]
  },
  {
   "cell_type": "code",
   "execution_count": 2,
   "metadata": {},
   "outputs": [],
   "source": [
    "# Enter the location of your data here\n",
    "data_dir = '../data/precise2/'"
   ]
  },
  {
   "cell_type": "markdown",
   "metadata": {},
   "source": [
    "## Check your sample table (i.e. metadata file)\n",
    "Your metadata file will probably have a lot of columns, most of which you may not care about. Feel free to save a secondary copy of your metadata file with only columns that seem relevant to you. The two most important columns are:\n",
    "1. `project`\n",
    "2. `condition`\n",
    "\n",
    "Make sure that these columns exist in your metadata file"
   ]
  },
  {
   "cell_type": "code",
   "execution_count": 3,
   "metadata": {},
   "outputs": [
    {
     "data": {
      "text/html": [
       "<div>\n",
       "<style scoped>\n",
       "    .dataframe tbody tr th:only-of-type {\n",
       "        vertical-align: middle;\n",
       "    }\n",
       "\n",
       "    .dataframe tbody tr th {\n",
       "        vertical-align: top;\n",
       "    }\n",
       "\n",
       "    .dataframe thead th {\n",
       "        text-align: right;\n",
       "    }\n",
       "</style>\n",
       "<table border=\"1\" class=\"dataframe\">\n",
       "  <thead>\n",
       "    <tr style=\"text-align: right;\">\n",
       "      <th></th>\n",
       "      <th>project</th>\n",
       "      <th>condition</th>\n",
       "    </tr>\n",
       "  </thead>\n",
       "  <tbody>\n",
       "    <tr>\n",
       "      <th>ecoli_00001</th>\n",
       "      <td>control</td>\n",
       "      <td>wt_glc</td>\n",
       "    </tr>\n",
       "    <tr>\n",
       "      <th>ecoli_00002</th>\n",
       "      <td>control</td>\n",
       "      <td>wt_glc</td>\n",
       "    </tr>\n",
       "    <tr>\n",
       "      <th>ecoli_00003</th>\n",
       "      <td>fur</td>\n",
       "      <td>wt_dpd</td>\n",
       "    </tr>\n",
       "    <tr>\n",
       "      <th>ecoli_00004</th>\n",
       "      <td>fur</td>\n",
       "      <td>wt_dpd</td>\n",
       "    </tr>\n",
       "    <tr>\n",
       "      <th>ecoli_00005</th>\n",
       "      <td>fur</td>\n",
       "      <td>wt_fe</td>\n",
       "    </tr>\n",
       "  </tbody>\n",
       "</table>\n",
       "</div>"
      ],
      "text/plain": [
       "             project condition\n",
       "ecoli_00001  control    wt_glc\n",
       "ecoli_00002  control    wt_glc\n",
       "ecoli_00003      fur    wt_dpd\n",
       "ecoli_00004      fur    wt_dpd\n",
       "ecoli_00005      fur     wt_fe"
      ]
     },
     "execution_count": 3,
     "metadata": {},
     "output_type": "execute_result"
    }
   ],
   "source": [
    "df_metadata = pd.read_csv(path.join(data_dir,'metadata_qc.csv'),index_col=0)\n",
    "df_metadata[['project','condition']].head()"
   ]
  },
  {
   "cell_type": "code",
   "execution_count": 4,
   "metadata": {},
   "outputs": [
    {
     "name": "stdout",
     "output_type": "stream",
     "text": [
      "True\n",
      "True\n"
     ]
    }
   ],
   "source": [
    "print(df_metadata.project.notnull().all())\n",
    "print(df_metadata.condition.notnull().all())"
   ]
  },
  {
   "cell_type": "markdown",
   "metadata": {},
   "source": [
    "## Check your TRN"
   ]
  },
  {
   "cell_type": "markdown",
   "metadata": {},
   "source": [
    "Each row of the TRN file represents a regulatory interaction.  \n",
    "**Your TRN file must have the following columns:**\n",
    "1. `regulator` - Name of regulator (`/` or `+` characters will be converted to `;`)\n",
    "1. `gene_id` - Locus tag of gene being regulated\n",
    "\n",
    "The following columns are optional, but are helpful to have:\n",
    "1. `regulator_id` - Locus tag of regulator\n",
    "1. `gene_name` - Name of gene (can automatically update this using `name2num`)\n",
    "1. `direction` - Direction of regulation ('+' for activation, '-' for repression, '?' or NaN for unknown)\n",
    "1. `evidence` - Evidence of regulation (e.g. ChIP-exo, qRT-PCR, SELEX, Motif search)\n",
    "1. `PMID` - Reference for regulation\n",
    "\n",
    "You may add any other columns that could help you. TRNs may be saved as either CSV or TSV files. See below for an example:"
   ]
  },
  {
   "cell_type": "code",
   "execution_count": 5,
   "metadata": {},
   "outputs": [
    {
     "data": {
      "text/html": [
       "<div>\n",
       "<style scoped>\n",
       "    .dataframe tbody tr th:only-of-type {\n",
       "        vertical-align: middle;\n",
       "    }\n",
       "\n",
       "    .dataframe tbody tr th {\n",
       "        vertical-align: top;\n",
       "    }\n",
       "\n",
       "    .dataframe thead th {\n",
       "        text-align: right;\n",
       "    }\n",
       "</style>\n",
       "<table border=\"1\" class=\"dataframe\">\n",
       "  <thead>\n",
       "    <tr style=\"text-align: right;\">\n",
       "      <th></th>\n",
       "      <th>regulator</th>\n",
       "      <th>evidence</th>\n",
       "      <th>gene_id</th>\n",
       "    </tr>\n",
       "  </thead>\n",
       "  <tbody>\n",
       "    <tr>\n",
       "      <th>0</th>\n",
       "      <td>FMN</td>\n",
       "      <td>Strong</td>\n",
       "      <td>b3041</td>\n",
       "    </tr>\n",
       "    <tr>\n",
       "      <th>1</th>\n",
       "      <td>Sigma19</td>\n",
       "      <td>Strong</td>\n",
       "      <td>b4287</td>\n",
       "    </tr>\n",
       "    <tr>\n",
       "      <th>2</th>\n",
       "      <td>Sigma19</td>\n",
       "      <td>Strong</td>\n",
       "      <td>b4288</td>\n",
       "    </tr>\n",
       "    <tr>\n",
       "      <th>3</th>\n",
       "      <td>Sigma19</td>\n",
       "      <td>Strong</td>\n",
       "      <td>b4289</td>\n",
       "    </tr>\n",
       "    <tr>\n",
       "      <th>4</th>\n",
       "      <td>Sigma19</td>\n",
       "      <td>Strong</td>\n",
       "      <td>b4290</td>\n",
       "    </tr>\n",
       "  </tbody>\n",
       "</table>\n",
       "</div>"
      ],
      "text/plain": [
       "  regulator evidence gene_id\n",
       "0       FMN   Strong   b3041\n",
       "1   Sigma19   Strong   b4287\n",
       "2   Sigma19   Strong   b4288\n",
       "3   Sigma19   Strong   b4289\n",
       "4   Sigma19   Strong   b4290"
      ]
     },
     "execution_count": 5,
     "metadata": {},
     "output_type": "execute_result"
    }
   ],
   "source": [
    "df_trn = pd.read_csv(path.join(data_dir,'TRN.csv'), index_col=0)\n",
    "df_trn.head()"
   ]
  },
  {
   "cell_type": "markdown",
   "metadata": {},
   "source": [
    "The `regulator` and `gene_id` must be filled in for each row"
   ]
  },
  {
   "cell_type": "code",
   "execution_count": 6,
   "metadata": {},
   "outputs": [
    {
     "name": "stdout",
     "output_type": "stream",
     "text": [
      "True\n",
      "True\n"
     ]
    }
   ],
   "source": [
    "print(df_trn.regulator.notnull().all())\n",
    "print(df_trn.gene_id.notnull().all())"
   ]
  },
  {
   "cell_type": "markdown",
   "metadata": {},
   "source": [
    "## Load the data\n",
    "You're now ready to load your IcaData object!"
   ]
  },
  {
   "cell_type": "code",
   "execution_count": 7,
   "metadata": {},
   "outputs": [
    {
     "name": "stderr",
     "output_type": "stream",
     "text": [
      "/Users/cam/Projects/pymodulon/pymodulon/core.py:346: UserWarning: The following genes are in the TRN but not in your M matrix: {'b4697', 'b4499_1', 'b0001', 'b3330', 'b3766', 'b2641_2', 'b4702', 'b2624', 'b3392', 'b4664', 'b4598', 'b2850_2', 'b4524_1', 'b4663', 'b2850_1', 'b1472', 'b4488_2', 'b2856', 'b4687', 'b4488_1', 'b4490_2', 'b4673', 'b0553_2', 'b3268_1', 'b4613', 'b4665', 'b0303', 'b4513', 'b4592', 'b2891_1', 'b2339', 'b3138', 'b4667', 'b2849', 'b2018', 'b3046_2', 'b3672', 'b4668', 'b4104_1', 'b2641_1', 'b4670', 'b2462', 'b4678', 'b2092_1', 'b3027', 'b2139_2', 'b1576', 'b2336', 'b4660_1', 'b2598', 'b0553_1', 'b1715', 'b4618', 'b3423_2', 'b1575', 'b4421', 'b4104_2', 'b3119', 'b4653', 'b3423_1', 'b3268_2', 'b4685', 'b3046_1', 'b1229', 'b4660_2', 'b4524_2', 'b3707', 'b0044', 'b0240_2', 'b2092_2', 'b4666', 'b0075', 'b4415', 'b2891_2', 'b1265', 'b2139_1', 'b4599', 'b4669', 'b0769', 'b0240_1', 'b1569', 'b1455', 'b4637'}\n",
      "  warnings.warn(\n",
      "/Users/cam/Projects/pymodulon/pymodulon/core.py:187: UserWarning: Optimizing iModulon thresholds, may take 2-3 minutes...\n",
      "  warnings.warn(\n"
     ]
    }
   ],
   "source": [
    "ica_data = IcaData(M = path.join(data_dir,'M.csv'),\n",
    "                   A = path.join(data_dir,'A.csv'),\n",
    "                   X = path.join(data_dir,'log_tpm_qc.csv'),\n",
    "                   gene_table = path.join(data_dir,'gene_info.csv'),\n",
    "                   sample_table = path.join(data_dir,'metadata_qc.csv'),\n",
    "                   trn = path.join(data_dir,'TRN.csv'),\n",
    "                  optimize_cutoff=True)"
   ]
  },
  {
   "cell_type": "markdown",
   "metadata": {},
   "source": [
    "# Regulatory iModulons\n",
    "Use `compute_trn_enrichment` to automatically check for Regulatory iModulons. The more complete your TRN, the more regulatory iModulons you'll find."
   ]
  },
  {
   "cell_type": "markdown",
   "metadata": {},
   "source": [
    "You can also search for AND/OR combinations of regulators using the `max_regs` argument. Here, we see that iModulon #4 may be regulated by the both ArnR;ArnR1 and ArnA;ArnB."
   ]
  },
  {
   "cell_type": "markdown",
   "metadata": {},
   "source": [
    "Regulator enrichments can be directly saved to the `imodulon_table` using the `save` argument. This saves the enrichment with the lowest q-value to the table. For iModulon #4, it will automatically save `ArnR;ArnR1` as the enrichment, but we want to save `ArnR;ArnR1+ArnA;ArnB`. We can update our enrichments accordingly, using `compute_regulon_enrichment`:"
   ]
  },
  {
   "cell_type": "code",
   "execution_count": 8,
   "metadata": {},
   "outputs": [
    {
     "data": {
      "text/html": [
       "<div>\n",
       "<style scoped>\n",
       "    .dataframe tbody tr th:only-of-type {\n",
       "        vertical-align: middle;\n",
       "    }\n",
       "\n",
       "    .dataframe tbody tr th {\n",
       "        vertical-align: top;\n",
       "    }\n",
       "\n",
       "    .dataframe thead th {\n",
       "        text-align: right;\n",
       "    }\n",
       "</style>\n",
       "<table border=\"1\" class=\"dataframe\">\n",
       "  <thead>\n",
       "    <tr style=\"text-align: right;\">\n",
       "      <th></th>\n",
       "      <th>imodulon</th>\n",
       "      <th>regulator</th>\n",
       "      <th>pvalue</th>\n",
       "      <th>qvalue</th>\n",
       "      <th>precision</th>\n",
       "      <th>recall</th>\n",
       "      <th>f1score</th>\n",
       "      <th>TP</th>\n",
       "      <th>regulon_size</th>\n",
       "      <th>imodulon_size</th>\n",
       "      <th>n_regs</th>\n",
       "    </tr>\n",
       "  </thead>\n",
       "  <tbody>\n",
       "    <tr>\n",
       "      <th>0</th>\n",
       "      <td>4</td>\n",
       "      <td>cysB</td>\n",
       "      <td>3.768948e-28</td>\n",
       "      <td>1.943762e-23</td>\n",
       "      <td>0.500000</td>\n",
       "      <td>0.516129</td>\n",
       "      <td>0.507937</td>\n",
       "      <td>16.0</td>\n",
       "      <td>32.0</td>\n",
       "      <td>31.0</td>\n",
       "      <td>1.0</td>\n",
       "    </tr>\n",
       "    <tr>\n",
       "      <th>1</th>\n",
       "      <td>4</td>\n",
       "      <td>Sigma70+cysB</td>\n",
       "      <td>5.473690e-28</td>\n",
       "      <td>1.943762e-23</td>\n",
       "      <td>0.600000</td>\n",
       "      <td>0.483871</td>\n",
       "      <td>0.535714</td>\n",
       "      <td>15.0</td>\n",
       "      <td>25.0</td>\n",
       "      <td>31.0</td>\n",
       "      <td>2.0</td>\n",
       "    </tr>\n",
       "    <tr>\n",
       "      <th>2</th>\n",
       "      <td>4</td>\n",
       "      <td>cysB+h-NS</td>\n",
       "      <td>9.541405e-14</td>\n",
       "      <td>2.258832e-09</td>\n",
       "      <td>1.000000</td>\n",
       "      <td>0.193548</td>\n",
       "      <td>0.324324</td>\n",
       "      <td>6.0</td>\n",
       "      <td>6.0</td>\n",
       "      <td>31.0</td>\n",
       "      <td>2.0</td>\n",
       "    </tr>\n",
       "    <tr>\n",
       "      <th>3</th>\n",
       "      <td>5</td>\n",
       "      <td>cusR+phoB</td>\n",
       "      <td>4.186643e-16</td>\n",
       "      <td>1.486719e-11</td>\n",
       "      <td>0.857143</td>\n",
       "      <td>0.545455</td>\n",
       "      <td>0.666667</td>\n",
       "      <td>6.0</td>\n",
       "      <td>7.0</td>\n",
       "      <td>11.0</td>\n",
       "      <td>2.0</td>\n",
       "    </tr>\n",
       "    <tr>\n",
       "      <th>4</th>\n",
       "      <td>5</td>\n",
       "      <td>phoB+yedW</td>\n",
       "      <td>4.186643e-16</td>\n",
       "      <td>1.486719e-11</td>\n",
       "      <td>0.857143</td>\n",
       "      <td>0.545455</td>\n",
       "      <td>0.666667</td>\n",
       "      <td>6.0</td>\n",
       "      <td>7.0</td>\n",
       "      <td>11.0</td>\n",
       "      <td>2.0</td>\n",
       "    </tr>\n",
       "    <tr>\n",
       "      <th>...</th>\n",
       "      <td>...</td>\n",
       "      <td>...</td>\n",
       "      <td>...</td>\n",
       "      <td>...</td>\n",
       "      <td>...</td>\n",
       "      <td>...</td>\n",
       "      <td>...</td>\n",
       "      <td>...</td>\n",
       "      <td>...</td>\n",
       "      <td>...</td>\n",
       "      <td>...</td>\n",
       "    </tr>\n",
       "    <tr>\n",
       "      <th>953</th>\n",
       "      <td>212</td>\n",
       "      <td>Sigma38+argR</td>\n",
       "      <td>2.062498e-09</td>\n",
       "      <td>8.137929e-06</td>\n",
       "      <td>0.357143</td>\n",
       "      <td>0.263158</td>\n",
       "      <td>0.303030</td>\n",
       "      <td>5.0</td>\n",
       "      <td>14.0</td>\n",
       "      <td>19.0</td>\n",
       "      <td>2.0</td>\n",
       "    </tr>\n",
       "    <tr>\n",
       "      <th>954</th>\n",
       "      <td>212</td>\n",
       "      <td>Sigma54+argR</td>\n",
       "      <td>2.062498e-09</td>\n",
       "      <td>8.137929e-06</td>\n",
       "      <td>0.357143</td>\n",
       "      <td>0.263158</td>\n",
       "      <td>0.303030</td>\n",
       "      <td>5.0</td>\n",
       "      <td>14.0</td>\n",
       "      <td>19.0</td>\n",
       "      <td>2.0</td>\n",
       "    </tr>\n",
       "    <tr>\n",
       "      <th>955</th>\n",
       "      <td>215</td>\n",
       "      <td>glpR</td>\n",
       "      <td>6.862213e-14</td>\n",
       "      <td>1.624560e-09</td>\n",
       "      <td>0.555556</td>\n",
       "      <td>0.833333</td>\n",
       "      <td>0.666667</td>\n",
       "      <td>5.0</td>\n",
       "      <td>9.0</td>\n",
       "      <td>6.0</td>\n",
       "      <td>1.0</td>\n",
       "    </tr>\n",
       "    <tr>\n",
       "      <th>956</th>\n",
       "      <td>215</td>\n",
       "      <td>Sigma70+glpR</td>\n",
       "      <td>6.862213e-14</td>\n",
       "      <td>1.624560e-09</td>\n",
       "      <td>0.555556</td>\n",
       "      <td>0.833333</td>\n",
       "      <td>0.666667</td>\n",
       "      <td>5.0</td>\n",
       "      <td>9.0</td>\n",
       "      <td>6.0</td>\n",
       "      <td>2.0</td>\n",
       "    </tr>\n",
       "    <tr>\n",
       "      <th>957</th>\n",
       "      <td>215</td>\n",
       "      <td>crp+glpR</td>\n",
       "      <td>6.862213e-14</td>\n",
       "      <td>1.624560e-09</td>\n",
       "      <td>0.555556</td>\n",
       "      <td>0.833333</td>\n",
       "      <td>0.666667</td>\n",
       "      <td>5.0</td>\n",
       "      <td>9.0</td>\n",
       "      <td>6.0</td>\n",
       "      <td>2.0</td>\n",
       "    </tr>\n",
       "  </tbody>\n",
       "</table>\n",
       "<p>958 rows × 11 columns</p>\n",
       "</div>"
      ],
      "text/plain": [
       "     imodulon     regulator        pvalue        qvalue  precision    recall  \\\n",
       "0           4          cysB  3.768948e-28  1.943762e-23   0.500000  0.516129   \n",
       "1           4  Sigma70+cysB  5.473690e-28  1.943762e-23   0.600000  0.483871   \n",
       "2           4     cysB+h-NS  9.541405e-14  2.258832e-09   1.000000  0.193548   \n",
       "3           5     cusR+phoB  4.186643e-16  1.486719e-11   0.857143  0.545455   \n",
       "4           5     phoB+yedW  4.186643e-16  1.486719e-11   0.857143  0.545455   \n",
       "..        ...           ...           ...           ...        ...       ...   \n",
       "953       212  Sigma38+argR  2.062498e-09  8.137929e-06   0.357143  0.263158   \n",
       "954       212  Sigma54+argR  2.062498e-09  8.137929e-06   0.357143  0.263158   \n",
       "955       215          glpR  6.862213e-14  1.624560e-09   0.555556  0.833333   \n",
       "956       215  Sigma70+glpR  6.862213e-14  1.624560e-09   0.555556  0.833333   \n",
       "957       215      crp+glpR  6.862213e-14  1.624560e-09   0.555556  0.833333   \n",
       "\n",
       "      f1score    TP  regulon_size  imodulon_size  n_regs  \n",
       "0    0.507937  16.0          32.0           31.0     1.0  \n",
       "1    0.535714  15.0          25.0           31.0     2.0  \n",
       "2    0.324324   6.0           6.0           31.0     2.0  \n",
       "3    0.666667   6.0           7.0           11.0     2.0  \n",
       "4    0.666667   6.0           7.0           11.0     2.0  \n",
       "..        ...   ...           ...            ...     ...  \n",
       "953  0.303030   5.0          14.0           19.0     2.0  \n",
       "954  0.303030   5.0          14.0           19.0     2.0  \n",
       "955  0.666667   5.0           9.0            6.0     1.0  \n",
       "956  0.666667   5.0           9.0            6.0     2.0  \n",
       "957  0.666667   5.0           9.0            6.0     2.0  \n",
       "\n",
       "[958 rows x 11 columns]"
      ]
     },
     "execution_count": 8,
     "metadata": {},
     "output_type": "execute_result"
    }
   ],
   "source": [
    "ica_data.compute_trn_enrichment(max_regs=2,save=True)"
   ]
  },
  {
   "cell_type": "markdown",
   "metadata": {},
   "source": [
    "# Check for single gene iModulons"
   ]
  },
  {
   "cell_type": "code",
   "execution_count": 9,
   "metadata": {},
   "outputs": [],
   "source": [
    "sg_imods = ica_data.find_single_gene_imodulons(save=True)"
   ]
  },
  {
   "cell_type": "code",
   "execution_count": null,
   "metadata": {},
   "outputs": [],
   "source": [
    "for sg_mod in sg_imods:\n",
    "    sg_name = ica_data.view_imodulon(sg_mod).sort_values(\n",
    "        by='gene_weight', ascending=False).iloc[0, :]['gene_name']\n",
    "    ica_data.rename_imodulons({sg_mod:f'single_gene_{sg_name}'})"
   ]
  },
  {
   "cell_type": "code",
   "execution_count": 14,
   "metadata": {},
   "outputs": [
    {
     "data": {
      "text/plain": [
       "[0, 'single_gene_yzfA', 'single_gene_ytiD', 3, 4]"
      ]
     },
     "execution_count": 14,
     "metadata": {},
     "output_type": "execute_result"
    }
   ],
   "source": [
    "ica_data.imodulon_names[:5]"
   ]
  },
  {
   "cell_type": "markdown",
   "metadata": {},
   "source": [
    "# Save iModulon object"
   ]
  },
  {
   "cell_type": "markdown",
   "metadata": {},
   "source": [
    "This will save your iModulon table, your thresholds, and any other information stored in the ica_data object."
   ]
  },
  {
   "cell_type": "code",
   "execution_count": 15,
   "metadata": {},
   "outputs": [],
   "source": [
    "save_to_json(ica_data,'../data/precise2/precise2.json')"
   ]
  },
  {
   "cell_type": "markdown",
   "metadata": {},
   "source": [
    "If you prefer to view and edit your iModulon table in excel, save it as a CSV and reload the iModulon as before"
   ]
  },
  {
   "cell_type": "code",
   "execution_count": 16,
   "metadata": {},
   "outputs": [],
   "source": [
    "ica_data.imodulon_table.to_csv('../data/precise2/imodulon_table.csv')"
   ]
  },
  {
   "cell_type": "code",
   "execution_count": null,
   "metadata": {},
   "outputs": [],
   "source": []
  }
 ],
 "metadata": {
  "kernelspec": {
   "display_name": "Python 3",
   "language": "python",
   "name": "python3"
  },
  "language_info": {
   "codemirror_mode": {
    "name": "ipython",
    "version": 3
   },
   "file_extension": ".py",
   "mimetype": "text/x-python",
   "name": "python",
   "nbconvert_exporter": "python",
   "pygments_lexer": "ipython3",
   "version": "3.8.5"
  },
  "toc": {
   "base_numbering": 1,
   "nav_menu": {},
   "number_sections": true,
   "sideBar": true,
   "skip_h1_title": false,
   "title_cell": "Table of Contents",
   "title_sidebar": "Contents",
   "toc_cell": true,
   "toc_position": {},
   "toc_section_display": true,
   "toc_window_display": false
  }
 },
 "nbformat": 4,
 "nbformat_minor": 2
}
