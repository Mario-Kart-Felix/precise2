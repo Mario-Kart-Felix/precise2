{
 "cells": [
  {
   "cell_type": "markdown",
   "metadata": {
    "toc": true
   },
   "source": [
    "<h1>Table of Contents<span class=\"tocSkip\"></span></h1>\n",
    "<div class=\"toc\"><ul class=\"toc-item\"><li><span><a href=\"#Setup\" data-toc-modified-id=\"Setup-1\"><span class=\"toc-item-num\">1&nbsp;&nbsp;</span>Setup</a></span><ul class=\"toc-item\"><li><span><a href=\"#Check-your-sample-table-(i.e.-metadata-file)\" data-toc-modified-id=\"Check-your-sample-table-(i.e.-metadata-file)-1.1\"><span class=\"toc-item-num\">1.1&nbsp;&nbsp;</span>Check your sample table (i.e. metadata file)</a></span></li><li><span><a href=\"#Check-your-TRN\" data-toc-modified-id=\"Check-your-TRN-1.2\"><span class=\"toc-item-num\">1.2&nbsp;&nbsp;</span>Check your TRN</a></span></li><li><span><a href=\"#Load-the-data\" data-toc-modified-id=\"Load-the-data-1.3\"><span class=\"toc-item-num\">1.3&nbsp;&nbsp;</span>Load the data</a></span></li></ul></li><li><span><a href=\"#Regulatory-iModulons\" data-toc-modified-id=\"Regulatory-iModulons-2\"><span class=\"toc-item-num\">2&nbsp;&nbsp;</span>Regulatory iModulons</a></span></li><li><span><a href=\"#Check-for-single-gene-iModulons\" data-toc-modified-id=\"Check-for-single-gene-iModulons-3\"><span class=\"toc-item-num\">3&nbsp;&nbsp;</span>Check for single gene iModulons</a></span></li><li><span><a href=\"#Explained-Variance\" data-toc-modified-id=\"Explained-Variance-4\"><span class=\"toc-item-num\">4&nbsp;&nbsp;</span>Explained Variance</a></span></li><li><span><a href=\"#iModulon-Size\" data-toc-modified-id=\"iModulon-Size-5\"><span class=\"toc-item-num\">5&nbsp;&nbsp;</span>iModulon Size</a></span></li><li><span><a href=\"#Save-iModulon-object\" data-toc-modified-id=\"Save-iModulon-object-6\"><span class=\"toc-item-num\">6&nbsp;&nbsp;</span>Save iModulon object</a></span></li></ul></div>"
   ]
  },
  {
   "cell_type": "markdown",
   "metadata": {},
   "source": [
    "# Setup\n",
    "This IPython notebook will walk through the steps of characterizing iModulons through semi-automated tools. You will need:\n",
    "* M and A matrices\n",
    "* Expression data (e.g. `log_tpm_norm.csv`)\n",
    "* Gene table and KEGG/GO annotations (Generated in `gene_annotation.ipynb`)\n",
    "* Sample table, with a column for `project` and `condition`\n",
    "* TRN file\n",
    "\n",
    "Optional:\n",
    "* iModulon table (if you already have some characterized iModulons)"
   ]
  },
  {
   "cell_type": "code",
   "execution_count": 1,
   "metadata": {},
   "outputs": [],
   "source": [
    "from pymodulon.core import IcaData\n",
    "from pymodulon.io import save_to_json\n",
    "from pymodulon.util import explained_variance\n",
    "from os import path\n",
    "import pandas as pd\n",
    "import re\n",
    "from Bio.KEGG import REST\n",
    "from tqdm.notebook import tqdm"
   ]
  },
  {
   "cell_type": "code",
   "execution_count": 2,
   "metadata": {},
   "outputs": [],
   "source": [
    "# Enter the location of your data here\n",
    "data_dir = '../data/precise2/'"
   ]
  },
  {
   "cell_type": "markdown",
   "metadata": {},
   "source": [
    "## Check your sample table (i.e. metadata file)\n",
    "Your metadata file will probably have a lot of columns, most of which you may not care about. Feel free to save a secondary copy of your metadata file with only columns that seem relevant to you. The two most important columns are:\n",
    "1. `project`\n",
    "2. `condition`\n",
    "\n",
    "Make sure that these columns exist in your metadata file"
   ]
  },
  {
   "cell_type": "code",
   "execution_count": 3,
   "metadata": {},
   "outputs": [
    {
     "data": {
      "text/html": [
       "<div>\n",
       "<style scoped>\n",
       "    .dataframe tbody tr th:only-of-type {\n",
       "        vertical-align: middle;\n",
       "    }\n",
       "\n",
       "    .dataframe tbody tr th {\n",
       "        vertical-align: top;\n",
       "    }\n",
       "\n",
       "    .dataframe thead th {\n",
       "        text-align: right;\n",
       "    }\n",
       "</style>\n",
       "<table border=\"1\" class=\"dataframe\">\n",
       "  <thead>\n",
       "    <tr style=\"text-align: right;\">\n",
       "      <th></th>\n",
       "      <th>project</th>\n",
       "      <th>condition</th>\n",
       "    </tr>\n",
       "  </thead>\n",
       "  <tbody>\n",
       "    <tr>\n",
       "      <th>ecoli_00001</th>\n",
       "      <td>control</td>\n",
       "      <td>wt_glc</td>\n",
       "    </tr>\n",
       "    <tr>\n",
       "      <th>ecoli_00002</th>\n",
       "      <td>control</td>\n",
       "      <td>wt_glc</td>\n",
       "    </tr>\n",
       "    <tr>\n",
       "      <th>ecoli_00003</th>\n",
       "      <td>fur</td>\n",
       "      <td>wt_dpd</td>\n",
       "    </tr>\n",
       "    <tr>\n",
       "      <th>ecoli_00004</th>\n",
       "      <td>fur</td>\n",
       "      <td>wt_dpd</td>\n",
       "    </tr>\n",
       "    <tr>\n",
       "      <th>ecoli_00005</th>\n",
       "      <td>fur</td>\n",
       "      <td>wt_fe</td>\n",
       "    </tr>\n",
       "  </tbody>\n",
       "</table>\n",
       "</div>"
      ],
      "text/plain": [
       "             project condition\n",
       "ecoli_00001  control    wt_glc\n",
       "ecoli_00002  control    wt_glc\n",
       "ecoli_00003      fur    wt_dpd\n",
       "ecoli_00004      fur    wt_dpd\n",
       "ecoli_00005      fur     wt_fe"
      ]
     },
     "execution_count": 3,
     "metadata": {},
     "output_type": "execute_result"
    }
   ],
   "source": [
    "df_metadata = pd.read_csv(path.join(data_dir,'metadata_qc.csv'),index_col=0)\n",
    "df_metadata[['project','condition']].head()"
   ]
  },
  {
   "cell_type": "code",
   "execution_count": 4,
   "metadata": {},
   "outputs": [
    {
     "name": "stdout",
     "output_type": "stream",
     "text": [
      "True\n",
      "True\n"
     ]
    }
   ],
   "source": [
    "print(df_metadata.project.notnull().all())\n",
    "print(df_metadata.condition.notnull().all())"
   ]
  },
  {
   "cell_type": "markdown",
   "metadata": {},
   "source": [
    "## Check your TRN"
   ]
  },
  {
   "cell_type": "markdown",
   "metadata": {},
   "source": [
    "Each row of the TRN file represents a regulatory interaction.  \n",
    "**Your TRN file must have the following columns:**\n",
    "1. `regulator` - Name of regulator (`/` or `+` characters will be converted to `;`)\n",
    "1. `gene_id` - Locus tag of gene being regulated\n",
    "\n",
    "The following columns are optional, but are helpful to have:\n",
    "1. `regulator_id` - Locus tag of regulator\n",
    "1. `gene_name` - Name of gene (can automatically update this using `name2num`)\n",
    "1. `direction` - Direction of regulation ('+' for activation, '-' for repression, '?' or NaN for unknown)\n",
    "1. `evidence` - Evidence of regulation (e.g. ChIP-exo, qRT-PCR, SELEX, Motif search)\n",
    "1. `PMID` - Reference for regulation\n",
    "\n",
    "You may add any other columns that could help you. TRNs may be saved as either CSV or TSV files. See below for an example:"
   ]
  },
  {
   "cell_type": "code",
   "execution_count": 5,
   "metadata": {},
   "outputs": [
    {
     "data": {
      "text/html": [
       "<div>\n",
       "<style scoped>\n",
       "    .dataframe tbody tr th:only-of-type {\n",
       "        vertical-align: middle;\n",
       "    }\n",
       "\n",
       "    .dataframe tbody tr th {\n",
       "        vertical-align: top;\n",
       "    }\n",
       "\n",
       "    .dataframe thead th {\n",
       "        text-align: right;\n",
       "    }\n",
       "</style>\n",
       "<table border=\"1\" class=\"dataframe\">\n",
       "  <thead>\n",
       "    <tr style=\"text-align: right;\">\n",
       "      <th></th>\n",
       "      <th>regulator</th>\n",
       "      <th>gene_name</th>\n",
       "      <th>gene_id</th>\n",
       "      <th>effect</th>\n",
       "      <th>evidence</th>\n",
       "      <th>source</th>\n",
       "    </tr>\n",
       "  </thead>\n",
       "  <tbody>\n",
       "    <tr>\n",
       "      <th>0</th>\n",
       "      <td>AccB</td>\n",
       "      <td>accB</td>\n",
       "      <td>b3255</td>\n",
       "      <td>-</td>\n",
       "      <td>0.0</td>\n",
       "      <td>RegulonDB_TF</td>\n",
       "    </tr>\n",
       "    <tr>\n",
       "      <th>1</th>\n",
       "      <td>MarA</td>\n",
       "      <td>ygiB</td>\n",
       "      <td>b3037</td>\n",
       "      <td>+</td>\n",
       "      <td>0.0</td>\n",
       "      <td>RegulonDB_TF</td>\n",
       "    </tr>\n",
       "    <tr>\n",
       "      <th>2</th>\n",
       "      <td>MarA</td>\n",
       "      <td>ygiC</td>\n",
       "      <td>b3038</td>\n",
       "      <td>+</td>\n",
       "      <td>0.0</td>\n",
       "      <td>RegulonDB_TF</td>\n",
       "    </tr>\n",
       "    <tr>\n",
       "      <th>3</th>\n",
       "      <td>MarA</td>\n",
       "      <td>yncE</td>\n",
       "      <td>b1452</td>\n",
       "      <td>+</td>\n",
       "      <td>0.0</td>\n",
       "      <td>RegulonDB_TF</td>\n",
       "    </tr>\n",
       "    <tr>\n",
       "      <th>4</th>\n",
       "      <td>MetJ</td>\n",
       "      <td>ahpC</td>\n",
       "      <td>b0605</td>\n",
       "      <td>-</td>\n",
       "      <td>0.0</td>\n",
       "      <td>RegulonDB_TF</td>\n",
       "    </tr>\n",
       "  </tbody>\n",
       "</table>\n",
       "</div>"
      ],
      "text/plain": [
       "  regulator gene_name gene_id effect  evidence        source\n",
       "0      AccB      accB   b3255      -       0.0  RegulonDB_TF\n",
       "1      MarA      ygiB   b3037      +       0.0  RegulonDB_TF\n",
       "2      MarA      ygiC   b3038      +       0.0  RegulonDB_TF\n",
       "3      MarA      yncE   b1452      +       0.0  RegulonDB_TF\n",
       "4      MetJ      ahpC   b0605      -       0.0  RegulonDB_TF"
      ]
     },
     "execution_count": 5,
     "metadata": {},
     "output_type": "execute_result"
    }
   ],
   "source": [
    "df_trn = pd.read_csv(path.join(data_dir,'TRN.csv'), index_col=0)\n",
    "df_trn.head()"
   ]
  },
  {
   "cell_type": "markdown",
   "metadata": {},
   "source": [
    "The `regulator` and `gene_id` must be filled in for each row"
   ]
  },
  {
   "cell_type": "code",
   "execution_count": 6,
   "metadata": {},
   "outputs": [
    {
     "name": "stdout",
     "output_type": "stream",
     "text": [
      "True\n",
      "True\n"
     ]
    }
   ],
   "source": [
    "print(df_trn.regulator.notnull().all())\n",
    "print(df_trn.gene_id.notnull().all())"
   ]
  },
  {
   "cell_type": "markdown",
   "metadata": {},
   "source": [
    "## Load the data\n",
    "You're now ready to load your IcaData object!"
   ]
  },
  {
   "cell_type": "code",
   "execution_count": 5,
   "metadata": {},
   "outputs": [
    {
     "name": "stderr",
     "output_type": "stream",
     "text": [
      "/Users/cam/Projects/pymodulon/pymodulon/core.py:402: UserWarning: The following genes are in the TRN but not in your M matrix: {'b3978', 'b2396', 'b4616', 'b2815', 'b4592', 'b3119', 'b4164', 'b4457', 'b0202', 'b4417', 'b2856', 'b4624', 'b4640', 'b3046', 'b4438', 'b4618', 'b0536', 'b4718', 'b3758', 'b4663', 'b2591', 'b2849', 'b4445', 'b3855', 'b1348', 'b4666', 'b4625', 'b2691', 'b3976', 'b3853', 'b3489', 'b1470', 'b2401', 'b2652', 'b4443', 'b4665', 'b4609', 'b1986', 'b4442', 'b2911', 'b4436', 'b4691', 'b4762', 'b2915', 'b4667', 'b4585', 'b0371', 'b2339', 'b4687', 'b1989', 'b4427', 'b4586', 'b4370', 'b1569', 'b4450', 'b4444', 'b3851', 'b1977', 'b3971', 'b0303', 'b3274', 'b4699', 'b4513', 'b3278', 'b3171', 'b3797', 'b4458', 'b4803', 'b1666', 'b4010', 'b0971', 'b2967', 'b3277', 'b4669', 'b1510', 'b4368', 'b1665', 'b0673', 'b3759', 'b1576', 'b2018', 'b4763', 'b0364', 'b3272', 'b1365', 'b0743', 'b4741', 'b0204', 'b0883', 'b3889', 'b2598', 'b4719', 'b4456', 'b2621', 'b4432', 'b4451', 'b3969', 'b2403', 'b0745', 'b4007', 'b3138', 'b2816', 'b2693', 'b1032', 'b0201', 'b3798', 'b4611', 'b1575', 'b1910', 'b4009', 'b2588', 'b3766', 'b3545', 'b4429', 'b3756', 'b4421', 'b4415', 'b3799', 'b4433', 'b1911', 'b4673', 'b4439', 'b4163', 'b3864', 'b3069', 'b3796', 'b2404', 'b2189', 'b4165', 'b4008', 'b2462', 'b4697', 'b3443', 'b4369', 'b3273', 'b3852', 'b0668', 'b3123', 'b4134', 'b0553', 'b3672', 'b0645', 'b4416', 'b2694', 'b0665', 'b4270', 'b4459', 'b4505', 'b1909', 'b1472', 'b0744', 'b3330', 'b4440', 'b2397', 'b4722', 'b4702', 'b3968', 'b1572', 'b4524', 'b0205', 'b2695', 'b2589', 'b2590', 'b3854', 'b1230', 'b3392', 'b2692', 'b4608', 'b4426', 'b4717', 'b4599', 'b4414', 'b1229', 'b4704', 'b4412', 'b4759', 'b4613', 'b4452', 'b3757', 'b4447', 'b2814', 'b1455', 'b1715', 'b1954', 'b3707', 'b1975', 'b4408', 'b4577', 'b4435', 'b3275', 'b4449', 'b4685', 'b0075', 'b4637', 'b1265', 'b0769', 'b4716', 'b4413', 'b4664', 'b2228', 'b4736', 'b0203', 'b4437', 'b4454', 'b4707', 'b3174', 'b3027', 'b0672', 'b3979', 'b0044', 'b2402', 'b0666', 'b3276', 'b3970', 'b0670', 'b0001', 'b4597', 'b3977', 'b4764', 'b2864', 'b4668', 'b1417', 'b0216', 'b0664', 'b4698', 'b0244', 'b2348', 'b4431', 'b3658', 'b4670', 'b4441', 'b4760', 'b1231', 'b4617'}\n",
      "  warnings.warn(\n"
     ]
    }
   ],
   "source": [
    "ica_data = IcaData(M = path.join(data_dir,'M.csv'),\n",
    "                   A = path.join(data_dir,'A.csv'),\n",
    "                   X = path.join(data_dir,'log_tpm_norm_qc.csv'),\n",
    "                   gene_table = path.join(data_dir,'gene_info.csv'),\n",
    "                   sample_table = path.join(data_dir,'metadata_qc.csv'),\n",
    "                   imodulon_table=path.join(data_dir,'imodulon_table.csv'),\n",
    "                   trn = path.join(data_dir,'TRN.csv'),\n",
    "                   log_tpm = path.join(data_dir, 'log_tpm_qc.csv'),\n",
    "                  dagostino_cutoff=550)"
   ]
  },
  {
   "cell_type": "markdown",
   "metadata": {},
   "source": [
    "# Regulatory iModulons\n",
    "Use `compute_trn_enrichment` to automatically check for Regulatory iModulons. The more complete your TRN, the more regulatory iModulons you'll find."
   ]
  },
  {
   "cell_type": "code",
   "execution_count": 14,
   "metadata": {},
   "outputs": [
    {
     "data": {
      "text/html": [
       "<div>\n",
       "<style scoped>\n",
       "    .dataframe tbody tr th:only-of-type {\n",
       "        vertical-align: middle;\n",
       "    }\n",
       "\n",
       "    .dataframe tbody tr th {\n",
       "        vertical-align: top;\n",
       "    }\n",
       "\n",
       "    .dataframe thead th {\n",
       "        text-align: right;\n",
       "    }\n",
       "</style>\n",
       "<table border=\"1\" class=\"dataframe\">\n",
       "  <thead>\n",
       "    <tr style=\"text-align: right;\">\n",
       "      <th></th>\n",
       "      <th>imodulon</th>\n",
       "      <th>regulator</th>\n",
       "      <th>pvalue</th>\n",
       "      <th>qvalue</th>\n",
       "      <th>precision</th>\n",
       "      <th>recall</th>\n",
       "      <th>f1score</th>\n",
       "      <th>TP</th>\n",
       "      <th>regulon_size</th>\n",
       "      <th>imodulon_size</th>\n",
       "      <th>n_regs</th>\n",
       "    </tr>\n",
       "  </thead>\n",
       "  <tbody>\n",
       "    <tr>\n",
       "      <th>0</th>\n",
       "      <td>4</td>\n",
       "      <td>RpoD+CysB</td>\n",
       "      <td>9.446050e-13</td>\n",
       "      <td>3.573441e-08</td>\n",
       "      <td>0.538462</td>\n",
       "      <td>0.225806</td>\n",
       "      <td>0.318182</td>\n",
       "      <td>7.0</td>\n",
       "      <td>13.0</td>\n",
       "      <td>31.0</td>\n",
       "      <td>2.0</td>\n",
       "    </tr>\n",
       "    <tr>\n",
       "      <th>1</th>\n",
       "      <td>4</td>\n",
       "      <td>CysB</td>\n",
       "      <td>1.049301e-11</td>\n",
       "      <td>1.984752e-07</td>\n",
       "      <td>0.411765</td>\n",
       "      <td>0.225806</td>\n",
       "      <td>0.291667</td>\n",
       "      <td>7.0</td>\n",
       "      <td>17.0</td>\n",
       "      <td>31.0</td>\n",
       "      <td>1.0</td>\n",
       "    </tr>\n",
       "    <tr>\n",
       "      <th>2</th>\n",
       "      <td>5</td>\n",
       "      <td>RpoD+HprR</td>\n",
       "      <td>5.987020e-17</td>\n",
       "      <td>1.132445e-12</td>\n",
       "      <td>1.000000</td>\n",
       "      <td>0.545455</td>\n",
       "      <td>0.705882</td>\n",
       "      <td>6.0</td>\n",
       "      <td>6.0</td>\n",
       "      <td>11.0</td>\n",
       "      <td>2.0</td>\n",
       "    </tr>\n",
       "    <tr>\n",
       "      <th>3</th>\n",
       "      <td>5</td>\n",
       "      <td>RpoD+CusR</td>\n",
       "      <td>5.987020e-17</td>\n",
       "      <td>1.132445e-12</td>\n",
       "      <td>1.000000</td>\n",
       "      <td>0.545455</td>\n",
       "      <td>0.705882</td>\n",
       "      <td>6.0</td>\n",
       "      <td>6.0</td>\n",
       "      <td>11.0</td>\n",
       "      <td>2.0</td>\n",
       "    </tr>\n",
       "    <tr>\n",
       "      <th>4</th>\n",
       "      <td>5</td>\n",
       "      <td>HprR</td>\n",
       "      <td>4.186643e-16</td>\n",
       "      <td>2.262581e-12</td>\n",
       "      <td>0.857143</td>\n",
       "      <td>0.545455</td>\n",
       "      <td>0.666667</td>\n",
       "      <td>6.0</td>\n",
       "      <td>7.0</td>\n",
       "      <td>11.0</td>\n",
       "      <td>1.0</td>\n",
       "    </tr>\n",
       "    <tr>\n",
       "      <th>...</th>\n",
       "      <td>...</td>\n",
       "      <td>...</td>\n",
       "      <td>...</td>\n",
       "      <td>...</td>\n",
       "      <td>...</td>\n",
       "      <td>...</td>\n",
       "      <td>...</td>\n",
       "      <td>...</td>\n",
       "      <td>...</td>\n",
       "      <td>...</td>\n",
       "      <td>...</td>\n",
       "    </tr>\n",
       "    <tr>\n",
       "      <th>511</th>\n",
       "      <td>212</td>\n",
       "      <td>ArgR+NtrC</td>\n",
       "      <td>1.056311e-12</td>\n",
       "      <td>1.998012e-08</td>\n",
       "      <td>1.000000</td>\n",
       "      <td>0.263158</td>\n",
       "      <td>0.416667</td>\n",
       "      <td>5.0</td>\n",
       "      <td>5.0</td>\n",
       "      <td>19.0</td>\n",
       "      <td>2.0</td>\n",
       "    </tr>\n",
       "    <tr>\n",
       "      <th>512</th>\n",
       "      <td>212</td>\n",
       "      <td>ArgR+RpoN</td>\n",
       "      <td>1.056311e-12</td>\n",
       "      <td>1.998012e-08</td>\n",
       "      <td>1.000000</td>\n",
       "      <td>0.263158</td>\n",
       "      <td>0.416667</td>\n",
       "      <td>5.0</td>\n",
       "      <td>5.0</td>\n",
       "      <td>19.0</td>\n",
       "      <td>2.0</td>\n",
       "    </tr>\n",
       "    <tr>\n",
       "      <th>513</th>\n",
       "      <td>212</td>\n",
       "      <td>RpoS+NtrC</td>\n",
       "      <td>2.625181e-10</td>\n",
       "      <td>3.310353e-06</td>\n",
       "      <td>0.500000</td>\n",
       "      <td>0.263158</td>\n",
       "      <td>0.344828</td>\n",
       "      <td>5.0</td>\n",
       "      <td>10.0</td>\n",
       "      <td>19.0</td>\n",
       "      <td>2.0</td>\n",
       "    </tr>\n",
       "    <tr>\n",
       "      <th>514</th>\n",
       "      <td>212</td>\n",
       "      <td>RpoS+ArgR</td>\n",
       "      <td>8.204829e-10</td>\n",
       "      <td>7.759717e-06</td>\n",
       "      <td>0.416667</td>\n",
       "      <td>0.263158</td>\n",
       "      <td>0.322581</td>\n",
       "      <td>5.0</td>\n",
       "      <td>12.0</td>\n",
       "      <td>19.0</td>\n",
       "      <td>2.0</td>\n",
       "    </tr>\n",
       "    <tr>\n",
       "      <th>515</th>\n",
       "      <td>215</td>\n",
       "      <td>GlpR</td>\n",
       "      <td>6.862213e-14</td>\n",
       "      <td>2.595975e-09</td>\n",
       "      <td>0.555556</td>\n",
       "      <td>0.833333</td>\n",
       "      <td>0.666667</td>\n",
       "      <td>5.0</td>\n",
       "      <td>9.0</td>\n",
       "      <td>6.0</td>\n",
       "      <td>1.0</td>\n",
       "    </tr>\n",
       "  </tbody>\n",
       "</table>\n",
       "<p>516 rows × 11 columns</p>\n",
       "</div>"
      ],
      "text/plain": [
       "     imodulon  regulator        pvalue        qvalue  precision    recall  \\\n",
       "0           4  RpoD+CysB  9.446050e-13  3.573441e-08   0.538462  0.225806   \n",
       "1           4       CysB  1.049301e-11  1.984752e-07   0.411765  0.225806   \n",
       "2           5  RpoD+HprR  5.987020e-17  1.132445e-12   1.000000  0.545455   \n",
       "3           5  RpoD+CusR  5.987020e-17  1.132445e-12   1.000000  0.545455   \n",
       "4           5       HprR  4.186643e-16  2.262581e-12   0.857143  0.545455   \n",
       "..        ...        ...           ...           ...        ...       ...   \n",
       "511       212  ArgR+NtrC  1.056311e-12  1.998012e-08   1.000000  0.263158   \n",
       "512       212  ArgR+RpoN  1.056311e-12  1.998012e-08   1.000000  0.263158   \n",
       "513       212  RpoS+NtrC  2.625181e-10  3.310353e-06   0.500000  0.263158   \n",
       "514       212  RpoS+ArgR  8.204829e-10  7.759717e-06   0.416667  0.263158   \n",
       "515       215       GlpR  6.862213e-14  2.595975e-09   0.555556  0.833333   \n",
       "\n",
       "      f1score   TP  regulon_size  imodulon_size  n_regs  \n",
       "0    0.318182  7.0          13.0           31.0     2.0  \n",
       "1    0.291667  7.0          17.0           31.0     1.0  \n",
       "2    0.705882  6.0           6.0           11.0     2.0  \n",
       "3    0.705882  6.0           6.0           11.0     2.0  \n",
       "4    0.666667  6.0           7.0           11.0     1.0  \n",
       "..        ...  ...           ...            ...     ...  \n",
       "511  0.416667  5.0           5.0           19.0     2.0  \n",
       "512  0.416667  5.0           5.0           19.0     2.0  \n",
       "513  0.344828  5.0          10.0           19.0     2.0  \n",
       "514  0.322581  5.0          12.0           19.0     2.0  \n",
       "515  0.666667  5.0           9.0            6.0     1.0  \n",
       "\n",
       "[516 rows x 11 columns]"
      ]
     },
     "execution_count": 14,
     "metadata": {},
     "output_type": "execute_result"
    }
   ],
   "source": [
    "ica_data.compute_trn_enrichment(max_regs=2, evidence=[2], save=True)"
   ]
  },
  {
   "cell_type": "markdown",
   "metadata": {},
   "source": [
    "# Check for single gene iModulons"
   ]
  },
  {
   "cell_type": "code",
   "execution_count": 15,
   "metadata": {},
   "outputs": [],
   "source": [
    "sg_imods = ica_data.find_single_gene_imodulons(save=True)"
   ]
  },
  {
   "cell_type": "code",
   "execution_count": 16,
   "metadata": {},
   "outputs": [],
   "source": [
    "for sg_mod in sg_imods:\n",
    "    sg_name = ica_data.view_imodulon(sg_mod).sort_values(\n",
    "        by='gene_weight', ascending=False).iloc[0, :]['gene_name']\n",
    "    ica_data.rename_imodulons({sg_mod:f'single_gene_{sg_name}'})"
   ]
  },
  {
   "cell_type": "code",
   "execution_count": 17,
   "metadata": {},
   "outputs": [
    {
     "data": {
      "text/plain": [
       "[0, 'single_gene_yzfA', 'single_gene_ytiD', 3, 4]"
      ]
     },
     "execution_count": 17,
     "metadata": {},
     "output_type": "execute_result"
    }
   ],
   "source": [
    "ica_data.imodulon_names[:5]"
   ]
  },
  {
   "cell_type": "markdown",
   "metadata": {},
   "source": [
    "# Explained Variance"
   ]
  },
  {
   "cell_type": "code",
   "execution_count": 31,
   "metadata": {},
   "outputs": [],
   "source": [
    "exp_vars = [explained_variance(ica_data, imodulons=[imod]) for imod in ica_data.imodulon_names]"
   ]
  },
  {
   "cell_type": "code",
   "execution_count": 32,
   "metadata": {},
   "outputs": [],
   "source": [
    "ica_data.imodulon_table['exp_var'] = exp_vars"
   ]
  },
  {
   "cell_type": "markdown",
   "metadata": {},
   "source": [
    "# iModulon Size"
   ]
  },
  {
   "cell_type": "code",
   "execution_count": 35,
   "metadata": {},
   "outputs": [],
   "source": [
    "ica_data.imodulon_table['imodulon_size'] = [ica_data.view_imodulon(imod).shape[0]\n",
    "                                            for imod in ica_data.imodulon_names]"
   ]
  },
  {
   "cell_type": "markdown",
   "metadata": {},
   "source": [
    "# Save iModulon object"
   ]
  },
  {
   "cell_type": "markdown",
   "metadata": {},
   "source": [
    "This will save your iModulon table, your thresholds, and any other information stored in the ica_data object."
   ]
  },
  {
   "cell_type": "code",
   "execution_count": null,
   "metadata": {},
   "outputs": [],
   "source": [
    "save_to_json(ica_data,'../data/precise2/precise2', compress=True)"
   ]
  }
 ],
 "metadata": {
  "kernelspec": {
   "display_name": "Python 3",
   "language": "python",
   "name": "python3"
  },
  "language_info": {
   "codemirror_mode": {
    "name": "ipython",
    "version": 3
   },
   "file_extension": ".py",
   "mimetype": "text/x-python",
   "name": "python",
   "nbconvert_exporter": "python",
   "pygments_lexer": "ipython3",
   "version": "3.8.5"
  },
  "toc": {
   "base_numbering": 1,
   "nav_menu": {},
   "number_sections": true,
   "sideBar": true,
   "skip_h1_title": false,
   "title_cell": "Table of Contents",
   "title_sidebar": "Contents",
   "toc_cell": true,
   "toc_position": {},
   "toc_section_display": true,
   "toc_window_display": true
  }
 },
 "nbformat": 4,
 "nbformat_minor": 2
}
