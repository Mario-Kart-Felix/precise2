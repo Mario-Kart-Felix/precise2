{
 "cells": [
  {
   "cell_type": "markdown",
   "metadata": {},
   "source": [
    "LAST RUN: CAM 07/02/2020"
   ]
  },
  {
   "cell_type": "markdown",
   "metadata": {
    "toc": true
   },
   "source": [
    "<h1>Table of Contents<span class=\"tocSkip\"></span></h1>\n",
    "<div class=\"toc\"><ul class=\"toc-item\"><li><span><a href=\"#Quality-Control\" data-toc-modified-id=\"Quality-Control-1\"><span class=\"toc-item-num\">1&nbsp;&nbsp;</span>Quality Control</a></span></li><li><span><a href=\"#Get-regulator-enrichments-for-each-component\" data-toc-modified-id=\"Get-regulator-enrichments-for-each-component-2\"><span class=\"toc-item-num\">2&nbsp;&nbsp;</span>Get regulator enrichments for each component</a></span></li><li><span><a href=\"#GO-Enrichments\" data-toc-modified-id=\"GO-Enrichments-3\"><span class=\"toc-item-num\">3&nbsp;&nbsp;</span>GO Enrichments</a></span></li><li><span><a href=\"#Sensitivity-Analysis\" data-toc-modified-id=\"Sensitivity-Analysis-4\"><span class=\"toc-item-num\">4&nbsp;&nbsp;</span>Sensitivity Analysis</a></span></li></ul></div>"
   ]
  },
  {
   "cell_type": "markdown",
   "metadata": {},
   "source": [
    "**This notebook is only relevant if you are creating a new compendium for an organism. If you are just appending to PRECISE, use 3b_analyze_new_data.**"
   ]
  },
  {
   "cell_type": "code",
   "execution_count": 1,
   "metadata": {},
   "outputs": [],
   "source": [
    "import sys\n",
    "sys.path.append('../..')\n",
    "from icaviz.plotting import *\n",
    "from tqdm import tqdm_notebook as tqdm"
   ]
  },
  {
   "cell_type": "code",
   "execution_count": 2,
   "metadata": {},
   "outputs": [],
   "source": [
    "DATA_DIR = '../data/precise2_data/'\n",
    "GENE_DIR = '../data/annotation/'"
   ]
  },
  {
   "cell_type": "code",
   "execution_count": 3,
   "metadata": {},
   "outputs": [
    {
     "name": "stderr",
     "output_type": "stream",
     "text": [
      "../icaviz/load.py:350: UserWarning: Genes missing annotations: b0012, b0056, b0057, b4726, b4727, b4728, b4710, b4709, b4729, b0282, b4730, b0322, b4731, b4732, b0470_1, b0470_2, b0470_3, b0484_1, b0484_2, b0484_3, b0502, b4733, b0562, b4734, b4581, b4735, b4736, b4723, b4737, b4490, b1142, b1149, b4738, b4739, b4491, b4521, b4740, b1228, b4573, b4711, b4741, b4742, b1318, b4524, b4743, b4744, b4493, b4745, b1459, b1470, b1471, b4746, b4747, b1506, b4696, b1543, b4748, b4749, b4724, b4750, b4534, b4494, b4751, b4752, b4495, b4496, b2092, b2115, b2139, b4604, b4605, b4725, b2641, b4644, b2649, b2681, b4610, b2850, b2854, b2855, b2858, b2862, b4753, b4754, b2941, b4658, b4755, b3036, b4756, b3268, b3423, b4612, b4660, b4615, b3643, b3681, b3682, b4757, b4488, b3777, b3782, b3808, b4038, b4583, b4223, b4575, b4308, b4720, b4721, b4722, b4715, b4584\n",
      "  warnings.warn('Genes missing annotations: {}'.format(missing_genes))\n"
     ]
    }
   ],
   "source": [
    "ica_data = load_data(X=DATA_DIR+'log_tpm_qc.csv',\n",
    "                     S=DATA_DIR+'S_95.csv',\n",
    "                     A=DATA_DIR+'A_95.csv',\n",
    "                     metadata=DATA_DIR+'metadata_qc.csv',\n",
    "                     annotation=GENE_DIR+'gene_info.csv',\n",
    "                     trn=GENE_DIR+'TRN.csv',\n",
    "                     cutoff = 525) # Get correct cut-off score from 3_estimate_thresholds"
   ]
  },
  {
   "cell_type": "markdown",
   "metadata": {},
   "source": [
    "# Quality Control\n",
    "We can use the ICA activation matrix to remove components that relate specifically to experimental noise.\n",
    "If known replicates have activity differences greater than 5 times the standard deviation of the activity vector, these will be flagged."
   ]
  },
  {
   "cell_type": "code",
   "execution_count": 13,
   "metadata": {},
   "outputs": [],
   "source": [
    "from itertools import combinations"
   ]
  },
  {
   "cell_type": "code",
   "execution_count": 14,
   "metadata": {},
   "outputs": [
    {
     "name": "stderr",
     "output_type": "stream",
     "text": [
      "/Users/cam/.virtualenvs/precise2/lib/python3.7/site-packages/ipykernel_launcher.py:4: TqdmDeprecationWarning: This function will be removed in tqdm==5.0.0\n",
      "Please use `tqdm.notebook.tqdm` instead of `tqdm.tqdm_notebook`\n",
      "  after removing the cwd from sys.path.\n"
     ]
    },
    {
     "data": {
      "application/vnd.jupyter.widget-view+json": {
       "model_id": "24575a56393c4b2bb2e9123b9596bb0d",
       "version_major": 2,
       "version_minor": 0
      },
      "text/plain": [
       "HBox(children=(FloatProgress(value=0.0, max=425.0), HTML(value='')))"
      ]
     },
     "metadata": {},
     "output_type": "display_data"
    },
    {
     "name": "stdout",
     "output_type": "stream",
     "text": [
      "\n",
      "[28, 28, 28, 28, 51, 28, 28, 28, 28, 28, 28, 28, 92, 94, 107, 94, 114, 72, 101, 8, 22, 8, 22, 119, 18, 22, 119, 16, 16, 18, 18, 18, 18]\n"
     ]
    }
   ],
   "source": [
    "bad_comps = []\n",
    "\n",
    "# Check if replicate activities are significantly different\n",
    "for name,group in tqdm(ica_data.metadata.groupby(['project_id','condition_id'])):\n",
    "    exps = group.index.tolist()\n",
    "    for e1,e2 in combinations(exps,2):\n",
    "        for k in ica_data.A.index:\n",
    "            if abs(ica_data.A.loc[k,e1]-ica_data.A.loc[k,e2]) > 3*np.std(ica_data.A.loc[k]):\n",
    "                bad_comps.append(k)\n",
    "print(bad_comps)"
   ]
  },
  {
   "cell_type": "markdown",
   "metadata": {},
   "source": [
    "# Get regulator enrichments for each component"
   ]
  },
  {
   "cell_type": "code",
   "execution_count": 4,
   "metadata": {},
   "outputs": [],
   "source": [
    "import warnings\n",
    "warnings.filterwarnings('ignore',category=FutureWarning)"
   ]
  },
  {
   "cell_type": "code",
   "execution_count": 5,
   "metadata": {
    "scrolled": false
   },
   "outputs": [
    {
     "name": "stderr",
     "output_type": "stream",
     "text": [
      "/Users/cam/.virtualenvs/precise2/lib/python3.7/site-packages/ipykernel_launcher.py:6: TqdmDeprecationWarning: This function will be removed in tqdm==5.0.0\n",
      "Please use `tqdm.notebook.tqdm` instead of `tqdm.tqdm_notebook`\n",
      "  \n"
     ]
    },
    {
     "data": {
      "application/vnd.jupyter.widget-view+json": {
       "model_id": "0765ccb34aa842af8d668c3ebe4b29c9",
       "version_major": 2,
       "version_minor": 0
      },
      "text/plain": [
       "HBox(children=(FloatProgress(value=0.0, max=127.0), HTML(value='')))"
      ]
     },
     "metadata": {},
     "output_type": "display_data"
    },
    {
     "name": "stdout",
     "output_type": "stream",
     "text": [
      "\n"
     ]
    },
    {
     "data": {
      "text/html": [
       "<div>\n",
       "<style scoped>\n",
       "    .dataframe tbody tr th:only-of-type {\n",
       "        vertical-align: middle;\n",
       "    }\n",
       "\n",
       "    .dataframe tbody tr th {\n",
       "        vertical-align: top;\n",
       "    }\n",
       "\n",
       "    .dataframe thead th {\n",
       "        text-align: right;\n",
       "    }\n",
       "</style>\n",
       "<table border=\"1\" class=\"dataframe\">\n",
       "  <thead>\n",
       "    <tr style=\"text-align: right;\">\n",
       "      <th></th>\n",
       "      <th>component</th>\n",
       "      <th>TF</th>\n",
       "      <th>log_odds</th>\n",
       "      <th>pvalue</th>\n",
       "      <th>qvalue</th>\n",
       "      <th>precision</th>\n",
       "      <th>recall</th>\n",
       "      <th>f1score</th>\n",
       "      <th>TP</th>\n",
       "      <th>n_genes</th>\n",
       "      <th>n_tf</th>\n",
       "    </tr>\n",
       "  </thead>\n",
       "  <tbody>\n",
       "    <tr>\n",
       "      <th>5</th>\n",
       "      <td>1</td>\n",
       "      <td>fnr</td>\n",
       "      <td>3.354816</td>\n",
       "      <td>2.012775e-21</td>\n",
       "      <td>5.494876e-19</td>\n",
       "      <td>0.763158</td>\n",
       "      <td>0.061966</td>\n",
       "      <td>0.114625</td>\n",
       "      <td>29.0</td>\n",
       "      <td>38</td>\n",
       "      <td>1.0</td>\n",
       "    </tr>\n",
       "    <tr>\n",
       "      <th>1</th>\n",
       "      <td>1</td>\n",
       "      <td>narL</td>\n",
       "      <td>3.241091</td>\n",
       "      <td>2.027106e-14</td>\n",
       "      <td>2.767000e-12</td>\n",
       "      <td>0.394737</td>\n",
       "      <td>0.121951</td>\n",
       "      <td>0.186335</td>\n",
       "      <td>15.0</td>\n",
       "      <td>38</td>\n",
       "      <td>1.0</td>\n",
       "    </tr>\n",
       "    <tr>\n",
       "      <th>0</th>\n",
       "      <td>1</td>\n",
       "      <td>dcuR</td>\n",
       "      <td>5.101574</td>\n",
       "      <td>4.606447e-09</td>\n",
       "      <td>4.191867e-07</td>\n",
       "      <td>0.131579</td>\n",
       "      <td>0.555556</td>\n",
       "      <td>0.212766</td>\n",
       "      <td>5.0</td>\n",
       "      <td>38</td>\n",
       "      <td>1.0</td>\n",
       "    </tr>\n",
       "    <tr>\n",
       "      <th>2</th>\n",
       "      <td>1</td>\n",
       "      <td>molybdopterin</td>\n",
       "      <td>6.235563</td>\n",
       "      <td>2.397247e-08</td>\n",
       "      <td>1.636121e-06</td>\n",
       "      <td>0.105263</td>\n",
       "      <td>0.800000</td>\n",
       "      <td>0.186047</td>\n",
       "      <td>4.0</td>\n",
       "      <td>38</td>\n",
       "      <td>1.0</td>\n",
       "    </tr>\n",
       "    <tr>\n",
       "      <th>3</th>\n",
       "      <td>1</td>\n",
       "      <td>cueR</td>\n",
       "      <td>5.542186</td>\n",
       "      <td>7.147032e-08</td>\n",
       "      <td>3.902280e-06</td>\n",
       "      <td>0.105263</td>\n",
       "      <td>0.666667</td>\n",
       "      <td>0.181818</td>\n",
       "      <td>4.0</td>\n",
       "      <td>38</td>\n",
       "      <td>1.0</td>\n",
       "    </tr>\n",
       "  </tbody>\n",
       "</table>\n",
       "</div>"
      ],
      "text/plain": [
       "   component             TF  log_odds        pvalue        qvalue  precision  \\\n",
       "5          1            fnr  3.354816  2.012775e-21  5.494876e-19   0.763158   \n",
       "1          1           narL  3.241091  2.027106e-14  2.767000e-12   0.394737   \n",
       "0          1           dcuR  5.101574  4.606447e-09  4.191867e-07   0.131579   \n",
       "2          1  molybdopterin  6.235563  2.397247e-08  1.636121e-06   0.105263   \n",
       "3          1           cueR  5.542186  7.147032e-08  3.902280e-06   0.105263   \n",
       "\n",
       "     recall   f1score    TP  n_genes  n_tf  \n",
       "5  0.061966  0.114625  29.0       38   1.0  \n",
       "1  0.121951  0.186335  15.0       38   1.0  \n",
       "0  0.555556  0.212766   5.0       38   1.0  \n",
       "2  0.800000  0.186047   4.0       38   1.0  \n",
       "3  0.666667  0.181818   4.0       38   1.0  "
      ]
     },
     "execution_count": 5,
     "metadata": {},
     "output_type": "execute_result"
    }
   ],
   "source": [
    "# Initialize objects\n",
    "list2struct = []\n",
    "\n",
    "all_genes = set(ica_data.S.index)\n",
    "\n",
    "for k in tqdm(ica_data.S.columns):\n",
    "    # Get significant genes\n",
    "    genes = set(ica_data.show_enriched(k).index)\n",
    "\n",
    "    # You can change max_tfs to account for and/or interactions between regulons\n",
    "    enrichments = compute_enrichments(genes, all_genes, \n",
    "                                      ica_data.trn, max_tfs=1, \n",
    "                                      fdr_rate=1e-5)\n",
    "    \n",
    "    enrichments['TF'] = enrichments.index\n",
    "    enrichments['component'] = k\n",
    "    enrichments['n_genes'] = len(genes)\n",
    "\n",
    "    list2struct.append(enrichments.reset_index(drop=True))\n",
    "    \n",
    "DF_enriched = pd.concat(list2struct, sort=False).reset_index(drop=True)\n",
    "DF_enriched = DF_enriched[['component', 'TF', 'log_odds', \n",
    "                           'pvalue', 'qvalue','precision',\n",
    "                           'recall','f1score','TP', 'n_genes','n_tf']]\n",
    "    \n",
    "# Sort by p-value\n",
    "DF_enriched = DF_enriched.sort_values(['component','qvalue'])\n",
    "DF_enriched.head()"
   ]
  },
  {
   "cell_type": "code",
   "execution_count": 6,
   "metadata": {
    "scrolled": true
   },
   "outputs": [
    {
     "name": "stdout",
     "output_type": "stream",
     "text": [
      "Total components: 127\n",
      "Components with regulator enrichments: 78\n",
      "Unique regulators: 105\n"
     ]
    }
   ],
   "source": [
    "print('Total components:',len(ica_data.S.columns))\n",
    "print('Components with regulator enrichments:',len(DF_enriched.drop_duplicates('component')))\n",
    "print('Unique regulators:',len(DF_enriched.TF.unique()))"
   ]
  },
  {
   "cell_type": "code",
   "execution_count": 7,
   "metadata": {},
   "outputs": [],
   "source": [
    "DF_enriched.to_csv(DATA_DIR+'trn_enrichments.csv')"
   ]
  },
  {
   "cell_type": "markdown",
   "metadata": {},
   "source": [
    "# GO Enrichments"
   ]
  },
  {
   "cell_type": "code",
   "execution_count": 11,
   "metadata": {},
   "outputs": [],
   "source": [
    "DF_GO = pd.read_csv('../data/annotation/DF_GO.csv',index_col=0)"
   ]
  },
  {
   "cell_type": "code",
   "execution_count": 12,
   "metadata": {},
   "outputs": [],
   "source": [
    "go_dict = {}\n",
    "for name,group in DF_GO.groupby('go_name'):\n",
    "    genes = set(group.index)\n",
    "    go_dict[name] = genes"
   ]
  },
  {
   "cell_type": "code",
   "execution_count": 13,
   "metadata": {},
   "outputs": [
    {
     "name": "stderr",
     "output_type": "stream",
     "text": [
      "/Users/cam/.virtualenvs/precise2/lib/python3.7/site-packages/ipykernel_launcher.py:3: TqdmDeprecationWarning: This function will be removed in tqdm==5.0.0\n",
      "Please use `tqdm.notebook.tqdm` instead of `tqdm.tqdm_notebook`\n",
      "  This is separate from the ipykernel package so we can avoid doing imports until\n"
     ]
    },
    {
     "data": {
      "application/vnd.jupyter.widget-view+json": {
       "model_id": "e1be7f8e6a2c442ead31eaa8dd514927",
       "version_major": 2,
       "version_minor": 0
      },
      "text/plain": [
       "HBox(children=(FloatProgress(value=0.0, max=127.0), HTML(value='')))"
      ]
     },
     "metadata": {},
     "output_type": "display_data"
    },
    {
     "name": "stdout",
     "output_type": "stream",
     "text": [
      "\n"
     ]
    }
   ],
   "source": [
    "enrich_list = []\n",
    "all_genes = set(ica_data.S.index)\n",
    "for k in tqdm(ica_data.names):\n",
    "    \n",
    "    # Get i-modulon genes\n",
    "    ic_genes = set(ica_data.show_enriched(k).index)\n",
    "    \n",
    "    vals = []\n",
    "    \n",
    "    for go,go_genes in go_dict.items():\n",
    "        ((tp,fp),(fn,tn)) = contingency(go_genes,ic_genes,all_genes)\n",
    "        odds,pval = stats.fisher_exact(((tp,fp),(fn,tn)))\n",
    "        vals.append([go,k,tp,len(ic_genes),pval])\n",
    "    df_pvals = pd.DataFrame(vals,columns = ['go_term','component','n_matches','n_genes','pvalue'])\n",
    "    enrich_list.append(FDR(df_pvals,fdr_rate=0.01))\n",
    "go_enrichments = pd.concat(enrich_list).reset_index(drop=True)\n",
    "go_enrichments.component = go_enrichments.component.astype(int)"
   ]
  },
  {
   "cell_type": "code",
   "execution_count": 14,
   "metadata": {},
   "outputs": [
    {
     "data": {
      "text/html": [
       "<div>\n",
       "<style scoped>\n",
       "    .dataframe tbody tr th:only-of-type {\n",
       "        vertical-align: middle;\n",
       "    }\n",
       "\n",
       "    .dataframe tbody tr th {\n",
       "        vertical-align: top;\n",
       "    }\n",
       "\n",
       "    .dataframe thead th {\n",
       "        text-align: right;\n",
       "    }\n",
       "</style>\n",
       "<table border=\"1\" class=\"dataframe\">\n",
       "  <thead>\n",
       "    <tr style=\"text-align: right;\">\n",
       "      <th></th>\n",
       "      <th>go_term</th>\n",
       "      <th>component</th>\n",
       "      <th>n_matches</th>\n",
       "      <th>n_genes</th>\n",
       "      <th>pvalue</th>\n",
       "      <th>qvalue</th>\n",
       "    </tr>\n",
       "  </thead>\n",
       "  <tbody>\n",
       "    <tr>\n",
       "      <th>0</th>\n",
       "      <td>anaerobic respiration</td>\n",
       "      <td>1</td>\n",
       "      <td>9</td>\n",
       "      <td>38</td>\n",
       "      <td>1.972797e-10</td>\n",
       "      <td>6.443155e-07</td>\n",
       "    </tr>\n",
       "    <tr>\n",
       "      <th>1</th>\n",
       "      <td>plasma membrane fumarate reductase complex</td>\n",
       "      <td>1</td>\n",
       "      <td>4</td>\n",
       "      <td>38</td>\n",
       "      <td>4.824489e-09</td>\n",
       "      <td>7.878390e-06</td>\n",
       "    </tr>\n",
       "    <tr>\n",
       "      <th>2</th>\n",
       "      <td>succinate dehydrogenase activity</td>\n",
       "      <td>1</td>\n",
       "      <td>4</td>\n",
       "      <td>38</td>\n",
       "      <td>2.397247e-08</td>\n",
       "      <td>2.609803e-05</td>\n",
       "    </tr>\n",
       "    <tr>\n",
       "      <th>3</th>\n",
       "      <td>fermentation</td>\n",
       "      <td>1</td>\n",
       "      <td>4</td>\n",
       "      <td>38</td>\n",
       "      <td>3.293946e-07</td>\n",
       "      <td>2.689507e-04</td>\n",
       "    </tr>\n",
       "    <tr>\n",
       "      <th>4</th>\n",
       "      <td>dimethyl sulfoxide reductase activity</td>\n",
       "      <td>1</td>\n",
       "      <td>3</td>\n",
       "      <td>38</td>\n",
       "      <td>6.031989e-07</td>\n",
       "      <td>3.283413e-04</td>\n",
       "    </tr>\n",
       "  </tbody>\n",
       "</table>\n",
       "</div>"
      ],
      "text/plain": [
       "                                      go_term  component  n_matches  n_genes  \\\n",
       "0                       anaerobic respiration          1          9       38   \n",
       "1  plasma membrane fumarate reductase complex          1          4       38   \n",
       "2            succinate dehydrogenase activity          1          4       38   \n",
       "3                                fermentation          1          4       38   \n",
       "4       dimethyl sulfoxide reductase activity          1          3       38   \n",
       "\n",
       "         pvalue        qvalue  \n",
       "0  1.972797e-10  6.443155e-07  \n",
       "1  4.824489e-09  7.878390e-06  \n",
       "2  2.397247e-08  2.609803e-05  \n",
       "3  3.293946e-07  2.689507e-04  \n",
       "4  6.031989e-07  3.283413e-04  "
      ]
     },
     "execution_count": 14,
     "metadata": {},
     "output_type": "execute_result"
    }
   ],
   "source": [
    "go_enrichments.head()"
   ]
  },
  {
   "cell_type": "code",
   "execution_count": 15,
   "metadata": {},
   "outputs": [],
   "source": [
    "go_enrichments.to_csv(DATA_DIR+'go_enrichments.csv')"
   ]
  },
  {
   "cell_type": "code",
   "execution_count": null,
   "metadata": {},
   "outputs": [],
   "source": []
  }
 ],
 "metadata": {
  "kernelspec": {
   "display_name": "Python 3",
   "language": "python",
   "name": "python3"
  },
  "language_info": {
   "codemirror_mode": {
    "name": "ipython",
    "version": 3
   },
   "file_extension": ".py",
   "mimetype": "text/x-python",
   "name": "python",
   "nbconvert_exporter": "python",
   "pygments_lexer": "ipython3",
   "version": "3.7.7"
  },
  "toc": {
   "base_numbering": 1,
   "nav_menu": {},
   "number_sections": true,
   "sideBar": true,
   "skip_h1_title": false,
   "title_cell": "Table of Contents",
   "title_sidebar": "Contents",
   "toc_cell": true,
   "toc_position": {},
   "toc_section_display": true,
   "toc_window_display": false
  }
 },
 "nbformat": 4,
 "nbformat_minor": 2
}
