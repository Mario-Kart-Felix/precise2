{
 "cells": [
  {
   "cell_type": "markdown",
   "metadata": {},
   "source": [
    "# Import Packages"
   ]
  },
  {
   "cell_type": "code",
   "execution_count": 1,
   "metadata": {},
   "outputs": [],
   "source": [
    "# built-in\n",
    "import os\n",
    "from os import path\n",
    "\n",
    "# third-party (install required)\n",
    "import pandas as pd\n",
    "from pymodulon.io import load_json_model"
   ]
  },
  {
   "cell_type": "markdown",
   "metadata": {},
   "source": [
    "# Load Data"
   ]
  },
  {
   "cell_type": "markdown",
   "metadata": {
    "tags": []
   },
   "source": [
    "## Define Data Paths"
   ]
  },
  {
   "cell_type": "code",
   "execution_count": 2,
   "metadata": {},
   "outputs": [],
   "source": [
    "precise1k_path = '../data/precise1k'\n",
    "phage_path = '../data/phage'"
   ]
  },
  {
   "cell_type": "markdown",
   "metadata": {},
   "source": [
    "## Load Data, Metadata, and QC Stats"
   ]
  },
  {
   "cell_type": "code",
   "execution_count": 7,
   "metadata": {},
   "outputs": [],
   "source": [
    "precise1k_log_tpm = pd.read_csv(path.join(precise1k_path, 'log_tpm.csv'), index_col=0)\n",
    "phage_log_tpm = pd.read_csv(path.join(phage_path, 'log_tpm.csv'), index_col=0)\n",
    "\n",
    "precise1k_metadata = pd.read_csv(path.join(precise1k_path, 'metadata.csv'), index_col=0)\n",
    "# phage metadata has all the P2.0 as well\n",
    "phage_metadata = pd.read_csv(path.join(phage_path, 'metadata.tsv'), index_col=0, sep='\\t')\n",
    "phage_metadata = phage_metadata[phage_metadata['project_id'] == 'phage']\n",
    "phage_metadata = phage_metadata.rename(columns={'project_id': 'project', 'condition_id': 'condition'})\n",
    "\n",
    "# precise2 has EEP attached; remove these so we don't duplicate\n",
    "precise1k_qc_stats = pd.read_csv(path.join(precise1k_path, 'multiqc_stats.csv'), index_col=0)\n",
    "phage_qc_stats = pd.read_csv(path.join(phage_path, 'multiqc_stats.tsv'), index_col=0, sep='\\t')"
   ]
  },
  {
   "cell_type": "markdown",
   "metadata": {},
   "source": [
    "# Merge Data\n",
    "\n",
    "Merge together all of this data"
   ]
  },
  {
   "cell_type": "code",
   "execution_count": 15,
   "metadata": {},
   "outputs": [],
   "source": [
    "log_tpm_1k = precise1k_log_tpm.merge(\n",
    "    phage_log_tpm,\n",
    "    left_index=True, right_index=True\n",
    ")\n",
    "\n",
    "metadata_1k = pd.concat([\n",
    "    precise1k_metadata,\n",
    "    phage_metadata\n",
    "])\n",
    "\n",
    "multiqc_stats_1k = pd.concat([\n",
    "    precise1k_qc_stats,\n",
    "    phage_qc_stats\n",
    "])"
   ]
  },
  {
   "cell_type": "markdown",
   "metadata": {},
   "source": [
    "# Save Data"
   ]
  },
  {
   "cell_type": "code",
   "execution_count": 16,
   "metadata": {},
   "outputs": [],
   "source": [
    "log_tpm_1k.to_csv(path.join(precise1k_path, 'log_tpm.csv'))\n",
    "metadata_1k.to_csv(path.join(precise1k_path, 'metadata.csv'))\n",
    "multiqc_stats_1k.to_csv(path.join(precise1k_path, 'multiqc_stats.csv'))"
   ]
  }
 ],
 "metadata": {
  "kernelspec": {
   "display_name": "Python 3",
   "language": "python",
   "name": "python3"
  },
  "language_info": {
   "codemirror_mode": {
    "name": "ipython",
    "version": 3
   },
   "file_extension": ".py",
   "mimetype": "text/x-python",
   "name": "python",
   "nbconvert_exporter": "python",
   "pygments_lexer": "ipython3",
   "version": "3.8.5"
  }
 },
 "nbformat": 4,
 "nbformat_minor": 4
}
