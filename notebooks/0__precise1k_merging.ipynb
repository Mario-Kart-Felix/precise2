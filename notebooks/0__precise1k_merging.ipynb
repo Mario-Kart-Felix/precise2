{
 "cells": [
  {
   "cell_type": "markdown",
   "metadata": {},
   "source": [
    "# Import Packages"
   ]
  },
  {
   "cell_type": "code",
   "execution_count": 9,
   "metadata": {},
   "outputs": [],
   "source": [
    "# built-in\n",
    "import os\n",
    "from os import path\n",
    "\n",
    "# third-party (install required)\n",
    "import pandas as pd\n",
    "from pymodulon.io import load_json_model"
   ]
  },
  {
   "cell_type": "markdown",
   "metadata": {},
   "source": [
    "# Load Data"
   ]
  },
  {
   "cell_type": "markdown",
   "metadata": {
    "tags": []
   },
   "source": [
    "## Define Data Paths"
   ]
  },
  {
   "cell_type": "code",
   "execution_count": 131,
   "metadata": {},
   "outputs": [],
   "source": [
    "precise2_path = '../data/precise2'\n",
    "precise1k_path = '../data/precise1k'\n",
    "minicoli_path = path.join(precise2_path, 'minicoli')\n",
    "ets_path = path.join(precise2_path, 'ets')"
   ]
  },
  {
   "cell_type": "markdown",
   "metadata": {},
   "source": [
    "## Load Data, Metadata, and QC Stats"
   ]
  },
  {
   "cell_type": "code",
   "execution_count": 123,
   "metadata": {},
   "outputs": [],
   "source": [
    "precise2_log_tpm = pd.read_csv(path.join(precise2_path, 'log_tpm.csv'), index_col=0)\n",
    "minicoli_log_tpm = pd.read_csv(path.join(minicoli_path, 'log_tpm.csv'), index_col=0)\n",
    "ets_log_tpm = pd.read_csv(path.join(ets_path, 'log_tpm__p2_eep_hmp.csv'), index_col=0)\n",
    "\n",
    "precise2_metadata = pd.read_csv(path.join(precise2_path, 'metadata.tsv'), index_col=0, sep='\\t')\n",
    "precise2_metadata = precise2_metadata.rename(columns={'project_id': 'project', 'condition_id': 'condition'})\n",
    "minicoli_metadata = pd.read_csv(path.join(minicoli_path, 'metadata.tsv'), index_col=0, sep='\\t')\n",
    "# file name says \"QC\" but actually all of these were passed for the purposes of the ETS project analysis\n",
    "ets_metadata = pd.read_csv(path.join(ets_path, 'metadata_qc.csv'), index_col=0)\n",
    "ets_metadata = ets_metadata.rename(columns={'project_id': 'project', 'condition_id': 'condition'})\n",
    "\n",
    "# precise2 has EEP attached; remove these so we don't duplicate\n",
    "precise2_qc_stats = pd.read_csv(path.join(precise2_path, 'multiqc_stats.tsv'), index_col=0, sep='\\t')\n",
    "precise2_qc_stats = precise2_qc_stats.iloc[:820]\n",
    "minicoli_qc_stats = pd.read_csv(path.join(minicoli_path, 'multiqc_stats.tsv'), index_col=0, sep='\\t')\n",
    "ets_qc_stats = pd.read_csv(path.join(ets_path, 'multiqc_stats.tsv'), index_col=0, sep='\\t')"
   ]
  },
  {
   "cell_type": "markdown",
   "metadata": {},
   "source": [
    "## Isolate ETS Samples to Use\n",
    "\n",
    "Not all ETS samples are publishable"
   ]
  },
  {
   "cell_type": "code",
   "execution_count": 124,
   "metadata": {},
   "outputs": [],
   "source": [
    "ets_samples_to_include = [\n",
    "    'ecoli_eep_001', 'ecoli_eep_002', 'ecoli_eep_003', 'ecoli_eep_004', 'ecoli_eep_005', 'ecoli_eep_006', 'ecoli_eep_007', 'ecoli_eep_008',\n",
    "    'ecoli_eep_081', 'ecoli_eep_082', 'ecoli_eep_083', 'ecoli_eep_084', 'ecoli_eep_085', 'ecoli_eep_086', 'ecoli_eep_087', 'ecoli_eep_088',\n",
    "    'ecoli_eep_089', 'ecoli_eep_090', 'ecoli_eep_091', 'ecoli_eep_092', 'ecoli_eep_093', 'ecoli_eep_094', 'ecoli_eep_095', 'ecoli_eep_096',\n",
    "    'ecoli_eep_097', 'ecoli_eep_098', 'ecoli_eep_099', 'ecoli_eep_100', 'ecoli_eep_101', 'ecoli_eep_102', 'ecoli_eep_103', 'ecoli_eep_104',\n",
    "    'ecoli_eep_105', 'ecoli_eep_106', 'ecoli_eep_107', 'ecoli_eep_108', 'ecoli_eep_109', 'ecoli_eep_110', 'ecoli_eep_111', 'ecoli_eep_112',\n",
    "    'ecoli_eep_113', 'ecoli_eep_114', 'ecoli_eep_115', 'ecoli_eep_116', 'ecoli_eep_117', 'ecoli_eep_118', 'ecoli_eep_119', 'ecoli_eep_120',\n",
    "    'ecoli_eep_121', 'ecoli_eep_122', 'ecoli_eep_123', 'ecoli_eep_124'\n",
    "]\n",
    "\n",
    "ets_log_tpm_to_use = ets_log_tpm[ets_samples_to_include]\n",
    "ets_metadata_to_use = ets_metadata.loc[ets_samples_to_include]\n",
    "ets_qc_stats_to_use = ets_qc_stats.loc[ets_samples_to_include]"
   ]
  },
  {
   "cell_type": "markdown",
   "metadata": {
    "tags": []
   },
   "source": [
    "## Load DDB Object\n",
    "\n",
    "The DDB data is currently only shared in JSON model format (no QC stats available; assuming everything passes QC)"
   ]
  },
  {
   "cell_type": "code",
   "execution_count": 37,
   "metadata": {},
   "outputs": [],
   "source": [
    "ddb_object = load_json_model(path.join(precise2_path, '20211006_DDB.json'))"
   ]
  },
  {
   "cell_type": "code",
   "execution_count": 125,
   "metadata": {},
   "outputs": [],
   "source": [
    "ddb_projects = ['DDB2', 'DDB3']\n",
    "ddb_samples = ddb_object.sample_table[ddb_object.sample_table['project'].isin(ddb_projects)].index\n",
    "\n",
    "ddb_log_tpm = ddb_object.X[ddb_samples]\n",
    "ddb_metadata = ddb_object.sample_table.loc[ddb_samples]\n",
    "# use old sample ID as sample ID column\n",
    "ddb_metadata = ddb_metadata.rename(columns={'old_sample_id': 'sample_id'})"
   ]
  },
  {
   "cell_type": "markdown",
   "metadata": {},
   "source": [
    "# Merge Data\n",
    "\n",
    "Merge together all of this data"
   ]
  },
  {
   "cell_type": "code",
   "execution_count": 126,
   "metadata": {},
   "outputs": [],
   "source": [
    "log_tpm_1k = precise2_log_tpm.merge(\n",
    "    minicoli_log_tpm,\n",
    "    left_index=True, right_index=True\n",
    ").merge(\n",
    "    ets_log_tpm_to_use,\n",
    "    left_index=True, right_index=True\n",
    ").merge(\n",
    "    ddb_log_tpm,\n",
    "    left_index=True, right_index=True\n",
    ")\n",
    "\n",
    "metadata_1k = pd.concat([\n",
    "    precise2_metadata,\n",
    "    minicoli_metadata,\n",
    "    ets_metadata_to_use,\n",
    "    ddb_metadata\n",
    "])\n",
    "\n",
    "multiqc_stats_1k = pd.concat([\n",
    "    precise2_qc_stats,\n",
    "    minicoli_qc_stats,\n",
    "    ets_qc_stats_to_use\n",
    "])"
   ]
  },
  {
   "cell_type": "markdown",
   "metadata": {},
   "source": [
    "# Save Data"
   ]
  },
  {
   "cell_type": "code",
   "execution_count": 132,
   "metadata": {},
   "outputs": [],
   "source": [
    "log_tpm_1k.to_csv(path.join(precise1k_path, 'log_tpm.csv'))\n",
    "metadata_1k.to_csv(path.join(precise1k_path, 'metadata.csv'))\n",
    "multiqc_stats_1k.to_csv(path.join(precise1k_path, 'multiqc_stats.csv'))"
   ]
  }
 ],
 "metadata": {
  "kernelspec": {
   "display_name": "Python 3",
   "language": "python",
   "name": "python3"
  },
  "language_info": {
   "codemirror_mode": {
    "name": "ipython",
    "version": 3
   },
   "file_extension": ".py",
   "mimetype": "text/x-python",
   "name": "python",
   "nbconvert_exporter": "python",
   "pygments_lexer": "ipython3",
   "version": "3.8.5"
  }
 },
 "nbformat": 4,
 "nbformat_minor": 4
}
