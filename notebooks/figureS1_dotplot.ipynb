{
 "cells": [
  {
   "cell_type": "code",
   "execution_count": 1,
   "metadata": {},
   "outputs": [],
   "source": [
    "import sys\n",
    "sys.path.append('../')\n",
    "from icaviz.plotting import *\n",
    "from tqdm import tqdm_notebook as tqdm\n",
    "import pandas as pd\n",
    "from matplotlib.lines import Line2D\n",
    "from matplotlib import gridspec\n",
    "from matplotlib import cm\n",
    "import matplotlib\n",
    "import scipy\n",
    "\n",
    "from pymodulon.core import *\n",
    "from pymodulon.plotting import *\n",
    "from pymodulon.compare import *\n",
    "from pymodulon.io import *\n",
    "\n",
    "from os import path\n",
    "\n",
    "pd.options.display.max_columns = 999 "
   ]
  },
  {
   "cell_type": "code",
   "execution_count": 2,
   "metadata": {},
   "outputs": [],
   "source": [
    "precise2 = load_json_model('../data/precise2/precise2.json.gz')"
   ]
  },
  {
   "cell_type": "code",
   "execution_count": 11,
   "metadata": {},
   "outputs": [],
   "source": [
    "p1_dir = '../data/precise/'\n",
    "\n",
    "precise1 = IcaData(M = path.join(p1_dir,'S.csv'),\n",
    "                   A = path.join(p1_dir,'A.csv'),\n",
    "                   X = path.join(p1_dir,'log_tpm.csv'),\n",
    "                   sample_table = path.join(p1_dir,'metadata.csv'))"
   ]
  },
  {
   "cell_type": "code",
   "execution_count": 12,
   "metadata": {},
   "outputs": [],
   "source": [
    "p1_enrich = pd.read_csv(p1_dir+'curated_enrichments.csv', index_col=0)\n",
    "\n",
    "precise1.imodulon_names = p1_enrich.name"
   ]
  },
  {
   "cell_type": "code",
   "execution_count": 25,
   "metadata": {},
   "outputs": [
    {
     "data": {
      "text/plain": [
       "'./figS1/figureS1_dot_plot.pdf'"
      ]
     },
     "execution_count": 25,
     "metadata": {},
     "output_type": "execute_result"
    }
   ],
   "source": [
    "links,dots = compare_ica(precise1.M, precise2.M,cutoff=.3)\n",
    "\n",
    "dots.render('./figS1/figureS1_dot_plot', format='pdf')"
   ]
  },
  {
   "cell_type": "code",
   "execution_count": null,
   "metadata": {},
   "outputs": [],
   "source": []
  }
 ],
 "metadata": {
  "kernelspec": {
   "display_name": "Python 3",
   "language": "python",
   "name": "python3"
  },
  "language_info": {
   "codemirror_mode": {
    "name": "ipython",
    "version": 3
   },
   "file_extension": ".py",
   "mimetype": "text/x-python",
   "name": "python",
   "nbconvert_exporter": "python",
   "pygments_lexer": "ipython3",
   "version": "3.7.6"
  },
  "toc": {
   "base_numbering": 1,
   "nav_menu": {},
   "number_sections": true,
   "sideBar": true,
   "skip_h1_title": false,
   "title_cell": "Table of Contents",
   "title_sidebar": "Contents",
   "toc_cell": false,
   "toc_position": {},
   "toc_section_display": true,
   "toc_window_display": false
  }
 },
 "nbformat": 4,
 "nbformat_minor": 4
}
