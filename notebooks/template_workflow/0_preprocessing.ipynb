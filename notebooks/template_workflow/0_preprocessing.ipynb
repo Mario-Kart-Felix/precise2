{
 "cells": [
  {
   "cell_type": "markdown",
   "metadata": {
    "toc": true
   },
   "source": [
    "<h1>Table of Contents<span class=\"tocSkip\"></span></h1>\n",
    "<div class=\"toc\"><ul class=\"toc-item\"><li><span><a href=\"#E.-coli-MG1655-RNAseq-Data\" data-toc-modified-id=\"E.-coli-MG1655-RNAseq-Data-1\"><span class=\"toc-item-num\">1&nbsp;&nbsp;</span><em>E. coli</em> MG1655 RNAseq Data</a></span><ul class=\"toc-item\"><li><span><a href=\"#Load-your-SummarizedExperiment-file\" data-toc-modified-id=\"Load-your-SummarizedExperiment-file-1.1\"><span class=\"toc-item-num\">1.1&nbsp;&nbsp;</span>Load your SummarizedExperiment file</a></span></li><li><span><a href=\"#Ensure-colData-is-correct\" data-toc-modified-id=\"Ensure-colData-is-correct-1.2\"><span class=\"toc-item-num\">1.2&nbsp;&nbsp;</span>Ensure colData is correct</a></span></li><li><span><a href=\"#Merge-with-PRECISE-SummarizedExperiment\" data-toc-modified-id=\"Merge-with-PRECISE-SummarizedExperiment-1.3\"><span class=\"toc-item-num\">1.3&nbsp;&nbsp;</span>Merge with PRECISE SummarizedExperiment</a></span></li><li><span><a href=\"#Create-the-DESeqDataSet\" data-toc-modified-id=\"Create-the-DESeqDataSet-1.4\"><span class=\"toc-item-num\">1.4&nbsp;&nbsp;</span>Create the DESeqDataSet</a></span></li><li><span><a href=\"#Remove-noisy-genes\" data-toc-modified-id=\"Remove-noisy-genes-1.5\"><span class=\"toc-item-num\">1.5&nbsp;&nbsp;</span>Remove noisy genes</a></span></li><li><span><a href=\"#Calculate-TPM\" data-toc-modified-id=\"Calculate-TPM-1.6\"><span class=\"toc-item-num\">1.6&nbsp;&nbsp;</span>Calculate TPM</a></span></li></ul></li><li><span><a href=\"#Multi-strain-E.-coli-RNAseq\" data-toc-modified-id=\"Multi-strain-E.-coli-RNAseq-2\"><span class=\"toc-item-num\">2&nbsp;&nbsp;</span>Multi-strain <em>E. coli</em> RNAseq</a></span><ul class=\"toc-item\"><li><span><a href=\"#Load-TPM-data-files\" data-toc-modified-id=\"Load-TPM-data-files-2.1\"><span class=\"toc-item-num\">2.1&nbsp;&nbsp;</span>Load TPM data files</a></span></li><li><span><a href=\"#Merge-TPM-files\" data-toc-modified-id=\"Merge-TPM-files-2.2\"><span class=\"toc-item-num\">2.2&nbsp;&nbsp;</span>Merge TPM files</a></span></li></ul></li></ul></div>"
   ]
  },
  {
   "cell_type": "markdown",
   "metadata": {},
   "source": [
    "There are two methods to join RNAseq data for ICA:\n",
    "1. Merge the SummarizedExperiment files (Preferred for MG1655)\n",
    "2. Merge the TPM files (Necessary for multi-strain)\n",
    "\n",
    "Merging the SE files is preferred, because you can get a more accurate idea of which genes are noisy and must be discarded. However, this method is both slower and more error-prone than merging the TPM files. If you get any errors at the cbind step, then you can just use the TPM merging method.\n",
    "\n",
    "If you are creating a new compendium, use pipeline 1 (Merge SE) and skip step 1.2."
   ]
  },
  {
   "cell_type": "code",
   "execution_count": 2,
   "metadata": {},
   "outputs": [],
   "source": [
    "suppressPackageStartupMessages(library(\"DESeq2\"))\n",
    "suppressPackageStartupMessages(library(\"dplyr\"))"
   ]
  },
  {
   "cell_type": "markdown",
   "metadata": {},
   "source": [
    "# _E. coli_ MG1655 RNAseq Data"
   ]
  },
  {
   "cell_type": "markdown",
   "metadata": {},
   "source": [
    "## Load your SummarizedExperiment file"
   ]
  },
  {
   "cell_type": "markdown",
   "metadata": {},
   "source": [
    "Use the RNAseq Workflow to generate your `se.rda` file. Replace the file `data/example_data/example_se.rda` with your data file. Feel free to rename the `example_data` folder."
   ]
  },
  {
   "cell_type": "code",
   "execution_count": 3,
   "metadata": {},
   "outputs": [],
   "source": [
    "DATA_DIR <- '../data/example_data/'"
   ]
  },
  {
   "cell_type": "code",
   "execution_count": 4,
   "metadata": {},
   "outputs": [
    {
     "data": {
      "text/plain": [
       "class: RangedSummarizedExperiment \n",
       "dim: 4386 2 \n",
       "metadata(0):\n",
       "assays(1): counts\n",
       "rownames(4386): b0001 b0002 ... b4706 b4708\n",
       "rowData names(0):\n",
       "colnames(2): PROJECT__CONDITION__1 PROJECT__CONDITION__2\n",
       "colData names(2): project condition"
      ]
     },
     "metadata": {},
     "output_type": "display_data"
    }
   ],
   "source": [
    "SE_FILE <- file.path(DATA_DIR,'example_se.rda')\n",
    "load(SE_FILE)\n",
    "new_se <- se\n",
    "new_se"
   ]
  },
  {
   "cell_type": "markdown",
   "metadata": {},
   "source": [
    "**NOTE:** This pipeline assumes sample IDs of **&lt;project>\\__&lt;condition>\\__&lt;rep#\\>** (double underscore separations)"
   ]
  },
  {
   "cell_type": "code",
   "execution_count": 5,
   "metadata": {},
   "outputs": [
    {
     "data": {
      "text/html": [
       "TRUE"
      ],
      "text/latex": [
       "TRUE"
      ],
      "text/markdown": [
       "TRUE"
      ],
      "text/plain": [
       "[1] TRUE"
      ]
     },
     "metadata": {},
     "output_type": "display_data"
    }
   ],
   "source": [
    "# If this is FALSE, at least one of your sample IDs are incompatible.\n",
    "# Change sample IDs using:\n",
    "# colnames(new_se) <- c('id1','id2')\n",
    "all(grepl('\\\\w+__\\\\w+__\\\\d+', colnames(new_se)))"
   ]
  },
  {
   "cell_type": "markdown",
   "metadata": {},
   "source": [
    "## Ensure colData is correct"
   ]
  },
  {
   "cell_type": "code",
   "execution_count": 6,
   "metadata": {},
   "outputs": [],
   "source": [
    "colData <- colnames(new_se) %>%                     # Get column names\n",
    "            strsplit('__') %>%                      # Split them by double-underscores\n",
    "            sapply(c) %>%                           # Turn them into column vectors\n",
    "            t %>%                                   # Transpose into row vectors\n",
    "            DataFrame(row.names=colnames(new_se))   # Create dataframe\n",
    "colnames(colData) <- c('project','condition','rep')\n",
    "colData(new_se) <- colData"
   ]
  },
  {
   "cell_type": "code",
   "execution_count": 7,
   "metadata": {},
   "outputs": [
    {
     "data": {
      "text/plain": [
       "DataFrame with 2 rows and 3 columns\n",
       "                       project condition      rep\n",
       "                      <factor>  <factor> <factor>\n",
       "PROJECT__CONDITION__1  PROJECT CONDITION        1\n",
       "PROJECT__CONDITION__2  PROJECT CONDITION        2"
      ]
     },
     "metadata": {},
     "output_type": "display_data"
    }
   ],
   "source": [
    "colData(new_se)"
   ]
  },
  {
   "cell_type": "markdown",
   "metadata": {},
   "source": [
    "## Merge with PRECISE SummarizedExperiment"
   ]
  },
  {
   "cell_type": "code",
   "execution_count": 8,
   "metadata": {},
   "outputs": [],
   "source": [
    "load('../data/precise_data/se.rda')\n",
    "preci_se <- se"
   ]
  },
  {
   "cell_type": "code",
   "execution_count": 10,
   "metadata": {},
   "outputs": [],
   "source": [
    "colData <- colnames(preci_se) %>%                   # Get column names\n",
    "            strsplit('__') %>%                      # Split them by double-underscores\n",
    "            sapply(c) %>%                           # Turn them into column vectors\n",
    "            t %>%                                   # Transpose into row vectors\n",
    "            DataFrame(row.names=colnames(preci_se)) # Create dataframe\n",
    "colnames(colData) <- c('project','condition','rep')\n",
    "colData(preci_se) <- colData"
   ]
  },
  {
   "cell_type": "code",
   "execution_count": 11,
   "metadata": {},
   "outputs": [
    {
     "data": {
      "text/plain": [
       "class: RangedSummarizedExperiment \n",
       "dim: 4386 278 \n",
       "metadata(0):\n",
       "assays(1): counts\n",
       "rownames(4386): b0001 b0002 ... b4706 b4708\n",
       "rowData names(0):\n",
       "colnames(278): control__wt_glc__1 control__wt_glc__2 ...\n",
       "  efeU__menFentCubiC_ale38__1 efeU__menFentCubiC_ale38__2\n",
       "colData names(3): project condition rep"
      ]
     },
     "metadata": {},
     "output_type": "display_data"
    }
   ],
   "source": [
    "preci_se"
   ]
  },
  {
   "cell_type": "code",
   "execution_count": 12,
   "metadata": {},
   "outputs": [],
   "source": [
    "# If this line fails, use the multistrain workflow\n",
    "final_se <- cbind(preci_se,new_se)"
   ]
  },
  {
   "cell_type": "markdown",
   "metadata": {},
   "source": [
    "## Create the DESeqDataSet"
   ]
  },
  {
   "cell_type": "code",
   "execution_count": 13,
   "metadata": {},
   "outputs": [],
   "source": [
    "# To group biological replicates, remove the final 3 characters from each sample name\n",
    "# E.g. control__wt_glc__1 and control__wt_glc__2 are replicates\n",
    "# Removing the last three characters of each results in control__wt_glc for both\n",
    "\n",
    "colData(final_se)$group <- gsub('.{3}$', '', colnames(final_se))"
   ]
  },
  {
   "cell_type": "code",
   "execution_count": 15,
   "metadata": {
    "scrolled": true
   },
   "outputs": [
    {
     "name": "stderr",
     "output_type": "stream",
     "text": [
      "Warning message in DESeqDataSet(final_se, design = ~group):\n",
      "“some variables in design formula are characters, converting to factors”"
     ]
    }
   ],
   "source": [
    "dds <- DESeqDataSet(final_se, design = ~group)"
   ]
  },
  {
   "cell_type": "markdown",
   "metadata": {},
   "source": [
    "## Remove noisy genes"
   ]
  },
  {
   "cell_type": "markdown",
   "metadata": {},
   "source": [
    "ICA of small datasets can be sensitive to noise in expression data. The major source of noise in RNA-seq data results from low counts (see [shot noise](https://en.wikipedia.org/wiki/Shot_noise)). Here, we remove genes that have less than 10 fragments mapped per million reads across the entire dataset.\n",
    "\n",
    "For the original ICA paper, we also removed genes whose length was shorter than 100 nts. New results with microarray data show that this is unnecessary."
   ]
  },
  {
   "cell_type": "code",
   "execution_count": 16,
   "metadata": {},
   "outputs": [
    {
     "data": {
      "text/html": [
       "4386"
      ],
      "text/latex": [
       "4386"
      ],
      "text/markdown": [
       "4386"
      ],
      "text/plain": [
       "[1] 4386"
      ]
     },
     "metadata": {},
     "output_type": "display_data"
    },
    {
     "data": {
      "text/html": [
       "3945"
      ],
      "text/latex": [
       "3945"
      ],
      "text/markdown": [
       "3945"
      ],
      "text/plain": [
       "[1] 3945"
      ]
     },
     "metadata": {},
     "output_type": "display_data"
    }
   ],
   "source": [
    "nrow(dds)\n",
    "\n",
    "# Get fragments per million\n",
    "fpm <- sweep(assay(dds), 2, colSums(assay(dds)), FUN=\"/\")*1e6\n",
    "# Keep genes with max FPM > 10\n",
    "keep_genes <- rownames(assay(dds))[apply(fpm,1,max) > 10]\n",
    "dds <- dds[keep_genes]\n",
    "nrow(dds)"
   ]
  },
  {
   "cell_type": "markdown",
   "metadata": {},
   "source": [
    "## Calculate TPM"
   ]
  },
  {
   "cell_type": "code",
   "execution_count": 17,
   "metadata": {},
   "outputs": [],
   "source": [
    "# The base condition for PRECISE is base__wt_glc\n",
    "base_cond <- c('control__wt_glc__1','control__wt_glc__2')"
   ]
  },
  {
   "cell_type": "code",
   "execution_count": 18,
   "metadata": {},
   "outputs": [],
   "source": [
    "fpkm_data <- fpkm(dds)\n",
    "\n",
    "# TPM = FPKM / library size * 10^6\n",
    "tpm_data <- sweep(fpkm_data,2,colSums(fpkm_data),`/`)*1e6\n",
    "\n",
    "# log2(0) is undefined, so add 1 pseudocount to each value\n",
    "log_tpm <- log2(tpm_data+1)\n",
    "\n",
    "# Subtract the mean expression value of the baseline condition from each gene\n",
    "log_tpm_norm <- log_tpm - rowMeans(log_tpm[,base_cond])"
   ]
  },
  {
   "cell_type": "code",
   "execution_count": 19,
   "metadata": {},
   "outputs": [],
   "source": [
    "# Save files\n",
    "write.csv(log_tpm, file = file.path(DATA_DIR,'log_tpm.csv'))\n",
    "write.csv(log_tpm_norm, file = file.path(DATA_DIR,'log_tpm_norm.csv'))"
   ]
  },
  {
   "cell_type": "markdown",
   "metadata": {},
   "source": [
    "**MAKE SURE TO USE LOG_TPM_NORM FOR ICA CALCULATIONS**"
   ]
  },
  {
   "cell_type": "markdown",
   "metadata": {},
   "source": [
    "# Multi-strain _E. coli_ RNAseq"
   ]
  },
  {
   "cell_type": "markdown",
   "metadata": {},
   "source": [
    "This pipeline also works for new E. coli RNAseq data."
   ]
  },
  {
   "cell_type": "markdown",
   "metadata": {},
   "source": [
    "## Load TPM data files"
   ]
  },
  {
   "cell_type": "code",
   "execution_count": 20,
   "metadata": {},
   "outputs": [
    {
     "data": {
      "text/html": [
       "<table>\n",
       "<caption>A data.frame: 6 × 2</caption>\n",
       "<thead>\n",
       "\t<tr><th></th><th scope=col>PROJECT__CONDITION__1</th><th scope=col>PROJECT__CONDITION__2</th></tr>\n",
       "\t<tr><th></th><th scope=col>&lt;dbl&gt;</th><th scope=col>&lt;dbl&gt;</th></tr>\n",
       "</thead>\n",
       "<tbody>\n",
       "\t<tr><th scope=row>b0001</th><td>3568.40476</td><td>4769.24885</td></tr>\n",
       "\t<tr><th scope=row>b0002</th><td>1505.30782</td><td>1227.13934</td></tr>\n",
       "\t<tr><th scope=row>b0003</th><td>1205.91303</td><td>1048.46846</td></tr>\n",
       "\t<tr><th scope=row>b0004</th><td> 904.27614</td><td> 824.43450</td></tr>\n",
       "\t<tr><th scope=row>b0005</th><td> 165.61081</td><td> 124.00526</td></tr>\n",
       "\t<tr><th scope=row>b0006</th><td>  81.75999</td><td>  74.04125</td></tr>\n",
       "</tbody>\n",
       "</table>\n"
      ],
      "text/latex": [
       "A data.frame: 6 × 2\n",
       "\\begin{tabular}{r|ll}\n",
       "  & PROJECT\\_\\_CONDITION\\_\\_1 & PROJECT\\_\\_CONDITION\\_\\_2\\\\\n",
       "  & <dbl> & <dbl>\\\\\n",
       "\\hline\n",
       "\tb0001 & 3568.40476 & 4769.24885\\\\\n",
       "\tb0002 & 1505.30782 & 1227.13934\\\\\n",
       "\tb0003 & 1205.91303 & 1048.46846\\\\\n",
       "\tb0004 &  904.27614 &  824.43450\\\\\n",
       "\tb0005 &  165.61081 &  124.00526\\\\\n",
       "\tb0006 &   81.75999 &   74.04125\\\\\n",
       "\\end{tabular}\n"
      ],
      "text/markdown": [
       "\n",
       "A data.frame: 6 × 2\n",
       "\n",
       "| <!--/--> | PROJECT__CONDITION__1 &lt;dbl&gt; | PROJECT__CONDITION__2 &lt;dbl&gt; |\n",
       "|---|---|---|\n",
       "| b0001 | 3568.40476 | 4769.24885 |\n",
       "| b0002 | 1505.30782 | 1227.13934 |\n",
       "| b0003 | 1205.91303 | 1048.46846 |\n",
       "| b0004 |  904.27614 |  824.43450 |\n",
       "| b0005 |  165.61081 |  124.00526 |\n",
       "| b0006 |   81.75999 |   74.04125 |\n",
       "\n"
      ],
      "text/plain": [
       "      PROJECT__CONDITION__1 PROJECT__CONDITION__2\n",
       "b0001 3568.40476            4769.24885           \n",
       "b0002 1505.30782            1227.13934           \n",
       "b0003 1205.91303            1048.46846           \n",
       "b0004  904.27614             824.43450           \n",
       "b0005  165.61081             124.00526           \n",
       "b0006   81.75999              74.04125           "
      ]
     },
     "metadata": {},
     "output_type": "display_data"
    },
    {
     "data": {
      "text/html": [
       "4108"
      ],
      "text/latex": [
       "4108"
      ],
      "text/markdown": [
       "4108"
      ],
      "text/plain": [
       "[1] 4108"
      ]
     },
     "metadata": {},
     "output_type": "display_data"
    }
   ],
   "source": [
    "new_tpm <- read.csv(file = file.path(DATA_DIR,'example_tpm.csv'),row.names=1)\n",
    "head(new_tpm)\n",
    "nrow(new_tpm)"
   ]
  },
  {
   "cell_type": "code",
   "execution_count": 21,
   "metadata": {},
   "outputs": [
    {
     "data": {
      "text/html": [
       "TRUE"
      ],
      "text/latex": [
       "TRUE"
      ],
      "text/markdown": [
       "TRUE"
      ],
      "text/plain": [
       "[1] TRUE"
      ]
     },
     "metadata": {},
     "output_type": "display_data"
    }
   ],
   "source": [
    "# If this is FALSE, at least one of your sample IDs are incompatible.\n",
    "# Change sample IDs using:\n",
    "# colnames(new_se) <- c('id1','id2')\n",
    "all(grepl('\\\\w+__\\\\w+__\\\\d+', colnames(new_tpm)))"
   ]
  },
  {
   "cell_type": "code",
   "execution_count": 45,
   "metadata": {},
   "outputs": [
    {
     "data": {
      "text/html": [
       "<table>\n",
       "<caption>A data.frame: 6 × 278</caption>\n",
       "<thead>\n",
       "\t<tr><th></th><th scope=col>control__wt_glc__1</th><th scope=col>control__wt_glc__2</th><th scope=col>fur__wt_dpd__1</th><th scope=col>fur__wt_dpd__2</th><th scope=col>fur__wt_fe__1</th><th scope=col>fur__wt_fe__2</th><th scope=col>fur__delfur_dpd__1</th><th scope=col>fur__delfur_dpd__2</th><th scope=col>fur__delfur_fe2__1</th><th scope=col>fur__delfur_fe2__2</th><th scope=col>⋯</th><th scope=col>efeU__menFentC_ale29__1</th><th scope=col>efeU__menFentC_ale29__2</th><th scope=col>efeU__menFentC_ale30__1</th><th scope=col>efeU__menFentC_ale30__2</th><th scope=col>efeU__menFentCubiC_ale36__1</th><th scope=col>efeU__menFentCubiC_ale36__2</th><th scope=col>efeU__menFentCubiC_ale37__1</th><th scope=col>efeU__menFentCubiC_ale37__2</th><th scope=col>efeU__menFentCubiC_ale38__1</th><th scope=col>efeU__menFentCubiC_ale38__2</th></tr>\n",
       "\t<tr><th></th><th scope=col>&lt;dbl&gt;</th><th scope=col>&lt;dbl&gt;</th><th scope=col>&lt;dbl&gt;</th><th scope=col>&lt;dbl&gt;</th><th scope=col>&lt;dbl&gt;</th><th scope=col>&lt;dbl&gt;</th><th scope=col>&lt;dbl&gt;</th><th scope=col>&lt;dbl&gt;</th><th scope=col>&lt;dbl&gt;</th><th scope=col>&lt;dbl&gt;</th><th scope=col>⋯</th><th scope=col>&lt;dbl&gt;</th><th scope=col>&lt;dbl&gt;</th><th scope=col>&lt;dbl&gt;</th><th scope=col>&lt;dbl&gt;</th><th scope=col>&lt;dbl&gt;</th><th scope=col>&lt;dbl&gt;</th><th scope=col>&lt;dbl&gt;</th><th scope=col>&lt;dbl&gt;</th><th scope=col>&lt;dbl&gt;</th><th scope=col>&lt;dbl&gt;</th></tr>\n",
       "</thead>\n",
       "<tbody>\n",
       "\t<tr><th scope=row>b0002</th><td>60272.78323</td><td>68198.72323</td><td>121169.20304</td><td>145540.59326</td><td>63882.06447</td><td>48004.52925</td><td>21511.75213</td><td>29469.20971</td><td>75339.01286</td><td>74165.29294</td><td>⋯</td><td>28891.2075</td><td>29042.9495</td><td>69461.22274</td><td>71009.1183</td><td>117782.59229</td><td>123758.69981</td><td>144570.48763</td><td>150727.71647</td><td>98361.06471</td><td>104063.02886</td></tr>\n",
       "\t<tr><th scope=row>b0003</th><td>33377.06196</td><td>37164.56513</td><td> 91475.25578</td><td>133756.16752</td><td>47904.42245</td><td>40046.05466</td><td>14717.08888</td><td>26674.55082</td><td>54063.75675</td><td>52111.35419</td><td>⋯</td><td>25854.8116</td><td>24755.9265</td><td>30160.51171</td><td>32604.9932</td><td> 55072.62933</td><td> 54680.31553</td><td> 61322.83601</td><td> 62218.66057</td><td>41121.10277</td><td> 47295.67730</td></tr>\n",
       "\t<tr><th scope=row>b0004</th><td>39928.51639</td><td>45480.54989</td><td> 34795.42726</td><td> 48008.86017</td><td>32693.80035</td><td>24683.96368</td><td> 6257.00956</td><td> 8796.56898</td><td>26505.65856</td><td>25967.89030</td><td>⋯</td><td>35420.3085</td><td>34007.0294</td><td>43456.61021</td><td>45430.1312</td><td> 69098.96811</td><td> 67017.28474</td><td> 72025.89555</td><td> 76254.50263</td><td>57135.92525</td><td> 59933.42721</td></tr>\n",
       "\t<tr><th scope=row>b0005</th><td>  552.41138</td><td>  521.43392</td><td>   225.36046</td><td>   206.70542</td><td>  824.56606</td><td>  607.41926</td><td>  101.20178</td><td>  115.29765</td><td>  682.79173</td><td>  461.27862</td><td>⋯</td><td>  394.0763</td><td>  299.5415</td><td>  546.91500</td><td>  538.8763</td><td>   156.36015</td><td>   124.90783</td><td>   231.31556</td><td>   315.69882</td><td>  354.65600</td><td>   332.15846</td></tr>\n",
       "\t<tr><th scope=row>b0006</th><td> 1007.04777</td><td>  988.89326</td><td>   875.24416</td><td>   881.36419</td><td>  863.20800</td><td>  911.81390</td><td>  800.72576</td><td>  952.40131</td><td>  954.41607</td><td>  912.67985</td><td>⋯</td><td> 4320.1949</td><td> 4113.9843</td><td> 3419.40603</td><td> 3201.9816</td><td>  1561.63852</td><td>  1579.56184</td><td>  1521.48854</td><td>  1501.31304</td><td> 3157.17710</td><td>  3310.68706</td></tr>\n",
       "\t<tr><th scope=row>b0007</th><td>   32.81408</td><td>   32.35787</td><td>    37.14096</td><td>    32.07092</td><td>   25.89253</td><td>   31.45357</td><td>   39.78911</td><td>   38.56178</td><td>   28.49857</td><td>   30.14528</td><td>⋯</td><td>  399.8913</td><td>  404.0319</td><td>   34.05348</td><td>   36.5612</td><td>    34.02924</td><td>    41.92358</td><td>    37.48823</td><td>    41.76407</td><td>   31.90325</td><td>    26.59931</td></tr>\n",
       "</tbody>\n",
       "</table>\n"
      ],
      "text/latex": [
       "A data.frame: 6 × 278\n",
       "\\begin{tabular}{r|llllllllllllllllllllllllllllllllllllllllllllllllllllllllllllllllllllllllllllllllllllllllllllllllllllllllllllllllllllllllllllllllllllllllllllllllllllllllllllllllllllllllllllllllllllllllllllllllllllllllllllllllllllllllllllllllllllllllllllllllllllllllllllllllllllllllllllllllllllll}\n",
       "  & control\\_\\_wt\\_glc\\_\\_1 & control\\_\\_wt\\_glc\\_\\_2 & fur\\_\\_wt\\_dpd\\_\\_1 & fur\\_\\_wt\\_dpd\\_\\_2 & fur\\_\\_wt\\_fe\\_\\_1 & fur\\_\\_wt\\_fe\\_\\_2 & fur\\_\\_delfur\\_dpd\\_\\_1 & fur\\_\\_delfur\\_dpd\\_\\_2 & fur\\_\\_delfur\\_fe2\\_\\_1 & fur\\_\\_delfur\\_fe2\\_\\_2 & acid\\_\\_wt\\_ph5\\_\\_1 & acid\\_\\_wt\\_ph5\\_\\_2 & acid\\_\\_delgadx\\_ph5\\_\\_1 & acid\\_\\_delgadx\\_ph5\\_\\_2 & acid\\_\\_delgadw\\_ph5\\_\\_1 & acid\\_\\_delgadw\\_ph5\\_\\_2 & acid\\_\\_delgade\\_ph5\\_\\_1 & acid\\_\\_delgade\\_ph5\\_\\_2 & oxidative\\_\\_wt\\_pq\\_\\_1 & oxidative\\_\\_wt\\_pq\\_\\_2 & oxidative\\_\\_deloxyr\\_pq\\_\\_1 & oxidative\\_\\_deloxyr\\_pq\\_\\_2 & oxidative\\_\\_delsoxr\\_pq\\_\\_1 & oxidative\\_\\_delsoxr\\_pq\\_\\_2 & oxidative\\_\\_delsoxs\\_pq\\_\\_1 & oxidative\\_\\_delsoxs\\_pq\\_\\_2 & nac\\_ntrc\\_\\_wt\\_csn\\_\\_1 & nac\\_ntrc\\_\\_wt\\_csn\\_\\_2 & nac\\_ntrc\\_\\_wt\\_cytd\\_\\_1 & nac\\_ntrc\\_\\_wt\\_cytd\\_\\_2 & nac\\_ntrc\\_\\_wt\\_gln\\_\\_1 & nac\\_ntrc\\_\\_wt\\_gln\\_\\_2 & nac\\_ntrc\\_\\_bw\\_delnac\\_csn\\_\\_1 & nac\\_ntrc\\_\\_bw\\_delnac\\_csn\\_\\_2 & nac\\_ntrc\\_\\_bw\\_delnac\\_cytd\\_\\_1 & nac\\_ntrc\\_\\_bw\\_delnac\\_cytd\\_\\_2 & nac\\_ntrc\\_\\_bw\\_delnac\\_gln\\_\\_1 & nac\\_ntrc\\_\\_bw\\_delnac\\_gln\\_\\_2 & nac\\_ntrc\\_\\_bw\\_delnac\\_nh4\\_\\_1 & nac\\_ntrc\\_\\_bw\\_delnac\\_nh4\\_\\_2 & misc\\_\\_wt\\_no\\_te\\_\\_1 & misc\\_\\_wt\\_no\\_te\\_\\_2 & misc\\_\\_bw\\_delcbl\\_\\_1 & misc\\_\\_bw\\_delcbl\\_\\_2 & misc\\_\\_bw\\_delfabr\\_\\_1 & misc\\_\\_bw\\_delfabr\\_\\_2 & misc\\_\\_bw\\_delfadr\\_\\_1 & misc\\_\\_bw\\_delfadr\\_\\_2 & misc\\_\\_nitr\\_031\\_\\_1 & omics\\_\\_wt\\_glu\\_\\_1 & omics\\_\\_wt\\_glu\\_\\_2 & omics\\_\\_wt\\_gly\\_\\_1 & omics\\_\\_wt\\_gly\\_\\_2 & omics\\_\\_wt\\_thr\\_\\_1 & omics\\_\\_wt\\_thr\\_\\_2 & omics\\_\\_bw\\_ac\\_\\_1 & omics\\_\\_bw\\_ac\\_\\_2 & omics\\_\\_bw\\_fum\\_\\_1 & omics\\_\\_bw\\_fum\\_\\_2 & omics\\_\\_bw\\_glc\\_\\_1 & omics\\_\\_bw\\_glc\\_\\_2 & omics\\_\\_bw\\_pyr\\_\\_1 & omics\\_\\_bw\\_pyr\\_\\_2 & ompr\\_\\_wt\\_nacl\\_\\_1 & ompr\\_\\_wt\\_nacl\\_\\_2 & ompr\\_\\_bw\\_delompr\\_nacl\\_\\_1 & ompr\\_\\_bw\\_delompr\\_nacl\\_\\_2 & minspan\\_\\_wt\\_ade\\_\\_1 & minspan\\_\\_wt\\_glc\\_\\_1 & minspan\\_\\_wt\\_glc\\_\\_2 & minspan\\_\\_wt\\_glc\\_\\_3 & minspan\\_\\_wt\\_glc\\_\\_4 & minspan\\_\\_wt\\_glc\\_anaero\\_\\_1 & minspan\\_\\_wt\\_glc\\_anaero\\_\\_2 & minspan\\_\\_wt\\_trp\\_\\_1 & minspan\\_\\_bw\\_delcra\\_glc\\_\\_1 & minspan\\_\\_bw\\_delcra\\_glc\\_\\_2 & minspan\\_\\_bw\\_delcra\\_trp\\_\\_1 & minspan\\_\\_bw\\_delmntr\\_\\_1 & minspan\\_\\_bw\\_delnac\\_ade\\_\\_1 & minspan\\_\\_bw\\_delnac\\_glc\\_\\_1 & cra\\_crp\\_\\_wt\\_ac\\_\\_1 & cra\\_crp\\_\\_wt\\_ac\\_\\_2 & cra\\_crp\\_\\_wt\\_fru\\_\\_1 & cra\\_crp\\_\\_wt\\_fru\\_\\_2 & cra\\_crp\\_\\_delcra\\_ac\\_\\_1 & cra\\_crp\\_\\_delcra\\_ac\\_\\_2 & cra\\_crp\\_\\_delcra\\_fru\\_\\_1 & cra\\_crp\\_\\_delcra\\_fru\\_\\_2 & cra\\_crp\\_\\_delcra\\_glc\\_\\_1 & cra\\_crp\\_\\_delcra\\_glc\\_\\_2 & rpoB\\_\\_wt\\_031\\_\\_1 & rpoB\\_\\_wt\\_044\\_\\_1 & rpoB\\_\\_wt\\_lb\\_\\_1 & rpoB\\_\\_wt\\_lb\\_\\_2 & rpoB\\_\\_rpoBE546V\\_031\\_\\_1 & rpoB\\_\\_rpoBE546V\\_044\\_\\_1 & rpoB\\_\\_rpoBE546V\\_lb\\_\\_1 & rpoB\\_\\_rpoBE546V\\_lb\\_\\_2 & rpoB\\_\\_rpoBE546V\\_glc\\_\\_1 & rpoB\\_\\_rpoBE672K\\_glc\\_\\_1 & rpoB\\_\\_rpoBE672K\\_glc\\_\\_2 & rpoB\\_\\_rpoBE672K\\_lb\\_\\_1 & rpoB\\_\\_rpoBE672K\\_lb\\_\\_2 & crp\\_\\_wt\\_fru\\_\\_1 & crp\\_\\_wt\\_glyc\\_\\_1 & crp\\_\\_wt\\_glyc\\_\\_2 & crp\\_\\_delar1\\_glyc\\_\\_1 & crp\\_\\_delar1\\_glyc\\_\\_2 & crp\\_\\_delar1ar2\\_glyc\\_\\_1 & crp\\_\\_delar1ar2\\_glyc\\_\\_2 & crp\\_\\_delar1ar2\\_glyc\\_\\_3 & crp\\_\\_delar2\\_glyc\\_\\_1 & crp\\_\\_delar2\\_glyc\\_\\_2 & crp\\_\\_delar2\\_glyc\\_\\_3 & crp\\_\\_delcrp\\_fru\\_\\_1 & crp\\_\\_delcrp\\_fru\\_\\_2 & crp\\_\\_delcrp\\_fru\\_\\_3 & crp\\_\\_delcrp\\_glc\\_\\_1 & crp\\_\\_delcrp\\_glc\\_\\_2 & crp\\_\\_delcrp\\_glc\\_\\_3 & crp\\_\\_delcrp\\_glyc\\_\\_1 & crp\\_\\_delcrp\\_glyc\\_\\_2 & crp\\_\\_delcrp\\_glyc\\_\\_3 & glu\\_\\_glu\\_ale3\\_\\_1 & glu\\_\\_glu\\_ale4\\_\\_1 & glu\\_\\_glu\\_ale5\\_\\_1 & glu\\_\\_glu\\_ale6\\_\\_1 & glu\\_\\_glu\\_ale8\\_\\_1 & glu\\_\\_glu\\_ale9\\_\\_1 & glu\\_\\_glu\\_ale10\\_\\_1 & X42c\\_\\_wt\\_42c\\_\\_1 & X42c\\_\\_42c\\_ale1\\_\\_1 & X42c\\_\\_42c\\_ale2\\_\\_1 & X42c\\_\\_42c\\_ale3\\_\\_1 & X42c\\_\\_42c\\_ale4\\_\\_1 & X42c\\_\\_42c\\_ale5\\_\\_1 & X42c\\_\\_42c\\_ale6\\_\\_1 & X42c\\_\\_42c\\_ale8\\_\\_1 & X42c\\_\\_42c\\_ale9\\_\\_1 & X42c\\_\\_42c\\_ale10\\_\\_1 & ssw\\_\\_wt\\_ac\\_\\_1 & ssw\\_\\_wt\\_glc\\_\\_1 & ssw\\_\\_wt\\_glyc\\_\\_1 & ssw\\_\\_wt\\_xyl\\_\\_1 & ssw\\_\\_glc\\_ale1\\_\\_1 & ssw\\_\\_glc\\_ale2\\_\\_1 & ssw\\_\\_glc\\_ale3\\_\\_1 & ssw\\_\\_glyc\\_ale1\\_\\_1 & ssw\\_\\_glyc\\_ale2\\_\\_1 & ssw\\_\\_xyl\\_ale1\\_\\_1 & ssw\\_\\_xyl\\_ale2\\_\\_1 & ssw\\_\\_xyl\\_ale3\\_\\_1 & ssw\\_\\_glc\\_ac\\_ac2\\_\\_1 & ssw\\_\\_glc\\_ac\\_glc1\\_\\_1 & ssw\\_\\_glc\\_ac\\_glc2\\_\\_1 & ssw\\_\\_glc\\_glyc\\_glc\\_\\_1 & ssw\\_\\_glc\\_glyc\\_glyc\\_\\_1 & ssw\\_\\_glc\\_xyl\\_glc\\_\\_1 & ssw\\_\\_glc\\_xyl\\_xyl\\_\\_1 & pgi\\_\\_glu4\\_delpgi\\_\\_1 & pgi\\_\\_pgi\\_ale1\\_\\_1 & pgi\\_\\_pgi\\_ale2\\_\\_1 & pgi\\_\\_pgi\\_ale3\\_\\_1 & pgi\\_\\_pgi\\_ale5\\_\\_1 & pgi\\_\\_pgi\\_ale6\\_\\_1 & pgi\\_\\_pgi\\_ale7\\_\\_1 & pgi\\_\\_pgi\\_ale8\\_\\_1 & ica\\_\\_wt\\_glc\\_\\_1 & ica\\_\\_wt\\_glc\\_\\_2 & ica\\_\\_wt\\_glc\\_\\_3 & ica\\_\\_wt\\_glc\\_\\_4 & ica\\_\\_arg\\_sbt\\_\\_1 & ica\\_\\_arg\\_sbt\\_\\_2 & ica\\_\\_cytd\\_rib\\_\\_1 & ica\\_\\_cytd\\_rib\\_\\_2 & ica\\_\\_gth\\_\\_1 & ica\\_\\_gth\\_\\_2 & ica\\_\\_leu\\_glcr\\_\\_1 & ica\\_\\_leu\\_glcr\\_\\_2 & ica\\_\\_met\\_glc\\_\\_1 & ica\\_\\_met\\_glc\\_\\_2 & ica\\_\\_no3\\_anaero\\_\\_1 & ica\\_\\_no3\\_anaero\\_\\_2 & ica\\_\\_phe\\_acgam\\_\\_1 & ica\\_\\_phe\\_acgam\\_\\_2 & ica\\_\\_thm\\_gal\\_\\_1 & ica\\_\\_thm\\_gal\\_\\_2 & ica\\_\\_tyr\\_glcn\\_\\_1 & ica\\_\\_tyr\\_glcn\\_\\_2 & ica\\_\\_ura\\_pyr\\_\\_1 & ica\\_\\_ura\\_pyr\\_\\_2 & ica\\_\\_wt\\_glc\\_\\_5 & ica\\_\\_wt\\_glc\\_\\_6 & ica\\_\\_bw\\_delpurR\\_cytd\\_\\_1 & ica\\_\\_bw\\_delpurR\\_cytd\\_\\_2 & ica\\_\\_ade\\_glc\\_\\_1 & ica\\_\\_ade\\_glc\\_\\_2 & ytf\\_\\_wt\\_glc\\_\\_1 & ytf\\_\\_wt\\_glc\\_\\_2 & ytf\\_\\_delyafC\\_\\_1 & ytf\\_\\_delyafC\\_\\_2 & ytf\\_\\_delyeiE\\_\\_1 & ytf\\_\\_delyeiE\\_\\_2 & ytf\\_\\_delyiaJ\\_\\_1 & ytf\\_\\_delyiaJ\\_\\_2 & ytf\\_\\_delyieP\\_\\_1 & ytf\\_\\_delyieP\\_\\_2 & ytf\\_\\_wt\\_ph5\\_\\_1 & ytf\\_\\_wt\\_ph5\\_\\_2 & ytf\\_\\_wt\\_ph8\\_\\_1 & ytf\\_\\_wt\\_ph8\\_\\_2 & ytf\\_\\_delybaO\\_\\_1 & ytf\\_\\_delybaO\\_\\_2 & ytf\\_\\_delybaQ\\_\\_1 & ytf\\_\\_delybaQ\\_\\_2 & ytf\\_\\_delybiH\\_\\_1 & ytf\\_\\_delybiH\\_\\_2 & ytf\\_\\_delydcI\\_ph5\\_\\_1 & ytf\\_\\_delydcI\\_ph5\\_\\_2 & ytf\\_\\_delydcI\\_ph8\\_\\_1 & ytf\\_\\_delydcI\\_ph8\\_\\_2 & ytf\\_\\_delyddM\\_\\_1 & ytf\\_\\_delyddM\\_\\_2 & ytf\\_\\_delyheO\\_\\_1 & ytf\\_\\_delyheO\\_\\_2 & fps\\_\\_bw\\_glc\\_\\_1 & fps\\_\\_bw\\_glc\\_\\_2 & fps\\_\\_fps\\_thrA\\_ale1\\_\\_1 & fps\\_\\_fps\\_thrA\\_ale1\\_\\_2 & fps\\_\\_fps\\_thrA\\_ale2\\_\\_1 & fps\\_\\_fps\\_thrA\\_ale2\\_\\_2 & fps\\_\\_fps\\_serB\\_ale1\\_\\_1 & fps\\_\\_fps\\_serB\\_ale1\\_\\_2 & fps\\_\\_fps\\_serB\\_ale4\\_\\_1 & fps\\_\\_fps\\_serB\\_ale4\\_\\_2 & fps\\_\\_fps\\_ptsI\\_ale1\\_\\_1 & fps\\_\\_fps\\_ptsI\\_ale1\\_\\_2 & fps\\_\\_fps\\_ptsI\\_ale3\\_\\_1 & fps\\_\\_fps\\_ptsI\\_ale3\\_\\_2 & pal\\_\\_lyx\\_ale2\\_f6\\_\\_1 & pal\\_\\_lyx\\_ale2\\_\\_1 & pal\\_\\_lyx\\_ale2\\_\\_2 & pal\\_\\_lyx\\_ale4\\_\\_1 & pal\\_\\_lyx\\_ale4\\_\\_2 & pal\\_\\_5drib\\_ale10\\_f18\\_\\_1 & pal\\_\\_5drib\\_ale10\\_f18\\_\\_2 & pal\\_\\_5drib\\_ale10\\_\\_1 & pal\\_\\_arab\\_ale14\\_f9\\_\\_1 & pal\\_\\_arab\\_ale14\\_f9\\_\\_2 & pal\\_\\_arab\\_ale14\\_\\_1 & pal\\_\\_arab\\_ale14\\_\\_2 & pal\\_\\_arab\\_ale16\\_\\_1 & pal\\_\\_arab\\_ale16\\_\\_2 & pal\\_\\_tartr\\_ale26\\_f10\\_\\_1 & pal\\_\\_tartr\\_ale26\\_f10\\_\\_2 & pal\\_\\_tartr\\_ale26\\_\\_1 & pal\\_\\_tartr\\_ale26\\_\\_2 & pal\\_\\_tartr\\_ale28\\_f10\\_\\_1 & pal\\_\\_tartr\\_ale28\\_f10\\_\\_2 & pal\\_\\_tartr\\_ale28\\_\\_1 & pal\\_\\_tartr\\_ale28\\_\\_2 & efeU\\_\\_delmenFentC\\_citr\\_\\_1 & efeU\\_\\_delmenFentC\\_citr\\_\\_2 & efeU\\_\\_delmenFentC\\_\\_1 & efeU\\_\\_delmenFentC\\_\\_2 & efeU\\_\\_menFentC\\_ale39\\_\\_1 & efeU\\_\\_menFentC\\_ale39\\_\\_2 & efeU\\_\\_menFentC\\_ale29\\_\\_1 & efeU\\_\\_menFentC\\_ale29\\_\\_2 & efeU\\_\\_menFentC\\_ale30\\_\\_1 & efeU\\_\\_menFentC\\_ale30\\_\\_2 & efeU\\_\\_menFentCubiC\\_ale36\\_\\_1 & efeU\\_\\_menFentCubiC\\_ale36\\_\\_2 & efeU\\_\\_menFentCubiC\\_ale37\\_\\_1 & efeU\\_\\_menFentCubiC\\_ale37\\_\\_2 & efeU\\_\\_menFentCubiC\\_ale38\\_\\_1 & efeU\\_\\_menFentCubiC\\_ale38\\_\\_2\\\\\n",
       "  & <dbl> & <dbl> & <dbl> & <dbl> & <dbl> & <dbl> & <dbl> & <dbl> & <dbl> & <dbl> & <dbl> & <dbl> & <dbl> & <dbl> & <dbl> & <dbl> & <dbl> & <dbl> & <dbl> & <dbl> & <dbl> & <dbl> & <dbl> & <dbl> & <dbl> & <dbl> & <dbl> & <dbl> & <dbl> & <dbl> & <dbl> & <dbl> & <dbl> & <dbl> & <dbl> & <dbl> & <dbl> & <dbl> & <dbl> & <dbl> & <dbl> & <dbl> & <dbl> & <dbl> & <dbl> & <dbl> & <dbl> & <dbl> & <dbl> & <dbl> & <dbl> & <dbl> & <dbl> & <dbl> & <dbl> & <dbl> & <dbl> & <dbl> & <dbl> & <dbl> & <dbl> & <dbl> & <dbl> & <dbl> & <dbl> & <dbl> & <dbl> & <dbl> & <dbl> & <dbl> & <dbl> & <dbl> & <dbl> & <dbl> & <dbl> & <dbl> & <dbl> & <dbl> & <dbl> & <dbl> & <dbl> & <dbl> & <dbl> & <dbl> & <dbl> & <dbl> & <dbl> & <dbl> & <dbl> & <dbl> & <dbl> & <dbl> & <dbl> & <dbl> & <dbl> & <dbl> & <dbl> & <dbl> & <dbl> & <dbl> & <dbl> & <dbl> & <dbl> & <dbl> & <dbl> & <dbl> & <dbl> & <dbl> & <dbl> & <dbl> & <dbl> & <dbl> & <dbl> & <dbl> & <dbl> & <dbl> & <dbl> & <dbl> & <dbl> & <dbl> & <dbl> & <dbl> & <dbl> & <dbl> & <dbl> & <dbl> & <dbl> & <dbl> & <dbl> & <dbl> & <dbl> & <dbl> & <dbl> & <dbl> & <dbl> & <dbl> & <dbl> & <dbl> & <dbl> & <dbl> & <dbl> & <dbl> & <dbl> & <dbl> & <dbl> & <dbl> & <dbl> & <dbl> & <dbl> & <dbl> & <dbl> & <dbl> & <dbl> & <dbl> & <dbl> & <dbl> & <dbl> & <dbl> & <dbl> & <dbl> & <dbl> & <dbl> & <dbl> & <dbl> & <dbl> & <dbl> & <dbl> & <dbl> & <dbl> & <dbl> & <dbl> & <dbl> & <dbl> & <dbl> & <dbl> & <dbl> & <dbl> & <dbl> & <dbl> & <dbl> & <dbl> & <dbl> & <dbl> & <dbl> & <dbl> & <dbl> & <dbl> & <dbl> & <dbl> & <dbl> & <dbl> & <dbl> & <dbl> & <dbl> & <dbl> & <dbl> & <dbl> & <dbl> & <dbl> & <dbl> & <dbl> & <dbl> & <dbl> & <dbl> & <dbl> & <dbl> & <dbl> & <dbl> & <dbl> & <dbl> & <dbl> & <dbl> & <dbl> & <dbl> & <dbl> & <dbl> & <dbl> & <dbl> & <dbl> & <dbl> & <dbl> & <dbl> & <dbl> & <dbl> & <dbl> & <dbl> & <dbl> & <dbl> & <dbl> & <dbl> & <dbl> & <dbl> & <dbl> & <dbl> & <dbl> & <dbl> & <dbl> & <dbl> & <dbl> & <dbl> & <dbl> & <dbl> & <dbl> & <dbl> & <dbl> & <dbl> & <dbl> & <dbl> & <dbl> & <dbl> & <dbl> & <dbl> & <dbl> & <dbl> & <dbl> & <dbl> & <dbl> & <dbl> & <dbl> & <dbl> & <dbl> & <dbl> & <dbl> & <dbl> & <dbl> & <dbl> & <dbl> & <dbl> & <dbl> & <dbl> & <dbl> & <dbl> & <dbl> & <dbl> & <dbl> & <dbl> & <dbl> & <dbl>\\\\\n",
       "\\hline\n",
       "\tb0002 & 60272.78323 & 68198.72323 & 121169.20304 & 145540.59326 & 63882.06447 & 48004.52925 & 21511.75213 & 29469.20971 & 75339.01286 & 74165.29294 & 56916.21267 & 57422.91900 & 56872.79080 & 49934.88142 & 54088.31516 & 54770.07571 & 67849.46929 & 72793.30181 & 2886.67753 & 2798.17964 & 8471.91275 & 7470.64268 & 3240.24505 & 3290.27349 & 2422.01417 & 2625.55502 & 70110.4903 & 72658.38297 & 23146.21084 & 22937.97219 & 27478.6586 & 29291.76791 & 84970.36962 & 87816.53501 & 55688.66083 & 56432.26872 & 29747.99692 & 28949.96653 & 100567.02182 & 102082.6841 & 60722.72959 & 98026.66310 & 78240.66893 & 80073.74283 & 85950.25361 & 86273.91531 & 77577.14894 & 81953.08151 & 57761.43911 & 64860.70834 & 60778.07193 & 79701.08877 & 78713.98233 & 5675.4277 & 4971.4435 & 10480.30323 & 9722.70024 & 16467.63895 & 15868.0474 & 27134.19038 & 27400.45518 & 44898.83013 & 44377.5910 & 5173.66389 & 4487.47069 & 1924.52828 & 1950.08626 & 9778.62939 & 32459.16115 & 29772.77957 & 28098.7984 & 28157.05985 & 44101.37942 & 63979.7064 & 11962.5598 & 33446.3809 & 35317.4063 & 21412.7329 & 27311.4874 & 210971.11752 & 22195.24359 & 14596.80682 & 14033.47384 & 81129.01956 & 65660.6990 & 4747.89177 & 4955.27631 & 120294.33088 & 109192.71604 & 73688.10459 & 77101.68952 & 27916.21050 & 50568.49182 & 1800.462293 & 1788.479983 & 26582.8918 & 29867.97208 & 3560.02209 & 3462.88829 & 55677.74711 & 59926.32237 & 59847.49043 & 3417.14591 & 3476.66218 & 41042.63846 & 33868.45115 & 31978.62835 & 47221.48104 & 23252.74993 & 45952.29852 & 45716.82054 & 48153.10909 & 14172.65346 & 15148.55262 & 12898.96759 & 95929.26245 & 88510.6289 & 93094.84540 & 62892.49494 & 64067.56213 & 65411.30830 & 68591.95400 & 74240.62936 & 84240.43096 & 54369.1156 & 62238.73213 & 68828.18665 & 89961.306159 & 36897.8143 & 51384.5895 & 56722.5148 & 98685.77605 & 11402.7341 & 74312.03273 & 55017.65994 & 78073.2680 & 41262.21624 & 3039.3195 & 59734.5388 & 68727.46505 & 56194.9818 & 1151.59813 & 34397.76326 & 2159.3334 & 182804.2916 & 34023.96216 & 26819.0217 & 17144.2813 & 58192.49602 & 22157.4925 & 22962.9597 & 21040.5287 & 19258.7774 & 9130.10575 & 33982.66239 & 4374.7786 & 37630.8430 & 29940.40543 & 23854.6651 & 24437.19276 & 18883.33959 & 18324.71816 & 17746.15949 & 22410.76698 & 19508.43911 & 19129.80828 & 52195.0428 & 35682.81106 & 95777.81588 & 94135.65744 & 61596.21783 & 55510.27747 & 164516.96466 & 161104.6903 & 1285.40455 & 1293.80840 & 4233.8774 & 3972.13814 & 229509.05517 & 237894.34754 & 58478.42143 & 61696.14323 & 59676.87939 & 57550.86560 & 39015.73457 & 43985.80558 & 65687.71173 & 65397.68445 & 57823.34389 & 66070.39424 & 97218.44677 & 99699.27150 & 63115.19703 & 66816.70643 & 82430.5794 & 88539.72228 & 24276.35963 & 25759.27693 & 76142.07812 & 79847.61532 & 11832.59462 & 10371.90015 & 44926.34670 & 62119.37316 & 21271.22587 & 28357.5687 & 43949.1276 & 58785.3052 & 67681.70408 & 60913.98353 & 70025.11460 & 67193.28217 & 11575.0298 & 13542.2151 & 66551.78602 & 65517.74948 & 79365.5907 & 44927.4332 & 61737.37740 & 58774.94115 & 72224.70889 & 68384.06579 & 68066.54929 & 65998.66537 & 11540.60241 & 12689.37610 & 50436.57515 & 43222.93860 &      0.00000 & 6.251267e+00 &     0.119471 &     0.00000 & 44235.29145 & 46254.57152 & 14120.54747 & 16629.6253 & 19038.33734 & 23328.71064 & 23517.32046 & 22624.84843 & 15172.21225 & 25091.26978 & 25730.26408 & 25091.26978 & 25730.26408 & 2837.77293 & 3004.89532 & 4597.08830 & 25499.40365 & 30003.44413 & 37296.89492 & 35713.20478 & 8477.75601 & 7303.47629 & 4122.22948 & 1788.94647 & 5587.83737 & 7400.66275 & 3735.55276 & 1408.43769 & 3997.63803 & 2909.16897 & 76234.12891 & 82420.94013 & 35933.80816 & 41513.07250 & 35463.5948 & 27235.5336 & 28891.2075 & 29042.9495 & 69461.22274 & 71009.1183 & 117782.59229 & 123758.69981 & 144570.48763 & 150727.71647 & 98361.06471 & 104063.02886\\\\\n",
       "\tb0003 & 33377.06196 & 37164.56513 &  91475.25578 & 133756.16752 & 47904.42245 & 40046.05466 & 14717.08888 & 26674.55082 & 54063.75675 & 52111.35419 & 46937.71952 & 50620.09880 & 47909.62370 & 52563.61699 & 47997.90118 & 45680.09895 & 53536.92164 & 57732.24005 & 3635.19807 & 3710.89305 & 8104.05257 & 8494.31166 & 4401.50881 & 3956.43278 & 4363.53885 & 4085.47756 & 34857.6760 & 37824.49228 & 14960.07801 & 13495.24024 & 15757.5885 & 17182.19933 & 41999.65730 & 58853.78512 & 32411.65194 & 34205.32312 & 18277.17375 & 17825.26603 &  57509.63760 &  62199.1993 & 39443.16274 & 52418.99668 & 89726.76389 & 88600.19641 & 94951.42510 & 85463.89323 & 84225.71890 & 78881.60502 & 30552.42155 & 18763.43763 & 25254.11170 & 35627.45707 & 35592.85987 & 6072.5546 & 6788.8574 &  7968.74972 & 7654.28321 & 12530.54436 & 12021.9532 & 14906.75544 & 15960.44455 & 27182.66560 & 26502.6776 & 6256.28975 & 5475.75582 & 2406.33882 & 2543.93189 & 4425.04269 & 17842.75313 & 18282.07300 & 14902.3116 & 17345.84222 & 30073.97908 & 39816.2085 &  8458.2809 & 22492.8473 & 24038.3638 &  9960.2012 & 24522.8116 &  79523.08353 & 11629.60111 &  7173.39583 &  6537.33554 & 24821.40217 & 28128.0042 & 5450.83914 & 4857.75220 &  89097.55564 &  88250.45969 & 68866.29621 & 64359.02085 & 19547.14119 & 29272.38163 & 2443.707628 & 2988.031667 & 16935.5212 & 22464.86825 & 3321.07428 & 3450.02618 & 29524.53140 & 41759.91785 & 41702.53444 & 2311.32309 & 2148.50632 & 24692.47404 & 19911.28713 & 20418.97975 & 23644.72214 & 22578.10577 & 21138.14216 & 20866.75909 & 19970.01110 & 13187.82188 & 11355.07245 &  9764.77951 & 46540.41991 & 45733.0765 & 42139.31442 & 34572.05974 & 33387.01387 & 31463.78557 & 34721.58436 & 37099.08276 & 38778.82105 & 30326.2923 & 34302.66830 & 42193.38456 & 44984.475587 & 16225.6702 & 24181.6428 & 29349.0485 & 47589.92648 &  6680.7416 & 27501.69440 & 31970.43867 & 22539.1989 & 22378.62104 & 3894.7569 & 46500.9891 & 37151.89563 & 52738.1451 & 1428.67941 & 17801.16534 & 4377.4042 & 144914.3606 & 17309.83015 & 17604.2447 &  9819.2225 & 31488.71519 & 13253.5090 & 16283.3601 & 14429.4260 & 13005.7027 & 5289.51607 & 27058.14163 & 3016.7377 & 26571.9758 & 20999.97405 & 15877.1066 & 16458.50943 & 10438.26741 &  9536.85575 &  8023.00166 & 11651.24362 & 10573.14448 & 10043.72783 & 26749.1850 & 17054.96182 & 43487.60289 & 43179.90161 & 37694.51769 & 28943.09043 & 101435.28326 &  89087.4587 & 2575.73658 & 2338.11756 & 2181.1503 & 2287.06271 &  88919.03624 &  90368.20032 & 29101.71447 & 31046.72421 & 35403.60099 & 34336.12049 & 19162.21734 & 21246.29278 & 32662.93224 & 33231.99054 & 32147.04050 & 33217.08369 & 48189.07686 & 53271.63912 & 35138.85150 & 37021.24653 & 45551.6458 & 42332.79575 & 14601.30920 & 17091.20841 & 39425.84824 & 38109.57317 &  6169.11450 &  5617.67266 & 14003.88856 & 26241.64803 & 10078.59144 & 13641.7641 & 42284.2964 & 44559.8392 & 35311.83664 & 31094.96714 & 34483.47397 & 38847.71933 &  7061.8566 &  9171.4423 & 36043.68654 & 35149.49566 & 34160.0903 & 28371.6086 & 30898.10611 & 29885.12533 & 39677.73220 & 35256.78590 & 33283.12900 & 33281.14306 &  6756.11052 &  8510.17717 & 28503.98031 & 25581.35123 &  74504.41594 & 7.515271e+04 & 68554.567871 & 70734.08901 & 25280.74167 & 25871.01623 &  8454.93390 &  9182.9589 & 13167.96409 & 14568.73260 & 14259.03151 & 15085.04462 & 10409.12225 & 16463.20532 & 18603.11721 & 16463.20532 & 18603.11721 & 2799.14580 & 3347.93054 & 4018.10912 & 17083.15814 & 19359.33713 & 22419.56299 & 22789.52038 & 5187.94066 & 5296.52889 & 3926.13504 & 2383.74413 & 4987.42858 & 5971.84882 & 3041.41976 & 2087.80693 & 3059.83411 & 2861.76629 & 36860.26646 & 41042.96630 & 15452.03710 & 16360.76729 & 31421.1143 & 26271.4512 & 25854.8116 & 24755.9265 & 30160.51171 & 32604.9932 &  55072.62933 &  54680.31553 &  61322.83601 &  62218.66057 & 41121.10277 &  47295.67730\\\\\n",
       "\tb0004 & 39928.51639 & 45480.54989 &  34795.42726 &  48008.86017 & 32693.80035 & 24683.96368 &  6257.00956 &  8796.56898 & 26505.65856 & 25967.89030 & 29202.26910 & 27013.94535 & 28023.56678 & 28458.80518 & 25079.77076 & 27488.57960 & 33133.85932 & 32420.75436 & 2047.38527 & 2258.66175 & 5432.13226 & 5389.14459 & 2342.50740 & 2136.55775 & 2118.76058 & 2166.09292 & 28942.7410 & 32079.48275 & 13805.96573 & 15104.61036 & 14651.7695 & 16486.29889 & 28788.94671 & 25663.47640 & 30020.25216 & 29268.63117 & 17942.53243 & 16604.35938 &  60537.65977 &  59079.5088 & 26981.68935 & 45506.70653 & 36759.04992 & 36943.93400 & 42231.15044 & 40490.87547 & 35887.01799 & 35840.21254 & 22122.15386 & 23946.44048 & 20868.01069 & 32299.83522 & 32565.33282 & 5129.1705 & 4944.2001 &  6383.89542 & 6501.35951 & 13802.44001 & 13825.8821 & 19604.35985 & 19347.23113 & 29906.39256 & 34483.8898 & 2387.50653 & 1838.87170 & 1184.20246 & 1089.01310 & 6787.42360 & 26707.85438 & 22428.24082 & 20265.5337 & 20201.12323 & 33124.59311 & 28427.3359 & 13536.0408 & 24569.3797 & 23043.3409 & 12027.7999 & 29452.9995 &  91268.10107 & 15653.25827 &  5800.10594 &  5967.20684 & 24883.81996 & 21023.9685 & 2127.75844 & 2521.48126 &  47977.83375 &  42479.19934 & 33763.41266 & 38032.06364 & 18533.87605 & 28553.77507 & 3040.484958 & 2998.261776 & 20250.9376 & 23104.24933 & 3083.13403 & 3283.04011 & 28193.79400 & 52894.02087 & 53205.08059 & 2424.50658 & 2494.57920 & 31441.77829 & 25389.42219 & 24786.67517 & 25185.07278 & 24000.93031 & 24891.02706 & 23002.68082 & 23646.65777 & 20145.55656 & 16830.28209 & 12859.32541 & 47930.55111 & 45237.9377 & 44035.21903 & 34731.63782 & 36427.00390 & 33745.05657 & 36365.90814 & 34474.94390 & 40756.12158 & 34624.2503 & 38233.36544 & 50427.48743 & 54331.749184 & 19929.7352 & 27813.1383 & 34029.2253 & 48290.23449 &  8076.3816 & 28486.02328 & 25980.00859 & 16129.4843 & 27977.93752 & 4023.4531 & 28216.6501 & 40257.33297 & 31451.5720 & 1589.73457 & 20263.41024 & 6282.9512 & 161581.2569 & 25904.54691 & 18557.7420 & 12693.4718 & 37563.85385 & 17051.3646 & 13326.9124 & 14698.1669 & 13280.8213 & 5509.80823 & 27180.75843 & 4782.0892 & 23740.9955 & 17246.55373 & 16902.3468 & 18963.55982 & 10655.56177 &  9270.14094 &  8439.73687 & 11329.09513 & 11436.21522 &  9211.99176 & 24461.5760 & 17346.61853 & 64971.45815 & 65837.95524 & 41711.11136 & 39904.09338 & 107114.98353 & 107400.4389 & 2902.01161 & 2928.79125 & 2162.2383 & 1695.46204 & 137609.02420 & 141095.48989 & 43376.53431 & 45877.64826 & 39542.08351 & 40246.89126 & 28427.93693 & 31116.31772 & 40210.92094 & 42833.51480 & 44743.48325 & 48800.53708 & 64289.07593 & 75518.10753 & 50573.87633 & 48985.27605 & 59543.9349 & 58978.49330 & 29229.87710 & 31456.69020 & 37210.09909 & 37611.01542 &  6280.05093 &  6159.43715 & 10204.19146 & 25182.00418 & 10692.11300 & 12497.0193 & 46229.4438 & 41194.6463 & 39325.25370 & 36032.32174 & 40882.94699 & 43584.82825 &  6594.3520 & 12606.4167 & 43726.57065 & 44310.72230 & 33783.6615 & 25091.0082 & 39057.10598 & 36272.55457 & 43235.09303 & 40903.41989 & 45477.73078 & 45841.54673 &  7475.39238 & 12208.16710 & 39796.08208 & 40137.00677 & 101884.23972 & 1.015512e+05 & 85733.306106 & 91628.18142 & 34998.02454 & 33088.74385 & 10356.27639 & 10127.5932 & 17415.38865 & 18561.45508 & 20360.90156 & 21257.42488 &  9933.94480 & 23141.90886 & 26651.20926 & 23141.90886 & 26651.20926 & 2883.69478 & 3056.70458 & 5166.07428 & 18591.11507 & 19491.03959 & 29503.92052 & 29758.07493 & 7730.79198 & 6625.31942 & 4226.86006 & 2518.71213 & 5345.53522 & 6985.00277 & 3251.67812 & 1840.92301 & 3761.04214 & 3339.87073 & 47709.01975 & 49321.51637 & 15026.89565 & 15632.89331 & 48030.9731 & 42036.6169 & 35420.3085 & 34007.0294 & 43456.61021 & 45430.1312 &  69098.96811 &  67017.28474 &  72025.89555 &  76254.50263 & 57135.92525 &  59933.42721\\\\\n",
       "\tb0005 &   552.41138 &   521.43392 &    225.36046 &    206.70542 &   824.56606 &   607.41926 &   101.20178 &   115.29765 &   682.79173 &   461.27862 &   195.57272 &   204.28337 &   152.94088 &   172.77011 &   140.07872 &   187.67188 &   194.77337 &   211.79868 &   53.99068 &   68.08161 &   35.61327 &   77.43744 &   33.87053 &   80.59709 &   49.12799 &   62.85203 &   142.2756 &   218.98431 &   102.03204 &   101.50400 &   133.7491 &   113.09760 &    60.00863 &   141.23589 &    64.83956 &    58.88571 &    63.55596 &    38.23141 &    362.68213 &    242.0954 &   118.09483 &   226.43190 &   426.56745 &   462.50993 &   472.15809 &   531.83591 &   300.54666 &   555.83433 &    56.67141 &   572.76809 &   503.04599 &   498.83944 &   457.68133 &  185.3344 &  208.0200 &    86.72472 &  111.22325 &   323.44044 &   204.7514 &   345.08187 &   391.29817 &   362.62068 &   527.1243 &   21.31033 &   24.07629 &   48.19999 &   62.00525 &  272.55786 &   493.45645 &   217.60405 &   294.2418 &   375.58278 &   538.11004 &   328.1368 &   142.6078 &   299.7459 &   411.9418 &   195.5227 &   430.2862 &    901.85575 &   111.59700 &    83.14019 &   111.33147 &   384.90671 &   473.3801 &   23.49002 &   35.66159 &    195.66007 &    286.58078 &   339.35889 &   331.77321 &   246.67331 &   413.48142 &    4.765376 &    6.431592 &   414.0930 &   502.13315 &   25.89358 &   80.81662 &  1902.95260 &  1111.50268 &  1116.66839 &   36.41463 &   67.26968 &   330.12072 &   173.39475 &   177.54611 &    42.42221 &    63.51127 &   104.20459 &    64.68366 &    82.51205 &    40.37162 &    35.61450 &    38.37308 &   358.99535 &   335.6483 &   253.36966 &   132.47669 &    96.27472 &    92.61103 &   132.40123 &   188.14864 &   183.02947 &   548.4306 &   577.51578 &   855.72568 &  1535.328331 &   316.9096 &   769.7602 &   612.7194 &   233.10554 &   114.5434 &   294.10654 &   610.71781 &   291.7758 &   329.10084 &  378.2542 &   611.4419 &   392.06769 &   447.4060 &   39.74092 &   142.87921 &  373.3438 &   1399.3895 &  1496.65471 &   478.3907 &   494.2704 &   607.02010 &   426.8806 &   910.7762 &   952.2923 &   350.5609 &   71.79744 &  1302.65352 &  144.0331 &   727.1596 &   426.35075 &   532.8513 &   721.10232 &    78.96397 &   299.43857 &   107.89691 &   282.80796 &   118.47445 &   716.31602 &   639.1646 &   437.66831 &   306.24970 &   440.84081 &   563.62122 &   344.83539 &    328.43494 &    396.6590 &   23.49114 &   21.76893 &  130.1149 &  166.93720 &    525.59145 &    467.12368 &   403.28154 &   502.39940 &   244.97679 &   188.06881 &   173.17316 &   176.16954 &    90.18699 &   127.92417 &   332.90104 &   268.61646 &   544.01637 &   275.98442 &   375.22509 &   376.88407 &   558.9575 &   403.13911 &   287.72785 &   250.92766 &   347.83788 &   205.20367 &    62.73911 &    67.41798 &    66.13799 &   213.21850 &    99.50912 &   105.4982 &   427.8983 &   342.6638 &   280.09068 &   301.90323 &   346.51813 &   232.14629 &   105.9050 &    81.9474 &   350.09683 &   290.57305 &   211.1021 &   255.4357 &   311.99497 &   273.75042 &   575.39973 &   528.56712 &   352.02566 &   328.25840 &    48.66362 &    91.29284 &   516.62804 &   382.47520 &   1053.98257 & 1.120352e+03 &  1097.553935 &  1051.87756 &   252.41978 &   259.43240 &   507.15297 &   472.1642 &   129.55631 &   126.89436 &   280.81702 &   147.48824 &   121.41098 &   320.19458 &   376.45926 &   320.19458 &   376.45926 &   94.42005 &   64.30833 &  106.54416 &   464.22370 &   498.91947 &   202.05260 &   267.38496 &   93.20627 &  281.30899 &   22.07574 &   67.75514 &   74.51305 &   93.40553 &   83.16617 &   37.75037 &   66.75330 &   47.68216 &   322.67412 &   190.53137 &    73.65474 &    69.59878 &   511.9247 &   517.8589 &   394.0763 &   299.5415 &   546.91500 &   538.8763 &    156.36015 &    124.90783 &    231.31556 &    315.69882 &   354.65600 &    332.15846\\\\\n",
       "\tb0006 &  1007.04777 &   988.89326 &    875.24416 &    881.36419 &   863.20800 &   911.81390 &   800.72576 &   952.40131 &   954.41607 &   912.67985 &  1006.65441 &  1081.07564 &  1258.63704 &   954.56859 &  1005.86105 &  1009.14480 &  1048.66076 &   940.58391 & 1675.77344 & 1975.43413 & 1242.92932 & 1155.04559 & 1442.75079 & 1637.73592 & 1359.10220 & 1325.92812 &  1130.6317 &  1008.92701 &  1052.61051 &   841.49454 &  1020.1704 &   956.64936 &  1166.15243 &  1058.78912 &  1243.44278 &  1142.48697 &  1252.87147 &  1435.29620 &   1198.27591 &   1093.3683 &  1388.80950 &  1328.56469 &   991.31032 &  1043.69699 &  1083.03404 &   950.98885 &  1223.10813 &  1196.70335 &   803.90991 &  1092.65765 &   976.26060 &   711.27412 &   728.07147 & 1062.0158 & 1091.9500 &   688.83836 &  625.35482 &   606.12284 &   530.6666 &  1001.44733 &   936.65720 &   688.02875 &   867.2389 &  451.36832 &  412.52254 &  483.16923 &  538.59539 & 1056.57449 &   916.89345 &   991.31268 &   953.1495 &   734.14881 &   539.99468 &   501.0351 &   652.7402 &   968.6964 &   862.4051 &   618.4431 &   730.0118 &    637.16370 &  1145.31999 &   515.29051 &   543.39666 &   632.84415 &   778.8744 &  722.24793 &  819.93105 &   1087.09738 &   1048.08152 &  1024.89636 &  1032.90939 &   725.90968 &   763.30277 &  755.514055 &  739.064137 &  1050.9308 &  1250.02107 & 1107.98986 & 1007.71046 &   974.32156 &  1051.24172 &  1176.33557 &  994.85681 &  892.41609 &   778.00508 &   608.67804 &   681.35906 &  1232.07282 &  1037.06523 &  1578.38822 &  1442.81288 &  1689.27311 &   824.08892 &   726.77481 &   893.18890 &  1346.48873 &  1544.0435 &  1224.02281 &  1823.96966 &  1681.44631 &  1604.56414 &  1338.11634 &  1377.17327 &  1378.41133 &  1139.6452 &   911.53518 &   830.87728 &   872.915809 &  1103.5952 &  1305.0160 &   789.8119 &  1504.08030 &   778.2381 &   834.15554 &   846.83352 &   944.8662 &  1037.68684 &  471.0307 &  1147.8463 &  1340.79685 &   941.0586 &  730.73188 &  1091.80437 &  485.3703 &    196.5373 &   913.97497 &   650.8270 &   728.4678 &   962.83958 &   567.8663 &  1034.5196 &   826.6926 &   942.1103 &  742.68176 &  1399.54761 &  700.7170 &   759.4056 &   731.92318 &   986.8884 &   781.86918 &  1421.72686 &  1285.59861 &  1903.77812 &  1070.93646 &  1212.28031 &   957.26619 &  1015.9260 &   541.61460 &   816.42919 &   794.29383 &   909.04641 &  1182.81666 &    414.30676 &    527.1798 &  448.66996 &  531.48526 &  633.7990 &  409.65919 &    874.20890 &    885.13936 &   926.15111 &   741.73034 &  1285.48443 &  1178.50510 &  1032.31935 &   927.81552 &   830.98211 &   737.04120 &  1032.25464 &   890.51795 &  1058.93609 &  1093.44489 &   978.77168 &  1044.17832 &  1214.3875 &  1473.55962 &  1382.26038 &  1480.43324 &   790.87174 &  1035.04149 &   920.76063 &   822.30671 &  1252.86344 &   976.89692 &   761.61074 &   888.0854 &  1066.0244 &   910.9714 &  1250.40258 &  1192.27088 &  1151.43887 &  1116.70366 &   750.6961 &  1024.5850 &  1108.01899 &  1284.64178 &   798.3443 &   908.9493 &  1097.25234 &  1068.98038 &  1134.72130 &  1021.55341 &  1329.12677 &  1362.65414 &   692.03210 &  1047.79073 &  1450.60077 &  1428.92024 &   1596.67850 & 1.362197e+03 &  1329.342657 &  1180.96673 &  1635.40013 &  1655.44425 &  1616.53504 &  2035.3040 &  1032.65453 &   972.11235 &   895.60397 &   917.30498 &   599.78432 &   622.31252 &   501.98071 &   622.31252 &   501.98071 &  609.13730 &  487.84192 &  695.51807 &   716.53276 &   736.27057 &   696.68736 &   651.30972 &  648.85398 &  928.39528 &  803.66005 &  720.26746 & 1115.72733 &  856.46575 &  543.32290 &  478.94092 &  730.01761 &  858.69518 &  1037.99667 &   928.60722 &  1229.08699 &  1302.30791 &  1349.5306 &  1230.0617 &  4320.1949 &  4113.9843 &  3419.40603 &  3201.9816 &   1561.63852 &   1579.56184 &   1521.48854 &   1501.31304 &  3157.17710 &   3310.68706\\\\\n",
       "\tb0007 &    32.81408 &    32.35787 &     37.14096 &     32.07092 &    25.89253 &    31.45357 &    39.78911 &    38.56178 &    28.49857 &    30.14528 &    35.30577 &    27.94899 &    21.94708 &    27.77544 &    25.05421 &    36.25367 &    34.79614 &    22.31376 &   58.53430 &   61.78351 &   56.54795 &   50.27150 &   43.03133 &   42.06055 &   74.16244 &   59.61400 &    73.6360 &    50.18045 &    29.66632 &    43.49959 &    85.0209 &    54.89107 &    36.10322 &    22.25613 &    37.31150 &    22.50624 &    25.39705 &    46.80847 &     24.98528 &     18.3694 &    64.43264 &    34.49311 &    16.32883 &    18.08138 &    11.34102 &    14.27208 &    24.17556 &    22.86825 &    37.40968 &    83.43286 &    82.04911 &    78.59842 &    76.43214 &  563.8242 &  555.3649 &    41.60243 &   30.91844 &    32.87847 &    26.6567 &    24.27834 &    35.66301 &    42.82435 &    43.0017 &   79.09848 &   74.70861 &  133.54931 &  102.45218 &   25.60308 &    40.30315 &    46.00949 &    51.5934 &    52.09614 &    97.86958 &   239.9793 &   275.9177 &   224.2586 &   201.3291 &   259.5097 &   209.4162 &     59.15846 &    33.69694 &    56.91921 &    57.20618 &    50.46836 &    75.5515 &   22.80269 &   27.09381 &     22.37101 &     25.04989 &    20.19033 &    28.14029 &    43.52457 &    24.53149 &   64.995580 &   43.411660 &    43.1654 &    33.30046 &   54.83403 &   39.45240 &    23.15326 &    19.51713 &    15.15434 &   22.82145 &   25.07027 &    28.36839 &    26.04275 &    21.48201 &   275.59462 &   284.94724 &    46.06265 &    34.85076 &    36.97628 &   111.38821 &    89.35719 &   119.44379 &    75.29261 &    41.1125 &    48.56466 &    41.20625 &    37.39576 &    38.71612 &    46.76263 &    37.84758 &    33.03484 &   387.8314 &    32.59205 &    15.91205 &     6.633331 &   271.9435 &   243.7011 &   364.0296 &    37.12944 &   512.0286 &    32.48467 &    18.49664 &   147.2945 &    24.19881 &  227.9792 &   214.4459 &    23.70235 &   334.5994 &   53.89305 &    32.16117 &  227.4299 &    116.3005 &    82.00615 &   278.2089 &   360.6046 &    70.58075 &   497.6431 &   148.4943 &   151.2535 &   110.7365 &   39.10361 &    45.54318 &  419.2283 &   291.3883 &    77.75908 &   151.7394 &    30.93515 &    27.56603 &    25.01617 &    34.18638 &    34.17668 &    21.99658 &    21.35126 &    32.3205 &    19.71415 &    10.86875 &    13.07955 &    19.17674 &    26.17089 &     36.64562 &     31.8066 &   74.45649 &   83.75130 &   42.9364 &   50.57752 &     11.83479 &     14.55326 &    12.07169 &    16.45109 &    51.94407 &    56.07137 &    25.51126 &    20.25816 &    53.83818 &    59.24286 &    20.53661 &    17.20669 &    21.87419 &    17.84317 &    25.60018 &    34.08802 &    31.8106 &    21.60872 &    22.91913 &    23.02938 &    67.90962 &    75.78984 &   279.49568 &   257.46340 &    39.56385 &    34.26537 &   251.83401 &   141.9026 &   255.7679 &   257.5648 &    27.61331 &    27.92742 &    37.20091 &    38.39005 &   247.0533 &   211.0014 &    41.64685 &    45.23287 &   133.4342 &   248.1570 &    22.73653 &    23.69917 &    33.84893 &    47.14436 &    77.88118 &    54.51888 &   201.15120 &   291.94889 &    37.75401 &    32.50506 &     40.10174 & 4.063440e+01 &    34.104263 &    36.21253 &    37.10853 &    32.65451 &    76.90423 &    54.3656 &    28.99249 &    28.33942 &    30.49445 &    25.14678 &    45.05927 &    35.76405 &    37.65751 &    35.76405 &    37.65751 &   62.79513 &   61.20070 &   46.07035 &    51.12072 &    50.24063 &    37.51753 &    35.15751 &   54.99938 &   63.08118 &   19.62802 &   22.85670 &   28.06753 &   20.54658 &   66.06569 &   68.72923 &   30.29595 &   32.14812 &    63.19961 &    83.93643 &    66.55345 &    64.94802 &   454.7783 &   439.8984 &   399.8913 &   404.0319 &    34.05348 &    36.5612 &     34.02924 &     41.92358 &     37.48823 &     41.76407 &    31.90325 &     26.59931\\\\\n",
       "\\end{tabular}\n"
      ],
      "text/markdown": [
       "\n",
       "A data.frame: 6 × 278\n",
       "\n",
       "| <!--/--> | control__wt_glc__1 &lt;dbl&gt; | control__wt_glc__2 &lt;dbl&gt; | fur__wt_dpd__1 &lt;dbl&gt; | fur__wt_dpd__2 &lt;dbl&gt; | fur__wt_fe__1 &lt;dbl&gt; | fur__wt_fe__2 &lt;dbl&gt; | fur__delfur_dpd__1 &lt;dbl&gt; | fur__delfur_dpd__2 &lt;dbl&gt; | fur__delfur_fe2__1 &lt;dbl&gt; | fur__delfur_fe2__2 &lt;dbl&gt; | ⋯ ⋯ | efeU__menFentC_ale29__1 &lt;dbl&gt; | efeU__menFentC_ale29__2 &lt;dbl&gt; | efeU__menFentC_ale30__1 &lt;dbl&gt; | efeU__menFentC_ale30__2 &lt;dbl&gt; | efeU__menFentCubiC_ale36__1 &lt;dbl&gt; | efeU__menFentCubiC_ale36__2 &lt;dbl&gt; | efeU__menFentCubiC_ale37__1 &lt;dbl&gt; | efeU__menFentCubiC_ale37__2 &lt;dbl&gt; | efeU__menFentCubiC_ale38__1 &lt;dbl&gt; | efeU__menFentCubiC_ale38__2 &lt;dbl&gt; |\n",
       "|---|---|---|---|---|---|---|---|---|---|---|---|---|---|---|---|---|---|---|---|---|---|\n",
       "| b0002 | 60272.78323 | 68198.72323 | 121169.20304 | 145540.59326 | 63882.06447 | 48004.52925 | 21511.75213 | 29469.20971 | 75339.01286 | 74165.29294 | ⋯ | 28891.2075 | 29042.9495 | 69461.22274 | 71009.1183 | 117782.59229 | 123758.69981 | 144570.48763 | 150727.71647 | 98361.06471 | 104063.02886 |\n",
       "| b0003 | 33377.06196 | 37164.56513 |  91475.25578 | 133756.16752 | 47904.42245 | 40046.05466 | 14717.08888 | 26674.55082 | 54063.75675 | 52111.35419 | ⋯ | 25854.8116 | 24755.9265 | 30160.51171 | 32604.9932 |  55072.62933 |  54680.31553 |  61322.83601 |  62218.66057 | 41121.10277 |  47295.67730 |\n",
       "| b0004 | 39928.51639 | 45480.54989 |  34795.42726 |  48008.86017 | 32693.80035 | 24683.96368 |  6257.00956 |  8796.56898 | 26505.65856 | 25967.89030 | ⋯ | 35420.3085 | 34007.0294 | 43456.61021 | 45430.1312 |  69098.96811 |  67017.28474 |  72025.89555 |  76254.50263 | 57135.92525 |  59933.42721 |\n",
       "| b0005 |   552.41138 |   521.43392 |    225.36046 |    206.70542 |   824.56606 |   607.41926 |   101.20178 |   115.29765 |   682.79173 |   461.27862 | ⋯ |   394.0763 |   299.5415 |   546.91500 |   538.8763 |    156.36015 |    124.90783 |    231.31556 |    315.69882 |   354.65600 |    332.15846 |\n",
       "| b0006 |  1007.04777 |   988.89326 |    875.24416 |    881.36419 |   863.20800 |   911.81390 |   800.72576 |   952.40131 |   954.41607 |   912.67985 | ⋯ |  4320.1949 |  4113.9843 |  3419.40603 |  3201.9816 |   1561.63852 |   1579.56184 |   1521.48854 |   1501.31304 |  3157.17710 |   3310.68706 |\n",
       "| b0007 |    32.81408 |    32.35787 |     37.14096 |     32.07092 |    25.89253 |    31.45357 |    39.78911 |    38.56178 |    28.49857 |    30.14528 | ⋯ |   399.8913 |   404.0319 |    34.05348 |    36.5612 |     34.02924 |     41.92358 |     37.48823 |     41.76407 |    31.90325 |     26.59931 |\n",
       "\n"
      ],
      "text/plain": [
       "      control__wt_glc__1 control__wt_glc__2 fur__wt_dpd__1 fur__wt_dpd__2\n",
       "b0002 60272.78323        68198.72323        121169.20304   145540.59326  \n",
       "b0003 33377.06196        37164.56513         91475.25578   133756.16752  \n",
       "b0004 39928.51639        45480.54989         34795.42726    48008.86017  \n",
       "b0005   552.41138          521.43392           225.36046      206.70542  \n",
       "b0006  1007.04777          988.89326           875.24416      881.36419  \n",
       "b0007    32.81408           32.35787            37.14096       32.07092  \n",
       "      fur__wt_fe__1 fur__wt_fe__2 fur__delfur_dpd__1 fur__delfur_dpd__2\n",
       "b0002 63882.06447   48004.52925   21511.75213        29469.20971       \n",
       "b0003 47904.42245   40046.05466   14717.08888        26674.55082       \n",
       "b0004 32693.80035   24683.96368    6257.00956         8796.56898       \n",
       "b0005   824.56606     607.41926     101.20178          115.29765       \n",
       "b0006   863.20800     911.81390     800.72576          952.40131       \n",
       "b0007    25.89253      31.45357      39.78911           38.56178       \n",
       "      fur__delfur_fe2__1 fur__delfur_fe2__2 ⋯ efeU__menFentC_ale29__1\n",
       "b0002 75339.01286        74165.29294        ⋯ 28891.2075             \n",
       "b0003 54063.75675        52111.35419        ⋯ 25854.8116             \n",
       "b0004 26505.65856        25967.89030        ⋯ 35420.3085             \n",
       "b0005   682.79173          461.27862        ⋯   394.0763             \n",
       "b0006   954.41607          912.67985        ⋯  4320.1949             \n",
       "b0007    28.49857           30.14528        ⋯   399.8913             \n",
       "      efeU__menFentC_ale29__2 efeU__menFentC_ale30__1 efeU__menFentC_ale30__2\n",
       "b0002 29042.9495              69461.22274             71009.1183             \n",
       "b0003 24755.9265              30160.51171             32604.9932             \n",
       "b0004 34007.0294              43456.61021             45430.1312             \n",
       "b0005   299.5415                546.91500               538.8763             \n",
       "b0006  4113.9843               3419.40603              3201.9816             \n",
       "b0007   404.0319                 34.05348                36.5612             \n",
       "      efeU__menFentCubiC_ale36__1 efeU__menFentCubiC_ale36__2\n",
       "b0002 117782.59229                123758.69981               \n",
       "b0003  55072.62933                 54680.31553               \n",
       "b0004  69098.96811                 67017.28474               \n",
       "b0005    156.36015                   124.90783               \n",
       "b0006   1561.63852                  1579.56184               \n",
       "b0007     34.02924                    41.92358               \n",
       "      efeU__menFentCubiC_ale37__1 efeU__menFentCubiC_ale37__2\n",
       "b0002 144570.48763                150727.71647               \n",
       "b0003  61322.83601                 62218.66057               \n",
       "b0004  72025.89555                 76254.50263               \n",
       "b0005    231.31556                   315.69882               \n",
       "b0006   1521.48854                  1501.31304               \n",
       "b0007     37.48823                    41.76407               \n",
       "      efeU__menFentCubiC_ale38__1 efeU__menFentCubiC_ale38__2\n",
       "b0002 98361.06471                 104063.02886               \n",
       "b0003 41121.10277                  47295.67730               \n",
       "b0004 57135.92525                  59933.42721               \n",
       "b0005   354.65600                    332.15846               \n",
       "b0006  3157.17710                   3310.68706               \n",
       "b0007    31.90325                     26.59931               "
      ]
     },
     "metadata": {},
     "output_type": "display_data"
    },
    {
     "data": {
      "text/html": [
       "3923"
      ],
      "text/latex": [
       "3923"
      ],
      "text/markdown": [
       "3923"
      ],
      "text/plain": [
       "[1] 3923"
      ]
     },
     "metadata": {},
     "output_type": "display_data"
    }
   ],
   "source": [
    "precise_tpm <- read.csv(file=file.path('../data/precise_data/tpm.csv'),row.names=1)\n",
    "head(precise_tpm)\n",
    "nrow(precise_tpm)"
   ]
  },
  {
   "cell_type": "markdown",
   "metadata": {},
   "source": [
    "## Merge TPM files\n",
    "Only keep genes that exist in both PRECISE and the new TPM files"
   ]
  },
  {
   "cell_type": "code",
   "execution_count": 53,
   "metadata": {},
   "outputs": [
    {
     "data": {
      "text/html": [
       "<table>\n",
       "<caption>A data.frame: 6 × 280</caption>\n",
       "<thead>\n",
       "\t<tr><th></th><th scope=col>control__wt_glc__1</th><th scope=col>control__wt_glc__2</th><th scope=col>fur__wt_dpd__1</th><th scope=col>fur__wt_dpd__2</th><th scope=col>fur__wt_fe__1</th><th scope=col>fur__wt_fe__2</th><th scope=col>fur__delfur_dpd__1</th><th scope=col>fur__delfur_dpd__2</th><th scope=col>fur__delfur_fe2__1</th><th scope=col>fur__delfur_fe2__2</th><th scope=col>⋯</th><th scope=col>efeU__menFentC_ale30__1</th><th scope=col>efeU__menFentC_ale30__2</th><th scope=col>efeU__menFentCubiC_ale36__1</th><th scope=col>efeU__menFentCubiC_ale36__2</th><th scope=col>efeU__menFentCubiC_ale37__1</th><th scope=col>efeU__menFentCubiC_ale37__2</th><th scope=col>efeU__menFentCubiC_ale38__1</th><th scope=col>efeU__menFentCubiC_ale38__2</th><th scope=col>PROJECT__CONDITION__1</th><th scope=col>PROJECT__CONDITION__2</th></tr>\n",
       "\t<tr><th></th><th scope=col>&lt;dbl&gt;</th><th scope=col>&lt;dbl&gt;</th><th scope=col>&lt;dbl&gt;</th><th scope=col>&lt;dbl&gt;</th><th scope=col>&lt;dbl&gt;</th><th scope=col>&lt;dbl&gt;</th><th scope=col>&lt;dbl&gt;</th><th scope=col>&lt;dbl&gt;</th><th scope=col>&lt;dbl&gt;</th><th scope=col>&lt;dbl&gt;</th><th scope=col>⋯</th><th scope=col>&lt;dbl&gt;</th><th scope=col>&lt;dbl&gt;</th><th scope=col>&lt;dbl&gt;</th><th scope=col>&lt;dbl&gt;</th><th scope=col>&lt;dbl&gt;</th><th scope=col>&lt;dbl&gt;</th><th scope=col>&lt;dbl&gt;</th><th scope=col>&lt;dbl&gt;</th><th scope=col>&lt;dbl&gt;</th><th scope=col>&lt;dbl&gt;</th></tr>\n",
       "</thead>\n",
       "<tbody>\n",
       "\t<tr><th scope=row>b0002</th><td>60272.78323</td><td>68198.72323</td><td>121169.20304</td><td>145540.59326</td><td>63882.06447</td><td>48004.52925</td><td>21511.75213</td><td>29469.20971</td><td>75339.01286</td><td>74165.29294</td><td>⋯</td><td>69461.22274</td><td>71009.1183</td><td>117782.59229</td><td>123758.69981</td><td>144570.48763</td><td>150727.71647</td><td>98361.06471</td><td>104063.02886</td><td>1505.30782</td><td>1227.139336</td></tr>\n",
       "\t<tr><th scope=row>b0003</th><td>33377.06196</td><td>37164.56513</td><td> 91475.25578</td><td>133756.16752</td><td>47904.42245</td><td>40046.05466</td><td>14717.08888</td><td>26674.55082</td><td>54063.75675</td><td>52111.35419</td><td>⋯</td><td>30160.51171</td><td>32604.9932</td><td> 55072.62933</td><td> 54680.31553</td><td> 61322.83601</td><td> 62218.66057</td><td>41121.10277</td><td> 47295.67730</td><td>1205.91303</td><td>1048.468459</td></tr>\n",
       "\t<tr><th scope=row>b0004</th><td>39928.51639</td><td>45480.54989</td><td> 34795.42726</td><td> 48008.86017</td><td>32693.80035</td><td>24683.96368</td><td> 6257.00956</td><td> 8796.56898</td><td>26505.65856</td><td>25967.89030</td><td>⋯</td><td>43456.61021</td><td>45430.1312</td><td> 69098.96811</td><td> 67017.28474</td><td> 72025.89555</td><td> 76254.50263</td><td>57135.92525</td><td> 59933.42721</td><td> 904.27614</td><td> 824.434498</td></tr>\n",
       "\t<tr><th scope=row>b0005</th><td>  552.41138</td><td>  521.43392</td><td>   225.36046</td><td>   206.70542</td><td>  824.56606</td><td>  607.41926</td><td>  101.20178</td><td>  115.29765</td><td>  682.79173</td><td>  461.27862</td><td>⋯</td><td>  546.91500</td><td>  538.8763</td><td>   156.36015</td><td>   124.90783</td><td>   231.31556</td><td>   315.69882</td><td>  354.65600</td><td>   332.15846</td><td> 165.61081</td><td> 124.005260</td></tr>\n",
       "\t<tr><th scope=row>b0006</th><td> 1007.04777</td><td>  988.89326</td><td>   875.24416</td><td>   881.36419</td><td>  863.20800</td><td>  911.81390</td><td>  800.72576</td><td>  952.40131</td><td>  954.41607</td><td>  912.67985</td><td>⋯</td><td> 3419.40603</td><td> 3201.9816</td><td>  1561.63852</td><td>  1579.56184</td><td>  1521.48854</td><td>  1501.31304</td><td> 3157.17710</td><td>  3310.68706</td><td>  81.75999</td><td>  74.041248</td></tr>\n",
       "\t<tr><th scope=row>b0007</th><td>   32.81408</td><td>   32.35787</td><td>    37.14096</td><td>    32.07092</td><td>   25.89253</td><td>   31.45357</td><td>   39.78911</td><td>   38.56178</td><td>   28.49857</td><td>   30.14528</td><td>⋯</td><td>   34.05348</td><td>   36.5612</td><td>    34.02924</td><td>    41.92358</td><td>    37.48823</td><td>    41.76407</td><td>   31.90325</td><td>    26.59931</td><td>   6.12688</td><td>   7.589872</td></tr>\n",
       "</tbody>\n",
       "</table>\n"
      ],
      "text/latex": [
       "A data.frame: 6 × 280\n",
       "\\begin{tabular}{r|llllllllllllllllllllllllllllllllllllllllllllllllllllllllllllllllllllllllllllllllllllllllllllllllllllllllllllllllllllllllllllllllllllllllllllllllllllllllllllllllllllllllllllllllllllllllllllllllllllllllllllllllllllllllllllllllllllllllllllllllllllllllllllllllllllllllllllllllllllllll}\n",
       "  & control\\_\\_wt\\_glc\\_\\_1 & control\\_\\_wt\\_glc\\_\\_2 & fur\\_\\_wt\\_dpd\\_\\_1 & fur\\_\\_wt\\_dpd\\_\\_2 & fur\\_\\_wt\\_fe\\_\\_1 & fur\\_\\_wt\\_fe\\_\\_2 & fur\\_\\_delfur\\_dpd\\_\\_1 & fur\\_\\_delfur\\_dpd\\_\\_2 & fur\\_\\_delfur\\_fe2\\_\\_1 & fur\\_\\_delfur\\_fe2\\_\\_2 & acid\\_\\_wt\\_ph5\\_\\_1 & acid\\_\\_wt\\_ph5\\_\\_2 & acid\\_\\_delgadx\\_ph5\\_\\_1 & acid\\_\\_delgadx\\_ph5\\_\\_2 & acid\\_\\_delgadw\\_ph5\\_\\_1 & acid\\_\\_delgadw\\_ph5\\_\\_2 & acid\\_\\_delgade\\_ph5\\_\\_1 & acid\\_\\_delgade\\_ph5\\_\\_2 & oxidative\\_\\_wt\\_pq\\_\\_1 & oxidative\\_\\_wt\\_pq\\_\\_2 & oxidative\\_\\_deloxyr\\_pq\\_\\_1 & oxidative\\_\\_deloxyr\\_pq\\_\\_2 & oxidative\\_\\_delsoxr\\_pq\\_\\_1 & oxidative\\_\\_delsoxr\\_pq\\_\\_2 & oxidative\\_\\_delsoxs\\_pq\\_\\_1 & oxidative\\_\\_delsoxs\\_pq\\_\\_2 & nac\\_ntrc\\_\\_wt\\_csn\\_\\_1 & nac\\_ntrc\\_\\_wt\\_csn\\_\\_2 & nac\\_ntrc\\_\\_wt\\_cytd\\_\\_1 & nac\\_ntrc\\_\\_wt\\_cytd\\_\\_2 & nac\\_ntrc\\_\\_wt\\_gln\\_\\_1 & nac\\_ntrc\\_\\_wt\\_gln\\_\\_2 & nac\\_ntrc\\_\\_bw\\_delnac\\_csn\\_\\_1 & nac\\_ntrc\\_\\_bw\\_delnac\\_csn\\_\\_2 & nac\\_ntrc\\_\\_bw\\_delnac\\_cytd\\_\\_1 & nac\\_ntrc\\_\\_bw\\_delnac\\_cytd\\_\\_2 & nac\\_ntrc\\_\\_bw\\_delnac\\_gln\\_\\_1 & nac\\_ntrc\\_\\_bw\\_delnac\\_gln\\_\\_2 & nac\\_ntrc\\_\\_bw\\_delnac\\_nh4\\_\\_1 & nac\\_ntrc\\_\\_bw\\_delnac\\_nh4\\_\\_2 & misc\\_\\_wt\\_no\\_te\\_\\_1 & misc\\_\\_wt\\_no\\_te\\_\\_2 & misc\\_\\_bw\\_delcbl\\_\\_1 & misc\\_\\_bw\\_delcbl\\_\\_2 & misc\\_\\_bw\\_delfabr\\_\\_1 & misc\\_\\_bw\\_delfabr\\_\\_2 & misc\\_\\_bw\\_delfadr\\_\\_1 & misc\\_\\_bw\\_delfadr\\_\\_2 & misc\\_\\_nitr\\_031\\_\\_1 & omics\\_\\_wt\\_glu\\_\\_1 & omics\\_\\_wt\\_glu\\_\\_2 & omics\\_\\_wt\\_gly\\_\\_1 & omics\\_\\_wt\\_gly\\_\\_2 & omics\\_\\_wt\\_thr\\_\\_1 & omics\\_\\_wt\\_thr\\_\\_2 & omics\\_\\_bw\\_ac\\_\\_1 & omics\\_\\_bw\\_ac\\_\\_2 & omics\\_\\_bw\\_fum\\_\\_1 & omics\\_\\_bw\\_fum\\_\\_2 & omics\\_\\_bw\\_glc\\_\\_1 & omics\\_\\_bw\\_glc\\_\\_2 & omics\\_\\_bw\\_pyr\\_\\_1 & omics\\_\\_bw\\_pyr\\_\\_2 & ompr\\_\\_wt\\_nacl\\_\\_1 & ompr\\_\\_wt\\_nacl\\_\\_2 & ompr\\_\\_bw\\_delompr\\_nacl\\_\\_1 & ompr\\_\\_bw\\_delompr\\_nacl\\_\\_2 & minspan\\_\\_wt\\_ade\\_\\_1 & minspan\\_\\_wt\\_glc\\_\\_1 & minspan\\_\\_wt\\_glc\\_\\_2 & minspan\\_\\_wt\\_glc\\_\\_3 & minspan\\_\\_wt\\_glc\\_\\_4 & minspan\\_\\_wt\\_glc\\_anaero\\_\\_1 & minspan\\_\\_wt\\_glc\\_anaero\\_\\_2 & minspan\\_\\_wt\\_trp\\_\\_1 & minspan\\_\\_bw\\_delcra\\_glc\\_\\_1 & minspan\\_\\_bw\\_delcra\\_glc\\_\\_2 & minspan\\_\\_bw\\_delcra\\_trp\\_\\_1 & minspan\\_\\_bw\\_delmntr\\_\\_1 & minspan\\_\\_bw\\_delnac\\_ade\\_\\_1 & minspan\\_\\_bw\\_delnac\\_glc\\_\\_1 & cra\\_crp\\_\\_wt\\_ac\\_\\_1 & cra\\_crp\\_\\_wt\\_ac\\_\\_2 & cra\\_crp\\_\\_wt\\_fru\\_\\_1 & cra\\_crp\\_\\_wt\\_fru\\_\\_2 & cra\\_crp\\_\\_delcra\\_ac\\_\\_1 & cra\\_crp\\_\\_delcra\\_ac\\_\\_2 & cra\\_crp\\_\\_delcra\\_fru\\_\\_1 & cra\\_crp\\_\\_delcra\\_fru\\_\\_2 & cra\\_crp\\_\\_delcra\\_glc\\_\\_1 & cra\\_crp\\_\\_delcra\\_glc\\_\\_2 & rpoB\\_\\_wt\\_031\\_\\_1 & rpoB\\_\\_wt\\_044\\_\\_1 & rpoB\\_\\_wt\\_lb\\_\\_1 & rpoB\\_\\_wt\\_lb\\_\\_2 & rpoB\\_\\_rpoBE546V\\_031\\_\\_1 & rpoB\\_\\_rpoBE546V\\_044\\_\\_1 & rpoB\\_\\_rpoBE546V\\_lb\\_\\_1 & rpoB\\_\\_rpoBE546V\\_lb\\_\\_2 & rpoB\\_\\_rpoBE546V\\_glc\\_\\_1 & rpoB\\_\\_rpoBE672K\\_glc\\_\\_1 & rpoB\\_\\_rpoBE672K\\_glc\\_\\_2 & rpoB\\_\\_rpoBE672K\\_lb\\_\\_1 & rpoB\\_\\_rpoBE672K\\_lb\\_\\_2 & crp\\_\\_wt\\_fru\\_\\_1 & crp\\_\\_wt\\_glyc\\_\\_1 & crp\\_\\_wt\\_glyc\\_\\_2 & crp\\_\\_delar1\\_glyc\\_\\_1 & crp\\_\\_delar1\\_glyc\\_\\_2 & crp\\_\\_delar1ar2\\_glyc\\_\\_1 & crp\\_\\_delar1ar2\\_glyc\\_\\_2 & crp\\_\\_delar1ar2\\_glyc\\_\\_3 & crp\\_\\_delar2\\_glyc\\_\\_1 & crp\\_\\_delar2\\_glyc\\_\\_2 & crp\\_\\_delar2\\_glyc\\_\\_3 & crp\\_\\_delcrp\\_fru\\_\\_1 & crp\\_\\_delcrp\\_fru\\_\\_2 & crp\\_\\_delcrp\\_fru\\_\\_3 & crp\\_\\_delcrp\\_glc\\_\\_1 & crp\\_\\_delcrp\\_glc\\_\\_2 & crp\\_\\_delcrp\\_glc\\_\\_3 & crp\\_\\_delcrp\\_glyc\\_\\_1 & crp\\_\\_delcrp\\_glyc\\_\\_2 & crp\\_\\_delcrp\\_glyc\\_\\_3 & glu\\_\\_glu\\_ale3\\_\\_1 & glu\\_\\_glu\\_ale4\\_\\_1 & glu\\_\\_glu\\_ale5\\_\\_1 & glu\\_\\_glu\\_ale6\\_\\_1 & glu\\_\\_glu\\_ale8\\_\\_1 & glu\\_\\_glu\\_ale9\\_\\_1 & glu\\_\\_glu\\_ale10\\_\\_1 & X42c\\_\\_wt\\_42c\\_\\_1 & X42c\\_\\_42c\\_ale1\\_\\_1 & X42c\\_\\_42c\\_ale2\\_\\_1 & X42c\\_\\_42c\\_ale3\\_\\_1 & X42c\\_\\_42c\\_ale4\\_\\_1 & X42c\\_\\_42c\\_ale5\\_\\_1 & X42c\\_\\_42c\\_ale6\\_\\_1 & X42c\\_\\_42c\\_ale8\\_\\_1 & X42c\\_\\_42c\\_ale9\\_\\_1 & X42c\\_\\_42c\\_ale10\\_\\_1 & ssw\\_\\_wt\\_ac\\_\\_1 & ssw\\_\\_wt\\_glc\\_\\_1 & ssw\\_\\_wt\\_glyc\\_\\_1 & ssw\\_\\_wt\\_xyl\\_\\_1 & ssw\\_\\_glc\\_ale1\\_\\_1 & ssw\\_\\_glc\\_ale2\\_\\_1 & ssw\\_\\_glc\\_ale3\\_\\_1 & ssw\\_\\_glyc\\_ale1\\_\\_1 & ssw\\_\\_glyc\\_ale2\\_\\_1 & ssw\\_\\_xyl\\_ale1\\_\\_1 & ssw\\_\\_xyl\\_ale2\\_\\_1 & ssw\\_\\_xyl\\_ale3\\_\\_1 & ssw\\_\\_glc\\_ac\\_ac2\\_\\_1 & ssw\\_\\_glc\\_ac\\_glc1\\_\\_1 & ssw\\_\\_glc\\_ac\\_glc2\\_\\_1 & ssw\\_\\_glc\\_glyc\\_glc\\_\\_1 & ssw\\_\\_glc\\_glyc\\_glyc\\_\\_1 & ssw\\_\\_glc\\_xyl\\_glc\\_\\_1 & ssw\\_\\_glc\\_xyl\\_xyl\\_\\_1 & pgi\\_\\_glu4\\_delpgi\\_\\_1 & pgi\\_\\_pgi\\_ale1\\_\\_1 & pgi\\_\\_pgi\\_ale2\\_\\_1 & pgi\\_\\_pgi\\_ale3\\_\\_1 & pgi\\_\\_pgi\\_ale5\\_\\_1 & pgi\\_\\_pgi\\_ale6\\_\\_1 & pgi\\_\\_pgi\\_ale7\\_\\_1 & pgi\\_\\_pgi\\_ale8\\_\\_1 & ica\\_\\_wt\\_glc\\_\\_1 & ica\\_\\_wt\\_glc\\_\\_2 & ica\\_\\_wt\\_glc\\_\\_3 & ica\\_\\_wt\\_glc\\_\\_4 & ica\\_\\_arg\\_sbt\\_\\_1 & ica\\_\\_arg\\_sbt\\_\\_2 & ica\\_\\_cytd\\_rib\\_\\_1 & ica\\_\\_cytd\\_rib\\_\\_2 & ica\\_\\_gth\\_\\_1 & ica\\_\\_gth\\_\\_2 & ica\\_\\_leu\\_glcr\\_\\_1 & ica\\_\\_leu\\_glcr\\_\\_2 & ica\\_\\_met\\_glc\\_\\_1 & ica\\_\\_met\\_glc\\_\\_2 & ica\\_\\_no3\\_anaero\\_\\_1 & ica\\_\\_no3\\_anaero\\_\\_2 & ica\\_\\_phe\\_acgam\\_\\_1 & ica\\_\\_phe\\_acgam\\_\\_2 & ica\\_\\_thm\\_gal\\_\\_1 & ica\\_\\_thm\\_gal\\_\\_2 & ica\\_\\_tyr\\_glcn\\_\\_1 & ica\\_\\_tyr\\_glcn\\_\\_2 & ica\\_\\_ura\\_pyr\\_\\_1 & ica\\_\\_ura\\_pyr\\_\\_2 & ica\\_\\_wt\\_glc\\_\\_5 & ica\\_\\_wt\\_glc\\_\\_6 & ica\\_\\_bw\\_delpurR\\_cytd\\_\\_1 & ica\\_\\_bw\\_delpurR\\_cytd\\_\\_2 & ica\\_\\_ade\\_glc\\_\\_1 & ica\\_\\_ade\\_glc\\_\\_2 & ytf\\_\\_wt\\_glc\\_\\_1 & ytf\\_\\_wt\\_glc\\_\\_2 & ytf\\_\\_delyafC\\_\\_1 & ytf\\_\\_delyafC\\_\\_2 & ytf\\_\\_delyeiE\\_\\_1 & ytf\\_\\_delyeiE\\_\\_2 & ytf\\_\\_delyiaJ\\_\\_1 & ytf\\_\\_delyiaJ\\_\\_2 & ytf\\_\\_delyieP\\_\\_1 & ytf\\_\\_delyieP\\_\\_2 & ytf\\_\\_wt\\_ph5\\_\\_1 & ytf\\_\\_wt\\_ph5\\_\\_2 & ytf\\_\\_wt\\_ph8\\_\\_1 & ytf\\_\\_wt\\_ph8\\_\\_2 & ytf\\_\\_delybaO\\_\\_1 & ytf\\_\\_delybaO\\_\\_2 & ytf\\_\\_delybaQ\\_\\_1 & ytf\\_\\_delybaQ\\_\\_2 & ytf\\_\\_delybiH\\_\\_1 & ytf\\_\\_delybiH\\_\\_2 & ytf\\_\\_delydcI\\_ph5\\_\\_1 & ytf\\_\\_delydcI\\_ph5\\_\\_2 & ytf\\_\\_delydcI\\_ph8\\_\\_1 & ytf\\_\\_delydcI\\_ph8\\_\\_2 & ytf\\_\\_delyddM\\_\\_1 & ytf\\_\\_delyddM\\_\\_2 & ytf\\_\\_delyheO\\_\\_1 & ytf\\_\\_delyheO\\_\\_2 & fps\\_\\_bw\\_glc\\_\\_1 & fps\\_\\_bw\\_glc\\_\\_2 & fps\\_\\_fps\\_thrA\\_ale1\\_\\_1 & fps\\_\\_fps\\_thrA\\_ale1\\_\\_2 & fps\\_\\_fps\\_thrA\\_ale2\\_\\_1 & fps\\_\\_fps\\_thrA\\_ale2\\_\\_2 & fps\\_\\_fps\\_serB\\_ale1\\_\\_1 & fps\\_\\_fps\\_serB\\_ale1\\_\\_2 & fps\\_\\_fps\\_serB\\_ale4\\_\\_1 & fps\\_\\_fps\\_serB\\_ale4\\_\\_2 & fps\\_\\_fps\\_ptsI\\_ale1\\_\\_1 & fps\\_\\_fps\\_ptsI\\_ale1\\_\\_2 & fps\\_\\_fps\\_ptsI\\_ale3\\_\\_1 & fps\\_\\_fps\\_ptsI\\_ale3\\_\\_2 & pal\\_\\_lyx\\_ale2\\_f6\\_\\_1 & pal\\_\\_lyx\\_ale2\\_\\_1 & pal\\_\\_lyx\\_ale2\\_\\_2 & pal\\_\\_lyx\\_ale4\\_\\_1 & pal\\_\\_lyx\\_ale4\\_\\_2 & pal\\_\\_5drib\\_ale10\\_f18\\_\\_1 & pal\\_\\_5drib\\_ale10\\_f18\\_\\_2 & pal\\_\\_5drib\\_ale10\\_\\_1 & pal\\_\\_arab\\_ale14\\_f9\\_\\_1 & pal\\_\\_arab\\_ale14\\_f9\\_\\_2 & pal\\_\\_arab\\_ale14\\_\\_1 & pal\\_\\_arab\\_ale14\\_\\_2 & pal\\_\\_arab\\_ale16\\_\\_1 & pal\\_\\_arab\\_ale16\\_\\_2 & pal\\_\\_tartr\\_ale26\\_f10\\_\\_1 & pal\\_\\_tartr\\_ale26\\_f10\\_\\_2 & pal\\_\\_tartr\\_ale26\\_\\_1 & pal\\_\\_tartr\\_ale26\\_\\_2 & pal\\_\\_tartr\\_ale28\\_f10\\_\\_1 & pal\\_\\_tartr\\_ale28\\_f10\\_\\_2 & pal\\_\\_tartr\\_ale28\\_\\_1 & pal\\_\\_tartr\\_ale28\\_\\_2 & efeU\\_\\_delmenFentC\\_citr\\_\\_1 & efeU\\_\\_delmenFentC\\_citr\\_\\_2 & efeU\\_\\_delmenFentC\\_\\_1 & efeU\\_\\_delmenFentC\\_\\_2 & efeU\\_\\_menFentC\\_ale39\\_\\_1 & efeU\\_\\_menFentC\\_ale39\\_\\_2 & efeU\\_\\_menFentC\\_ale29\\_\\_1 & efeU\\_\\_menFentC\\_ale29\\_\\_2 & efeU\\_\\_menFentC\\_ale30\\_\\_1 & efeU\\_\\_menFentC\\_ale30\\_\\_2 & efeU\\_\\_menFentCubiC\\_ale36\\_\\_1 & efeU\\_\\_menFentCubiC\\_ale36\\_\\_2 & efeU\\_\\_menFentCubiC\\_ale37\\_\\_1 & efeU\\_\\_menFentCubiC\\_ale37\\_\\_2 & efeU\\_\\_menFentCubiC\\_ale38\\_\\_1 & efeU\\_\\_menFentCubiC\\_ale38\\_\\_2 & PROJECT\\_\\_CONDITION\\_\\_1 & PROJECT\\_\\_CONDITION\\_\\_2\\\\\n",
       "  & <dbl> & <dbl> & <dbl> & <dbl> & <dbl> & <dbl> & <dbl> & <dbl> & <dbl> & <dbl> & <dbl> & <dbl> & <dbl> & <dbl> & <dbl> & <dbl> & <dbl> & <dbl> & <dbl> & <dbl> & <dbl> & <dbl> & <dbl> & <dbl> & <dbl> & <dbl> & <dbl> & <dbl> & <dbl> & <dbl> & <dbl> & <dbl> & <dbl> & <dbl> & <dbl> & <dbl> & <dbl> & <dbl> & <dbl> & <dbl> & <dbl> & <dbl> & <dbl> & <dbl> & <dbl> & <dbl> & <dbl> & <dbl> & <dbl> & <dbl> & <dbl> & <dbl> & <dbl> & <dbl> & <dbl> & <dbl> & <dbl> & <dbl> & <dbl> & <dbl> & <dbl> & <dbl> & <dbl> & <dbl> & <dbl> & <dbl> & <dbl> & <dbl> & <dbl> & <dbl> & <dbl> & <dbl> & <dbl> & <dbl> & <dbl> & <dbl> & <dbl> & <dbl> & <dbl> & <dbl> & <dbl> & <dbl> & <dbl> & <dbl> & <dbl> & <dbl> & <dbl> & <dbl> & <dbl> & <dbl> & <dbl> & <dbl> & <dbl> & <dbl> & <dbl> & <dbl> & <dbl> & <dbl> & <dbl> & <dbl> & <dbl> & <dbl> & <dbl> & <dbl> & <dbl> & <dbl> & <dbl> & <dbl> & <dbl> & <dbl> & <dbl> & <dbl> & <dbl> & <dbl> & <dbl> & <dbl> & <dbl> & <dbl> & <dbl> & <dbl> & <dbl> & <dbl> & <dbl> & <dbl> & <dbl> & <dbl> & <dbl> & <dbl> & <dbl> & <dbl> & <dbl> & <dbl> & <dbl> & <dbl> & <dbl> & <dbl> & <dbl> & <dbl> & <dbl> & <dbl> & <dbl> & <dbl> & <dbl> & <dbl> & <dbl> & <dbl> & <dbl> & <dbl> & <dbl> & <dbl> & <dbl> & <dbl> & <dbl> & <dbl> & <dbl> & <dbl> & <dbl> & <dbl> & <dbl> & <dbl> & <dbl> & <dbl> & <dbl> & <dbl> & <dbl> & <dbl> & <dbl> & <dbl> & <dbl> & <dbl> & <dbl> & <dbl> & <dbl> & <dbl> & <dbl> & <dbl> & <dbl> & <dbl> & <dbl> & <dbl> & <dbl> & <dbl> & <dbl> & <dbl> & <dbl> & <dbl> & <dbl> & <dbl> & <dbl> & <dbl> & <dbl> & <dbl> & <dbl> & <dbl> & <dbl> & <dbl> & <dbl> & <dbl> & <dbl> & <dbl> & <dbl> & <dbl> & <dbl> & <dbl> & <dbl> & <dbl> & <dbl> & <dbl> & <dbl> & <dbl> & <dbl> & <dbl> & <dbl> & <dbl> & <dbl> & <dbl> & <dbl> & <dbl> & <dbl> & <dbl> & <dbl> & <dbl> & <dbl> & <dbl> & <dbl> & <dbl> & <dbl> & <dbl> & <dbl> & <dbl> & <dbl> & <dbl> & <dbl> & <dbl> & <dbl> & <dbl> & <dbl> & <dbl> & <dbl> & <dbl> & <dbl> & <dbl> & <dbl> & <dbl> & <dbl> & <dbl> & <dbl> & <dbl> & <dbl> & <dbl> & <dbl> & <dbl> & <dbl> & <dbl> & <dbl> & <dbl> & <dbl> & <dbl> & <dbl> & <dbl> & <dbl> & <dbl> & <dbl> & <dbl> & <dbl> & <dbl> & <dbl> & <dbl> & <dbl> & <dbl> & <dbl> & <dbl> & <dbl> & <dbl> & <dbl> & <dbl> & <dbl> & <dbl> & <dbl> & <dbl>\\\\\n",
       "\\hline\n",
       "\tb0002 & 60272.78323 & 68198.72323 & 121169.20304 & 145540.59326 & 63882.06447 & 48004.52925 & 21511.75213 & 29469.20971 & 75339.01286 & 74165.29294 & 56916.21267 & 57422.91900 & 56872.79080 & 49934.88142 & 54088.31516 & 54770.07571 & 67849.46929 & 72793.30181 & 2886.67753 & 2798.17964 & 8471.91275 & 7470.64268 & 3240.24505 & 3290.27349 & 2422.01417 & 2625.55502 & 70110.4903 & 72658.38297 & 23146.21084 & 22937.97219 & 27478.6586 & 29291.76791 & 84970.36962 & 87816.53501 & 55688.66083 & 56432.26872 & 29747.99692 & 28949.96653 & 100567.02182 & 102082.6841 & 60722.72959 & 98026.66310 & 78240.66893 & 80073.74283 & 85950.25361 & 86273.91531 & 77577.14894 & 81953.08151 & 57761.43911 & 64860.70834 & 60778.07193 & 79701.08877 & 78713.98233 & 5675.4277 & 4971.4435 & 10480.30323 & 9722.70024 & 16467.63895 & 15868.0474 & 27134.19038 & 27400.45518 & 44898.83013 & 44377.5910 & 5173.66389 & 4487.47069 & 1924.52828 & 1950.08626 & 9778.62939 & 32459.16115 & 29772.77957 & 28098.7984 & 28157.05985 & 44101.37942 & 63979.7064 & 11962.5598 & 33446.3809 & 35317.4063 & 21412.7329 & 27311.4874 & 210971.11752 & 22195.24359 & 14596.80682 & 14033.47384 & 81129.01956 & 65660.6990 & 4747.89177 & 4955.27631 & 120294.33088 & 109192.71604 & 73688.10459 & 77101.68952 & 27916.21050 & 50568.49182 & 1800.462293 & 1788.479983 & 26582.8918 & 29867.97208 & 3560.02209 & 3462.88829 & 55677.74711 & 59926.32237 & 59847.49043 & 3417.14591 & 3476.66218 & 41042.63846 & 33868.45115 & 31978.62835 & 47221.48104 & 23252.74993 & 45952.29852 & 45716.82054 & 48153.10909 & 14172.65346 & 15148.55262 & 12898.96759 & 95929.26245 & 88510.6289 & 93094.84540 & 62892.49494 & 64067.56213 & 65411.30830 & 68591.95400 & 74240.62936 & 84240.43096 & 54369.1156 & 62238.73213 & 68828.18665 & 89961.306159 & 36897.8143 & 51384.5895 & 56722.5148 & 98685.77605 & 11402.7341 & 74312.03273 & 55017.65994 & 78073.2680 & 41262.21624 & 3039.3195 & 59734.5388 & 68727.46505 & 56194.9818 & 1151.59813 & 34397.76326 & 2159.3334 & 182804.2916 & 34023.96216 & 26819.0217 & 17144.2813 & 58192.49602 & 22157.4925 & 22962.9597 & 21040.5287 & 19258.7774 & 9130.10575 & 33982.66239 & 4374.7786 & 37630.8430 & 29940.40543 & 23854.6651 & 24437.19276 & 18883.33959 & 18324.71816 & 17746.15949 & 22410.76698 & 19508.43911 & 19129.80828 & 52195.0428 & 35682.81106 & 95777.81588 & 94135.65744 & 61596.21783 & 55510.27747 & 164516.96466 & 161104.6903 & 1285.40455 & 1293.80840 & 4233.8774 & 3972.13814 & 229509.05517 & 237894.34754 & 58478.42143 & 61696.14323 & 59676.87939 & 57550.86560 & 39015.73457 & 43985.80558 & 65687.71173 & 65397.68445 & 57823.34389 & 66070.39424 & 97218.44677 & 99699.27150 & 63115.19703 & 66816.70643 & 82430.5794 & 88539.72228 & 24276.35963 & 25759.27693 & 76142.07812 & 79847.61532 & 11832.59462 & 10371.90015 & 44926.34670 & 62119.37316 & 21271.22587 & 28357.5687 & 43949.1276 & 58785.3052 & 67681.70408 & 60913.98353 & 70025.11460 & 67193.28217 & 11575.0298 & 13542.2151 & 66551.78602 & 65517.74948 & 79365.5907 & 44927.4332 & 61737.37740 & 58774.94115 & 72224.70889 & 68384.06579 & 68066.54929 & 65998.66537 & 11540.60241 & 12689.37610 & 50436.57515 & 43222.93860 &      0.00000 & 6.251267e+00 &     0.119471 &     0.00000 & 44235.29145 & 46254.57152 & 14120.54747 & 16629.6253 & 19038.33734 & 23328.71064 & 23517.32046 & 22624.84843 & 15172.21225 & 25091.26978 & 25730.26408 & 25091.26978 & 25730.26408 & 2837.77293 & 3004.89532 & 4597.08830 & 25499.40365 & 30003.44413 & 37296.89492 & 35713.20478 & 8477.75601 & 7303.47629 & 4122.22948 & 1788.94647 & 5587.83737 & 7400.66275 & 3735.55276 & 1408.43769 & 3997.63803 & 2909.16897 & 76234.12891 & 82420.94013 & 35933.80816 & 41513.07250 & 35463.5948 & 27235.5336 & 28891.2075 & 29042.9495 & 69461.22274 & 71009.1183 & 117782.59229 & 123758.69981 & 144570.48763 & 150727.71647 & 98361.06471 & 104063.02886 & 1505.30782 & 1227.139336\\\\\n",
       "\tb0003 & 33377.06196 & 37164.56513 &  91475.25578 & 133756.16752 & 47904.42245 & 40046.05466 & 14717.08888 & 26674.55082 & 54063.75675 & 52111.35419 & 46937.71952 & 50620.09880 & 47909.62370 & 52563.61699 & 47997.90118 & 45680.09895 & 53536.92164 & 57732.24005 & 3635.19807 & 3710.89305 & 8104.05257 & 8494.31166 & 4401.50881 & 3956.43278 & 4363.53885 & 4085.47756 & 34857.6760 & 37824.49228 & 14960.07801 & 13495.24024 & 15757.5885 & 17182.19933 & 41999.65730 & 58853.78512 & 32411.65194 & 34205.32312 & 18277.17375 & 17825.26603 &  57509.63760 &  62199.1993 & 39443.16274 & 52418.99668 & 89726.76389 & 88600.19641 & 94951.42510 & 85463.89323 & 84225.71890 & 78881.60502 & 30552.42155 & 18763.43763 & 25254.11170 & 35627.45707 & 35592.85987 & 6072.5546 & 6788.8574 &  7968.74972 & 7654.28321 & 12530.54436 & 12021.9532 & 14906.75544 & 15960.44455 & 27182.66560 & 26502.6776 & 6256.28975 & 5475.75582 & 2406.33882 & 2543.93189 & 4425.04269 & 17842.75313 & 18282.07300 & 14902.3116 & 17345.84222 & 30073.97908 & 39816.2085 &  8458.2809 & 22492.8473 & 24038.3638 &  9960.2012 & 24522.8116 &  79523.08353 & 11629.60111 &  7173.39583 &  6537.33554 & 24821.40217 & 28128.0042 & 5450.83914 & 4857.75220 &  89097.55564 &  88250.45969 & 68866.29621 & 64359.02085 & 19547.14119 & 29272.38163 & 2443.707628 & 2988.031667 & 16935.5212 & 22464.86825 & 3321.07428 & 3450.02618 & 29524.53140 & 41759.91785 & 41702.53444 & 2311.32309 & 2148.50632 & 24692.47404 & 19911.28713 & 20418.97975 & 23644.72214 & 22578.10577 & 21138.14216 & 20866.75909 & 19970.01110 & 13187.82188 & 11355.07245 &  9764.77951 & 46540.41991 & 45733.0765 & 42139.31442 & 34572.05974 & 33387.01387 & 31463.78557 & 34721.58436 & 37099.08276 & 38778.82105 & 30326.2923 & 34302.66830 & 42193.38456 & 44984.475587 & 16225.6702 & 24181.6428 & 29349.0485 & 47589.92648 &  6680.7416 & 27501.69440 & 31970.43867 & 22539.1989 & 22378.62104 & 3894.7569 & 46500.9891 & 37151.89563 & 52738.1451 & 1428.67941 & 17801.16534 & 4377.4042 & 144914.3606 & 17309.83015 & 17604.2447 &  9819.2225 & 31488.71519 & 13253.5090 & 16283.3601 & 14429.4260 & 13005.7027 & 5289.51607 & 27058.14163 & 3016.7377 & 26571.9758 & 20999.97405 & 15877.1066 & 16458.50943 & 10438.26741 &  9536.85575 &  8023.00166 & 11651.24362 & 10573.14448 & 10043.72783 & 26749.1850 & 17054.96182 & 43487.60289 & 43179.90161 & 37694.51769 & 28943.09043 & 101435.28326 &  89087.4587 & 2575.73658 & 2338.11756 & 2181.1503 & 2287.06271 &  88919.03624 &  90368.20032 & 29101.71447 & 31046.72421 & 35403.60099 & 34336.12049 & 19162.21734 & 21246.29278 & 32662.93224 & 33231.99054 & 32147.04050 & 33217.08369 & 48189.07686 & 53271.63912 & 35138.85150 & 37021.24653 & 45551.6458 & 42332.79575 & 14601.30920 & 17091.20841 & 39425.84824 & 38109.57317 &  6169.11450 &  5617.67266 & 14003.88856 & 26241.64803 & 10078.59144 & 13641.7641 & 42284.2964 & 44559.8392 & 35311.83664 & 31094.96714 & 34483.47397 & 38847.71933 &  7061.8566 &  9171.4423 & 36043.68654 & 35149.49566 & 34160.0903 & 28371.6086 & 30898.10611 & 29885.12533 & 39677.73220 & 35256.78590 & 33283.12900 & 33281.14306 &  6756.11052 &  8510.17717 & 28503.98031 & 25581.35123 &  74504.41594 & 7.515271e+04 & 68554.567871 & 70734.08901 & 25280.74167 & 25871.01623 &  8454.93390 &  9182.9589 & 13167.96409 & 14568.73260 & 14259.03151 & 15085.04462 & 10409.12225 & 16463.20532 & 18603.11721 & 16463.20532 & 18603.11721 & 2799.14580 & 3347.93054 & 4018.10912 & 17083.15814 & 19359.33713 & 22419.56299 & 22789.52038 & 5187.94066 & 5296.52889 & 3926.13504 & 2383.74413 & 4987.42858 & 5971.84882 & 3041.41976 & 2087.80693 & 3059.83411 & 2861.76629 & 36860.26646 & 41042.96630 & 15452.03710 & 16360.76729 & 31421.1143 & 26271.4512 & 25854.8116 & 24755.9265 & 30160.51171 & 32604.9932 &  55072.62933 &  54680.31553 &  61322.83601 &  62218.66057 & 41121.10277 &  47295.67730 & 1205.91303 & 1048.468459\\\\\n",
       "\tb0004 & 39928.51639 & 45480.54989 &  34795.42726 &  48008.86017 & 32693.80035 & 24683.96368 &  6257.00956 &  8796.56898 & 26505.65856 & 25967.89030 & 29202.26910 & 27013.94535 & 28023.56678 & 28458.80518 & 25079.77076 & 27488.57960 & 33133.85932 & 32420.75436 & 2047.38527 & 2258.66175 & 5432.13226 & 5389.14459 & 2342.50740 & 2136.55775 & 2118.76058 & 2166.09292 & 28942.7410 & 32079.48275 & 13805.96573 & 15104.61036 & 14651.7695 & 16486.29889 & 28788.94671 & 25663.47640 & 30020.25216 & 29268.63117 & 17942.53243 & 16604.35938 &  60537.65977 &  59079.5088 & 26981.68935 & 45506.70653 & 36759.04992 & 36943.93400 & 42231.15044 & 40490.87547 & 35887.01799 & 35840.21254 & 22122.15386 & 23946.44048 & 20868.01069 & 32299.83522 & 32565.33282 & 5129.1705 & 4944.2001 &  6383.89542 & 6501.35951 & 13802.44001 & 13825.8821 & 19604.35985 & 19347.23113 & 29906.39256 & 34483.8898 & 2387.50653 & 1838.87170 & 1184.20246 & 1089.01310 & 6787.42360 & 26707.85438 & 22428.24082 & 20265.5337 & 20201.12323 & 33124.59311 & 28427.3359 & 13536.0408 & 24569.3797 & 23043.3409 & 12027.7999 & 29452.9995 &  91268.10107 & 15653.25827 &  5800.10594 &  5967.20684 & 24883.81996 & 21023.9685 & 2127.75844 & 2521.48126 &  47977.83375 &  42479.19934 & 33763.41266 & 38032.06364 & 18533.87605 & 28553.77507 & 3040.484958 & 2998.261776 & 20250.9376 & 23104.24933 & 3083.13403 & 3283.04011 & 28193.79400 & 52894.02087 & 53205.08059 & 2424.50658 & 2494.57920 & 31441.77829 & 25389.42219 & 24786.67517 & 25185.07278 & 24000.93031 & 24891.02706 & 23002.68082 & 23646.65777 & 20145.55656 & 16830.28209 & 12859.32541 & 47930.55111 & 45237.9377 & 44035.21903 & 34731.63782 & 36427.00390 & 33745.05657 & 36365.90814 & 34474.94390 & 40756.12158 & 34624.2503 & 38233.36544 & 50427.48743 & 54331.749184 & 19929.7352 & 27813.1383 & 34029.2253 & 48290.23449 &  8076.3816 & 28486.02328 & 25980.00859 & 16129.4843 & 27977.93752 & 4023.4531 & 28216.6501 & 40257.33297 & 31451.5720 & 1589.73457 & 20263.41024 & 6282.9512 & 161581.2569 & 25904.54691 & 18557.7420 & 12693.4718 & 37563.85385 & 17051.3646 & 13326.9124 & 14698.1669 & 13280.8213 & 5509.80823 & 27180.75843 & 4782.0892 & 23740.9955 & 17246.55373 & 16902.3468 & 18963.55982 & 10655.56177 &  9270.14094 &  8439.73687 & 11329.09513 & 11436.21522 &  9211.99176 & 24461.5760 & 17346.61853 & 64971.45815 & 65837.95524 & 41711.11136 & 39904.09338 & 107114.98353 & 107400.4389 & 2902.01161 & 2928.79125 & 2162.2383 & 1695.46204 & 137609.02420 & 141095.48989 & 43376.53431 & 45877.64826 & 39542.08351 & 40246.89126 & 28427.93693 & 31116.31772 & 40210.92094 & 42833.51480 & 44743.48325 & 48800.53708 & 64289.07593 & 75518.10753 & 50573.87633 & 48985.27605 & 59543.9349 & 58978.49330 & 29229.87710 & 31456.69020 & 37210.09909 & 37611.01542 &  6280.05093 &  6159.43715 & 10204.19146 & 25182.00418 & 10692.11300 & 12497.0193 & 46229.4438 & 41194.6463 & 39325.25370 & 36032.32174 & 40882.94699 & 43584.82825 &  6594.3520 & 12606.4167 & 43726.57065 & 44310.72230 & 33783.6615 & 25091.0082 & 39057.10598 & 36272.55457 & 43235.09303 & 40903.41989 & 45477.73078 & 45841.54673 &  7475.39238 & 12208.16710 & 39796.08208 & 40137.00677 & 101884.23972 & 1.015512e+05 & 85733.306106 & 91628.18142 & 34998.02454 & 33088.74385 & 10356.27639 & 10127.5932 & 17415.38865 & 18561.45508 & 20360.90156 & 21257.42488 &  9933.94480 & 23141.90886 & 26651.20926 & 23141.90886 & 26651.20926 & 2883.69478 & 3056.70458 & 5166.07428 & 18591.11507 & 19491.03959 & 29503.92052 & 29758.07493 & 7730.79198 & 6625.31942 & 4226.86006 & 2518.71213 & 5345.53522 & 6985.00277 & 3251.67812 & 1840.92301 & 3761.04214 & 3339.87073 & 47709.01975 & 49321.51637 & 15026.89565 & 15632.89331 & 48030.9731 & 42036.6169 & 35420.3085 & 34007.0294 & 43456.61021 & 45430.1312 &  69098.96811 &  67017.28474 &  72025.89555 &  76254.50263 & 57135.92525 &  59933.42721 &  904.27614 &  824.434498\\\\\n",
       "\tb0005 &   552.41138 &   521.43392 &    225.36046 &    206.70542 &   824.56606 &   607.41926 &   101.20178 &   115.29765 &   682.79173 &   461.27862 &   195.57272 &   204.28337 &   152.94088 &   172.77011 &   140.07872 &   187.67188 &   194.77337 &   211.79868 &   53.99068 &   68.08161 &   35.61327 &   77.43744 &   33.87053 &   80.59709 &   49.12799 &   62.85203 &   142.2756 &   218.98431 &   102.03204 &   101.50400 &   133.7491 &   113.09760 &    60.00863 &   141.23589 &    64.83956 &    58.88571 &    63.55596 &    38.23141 &    362.68213 &    242.0954 &   118.09483 &   226.43190 &   426.56745 &   462.50993 &   472.15809 &   531.83591 &   300.54666 &   555.83433 &    56.67141 &   572.76809 &   503.04599 &   498.83944 &   457.68133 &  185.3344 &  208.0200 &    86.72472 &  111.22325 &   323.44044 &   204.7514 &   345.08187 &   391.29817 &   362.62068 &   527.1243 &   21.31033 &   24.07629 &   48.19999 &   62.00525 &  272.55786 &   493.45645 &   217.60405 &   294.2418 &   375.58278 &   538.11004 &   328.1368 &   142.6078 &   299.7459 &   411.9418 &   195.5227 &   430.2862 &    901.85575 &   111.59700 &    83.14019 &   111.33147 &   384.90671 &   473.3801 &   23.49002 &   35.66159 &    195.66007 &    286.58078 &   339.35889 &   331.77321 &   246.67331 &   413.48142 &    4.765376 &    6.431592 &   414.0930 &   502.13315 &   25.89358 &   80.81662 &  1902.95260 &  1111.50268 &  1116.66839 &   36.41463 &   67.26968 &   330.12072 &   173.39475 &   177.54611 &    42.42221 &    63.51127 &   104.20459 &    64.68366 &    82.51205 &    40.37162 &    35.61450 &    38.37308 &   358.99535 &   335.6483 &   253.36966 &   132.47669 &    96.27472 &    92.61103 &   132.40123 &   188.14864 &   183.02947 &   548.4306 &   577.51578 &   855.72568 &  1535.328331 &   316.9096 &   769.7602 &   612.7194 &   233.10554 &   114.5434 &   294.10654 &   610.71781 &   291.7758 &   329.10084 &  378.2542 &   611.4419 &   392.06769 &   447.4060 &   39.74092 &   142.87921 &  373.3438 &   1399.3895 &  1496.65471 &   478.3907 &   494.2704 &   607.02010 &   426.8806 &   910.7762 &   952.2923 &   350.5609 &   71.79744 &  1302.65352 &  144.0331 &   727.1596 &   426.35075 &   532.8513 &   721.10232 &    78.96397 &   299.43857 &   107.89691 &   282.80796 &   118.47445 &   716.31602 &   639.1646 &   437.66831 &   306.24970 &   440.84081 &   563.62122 &   344.83539 &    328.43494 &    396.6590 &   23.49114 &   21.76893 &  130.1149 &  166.93720 &    525.59145 &    467.12368 &   403.28154 &   502.39940 &   244.97679 &   188.06881 &   173.17316 &   176.16954 &    90.18699 &   127.92417 &   332.90104 &   268.61646 &   544.01637 &   275.98442 &   375.22509 &   376.88407 &   558.9575 &   403.13911 &   287.72785 &   250.92766 &   347.83788 &   205.20367 &    62.73911 &    67.41798 &    66.13799 &   213.21850 &    99.50912 &   105.4982 &   427.8983 &   342.6638 &   280.09068 &   301.90323 &   346.51813 &   232.14629 &   105.9050 &    81.9474 &   350.09683 &   290.57305 &   211.1021 &   255.4357 &   311.99497 &   273.75042 &   575.39973 &   528.56712 &   352.02566 &   328.25840 &    48.66362 &    91.29284 &   516.62804 &   382.47520 &   1053.98257 & 1.120352e+03 &  1097.553935 &  1051.87756 &   252.41978 &   259.43240 &   507.15297 &   472.1642 &   129.55631 &   126.89436 &   280.81702 &   147.48824 &   121.41098 &   320.19458 &   376.45926 &   320.19458 &   376.45926 &   94.42005 &   64.30833 &  106.54416 &   464.22370 &   498.91947 &   202.05260 &   267.38496 &   93.20627 &  281.30899 &   22.07574 &   67.75514 &   74.51305 &   93.40553 &   83.16617 &   37.75037 &   66.75330 &   47.68216 &   322.67412 &   190.53137 &    73.65474 &    69.59878 &   511.9247 &   517.8589 &   394.0763 &   299.5415 &   546.91500 &   538.8763 &    156.36015 &    124.90783 &    231.31556 &    315.69882 &   354.65600 &    332.15846 &  165.61081 &  124.005260\\\\\n",
       "\tb0006 &  1007.04777 &   988.89326 &    875.24416 &    881.36419 &   863.20800 &   911.81390 &   800.72576 &   952.40131 &   954.41607 &   912.67985 &  1006.65441 &  1081.07564 &  1258.63704 &   954.56859 &  1005.86105 &  1009.14480 &  1048.66076 &   940.58391 & 1675.77344 & 1975.43413 & 1242.92932 & 1155.04559 & 1442.75079 & 1637.73592 & 1359.10220 & 1325.92812 &  1130.6317 &  1008.92701 &  1052.61051 &   841.49454 &  1020.1704 &   956.64936 &  1166.15243 &  1058.78912 &  1243.44278 &  1142.48697 &  1252.87147 &  1435.29620 &   1198.27591 &   1093.3683 &  1388.80950 &  1328.56469 &   991.31032 &  1043.69699 &  1083.03404 &   950.98885 &  1223.10813 &  1196.70335 &   803.90991 &  1092.65765 &   976.26060 &   711.27412 &   728.07147 & 1062.0158 & 1091.9500 &   688.83836 &  625.35482 &   606.12284 &   530.6666 &  1001.44733 &   936.65720 &   688.02875 &   867.2389 &  451.36832 &  412.52254 &  483.16923 &  538.59539 & 1056.57449 &   916.89345 &   991.31268 &   953.1495 &   734.14881 &   539.99468 &   501.0351 &   652.7402 &   968.6964 &   862.4051 &   618.4431 &   730.0118 &    637.16370 &  1145.31999 &   515.29051 &   543.39666 &   632.84415 &   778.8744 &  722.24793 &  819.93105 &   1087.09738 &   1048.08152 &  1024.89636 &  1032.90939 &   725.90968 &   763.30277 &  755.514055 &  739.064137 &  1050.9308 &  1250.02107 & 1107.98986 & 1007.71046 &   974.32156 &  1051.24172 &  1176.33557 &  994.85681 &  892.41609 &   778.00508 &   608.67804 &   681.35906 &  1232.07282 &  1037.06523 &  1578.38822 &  1442.81288 &  1689.27311 &   824.08892 &   726.77481 &   893.18890 &  1346.48873 &  1544.0435 &  1224.02281 &  1823.96966 &  1681.44631 &  1604.56414 &  1338.11634 &  1377.17327 &  1378.41133 &  1139.6452 &   911.53518 &   830.87728 &   872.915809 &  1103.5952 &  1305.0160 &   789.8119 &  1504.08030 &   778.2381 &   834.15554 &   846.83352 &   944.8662 &  1037.68684 &  471.0307 &  1147.8463 &  1340.79685 &   941.0586 &  730.73188 &  1091.80437 &  485.3703 &    196.5373 &   913.97497 &   650.8270 &   728.4678 &   962.83958 &   567.8663 &  1034.5196 &   826.6926 &   942.1103 &  742.68176 &  1399.54761 &  700.7170 &   759.4056 &   731.92318 &   986.8884 &   781.86918 &  1421.72686 &  1285.59861 &  1903.77812 &  1070.93646 &  1212.28031 &   957.26619 &  1015.9260 &   541.61460 &   816.42919 &   794.29383 &   909.04641 &  1182.81666 &    414.30676 &    527.1798 &  448.66996 &  531.48526 &  633.7990 &  409.65919 &    874.20890 &    885.13936 &   926.15111 &   741.73034 &  1285.48443 &  1178.50510 &  1032.31935 &   927.81552 &   830.98211 &   737.04120 &  1032.25464 &   890.51795 &  1058.93609 &  1093.44489 &   978.77168 &  1044.17832 &  1214.3875 &  1473.55962 &  1382.26038 &  1480.43324 &   790.87174 &  1035.04149 &   920.76063 &   822.30671 &  1252.86344 &   976.89692 &   761.61074 &   888.0854 &  1066.0244 &   910.9714 &  1250.40258 &  1192.27088 &  1151.43887 &  1116.70366 &   750.6961 &  1024.5850 &  1108.01899 &  1284.64178 &   798.3443 &   908.9493 &  1097.25234 &  1068.98038 &  1134.72130 &  1021.55341 &  1329.12677 &  1362.65414 &   692.03210 &  1047.79073 &  1450.60077 &  1428.92024 &   1596.67850 & 1.362197e+03 &  1329.342657 &  1180.96673 &  1635.40013 &  1655.44425 &  1616.53504 &  2035.3040 &  1032.65453 &   972.11235 &   895.60397 &   917.30498 &   599.78432 &   622.31252 &   501.98071 &   622.31252 &   501.98071 &  609.13730 &  487.84192 &  695.51807 &   716.53276 &   736.27057 &   696.68736 &   651.30972 &  648.85398 &  928.39528 &  803.66005 &  720.26746 & 1115.72733 &  856.46575 &  543.32290 &  478.94092 &  730.01761 &  858.69518 &  1037.99667 &   928.60722 &  1229.08699 &  1302.30791 &  1349.5306 &  1230.0617 &  4320.1949 &  4113.9843 &  3419.40603 &  3201.9816 &   1561.63852 &   1579.56184 &   1521.48854 &   1501.31304 &  3157.17710 &   3310.68706 &   81.75999 &   74.041248\\\\\n",
       "\tb0007 &    32.81408 &    32.35787 &     37.14096 &     32.07092 &    25.89253 &    31.45357 &    39.78911 &    38.56178 &    28.49857 &    30.14528 &    35.30577 &    27.94899 &    21.94708 &    27.77544 &    25.05421 &    36.25367 &    34.79614 &    22.31376 &   58.53430 &   61.78351 &   56.54795 &   50.27150 &   43.03133 &   42.06055 &   74.16244 &   59.61400 &    73.6360 &    50.18045 &    29.66632 &    43.49959 &    85.0209 &    54.89107 &    36.10322 &    22.25613 &    37.31150 &    22.50624 &    25.39705 &    46.80847 &     24.98528 &     18.3694 &    64.43264 &    34.49311 &    16.32883 &    18.08138 &    11.34102 &    14.27208 &    24.17556 &    22.86825 &    37.40968 &    83.43286 &    82.04911 &    78.59842 &    76.43214 &  563.8242 &  555.3649 &    41.60243 &   30.91844 &    32.87847 &    26.6567 &    24.27834 &    35.66301 &    42.82435 &    43.0017 &   79.09848 &   74.70861 &  133.54931 &  102.45218 &   25.60308 &    40.30315 &    46.00949 &    51.5934 &    52.09614 &    97.86958 &   239.9793 &   275.9177 &   224.2586 &   201.3291 &   259.5097 &   209.4162 &     59.15846 &    33.69694 &    56.91921 &    57.20618 &    50.46836 &    75.5515 &   22.80269 &   27.09381 &     22.37101 &     25.04989 &    20.19033 &    28.14029 &    43.52457 &    24.53149 &   64.995580 &   43.411660 &    43.1654 &    33.30046 &   54.83403 &   39.45240 &    23.15326 &    19.51713 &    15.15434 &   22.82145 &   25.07027 &    28.36839 &    26.04275 &    21.48201 &   275.59462 &   284.94724 &    46.06265 &    34.85076 &    36.97628 &   111.38821 &    89.35719 &   119.44379 &    75.29261 &    41.1125 &    48.56466 &    41.20625 &    37.39576 &    38.71612 &    46.76263 &    37.84758 &    33.03484 &   387.8314 &    32.59205 &    15.91205 &     6.633331 &   271.9435 &   243.7011 &   364.0296 &    37.12944 &   512.0286 &    32.48467 &    18.49664 &   147.2945 &    24.19881 &  227.9792 &   214.4459 &    23.70235 &   334.5994 &   53.89305 &    32.16117 &  227.4299 &    116.3005 &    82.00615 &   278.2089 &   360.6046 &    70.58075 &   497.6431 &   148.4943 &   151.2535 &   110.7365 &   39.10361 &    45.54318 &  419.2283 &   291.3883 &    77.75908 &   151.7394 &    30.93515 &    27.56603 &    25.01617 &    34.18638 &    34.17668 &    21.99658 &    21.35126 &    32.3205 &    19.71415 &    10.86875 &    13.07955 &    19.17674 &    26.17089 &     36.64562 &     31.8066 &   74.45649 &   83.75130 &   42.9364 &   50.57752 &     11.83479 &     14.55326 &    12.07169 &    16.45109 &    51.94407 &    56.07137 &    25.51126 &    20.25816 &    53.83818 &    59.24286 &    20.53661 &    17.20669 &    21.87419 &    17.84317 &    25.60018 &    34.08802 &    31.8106 &    21.60872 &    22.91913 &    23.02938 &    67.90962 &    75.78984 &   279.49568 &   257.46340 &    39.56385 &    34.26537 &   251.83401 &   141.9026 &   255.7679 &   257.5648 &    27.61331 &    27.92742 &    37.20091 &    38.39005 &   247.0533 &   211.0014 &    41.64685 &    45.23287 &   133.4342 &   248.1570 &    22.73653 &    23.69917 &    33.84893 &    47.14436 &    77.88118 &    54.51888 &   201.15120 &   291.94889 &    37.75401 &    32.50506 &     40.10174 & 4.063440e+01 &    34.104263 &    36.21253 &    37.10853 &    32.65451 &    76.90423 &    54.3656 &    28.99249 &    28.33942 &    30.49445 &    25.14678 &    45.05927 &    35.76405 &    37.65751 &    35.76405 &    37.65751 &   62.79513 &   61.20070 &   46.07035 &    51.12072 &    50.24063 &    37.51753 &    35.15751 &   54.99938 &   63.08118 &   19.62802 &   22.85670 &   28.06753 &   20.54658 &   66.06569 &   68.72923 &   30.29595 &   32.14812 &    63.19961 &    83.93643 &    66.55345 &    64.94802 &   454.7783 &   439.8984 &   399.8913 &   404.0319 &    34.05348 &    36.5612 &     34.02924 &     41.92358 &     37.48823 &     41.76407 &    31.90325 &     26.59931 &    6.12688 &    7.589872\\\\\n",
       "\\end{tabular}\n"
      ],
      "text/markdown": [
       "\n",
       "A data.frame: 6 × 280\n",
       "\n",
       "| <!--/--> | control__wt_glc__1 &lt;dbl&gt; | control__wt_glc__2 &lt;dbl&gt; | fur__wt_dpd__1 &lt;dbl&gt; | fur__wt_dpd__2 &lt;dbl&gt; | fur__wt_fe__1 &lt;dbl&gt; | fur__wt_fe__2 &lt;dbl&gt; | fur__delfur_dpd__1 &lt;dbl&gt; | fur__delfur_dpd__2 &lt;dbl&gt; | fur__delfur_fe2__1 &lt;dbl&gt; | fur__delfur_fe2__2 &lt;dbl&gt; | ⋯ ⋯ | efeU__menFentC_ale30__1 &lt;dbl&gt; | efeU__menFentC_ale30__2 &lt;dbl&gt; | efeU__menFentCubiC_ale36__1 &lt;dbl&gt; | efeU__menFentCubiC_ale36__2 &lt;dbl&gt; | efeU__menFentCubiC_ale37__1 &lt;dbl&gt; | efeU__menFentCubiC_ale37__2 &lt;dbl&gt; | efeU__menFentCubiC_ale38__1 &lt;dbl&gt; | efeU__menFentCubiC_ale38__2 &lt;dbl&gt; | PROJECT__CONDITION__1 &lt;dbl&gt; | PROJECT__CONDITION__2 &lt;dbl&gt; |\n",
       "|---|---|---|---|---|---|---|---|---|---|---|---|---|---|---|---|---|---|---|---|---|---|\n",
       "| b0002 | 60272.78323 | 68198.72323 | 121169.20304 | 145540.59326 | 63882.06447 | 48004.52925 | 21511.75213 | 29469.20971 | 75339.01286 | 74165.29294 | ⋯ | 69461.22274 | 71009.1183 | 117782.59229 | 123758.69981 | 144570.48763 | 150727.71647 | 98361.06471 | 104063.02886 | 1505.30782 | 1227.139336 |\n",
       "| b0003 | 33377.06196 | 37164.56513 |  91475.25578 | 133756.16752 | 47904.42245 | 40046.05466 | 14717.08888 | 26674.55082 | 54063.75675 | 52111.35419 | ⋯ | 30160.51171 | 32604.9932 |  55072.62933 |  54680.31553 |  61322.83601 |  62218.66057 | 41121.10277 |  47295.67730 | 1205.91303 | 1048.468459 |\n",
       "| b0004 | 39928.51639 | 45480.54989 |  34795.42726 |  48008.86017 | 32693.80035 | 24683.96368 |  6257.00956 |  8796.56898 | 26505.65856 | 25967.89030 | ⋯ | 43456.61021 | 45430.1312 |  69098.96811 |  67017.28474 |  72025.89555 |  76254.50263 | 57135.92525 |  59933.42721 |  904.27614 |  824.434498 |\n",
       "| b0005 |   552.41138 |   521.43392 |    225.36046 |    206.70542 |   824.56606 |   607.41926 |   101.20178 |   115.29765 |   682.79173 |   461.27862 | ⋯ |   546.91500 |   538.8763 |    156.36015 |    124.90783 |    231.31556 |    315.69882 |   354.65600 |    332.15846 |  165.61081 |  124.005260 |\n",
       "| b0006 |  1007.04777 |   988.89326 |    875.24416 |    881.36419 |   863.20800 |   911.81390 |   800.72576 |   952.40131 |   954.41607 |   912.67985 | ⋯ |  3419.40603 |  3201.9816 |   1561.63852 |   1579.56184 |   1521.48854 |   1501.31304 |  3157.17710 |   3310.68706 |   81.75999 |   74.041248 |\n",
       "| b0007 |    32.81408 |    32.35787 |     37.14096 |     32.07092 |    25.89253 |    31.45357 |    39.78911 |    38.56178 |    28.49857 |    30.14528 | ⋯ |    34.05348 |    36.5612 |     34.02924 |     41.92358 |     37.48823 |     41.76407 |    31.90325 |     26.59931 |    6.12688 |    7.589872 |\n",
       "\n"
      ],
      "text/plain": [
       "      control__wt_glc__1 control__wt_glc__2 fur__wt_dpd__1 fur__wt_dpd__2\n",
       "b0002 60272.78323        68198.72323        121169.20304   145540.59326  \n",
       "b0003 33377.06196        37164.56513         91475.25578   133756.16752  \n",
       "b0004 39928.51639        45480.54989         34795.42726    48008.86017  \n",
       "b0005   552.41138          521.43392           225.36046      206.70542  \n",
       "b0006  1007.04777          988.89326           875.24416      881.36419  \n",
       "b0007    32.81408           32.35787            37.14096       32.07092  \n",
       "      fur__wt_fe__1 fur__wt_fe__2 fur__delfur_dpd__1 fur__delfur_dpd__2\n",
       "b0002 63882.06447   48004.52925   21511.75213        29469.20971       \n",
       "b0003 47904.42245   40046.05466   14717.08888        26674.55082       \n",
       "b0004 32693.80035   24683.96368    6257.00956         8796.56898       \n",
       "b0005   824.56606     607.41926     101.20178          115.29765       \n",
       "b0006   863.20800     911.81390     800.72576          952.40131       \n",
       "b0007    25.89253      31.45357      39.78911           38.56178       \n",
       "      fur__delfur_fe2__1 fur__delfur_fe2__2 ⋯ efeU__menFentC_ale30__1\n",
       "b0002 75339.01286        74165.29294        ⋯ 69461.22274            \n",
       "b0003 54063.75675        52111.35419        ⋯ 30160.51171            \n",
       "b0004 26505.65856        25967.89030        ⋯ 43456.61021            \n",
       "b0005   682.79173          461.27862        ⋯   546.91500            \n",
       "b0006   954.41607          912.67985        ⋯  3419.40603            \n",
       "b0007    28.49857           30.14528        ⋯    34.05348            \n",
       "      efeU__menFentC_ale30__2 efeU__menFentCubiC_ale36__1\n",
       "b0002 71009.1183              117782.59229               \n",
       "b0003 32604.9932               55072.62933               \n",
       "b0004 45430.1312               69098.96811               \n",
       "b0005   538.8763                 156.36015               \n",
       "b0006  3201.9816                1561.63852               \n",
       "b0007    36.5612                  34.02924               \n",
       "      efeU__menFentCubiC_ale36__2 efeU__menFentCubiC_ale37__1\n",
       "b0002 123758.69981                144570.48763               \n",
       "b0003  54680.31553                 61322.83601               \n",
       "b0004  67017.28474                 72025.89555               \n",
       "b0005    124.90783                   231.31556               \n",
       "b0006   1579.56184                  1521.48854               \n",
       "b0007     41.92358                    37.48823               \n",
       "      efeU__menFentCubiC_ale37__2 efeU__menFentCubiC_ale38__1\n",
       "b0002 150727.71647                98361.06471                \n",
       "b0003  62218.66057                41121.10277                \n",
       "b0004  76254.50263                57135.92525                \n",
       "b0005    315.69882                  354.65600                \n",
       "b0006   1501.31304                 3157.17710                \n",
       "b0007     41.76407                   31.90325                \n",
       "      efeU__menFentCubiC_ale38__2 PROJECT__CONDITION__1 PROJECT__CONDITION__2\n",
       "b0002 104063.02886                1505.30782            1227.139336          \n",
       "b0003  47295.67730                1205.91303            1048.468459          \n",
       "b0004  59933.42721                 904.27614             824.434498          \n",
       "b0005    332.15846                 165.61081             124.005260          \n",
       "b0006   3310.68706                  81.75999              74.041248          \n",
       "b0007     26.59931                   6.12688               7.589872          "
      ]
     },
     "metadata": {},
     "output_type": "display_data"
    },
    {
     "data": {
      "text/html": [
       "3845"
      ],
      "text/latex": [
       "3845"
      ],
      "text/markdown": [
       "3845"
      ],
      "text/plain": [
       "[1] 3845"
      ]
     },
     "metadata": {},
     "output_type": "display_data"
    }
   ],
   "source": [
    "# Merge turns row.names into the first column\n",
    "final_tpm <- merge(precise_tpm,new_tpm,by=\"row.names\")\n",
    "# Convert row.names column back to row names\n",
    "rownames(final_tpm) <- final_tpm[,1]\n",
    "# Delete row.names column (In R, minus sign means \"except\")\n",
    "final_tpm <- final_tpm[,-1]\n",
    "\n",
    "head(final_tpm)\n",
    "nrow(final_tpm)"
   ]
  },
  {
   "cell_type": "code",
   "execution_count": 54,
   "metadata": {},
   "outputs": [],
   "source": [
    "# The base condition for PRECISE is base__wt_glc\n",
    "base_cond <- c('control__wt_glc__1','control__wt_glc__2')"
   ]
  },
  {
   "cell_type": "code",
   "execution_count": 55,
   "metadata": {},
   "outputs": [
    {
     "data": {
      "text/html": [
       "<table>\n",
       "<caption>A data.frame: 6 × 280</caption>\n",
       "<thead>\n",
       "\t<tr><th></th><th scope=col>control__wt_glc__1</th><th scope=col>control__wt_glc__2</th><th scope=col>fur__wt_dpd__1</th><th scope=col>fur__wt_dpd__2</th><th scope=col>fur__wt_fe__1</th><th scope=col>fur__wt_fe__2</th><th scope=col>fur__delfur_dpd__1</th><th scope=col>fur__delfur_dpd__2</th><th scope=col>fur__delfur_fe2__1</th><th scope=col>fur__delfur_fe2__2</th><th scope=col>⋯</th><th scope=col>efeU__menFentC_ale30__1</th><th scope=col>efeU__menFentC_ale30__2</th><th scope=col>efeU__menFentCubiC_ale36__1</th><th scope=col>efeU__menFentCubiC_ale36__2</th><th scope=col>efeU__menFentCubiC_ale37__1</th><th scope=col>efeU__menFentCubiC_ale37__2</th><th scope=col>efeU__menFentCubiC_ale38__1</th><th scope=col>efeU__menFentCubiC_ale38__2</th><th scope=col>PROJECT__CONDITION__1</th><th scope=col>PROJECT__CONDITION__2</th></tr>\n",
       "\t<tr><th></th><th scope=col>&lt;dbl&gt;</th><th scope=col>&lt;dbl&gt;</th><th scope=col>&lt;dbl&gt;</th><th scope=col>&lt;dbl&gt;</th><th scope=col>&lt;dbl&gt;</th><th scope=col>&lt;dbl&gt;</th><th scope=col>&lt;dbl&gt;</th><th scope=col>&lt;dbl&gt;</th><th scope=col>&lt;dbl&gt;</th><th scope=col>&lt;dbl&gt;</th><th scope=col>⋯</th><th scope=col>&lt;dbl&gt;</th><th scope=col>&lt;dbl&gt;</th><th scope=col>&lt;dbl&gt;</th><th scope=col>&lt;dbl&gt;</th><th scope=col>&lt;dbl&gt;</th><th scope=col>&lt;dbl&gt;</th><th scope=col>&lt;dbl&gt;</th><th scope=col>&lt;dbl&gt;</th><th scope=col>&lt;dbl&gt;</th><th scope=col>&lt;dbl&gt;</th></tr>\n",
       "</thead>\n",
       "<tbody>\n",
       "\t<tr><th scope=row>b0002</th><td>-0.089117631</td><td> 0.089117631</td><td> 0.9183148</td><td> 1.18271135</td><td>-0.005214733</td><td>-0.41744767</td><td>-1.5754562</td><td>-1.12139093</td><td> 0.23276803</td><td> 0.2101154</td><td>⋯</td><td> 0.11558032</td><td> 0.147376357</td><td> 0.87741842</td><td> 0.9488214</td><td> 1.1730629</td><td> 1.2332341</td><td> 0.61745377</td><td> 0.6987513</td><td>-5.411560</td><td>-5.706102</td></tr>\n",
       "\t<tr><th scope=row>b0003</th><td>-0.077533178</td><td> 0.077533178</td><td> 1.3769639</td><td> 1.92511093</td><td> 0.443755597</td><td> 0.18526277</td><td>-1.2588430</td><td>-0.40091531</td><td> 0.61825508</td><td> 0.5651921</td><td>⋯</td><td>-0.22372463</td><td>-0.111296203</td><td> 0.64492832</td><td> 0.6346146</td><td> 0.8000146</td><td> 0.8209372</td><td> 0.22348067</td><td> 0.4253055</td><td>-4.867040</td><td>-5.068703</td></tr>\n",
       "\t<tr><th scope=row>b0004</th><td>-0.093912910</td><td> 0.093912910</td><td>-0.2924293</td><td> 0.17196223</td><td>-0.382307295</td><td>-0.78773599</td><td>-2.7675927</td><td>-2.27619168</td><td>-0.68501369</td><td>-0.7145841</td><td>⋯</td><td> 0.02824033</td><td> 0.092312719</td><td> 0.69731654</td><td> 0.6531863</td><td> 0.7571672</td><td> 0.8394729</td><td> 0.42305489</td><td> 0.4920164</td><td>-5.556867</td><td>-5.690071</td></tr>\n",
       "\t<tr><th scope=row>b0005</th><td> 0.041551874</td><td>-0.041551874</td><td>-1.2481785</td><td>-1.37226160</td><td> 0.618583216</td><td> 0.17826538</td><td>-2.3953802</td><td>-2.20897856</td><td> 0.34675653</td><td>-0.2180378</td><td>⋯</td><td> 0.02715164</td><td> 0.005828401</td><td>-1.77273019</td><td>-2.0944325</td><td>-1.2107147</td><td>-0.7636890</td><td>-0.59631793</td><td>-0.6905919</td><td>-1.690318</td><td>-2.104812</td></tr>\n",
       "\t<tr><th scope=row>b0006</th><td> 0.013109564</td><td>-0.013109564</td><td>-0.1890496</td><td>-0.17900828</td><td>-0.209003939</td><td>-0.13006177</td><td>-0.3172737</td><td>-0.06729892</td><td>-0.06425339</td><td>-0.1286938</td><td>⋯</td><td> 1.77571316</td><td> 1.680961056</td><td> 0.64552964</td><td> 0.6619830</td><td> 0.6079769</td><td> 0.5887310</td><td> 1.66063764</td><td> 1.7291119</td><td>-3.593377</td><td>-3.734627</td></tr>\n",
       "\t<tr><th scope=row>b0007</th><td> 0.009798498</td><td>-0.009798498</td><td> 0.1835152</td><td>-0.02226242</td><td>-0.320620325</td><td>-0.04944859</td><td> 0.2803582</td><td> 0.23628149</td><td>-0.18718075</td><td>-0.1088121</td><td>⋯</td><td> 0.06173173</td><td> 0.161417199</td><td> 0.06073411</td><td> 0.3539447</td><td> 0.1965916</td><td> 0.3485735</td><td>-0.02959551</td><td>-0.2831938</td><td>-2.236483</td><td>-1.967117</td></tr>\n",
       "</tbody>\n",
       "</table>\n"
      ],
      "text/latex": [
       "A data.frame: 6 × 280\n",
       "\\begin{tabular}{r|llllllllllllllllllllllllllllllllllllllllllllllllllllllllllllllllllllllllllllllllllllllllllllllllllllllllllllllllllllllllllllllllllllllllllllllllllllllllllllllllllllllllllllllllllllllllllllllllllllllllllllllllllllllllllllllllllllllllllllllllllllllllllllllllllllllllllllllllllllllll}\n",
       "  & control\\_\\_wt\\_glc\\_\\_1 & control\\_\\_wt\\_glc\\_\\_2 & fur\\_\\_wt\\_dpd\\_\\_1 & fur\\_\\_wt\\_dpd\\_\\_2 & fur\\_\\_wt\\_fe\\_\\_1 & fur\\_\\_wt\\_fe\\_\\_2 & fur\\_\\_delfur\\_dpd\\_\\_1 & fur\\_\\_delfur\\_dpd\\_\\_2 & fur\\_\\_delfur\\_fe2\\_\\_1 & fur\\_\\_delfur\\_fe2\\_\\_2 & acid\\_\\_wt\\_ph5\\_\\_1 & acid\\_\\_wt\\_ph5\\_\\_2 & acid\\_\\_delgadx\\_ph5\\_\\_1 & acid\\_\\_delgadx\\_ph5\\_\\_2 & acid\\_\\_delgadw\\_ph5\\_\\_1 & acid\\_\\_delgadw\\_ph5\\_\\_2 & acid\\_\\_delgade\\_ph5\\_\\_1 & acid\\_\\_delgade\\_ph5\\_\\_2 & oxidative\\_\\_wt\\_pq\\_\\_1 & oxidative\\_\\_wt\\_pq\\_\\_2 & oxidative\\_\\_deloxyr\\_pq\\_\\_1 & oxidative\\_\\_deloxyr\\_pq\\_\\_2 & oxidative\\_\\_delsoxr\\_pq\\_\\_1 & oxidative\\_\\_delsoxr\\_pq\\_\\_2 & oxidative\\_\\_delsoxs\\_pq\\_\\_1 & oxidative\\_\\_delsoxs\\_pq\\_\\_2 & nac\\_ntrc\\_\\_wt\\_csn\\_\\_1 & nac\\_ntrc\\_\\_wt\\_csn\\_\\_2 & nac\\_ntrc\\_\\_wt\\_cytd\\_\\_1 & nac\\_ntrc\\_\\_wt\\_cytd\\_\\_2 & nac\\_ntrc\\_\\_wt\\_gln\\_\\_1 & nac\\_ntrc\\_\\_wt\\_gln\\_\\_2 & nac\\_ntrc\\_\\_bw\\_delnac\\_csn\\_\\_1 & nac\\_ntrc\\_\\_bw\\_delnac\\_csn\\_\\_2 & nac\\_ntrc\\_\\_bw\\_delnac\\_cytd\\_\\_1 & nac\\_ntrc\\_\\_bw\\_delnac\\_cytd\\_\\_2 & nac\\_ntrc\\_\\_bw\\_delnac\\_gln\\_\\_1 & nac\\_ntrc\\_\\_bw\\_delnac\\_gln\\_\\_2 & nac\\_ntrc\\_\\_bw\\_delnac\\_nh4\\_\\_1 & nac\\_ntrc\\_\\_bw\\_delnac\\_nh4\\_\\_2 & misc\\_\\_wt\\_no\\_te\\_\\_1 & misc\\_\\_wt\\_no\\_te\\_\\_2 & misc\\_\\_bw\\_delcbl\\_\\_1 & misc\\_\\_bw\\_delcbl\\_\\_2 & misc\\_\\_bw\\_delfabr\\_\\_1 & misc\\_\\_bw\\_delfabr\\_\\_2 & misc\\_\\_bw\\_delfadr\\_\\_1 & misc\\_\\_bw\\_delfadr\\_\\_2 & misc\\_\\_nitr\\_031\\_\\_1 & omics\\_\\_wt\\_glu\\_\\_1 & omics\\_\\_wt\\_glu\\_\\_2 & omics\\_\\_wt\\_gly\\_\\_1 & omics\\_\\_wt\\_gly\\_\\_2 & omics\\_\\_wt\\_thr\\_\\_1 & omics\\_\\_wt\\_thr\\_\\_2 & omics\\_\\_bw\\_ac\\_\\_1 & omics\\_\\_bw\\_ac\\_\\_2 & omics\\_\\_bw\\_fum\\_\\_1 & omics\\_\\_bw\\_fum\\_\\_2 & omics\\_\\_bw\\_glc\\_\\_1 & omics\\_\\_bw\\_glc\\_\\_2 & omics\\_\\_bw\\_pyr\\_\\_1 & omics\\_\\_bw\\_pyr\\_\\_2 & ompr\\_\\_wt\\_nacl\\_\\_1 & ompr\\_\\_wt\\_nacl\\_\\_2 & ompr\\_\\_bw\\_delompr\\_nacl\\_\\_1 & ompr\\_\\_bw\\_delompr\\_nacl\\_\\_2 & minspan\\_\\_wt\\_ade\\_\\_1 & minspan\\_\\_wt\\_glc\\_\\_1 & minspan\\_\\_wt\\_glc\\_\\_2 & minspan\\_\\_wt\\_glc\\_\\_3 & minspan\\_\\_wt\\_glc\\_\\_4 & minspan\\_\\_wt\\_glc\\_anaero\\_\\_1 & minspan\\_\\_wt\\_glc\\_anaero\\_\\_2 & minspan\\_\\_wt\\_trp\\_\\_1 & minspan\\_\\_bw\\_delcra\\_glc\\_\\_1 & minspan\\_\\_bw\\_delcra\\_glc\\_\\_2 & minspan\\_\\_bw\\_delcra\\_trp\\_\\_1 & minspan\\_\\_bw\\_delmntr\\_\\_1 & minspan\\_\\_bw\\_delnac\\_ade\\_\\_1 & minspan\\_\\_bw\\_delnac\\_glc\\_\\_1 & cra\\_crp\\_\\_wt\\_ac\\_\\_1 & cra\\_crp\\_\\_wt\\_ac\\_\\_2 & cra\\_crp\\_\\_wt\\_fru\\_\\_1 & cra\\_crp\\_\\_wt\\_fru\\_\\_2 & cra\\_crp\\_\\_delcra\\_ac\\_\\_1 & cra\\_crp\\_\\_delcra\\_ac\\_\\_2 & cra\\_crp\\_\\_delcra\\_fru\\_\\_1 & cra\\_crp\\_\\_delcra\\_fru\\_\\_2 & cra\\_crp\\_\\_delcra\\_glc\\_\\_1 & cra\\_crp\\_\\_delcra\\_glc\\_\\_2 & rpoB\\_\\_wt\\_031\\_\\_1 & rpoB\\_\\_wt\\_044\\_\\_1 & rpoB\\_\\_wt\\_lb\\_\\_1 & rpoB\\_\\_wt\\_lb\\_\\_2 & rpoB\\_\\_rpoBE546V\\_031\\_\\_1 & rpoB\\_\\_rpoBE546V\\_044\\_\\_1 & rpoB\\_\\_rpoBE546V\\_lb\\_\\_1 & rpoB\\_\\_rpoBE546V\\_lb\\_\\_2 & rpoB\\_\\_rpoBE546V\\_glc\\_\\_1 & rpoB\\_\\_rpoBE672K\\_glc\\_\\_1 & rpoB\\_\\_rpoBE672K\\_glc\\_\\_2 & rpoB\\_\\_rpoBE672K\\_lb\\_\\_1 & rpoB\\_\\_rpoBE672K\\_lb\\_\\_2 & crp\\_\\_wt\\_fru\\_\\_1 & crp\\_\\_wt\\_glyc\\_\\_1 & crp\\_\\_wt\\_glyc\\_\\_2 & crp\\_\\_delar1\\_glyc\\_\\_1 & crp\\_\\_delar1\\_glyc\\_\\_2 & crp\\_\\_delar1ar2\\_glyc\\_\\_1 & crp\\_\\_delar1ar2\\_glyc\\_\\_2 & crp\\_\\_delar1ar2\\_glyc\\_\\_3 & crp\\_\\_delar2\\_glyc\\_\\_1 & crp\\_\\_delar2\\_glyc\\_\\_2 & crp\\_\\_delar2\\_glyc\\_\\_3 & crp\\_\\_delcrp\\_fru\\_\\_1 & crp\\_\\_delcrp\\_fru\\_\\_2 & crp\\_\\_delcrp\\_fru\\_\\_3 & crp\\_\\_delcrp\\_glc\\_\\_1 & crp\\_\\_delcrp\\_glc\\_\\_2 & crp\\_\\_delcrp\\_glc\\_\\_3 & crp\\_\\_delcrp\\_glyc\\_\\_1 & crp\\_\\_delcrp\\_glyc\\_\\_2 & crp\\_\\_delcrp\\_glyc\\_\\_3 & glu\\_\\_glu\\_ale3\\_\\_1 & glu\\_\\_glu\\_ale4\\_\\_1 & glu\\_\\_glu\\_ale5\\_\\_1 & glu\\_\\_glu\\_ale6\\_\\_1 & glu\\_\\_glu\\_ale8\\_\\_1 & glu\\_\\_glu\\_ale9\\_\\_1 & glu\\_\\_glu\\_ale10\\_\\_1 & X42c\\_\\_wt\\_42c\\_\\_1 & X42c\\_\\_42c\\_ale1\\_\\_1 & X42c\\_\\_42c\\_ale2\\_\\_1 & X42c\\_\\_42c\\_ale3\\_\\_1 & X42c\\_\\_42c\\_ale4\\_\\_1 & X42c\\_\\_42c\\_ale5\\_\\_1 & X42c\\_\\_42c\\_ale6\\_\\_1 & X42c\\_\\_42c\\_ale8\\_\\_1 & X42c\\_\\_42c\\_ale9\\_\\_1 & X42c\\_\\_42c\\_ale10\\_\\_1 & ssw\\_\\_wt\\_ac\\_\\_1 & ssw\\_\\_wt\\_glc\\_\\_1 & ssw\\_\\_wt\\_glyc\\_\\_1 & ssw\\_\\_wt\\_xyl\\_\\_1 & ssw\\_\\_glc\\_ale1\\_\\_1 & ssw\\_\\_glc\\_ale2\\_\\_1 & ssw\\_\\_glc\\_ale3\\_\\_1 & ssw\\_\\_glyc\\_ale1\\_\\_1 & ssw\\_\\_glyc\\_ale2\\_\\_1 & ssw\\_\\_xyl\\_ale1\\_\\_1 & ssw\\_\\_xyl\\_ale2\\_\\_1 & ssw\\_\\_xyl\\_ale3\\_\\_1 & ssw\\_\\_glc\\_ac\\_ac2\\_\\_1 & ssw\\_\\_glc\\_ac\\_glc1\\_\\_1 & ssw\\_\\_glc\\_ac\\_glc2\\_\\_1 & ssw\\_\\_glc\\_glyc\\_glc\\_\\_1 & ssw\\_\\_glc\\_glyc\\_glyc\\_\\_1 & ssw\\_\\_glc\\_xyl\\_glc\\_\\_1 & ssw\\_\\_glc\\_xyl\\_xyl\\_\\_1 & pgi\\_\\_glu4\\_delpgi\\_\\_1 & pgi\\_\\_pgi\\_ale1\\_\\_1 & pgi\\_\\_pgi\\_ale2\\_\\_1 & pgi\\_\\_pgi\\_ale3\\_\\_1 & pgi\\_\\_pgi\\_ale5\\_\\_1 & pgi\\_\\_pgi\\_ale6\\_\\_1 & pgi\\_\\_pgi\\_ale7\\_\\_1 & pgi\\_\\_pgi\\_ale8\\_\\_1 & ica\\_\\_wt\\_glc\\_\\_1 & ica\\_\\_wt\\_glc\\_\\_2 & ica\\_\\_wt\\_glc\\_\\_3 & ica\\_\\_wt\\_glc\\_\\_4 & ica\\_\\_arg\\_sbt\\_\\_1 & ica\\_\\_arg\\_sbt\\_\\_2 & ica\\_\\_cytd\\_rib\\_\\_1 & ica\\_\\_cytd\\_rib\\_\\_2 & ica\\_\\_gth\\_\\_1 & ica\\_\\_gth\\_\\_2 & ica\\_\\_leu\\_glcr\\_\\_1 & ica\\_\\_leu\\_glcr\\_\\_2 & ica\\_\\_met\\_glc\\_\\_1 & ica\\_\\_met\\_glc\\_\\_2 & ica\\_\\_no3\\_anaero\\_\\_1 & ica\\_\\_no3\\_anaero\\_\\_2 & ica\\_\\_phe\\_acgam\\_\\_1 & ica\\_\\_phe\\_acgam\\_\\_2 & ica\\_\\_thm\\_gal\\_\\_1 & ica\\_\\_thm\\_gal\\_\\_2 & ica\\_\\_tyr\\_glcn\\_\\_1 & ica\\_\\_tyr\\_glcn\\_\\_2 & ica\\_\\_ura\\_pyr\\_\\_1 & ica\\_\\_ura\\_pyr\\_\\_2 & ica\\_\\_wt\\_glc\\_\\_5 & ica\\_\\_wt\\_glc\\_\\_6 & ica\\_\\_bw\\_delpurR\\_cytd\\_\\_1 & ica\\_\\_bw\\_delpurR\\_cytd\\_\\_2 & ica\\_\\_ade\\_glc\\_\\_1 & ica\\_\\_ade\\_glc\\_\\_2 & ytf\\_\\_wt\\_glc\\_\\_1 & ytf\\_\\_wt\\_glc\\_\\_2 & ytf\\_\\_delyafC\\_\\_1 & ytf\\_\\_delyafC\\_\\_2 & ytf\\_\\_delyeiE\\_\\_1 & ytf\\_\\_delyeiE\\_\\_2 & ytf\\_\\_delyiaJ\\_\\_1 & ytf\\_\\_delyiaJ\\_\\_2 & ytf\\_\\_delyieP\\_\\_1 & ytf\\_\\_delyieP\\_\\_2 & ytf\\_\\_wt\\_ph5\\_\\_1 & ytf\\_\\_wt\\_ph5\\_\\_2 & ytf\\_\\_wt\\_ph8\\_\\_1 & ytf\\_\\_wt\\_ph8\\_\\_2 & ytf\\_\\_delybaO\\_\\_1 & ytf\\_\\_delybaO\\_\\_2 & ytf\\_\\_delybaQ\\_\\_1 & ytf\\_\\_delybaQ\\_\\_2 & ytf\\_\\_delybiH\\_\\_1 & ytf\\_\\_delybiH\\_\\_2 & ytf\\_\\_delydcI\\_ph5\\_\\_1 & ytf\\_\\_delydcI\\_ph5\\_\\_2 & ytf\\_\\_delydcI\\_ph8\\_\\_1 & ytf\\_\\_delydcI\\_ph8\\_\\_2 & ytf\\_\\_delyddM\\_\\_1 & ytf\\_\\_delyddM\\_\\_2 & ytf\\_\\_delyheO\\_\\_1 & ytf\\_\\_delyheO\\_\\_2 & fps\\_\\_bw\\_glc\\_\\_1 & fps\\_\\_bw\\_glc\\_\\_2 & fps\\_\\_fps\\_thrA\\_ale1\\_\\_1 & fps\\_\\_fps\\_thrA\\_ale1\\_\\_2 & fps\\_\\_fps\\_thrA\\_ale2\\_\\_1 & fps\\_\\_fps\\_thrA\\_ale2\\_\\_2 & fps\\_\\_fps\\_serB\\_ale1\\_\\_1 & fps\\_\\_fps\\_serB\\_ale1\\_\\_2 & fps\\_\\_fps\\_serB\\_ale4\\_\\_1 & fps\\_\\_fps\\_serB\\_ale4\\_\\_2 & fps\\_\\_fps\\_ptsI\\_ale1\\_\\_1 & fps\\_\\_fps\\_ptsI\\_ale1\\_\\_2 & fps\\_\\_fps\\_ptsI\\_ale3\\_\\_1 & fps\\_\\_fps\\_ptsI\\_ale3\\_\\_2 & pal\\_\\_lyx\\_ale2\\_f6\\_\\_1 & pal\\_\\_lyx\\_ale2\\_\\_1 & pal\\_\\_lyx\\_ale2\\_\\_2 & pal\\_\\_lyx\\_ale4\\_\\_1 & pal\\_\\_lyx\\_ale4\\_\\_2 & pal\\_\\_5drib\\_ale10\\_f18\\_\\_1 & pal\\_\\_5drib\\_ale10\\_f18\\_\\_2 & pal\\_\\_5drib\\_ale10\\_\\_1 & pal\\_\\_arab\\_ale14\\_f9\\_\\_1 & pal\\_\\_arab\\_ale14\\_f9\\_\\_2 & pal\\_\\_arab\\_ale14\\_\\_1 & pal\\_\\_arab\\_ale14\\_\\_2 & pal\\_\\_arab\\_ale16\\_\\_1 & pal\\_\\_arab\\_ale16\\_\\_2 & pal\\_\\_tartr\\_ale26\\_f10\\_\\_1 & pal\\_\\_tartr\\_ale26\\_f10\\_\\_2 & pal\\_\\_tartr\\_ale26\\_\\_1 & pal\\_\\_tartr\\_ale26\\_\\_2 & pal\\_\\_tartr\\_ale28\\_f10\\_\\_1 & pal\\_\\_tartr\\_ale28\\_f10\\_\\_2 & pal\\_\\_tartr\\_ale28\\_\\_1 & pal\\_\\_tartr\\_ale28\\_\\_2 & efeU\\_\\_delmenFentC\\_citr\\_\\_1 & efeU\\_\\_delmenFentC\\_citr\\_\\_2 & efeU\\_\\_delmenFentC\\_\\_1 & efeU\\_\\_delmenFentC\\_\\_2 & efeU\\_\\_menFentC\\_ale39\\_\\_1 & efeU\\_\\_menFentC\\_ale39\\_\\_2 & efeU\\_\\_menFentC\\_ale29\\_\\_1 & efeU\\_\\_menFentC\\_ale29\\_\\_2 & efeU\\_\\_menFentC\\_ale30\\_\\_1 & efeU\\_\\_menFentC\\_ale30\\_\\_2 & efeU\\_\\_menFentCubiC\\_ale36\\_\\_1 & efeU\\_\\_menFentCubiC\\_ale36\\_\\_2 & efeU\\_\\_menFentCubiC\\_ale37\\_\\_1 & efeU\\_\\_menFentCubiC\\_ale37\\_\\_2 & efeU\\_\\_menFentCubiC\\_ale38\\_\\_1 & efeU\\_\\_menFentCubiC\\_ale38\\_\\_2 & PROJECT\\_\\_CONDITION\\_\\_1 & PROJECT\\_\\_CONDITION\\_\\_2\\\\\n",
       "  & <dbl> & <dbl> & <dbl> & <dbl> & <dbl> & <dbl> & <dbl> & <dbl> & <dbl> & <dbl> & <dbl> & <dbl> & <dbl> & <dbl> & <dbl> & <dbl> & <dbl> & <dbl> & <dbl> & <dbl> & <dbl> & <dbl> & <dbl> & <dbl> & <dbl> & <dbl> & <dbl> & <dbl> & <dbl> & <dbl> & <dbl> & <dbl> & <dbl> & <dbl> & <dbl> & <dbl> & <dbl> & <dbl> & <dbl> & <dbl> & <dbl> & <dbl> & <dbl> & <dbl> & <dbl> & <dbl> & <dbl> & <dbl> & <dbl> & <dbl> & <dbl> & <dbl> & <dbl> & <dbl> & <dbl> & <dbl> & <dbl> & <dbl> & <dbl> & <dbl> & <dbl> & <dbl> & <dbl> & <dbl> & <dbl> & <dbl> & <dbl> & <dbl> & <dbl> & <dbl> & <dbl> & <dbl> & <dbl> & <dbl> & <dbl> & <dbl> & <dbl> & <dbl> & <dbl> & <dbl> & <dbl> & <dbl> & <dbl> & <dbl> & <dbl> & <dbl> & <dbl> & <dbl> & <dbl> & <dbl> & <dbl> & <dbl> & <dbl> & <dbl> & <dbl> & <dbl> & <dbl> & <dbl> & <dbl> & <dbl> & <dbl> & <dbl> & <dbl> & <dbl> & <dbl> & <dbl> & <dbl> & <dbl> & <dbl> & <dbl> & <dbl> & <dbl> & <dbl> & <dbl> & <dbl> & <dbl> & <dbl> & <dbl> & <dbl> & <dbl> & <dbl> & <dbl> & <dbl> & <dbl> & <dbl> & <dbl> & <dbl> & <dbl> & <dbl> & <dbl> & <dbl> & <dbl> & <dbl> & <dbl> & <dbl> & <dbl> & <dbl> & <dbl> & <dbl> & <dbl> & <dbl> & <dbl> & <dbl> & <dbl> & <dbl> & <dbl> & <dbl> & <dbl> & <dbl> & <dbl> & <dbl> & <dbl> & <dbl> & <dbl> & <dbl> & <dbl> & <dbl> & <dbl> & <dbl> & <dbl> & <dbl> & <dbl> & <dbl> & <dbl> & <dbl> & <dbl> & <dbl> & <dbl> & <dbl> & <dbl> & <dbl> & <dbl> & <dbl> & <dbl> & <dbl> & <dbl> & <dbl> & <dbl> & <dbl> & <dbl> & <dbl> & <dbl> & <dbl> & <dbl> & <dbl> & <dbl> & <dbl> & <dbl> & <dbl> & <dbl> & <dbl> & <dbl> & <dbl> & <dbl> & <dbl> & <dbl> & <dbl> & <dbl> & <dbl> & <dbl> & <dbl> & <dbl> & <dbl> & <dbl> & <dbl> & <dbl> & <dbl> & <dbl> & <dbl> & <dbl> & <dbl> & <dbl> & <dbl> & <dbl> & <dbl> & <dbl> & <dbl> & <dbl> & <dbl> & <dbl> & <dbl> & <dbl> & <dbl> & <dbl> & <dbl> & <dbl> & <dbl> & <dbl> & <dbl> & <dbl> & <dbl> & <dbl> & <dbl> & <dbl> & <dbl> & <dbl> & <dbl> & <dbl> & <dbl> & <dbl> & <dbl> & <dbl> & <dbl> & <dbl> & <dbl> & <dbl> & <dbl> & <dbl> & <dbl> & <dbl> & <dbl> & <dbl> & <dbl> & <dbl> & <dbl> & <dbl> & <dbl> & <dbl> & <dbl> & <dbl> & <dbl> & <dbl> & <dbl> & <dbl> & <dbl> & <dbl> & <dbl> & <dbl> & <dbl> & <dbl> & <dbl> & <dbl> & <dbl> & <dbl> & <dbl> & <dbl> & <dbl> & <dbl> & <dbl> & <dbl>\\\\\n",
       "\\hline\n",
       "\tb0002 & -0.089117631 &  0.089117631 &  0.9183148 &  1.18271135 & -0.005214733 & -0.41744767 & -1.5754562 & -1.12139093 &  0.23276803 &  0.2101154 & -0.17178324 & -0.1589965 & -0.1728843 & -0.3605714 & -0.24530462 & -0.22723404 &  0.08171054 &  0.18317727 & -4.4726667 & -4.5175723 & -2.9197183 & -3.1011509 & -4.3060283 & -4.2839304 & -4.7257735 & -4.6094045 &  0.12900265 &  0.18050086 & -1.4698099 & -1.4828475 & -1.22228417 & -1.13010373 &  0.4063286 &  0.45386079 & -0.2032387 & -0.18410234 & -1.1078072 & -1.1470367 &  0.6494515 &  0.6710321 & -0.07838785 &  0.61254068 &  0.287288891 &  0.32069901 &  0.4228704 &  0.42829290 &  0.2750021 &  0.3541675 & -0.1505166 &  0.01671877 & -0.07707361 &  0.31396928 &  0.29599001 & -3.49759305 & -3.6886214 & -2.6128301 & -2.72107093 & -1.96092692 & -2.0144327 & -1.240483222 & -1.22639574 & -0.5139383 & -0.53078439 & -3.631111 & -3.836352 & -5.057322 & -5.0382988 & -2.71279655 & -0.9819781 & -1.106605880 & -1.19008847 & -1.1871003 & -0.539791759 & -0.003011333 & -2.4220015 & -0.93875501 & -0.8602280 & -1.5821119 & -1.2310875 &  1.7183322 & -1.53033271 & -2.1348966 & -2.1916733 &  0.3395876 &  0.03440383 & -3.7549855 & -3.6933197 &  0.9078605 &  0.768169675 &  0.20080307 &  0.26613293 & -1.1994935 & -0.3423810 & -5.1534079 & -5.1630359 & -1.27009593 & -1.10200066 & -4.1702850 & -4.21018394 & -0.20352151 & -0.09743434 & -0.09933339 & -4.229362365 & -4.2044586 & -0.6434896 & -0.9206636 & -1.0034951 & -0.4411744 & -1.46318487 & -0.4804798 & -0.48789162 & -0.4129893 & -2.1774366 & -2.0813731 & -2.3132808 &  0.5813378 &  0.46521876 &  0.5380685 & -0.02773745 & -0.00103164 &  0.02891387 &  0.09741213 &  0.21158012 &  0.39388169 & -0.2378344 & -0.0428124019 &  0.1023722 &  0.4886724 & -0.7970738 & -0.3192844 & -0.1767013 &  0.6222085 & -2.4911420 &  0.212966994 & -0.2207273 &  0.28419889 & -0.63579198 & -4.3983534 & -0.1020588 &  0.10025949 & -0.19018128 & -5.7976868 & -0.89829156 & -4.8913224 &  1.511588 & -0.9140547 & -1.2573378 & -1.9028367 & -0.13979033 & -1.5327885 & -1.48127683 & -1.6074087 & -1.73505722 & -2.8117868 & -0.9158069 & -3.8730366 & -0.7686943 & -1.0985063 & -1.42631635 & -1.39151065 & -1.7634579 & -1.8067785 & -1.85306012 & -1.51639186 & -1.7164760 & -1.74475042 & -0.29670782 & -0.8453785 &  0.5790583 &  0.5541084 & -0.05778306 & -0.20786736 &  1.3595250 &  1.32928729 & -5.639232 & -5.6298377 & -3.9202562 & -4.0122974 &  1.83983720 &  1.8916069 & -0.13271922 & -0.05544456 & -0.10345198 & -0.15578556 & -0.71655521 & -0.5435774 &  0.03499722 &  0.028613362 & -0.14897126 &  0.04337754 &  0.60059667 &  0.6369492 & -0.022637973 &  0.05958221 &  0.36254889 &  0.4656929 & -1.4010367 & -1.3155002 &  0.2480646 &  0.31661914 & -2.4377599 & -2.6278289 & -0.5130544 & -0.04558176 & -1.5916773 & -1.1768635 & -0.54478090 & -0.12516815 &  0.078138955 & -0.07385112 &  0.12724479 &  0.06769022 & -2.469508 & -2.24307798 &  0.05385081 &  0.031259568 &  0.30788358 & -0.5130195 & -0.05448069 & -0.12542252 & 0.17186421 &  0.093033045 &  0.08631891 &  0.04181046 & -2.4738047 & -2.3369134 & -0.34614934 & -0.568817716 & -15.9683606 & -13.1101276 & -15.80554346 & -15.9683606 & -0.5354178 & -0.471021103 & -2.1827501 & -1.9468058 & -1.75166499 & -1.45847984 & -1.44686322 & -1.5026764 & -2.0791217 & -1.3534053 & -1.3171259 & -1.3534053 & -1.3171259 & -4.4973089 & -4.4147816 & -3.8015422 & -1.3301282 & -1.0954721 & -0.7815540 & -0.8441503 & -2.9187237 & -3.1337955 & -3.9588016 & -5.1626599 & -3.5200282 & -3.1147269 & -4.1008685 & -5.507457 & -4.0030677 & -4.46147343 &  0.24980769 &  0.3623802 & -0.8352663 & -0.6270478 & -0.85426879 & -1.23510515 & -1.1499678 & -1.1424106 &  0.11558032 &  0.147376357 &  0.87741842 &  0.9488214 &  1.1730629 &  1.2332341 &  0.61745377 &  0.6987513 & -5.411560 & -5.706102\\\\\n",
       "\tb0003 & -0.077533178 &  0.077533178 &  1.3769639 &  1.92511093 &  0.443755597 &  0.18526277 & -1.2588430 & -0.40091531 &  0.61825508 &  0.5651921 &  0.41434512 &  0.5233055 &  0.4439122 &  0.5776586 &  0.44656801 &  0.37516399 &  0.60412777 &  0.71296883 & -3.2759307 & -3.2462063 & -2.1195399 & -2.0516946 & -3.0000356 & -3.1537966 & -3.0125322 & -3.1075037 & -0.01491559 &  0.10292549 & -1.2352192 & -1.3838758 & -1.16029505 & -1.03543469 &  0.2539785 &  0.74072635 & -0.1198763 & -0.04217033 & -0.9463114 & -0.9824288 &  0.7073955 &  0.8204858 &  0.16337845 &  0.57368389 &  1.349121091 &  1.33089281 &  1.4307715 &  1.27889855 &  1.2578446 &  1.1632738 & -0.2050994 & -0.90843231 & -0.47985794 &  0.01659664 &  0.01519502 & -2.53582034 & -2.3749802 & -2.1438270 & -2.20190571 & -1.49086915 & -1.5506421 & -1.240370310 & -1.14184214 & -0.3736934 & -0.41024081 & -2.492824 & -2.685040 & -3.870922 & -3.7907344 & -2.99234410 & -0.9810143 & -0.945924790 & -1.24080043 & -1.0217603 & -0.227869634 &  0.176958714 & -2.0578264 & -0.64690293 & -0.5510347 & -1.8220417 & -0.5222501 &  1.1749585 & -1.59850771 & -2.2955041 & -2.4294380 & -0.5047906 & -0.32437489 & -2.6916185 & -2.8577756 &  1.3389687 &  1.325186773 &  0.96738567 &  0.86973143 & -0.8494019 & -0.2668440 & -3.8486995 & -3.5586833 & -1.05629579 & -0.64869855 & -3.4062771 & -3.35133605 & -0.25447034 &  0.24572005 &  0.24373629 & -3.929018472 & -4.0343561 & -0.5123035 & -0.8227744 & -0.7864519 & -0.5748542 & -0.64144502 & -0.7365165 & -0.75515768 & -0.8185260 & -1.4171177 & -1.6329694 & -1.8506263 &  0.4020819 &  0.37683615 &  0.2587677 & -0.02678508 & -0.07710309 & -0.16269526 & -0.02055904 &  0.07498904 &  0.13887278 & -0.2158167 & -0.0380705067 &  0.2606176 &  0.3530259 & -1.1180664 & -0.5424615 & -0.2630705 &  0.4342532 & -2.3981373 & -0.356860403 & -0.1396497 & -0.64393312 & -0.65424776 & -3.1764578 &  0.4008591 &  0.07704129 &  0.58244082 & -4.6226698 & -0.98438064 & -3.0079563 &  2.040705 & -1.0247585 & -1.0004281 & -1.8426058 & -0.16155266 & -1.4099501 & -1.11294634 & -1.2873195 & -1.43717810 & -2.7349530 & -0.3803173 & -3.5448940 & -0.4064736 & -0.7459771 & -1.14939448 & -1.09751203 & -1.7544129 & -1.8846965 & -2.13403956 & -1.59582560 & -1.7358924 & -1.80999489 & -0.39688450 & -1.0461573 &  0.3042040 &  0.2939600 &  0.09795962 & -0.28316455 &  1.5260685 &  1.33880518 & -3.772816 & -3.9123971 & -4.0126110 & -3.9442349 &  1.33607517 &  1.3593978 & -0.27527964 & -0.18194584 &  0.00750349 & -0.03666431 & -0.87809357 & -0.7291543 & -0.10873489 & -0.083817245 & -0.13170256 & -0.08446452 &  0.45230273 &  0.5969614 & -0.003325273 &  0.07195907 &  0.37110148 &  0.2653765 & -1.2702368 & -1.0430946 &  0.1627450 &  0.11375794 & -2.5130642 & -2.6481321 & -1.3305029 & -0.42452006 & -1.8049962 & -1.3682974 &  0.26372272 &  0.33934303 &  0.003759348 & -0.17970588 & -0.03048641 &  0.14143367 & -2.318110 & -1.94105554 &  0.03335324 & -0.002888335 & -0.04407935 & -0.3119346 & -0.18886826 & -0.23695750 & 0.17193256 &  0.001508512 & -0.08159895 & -0.08168503 & -2.3819550 & -2.0490028 & -0.30521936 & -0.461284502 &   1.0809119 &   1.0934109 &   0.96084047 &   1.0059927 & -0.4783375 & -0.445040878 & -2.0583974 & -1.9392453 & -1.41929150 & -1.27345897 & -1.30445620 & -1.2232188 & -1.7584464 & -1.0971005 & -0.9208114 & -1.0971005 & -0.9208114 & -3.6528595 & -3.3946610 & -3.1314857 & -1.0437742 & -0.8633293 & -0.6516109 & -0.6279995 & -2.7629214 & -2.7330419 & -3.1648843 & -3.8845270 & -2.8197760 & -2.5599423 & -3.5331422 & -4.075682 & -3.5244366 & -3.62095156 &  0.06567227 &  0.2207368 & -1.1885430 & -1.1061048 & -0.16465311 & -0.42288256 & -0.4459448 & -0.5086011 & -0.22372463 & -0.111296203 &  0.64492832 &  0.6346146 &  0.8000146 &  0.8209372 &  0.22348067 &  0.4253055 & -4.867040 & -5.068703\\\\\n",
       "\tb0004 & -0.093912910 &  0.093912910 & -0.2924293 &  0.17196223 & -0.382307295 & -0.78773599 & -2.7675927 & -2.27619168 & -0.68501369 & -0.7145841 & -0.54523863 & -0.6576107 & -0.6046764 & -0.5824427 & -0.76478682 & -0.63248366 & -0.36301871 & -0.39440635 & -4.3788095 & -4.2371898 & -2.9715124 & -2.9829726 & -4.1846273 & -4.3173332 & -4.3293953 & -4.2975356 & -0.55811710 & -0.40967266 & -1.6259722 & -1.4962840 & -1.54019514 & -1.37001345 & -0.5658034 & -0.73159568 & -0.5053844 & -0.54196394 & -1.2479046 & -1.3597196 &  0.5064882 &  0.4713137 & -0.65933436 &  0.09474237 & -0.213229783 & -0.20599196 & -0.0130268 & -0.07373604 & -0.2478663 & -0.2497491 & -0.9458114 & -0.83149704 & -1.03000630 & -0.39979704 & -0.38798724 & -3.05428984 & -3.1072677 & -2.7386336 & -2.71233328 & -1.62634066 & -1.6238926 & -1.120120386 & -1.13916683 & -0.5108664 & -0.30540415 & -4.157188 & -4.533691 & -5.168163 & -5.2889511 & -2.65022001 & -0.6740504 & -0.925987719 & -1.07226915 & -1.0768616 & -0.363422222 & -0.584038856 & -1.6544561 & -0.79444835 & -0.8869560 & -1.8248758 & -0.5329050 &  1.0987580 & -1.44481336 & -2.8769686 & -2.8359991 & -0.7761026 & -1.01926487 & -4.3232844 & -4.0784531 &  0.1710296 & -0.004577973 & -0.33586505 & -0.16411435 & -1.2011260 & -0.5776365 & -3.8085207 & -3.8286892 & -1.07330857 & -0.88314785 & -3.7884311 & -3.69782486 & -0.59593971 &  0.31176342 &  0.32022262 & -4.135010510 & -4.0939219 & -0.4386398 & -0.7470841 & -0.7817455 & -0.7587423 & -0.82821807 & -0.7756848 & -0.88950378 & -0.8496712 & -1.0808352 & -1.3402234 & -1.7284414 &  0.1696071 &  0.08619655 &  0.0473221 & -0.29507653 & -0.22632056 & -0.33664958 & -0.22874223 & -0.30577846 & -0.06431634 & -0.2995440 & -0.1564985782 &  0.2428704 &  0.3504535 & -1.0963736 & -0.6155501 & -0.3245518 &  0.1803928 & -2.3994089 & -0.581063632 & -0.7139111 & -1.40157875 & -0.60702733 & -3.4045038 & -0.5947707 & -0.08208107 & -0.43819051 & -4.7436035 & -1.07242032 & -2.7616246 &  1.922828 & -0.7181075 & -1.1992696 & -1.7471681 & -0.18198502 & -1.3213967 & -1.67691769 & -1.5356341 & -1.68191552 & -2.9510327 & -0.6487297 & -3.1553539 & -0.8439273 & -1.3049768 & -1.33405959 & -1.16806262 & -1.9996265 & -2.2005497 & -2.33592765 & -1.91120853 & -1.8976327 & -2.20962688 & -0.80079217 & -1.2966309 &  0.6084598 &  0.6275729 & -0.03090217 & -0.09479561 &  1.3297334 &  1.33357291 & -3.875746 & -3.8624987 & -4.3001040 & -4.6507675 &  1.69114515 &  1.7272417 &  0.02557954 &  0.10645438 & -0.10794313 & -0.08245531 & -0.58400836 & -0.4536508 & -0.08374525 &  0.007405238 &  0.07034131 &  0.19555808 &  0.59322755 &  0.8254732 &  0.247052379 &  0.20100911 &  0.48261028 &  0.4688449 & -0.5438754 & -0.4379558 & -0.1956355 & -0.18017489 & -2.7622906 & -2.7902639 & -2.0620653 & -0.75891811 & -1.9946866 & -1.7696690 &  0.11747470 & -0.04887663 & -0.115875750 & -0.24203686 & -0.05983403 &  0.03249062 & -2.691847 & -1.75709582 &  0.03717469 &  0.056319894 & -0.33500011 & -0.7641406 & -0.12574652 & -0.23245038 & 0.02086765 & -0.059111768 &  0.09382348 &  0.10531869 & -2.5109543 & -1.8034037 & -0.09870585 & -0.086399533 &   1.2575046 &   1.2527805 &   1.00850410 &   1.1044386 & -0.2840538 & -0.364984385 & -2.0407238 & -2.0729347 & -1.29092300 & -1.19898097 & -1.06549621 & -1.0033338 & -2.1007847 & -0.8807983 & -0.6771134 & -0.8807983 & -0.6771134 & -3.8848779 & -3.8008476 & -3.0439490 & -1.1966776 & -1.1284835 & -0.5304129 & -0.5180388 & -2.4624938 & -2.6850889 & -3.3333690 & -4.0800377 & -2.9946923 & -2.6088294 & -3.7116685 & -4.532084 & -3.5017806 & -3.67307244 &  0.16292378 &  0.2108779 & -1.5037255 & -1.4466914 &  0.17262657 & -0.01968762 & -0.2667510 & -0.3254931 &  0.02824033 &  0.092312719 &  0.69731654 &  0.6531863 &  0.7571672 &  0.8394729 &  0.42305489 &  0.4920164 & -5.556867 & -5.690071\\\\\n",
       "\tb0005 &  0.041551874 & -0.041551874 & -1.2481785 & -1.37226160 &  0.618583216 &  0.17826538 & -2.3953802 & -2.20897856 &  0.34675653 & -0.2180378 & -1.45173734 & -1.3891837 & -1.8044241 & -1.6296205 & -1.93030002 & -1.51092100 & -1.45761589 & -1.33731126 & -3.2895414 & -2.9604268 & -3.8763618 & -2.7771860 & -3.9467203 & -2.7202109 & -3.4231123 & -3.0739961 & -1.90800718 & -1.28939980 & -2.3837074 & -2.3911202 & -1.99652430 & -2.23653200 & -3.1397152 & -1.91851495 & -3.0297739 & -3.16651687 & -3.0581782 & -3.7767194 & -0.5641224 & -1.1452777 & -2.17468971 & -1.24136583 & -0.330648432 & -0.21420020 & -0.1844781 & -0.01310913 & -0.8344192 &  0.0504477 & -3.2208724 &  0.09366728 & -0.09324507 & -0.10533571 & -0.22930827 & -1.52890656 & -1.3631597 & -2.6157451 & -2.26042884 & -0.72884681 & -1.3858982 & -0.635687076 & -0.45484986 & -0.5643662 & -0.02592294 & -4.591017 & -4.422405 & -3.450071 & -3.0932565 & -0.97495442 & -0.1209570 & -1.298480291 & -0.86490350 & -0.5138334 &  0.003779334 & -0.708113277 & -1.9046666 & -0.83825535 & -0.3808619 & -1.4521046 & -0.3181548 &  0.7476951 & -2.25563204 & -2.6759334 & -2.2590383 & -0.4785483 & -0.18075682 & -4.4565347 & -3.8744591 & -1.4510964 & -0.902833170 & -0.65974367 & -0.69226114 & -1.1183620 & -0.3754930 & -6.5432419 & -6.1769853 & -0.37336585 & -0.09586021 & -4.3214667 & -2.71633455 &  1.82412521 &  1.04893646 &  1.05561986 & -3.845125934 & -2.9774835 & -0.6994432 & -1.6244438 & -1.5905037 & -3.6302955 & -3.05917722 & -2.3536028 & -3.03319401 & -2.6867442 & -3.7000872 & -3.8763136 & -3.7715191 & -0.5788222 & -0.67555813 & -1.0798739 & -2.01021268 & -2.46666368 & -2.52204996 & -2.01102848 & -1.50728003 & -1.54686360 &  0.0311368 &  0.1055558522 &  0.6720329 &  1.5146142 & -0.7581839 &  0.5194816 &  0.1907787 & -1.1996413 & -2.2183655 & -0.865564572 &  0.1860658 & -0.87700392 & -0.70389365 & -0.5036353 &  0.1877724 & -0.45202265 & -0.26199471 & -3.7222499 & -1.90194226 & -0.5224367 &  1.380956 &  1.4778327 & -0.1655986 & -0.1185841 &  0.17731857 & -0.3295922 &  0.76187923 &  0.8261182 & -0.61302584 & -2.8848408 &  1.2776881 & -1.8904186 &  0.4374543 & -0.3313798 & -0.01036241 &  0.42540283 & -2.7493785 & -0.8397304 & -2.30383743 & -0.92188537 & -2.1700983 &  0.41580841 &  0.25164238 & -0.2936700 & -0.8073889 & -0.2832738 &  0.07048291 & -0.63671492 & -0.7068069 & -0.43526862 & -4.456469 & -4.5616617 & -2.0359690 & -1.6788787 & -0.03011635 & -0.1999107 & -0.41144013 & -0.09509696 & -1.12827824 & -1.50788908 & -1.62627809 & -1.6016698 & -2.55990053 & -2.060277683 & -0.68737985 & -0.99589186 &  0.01949911 & -0.9569956 & -0.515204380 & -0.50885674 &  0.05851692 & -0.4119485 & -0.8970902 & -1.0937909 & -0.6242437 & -1.38273040 & -3.0765498 & -2.9743529 & -3.0015991 & -1.32771739 & -2.4194740 & -2.3359715 & -0.32616471 & -0.64580250 & -0.935764833 & -0.82794350 & -0.62971221 & -1.20556500 & -2.330471 & -2.69653183 & -0.61493146 & -0.882943052 & -1.34204163 & -1.0682032 & -0.78066100 & -0.96867875 & 0.10026922 & -0.021986897 & -0.60702739 & -0.70758021 & -3.4365390 & -2.5425097 & -0.05488467 & -0.487667168 &   0.9723468 &   1.0603670 &   1.03073335 &   0.9694653 & -1.0852713 & -1.045891511 & -0.0815376 & -0.1844596 & -2.04212821 & -2.07184775 & -0.93204169 & -1.8564518 & -2.1350674 & -0.7433529 & -0.5104795 & -0.7433529 & -0.5104795 & -2.4944362 & -3.0414614 & -2.3218712 & -0.2088759 & -0.1051047 & -1.4049469 & -1.0024966 & -2.5129054 & -0.9295254 & -4.5423513 & -2.9672610 & -2.8320025 & -2.5098572 & -2.6754881 & -3.794518 & -2.9884373 & -3.46533550 & -0.73225842 & -1.4892198 & -2.8484947 & -2.9290854 & -0.06805345 & -0.05145811 & -0.4446691 & -0.8392364 &  0.02715164 &  0.005828401 & -1.77273019 & -2.0944325 & -1.2107147 & -0.7636890 & -0.59631793 & -0.6905919 & -1.690318 & -2.104812\\\\\n",
       "\tb0006 &  0.013109564 & -0.013109564 & -0.1890496 & -0.17900828 & -0.209003939 & -0.13006177 & -0.3172737 & -0.06729892 & -0.06425339 & -0.1286938 &  0.01254649 &  0.1153469 &  0.3345536 & -0.0640231 &  0.01141016 &  0.01610768 &  0.07146870 & -0.08529286 &  0.7472333 &  0.9844454 &  0.3164501 &  0.2107439 &  0.5313673 &  0.7141290 &  0.4452606 &  0.4096358 &  0.17995006 &  0.01579659 &  0.0768872 & -0.2457152 &  0.03176924 & -0.06088502 &  0.2245386 &  0.08532279 &  0.3170455 &  0.19498548 &  0.3279350 &  0.5238989 &  0.2637092 &  0.1316438 &  0.47643271 &  0.41249954 & -0.009591181 &  0.06463012 &  0.1179556 & -0.06943786 &  0.2932766 &  0.2618162 & -0.3115552 &  0.13070676 & -0.03163920 & -0.48794996 & -0.45432229 &  0.08970867 &  0.1297729 & -0.5341242 & -0.67340238 & -0.71839409 & -0.9098606 &  0.005071997 & -0.09132196 & -0.5358184 & -0.20229042 & -1.142885 & -1.272417 & -1.044871 & -0.8885045 &  0.08230485 & -0.1220558 & -0.009587738 & -0.06616719 & -0.4423462 & -0.884768134 & -0.992594308 & -0.6116652 & -0.04284947 & -0.2103449 & -0.6894108 & -0.4504877 & -0.6464560 &  0.19855539 & -0.9521995 & -0.8757243 & -0.6562544 & -0.35714080 & -0.4658922 & -0.2831215 &  0.1233532 &  0.070672346 &  0.03843056 &  0.04965531 & -0.4586064 & -0.3862383 & -0.4010156 & -0.4327322 &  0.07458531 &  0.32465165 &  0.1507917 &  0.01405768 & -0.03450458 &  0.07501173 &  0.23707114 & -0.004444215 & -0.1610503 & -0.3587498 & -0.7123349 & -0.5498514 &  0.3038036 &  0.05544267 &  0.6609114 &  0.53142934 &  0.7588019 & -0.2758329 & -0.4568904 & -0.1598029 &  0.4318188 &  0.62919303 &  0.2943542 &  0.86941804 &  0.75210603 &  0.68462586 &  0.42282686 &  0.46430285 &  0.46559828 &  0.1913957 & -0.1305023455 & -0.2640118 & -0.1928882 &  0.1450633 &  0.3867182 & -0.3370479 &  0.5913860 & -0.3583183 & -0.258337628 & -0.2366015 & -0.07874643 &  0.05630632 & -1.0815019 &  0.2017314 &  0.42571183 & -0.08456577 & -0.4490674 &  0.12958071 & -1.0383274 & -2.338258 & -0.1266503 & -0.6158935 & -0.4535381 & -0.05158948 & -0.8122929 &  0.05190036 & -0.2712875 & -0.08295606 & -0.4256971 &  0.4875366 & -0.5094932 & -0.3936134 & -0.4467205 & -0.01603444 & -0.35161128 &  0.5102043 &  0.3651076 &  0.93116852 &  0.10176496 &  0.2804585 & -0.05995607 &  0.02576026 & -0.8804547 & -0.2892888 & -0.3288945 & -0.13444241 &  0.24499122 & -1.2662052 & -0.91935353 & -1.151516 & -0.9076409 & -0.6540826 & -1.2824409 & -0.19075512 & -0.1728489 & -0.10757804 & -0.42754403 &  0.36497955 &  0.23972722 &  0.04883176 & -0.1049905 & -0.26383003 & -0.436681168 &  0.04874141 & -0.16411869 &  0.08552285 &  0.1317449 & -0.027936938 &  0.06529467 &  0.28296191 &  0.5618297 &  0.4696183 &  0.5685392 & -0.3351158 &  0.05262734 & -0.1159904 & -0.2789525 &  0.3279258 & -0.03070013 & -0.3894357 & -0.1680606 &  0.09513879 & -0.13139391 &  0.325091544 &  0.25646715 &  0.20623579 &  0.16208329 & -0.410233 &  0.03799263 &  0.15082963 &  0.364034276 & -0.32156551 & -0.1345964 &  0.13675513 &  0.09912991 & 0.18515442 &  0.033721757 &  0.41310931 &  0.44902335 & -0.5274604 &  0.0702724 &  0.53919029 &  0.517480240 &   0.6775227 &   0.4485401 &   0.41334345 &   0.2427350 &  0.7120711 &  0.729635208 &  0.6953425 &  1.0274985 &  0.04929965 & -0.03777615 & -0.15591165 & -0.1214092 & -0.7335354 & -0.6804268 & -0.9898795 & -0.6804268 & -0.9898795 & -0.7112486 & -1.0310145 & -0.5202218 & -0.4773378 & -0.4381884 & -0.5178018 & -0.6148254 & -0.6202669 & -0.1040902 & -0.3120031 & -0.4698482 &  0.1608225 & -0.2203035 & -0.8759198 & -1.057526 & -0.4504764 & -0.21655731 &  0.05673660 & -0.1037613 &  0.3003059 &  0.3837235 &  0.43507189 &  0.30144869 &  2.1129759 &  2.0424325 &  1.77571316 &  1.680961056 &  0.64552964 &  0.6619830 &  0.6079769 &  0.5887310 &  1.66063764 &  1.7291119 & -3.593377 & -3.734627\\\\\n",
       "\tb0007 &  0.009798498 & -0.009798498 &  0.1835152 & -0.02226242 & -0.320620325 & -0.04944859 &  0.2803582 &  0.23628149 & -0.18718075 & -0.1088121 &  0.11237308 & -0.2143125 & -0.5495150 & -0.2229877 & -0.36630924 &  0.14955683 &  0.09197837 & -0.52664403 &  0.8258954 &  0.9025600 &  0.7769389 &  0.6103312 &  0.3907047 &  0.3585408 &  1.1621861 &  0.8518251 &  1.15204584 &  0.60776710 & -0.1311707 &  0.4059662 &  1.35686146 &  0.73479192 &  0.1437186 & -0.53021452 &  0.1899519 & -0.51478211 & -0.3474489 &  0.5094405 & -0.3701310 & -0.7940468 &  0.96218464 &  0.07971304 & -0.954651320 & -0.81565997 & -1.4443640 & -1.13692958 & -0.4158020 & -0.4927333 &  0.1936440 &  1.32997877 &  1.30613891 &  1.24491402 &  1.20510673 &  4.07190421 &  4.0501338 &  0.3431099 & -0.07343562 &  0.01254282 & -0.2801967 & -0.409924083 &  0.12649927 &  0.3839069 &  0.38973358 &  1.253949 &  1.172632 &  2.002237 &  1.6230663 & -0.33623264 &  0.2984260 &  0.485126125 &  0.64705594 &  0.6607812 &  1.557700943 &  2.843011708 &  3.0435593 &  2.74568463 &  2.5908059 &  2.9554393 &  2.6473479 &  0.8409417 &  0.04698245 &  0.7862163 &  0.7933464 &  0.6158601 &  1.18860488 & -0.4967011 & -0.2575734 & -0.5231055 & -0.366548597 & -0.66441986 & -0.20481062 &  0.4067759 & -0.3955481 &  0.9745436 &  0.4031127 &  0.39509070 &  0.03040216 &  0.7333190 &  0.26839937 & -0.47560815 & -0.71099684 & -1.05590385 & -0.495564257 & -0.3654203 & -0.1935614 & -0.3125839 & -0.5790550 &  3.0418754 &  3.08985128 &  0.4867567 &  0.09417775 &  0.1772730 &  1.7425931 &  1.4278137 &  1.8424624 &  1.1837176 &  0.32642290 &  0.5614859 &  0.32963089 &  0.19312109 &  0.24189894 &  0.50805659 &  0.20999880 &  0.01918634 &  3.5332469 &  0.0002940524 & -0.9897740 & -2.1374411 &  3.0227049 &  2.8651231 &  3.4421159 &  0.1830797 &  3.9331417 & -0.004325243 & -0.7846001 &  2.14256754 & -0.41447001 &  2.7693186 &  2.6814279 & -0.44317769 &  3.32084242 &  0.7087978 & -0.01833088 &  2.7658537 &  1.804312 &  1.3053924 &  3.0554471 &  3.4285152 &  1.09174589 &  3.8921098 &  2.15419284 &  2.1805776 &  1.73420306 &  0.2559065 &  0.4707439 &  3.6452756 &  3.1219878 &  1.2296205 &  2.18517418 & -0.07268035 & -0.2335254 & -0.3684172 &  0.06719115 &  0.06679372 & -0.5464064 & -0.58746945 & -0.01141557 & -0.6972090 & -1.5006573 & -1.2542244 & -0.73513248 & -0.30576402 &  0.1646563 & -0.03383973 &  1.167819 &  1.3354096 &  0.3875910 &  0.6189166 & -1.38776576 & -1.1106087 & -1.36138057 & -0.94450876 &  0.65664324 &  0.76494135 & -0.34122053 & -0.6598089 &  0.70735479 &  0.842964424 & -0.64103438 & -0.88335685 & -0.55410504 & -0.8337840 & -0.336390003 &  0.06315286 & -0.03366394 & -0.5709466 & -0.4896609 & -0.4830261 &  1.0368796 &  1.19308970 &  3.0620808 &  2.9440623 &  0.2723687 &  0.07042622 &  2.9122929 &  2.0891340 &  2.93456727 &  2.94462815 & -0.231139617 & -0.21538817 &  0.18578129 &  0.23000549 &  2.884753 &  2.65817615 &  0.34461326 &  0.461093218 &  2.00100299 &  2.8911573 & -0.50071645 & -0.44336338 & 0.05328864 &  0.519541022 &  1.23185541 &  0.72515261 &  2.5895371 &  3.1247513 &  0.20651964 & -0.003446595 &   0.2913739 &   0.3099504 &   0.06382045 &   0.1479626 &  0.1822881 &  0.002973891 &  1.2138759 &  0.7211640 & -0.16322472 & -0.19498531 & -0.09272839 & -0.3611926 &  0.4556657 &  0.1304701 &  0.2029230 &  0.1304701 &  0.2029230 &  0.9256205 &  0.8891051 &  0.4869929 &  0.6340312 &  0.6094626 &  0.1976892 &  0.1064694 &  0.7375852 &  0.9320750 & -0.7032202 & -0.4934312 & -0.2084173 & -0.6403668 &  0.9977490 &  1.053938 & -0.1018500 & -0.01889877 &  0.93473864 &  1.3385578 &  1.0082037 &  0.9735035 &  3.76243466 &  3.71454853 &  3.5773134 &  3.5921378 &  0.06173173 &  0.161417199 &  0.06073411 &  0.3539447 &  0.1965916 &  0.3485735 & -0.02959551 & -0.2831938 & -2.236483 & -1.967117\\\\\n",
       "\\end{tabular}\n"
      ],
      "text/markdown": [
       "\n",
       "A data.frame: 6 × 280\n",
       "\n",
       "| <!--/--> | control__wt_glc__1 &lt;dbl&gt; | control__wt_glc__2 &lt;dbl&gt; | fur__wt_dpd__1 &lt;dbl&gt; | fur__wt_dpd__2 &lt;dbl&gt; | fur__wt_fe__1 &lt;dbl&gt; | fur__wt_fe__2 &lt;dbl&gt; | fur__delfur_dpd__1 &lt;dbl&gt; | fur__delfur_dpd__2 &lt;dbl&gt; | fur__delfur_fe2__1 &lt;dbl&gt; | fur__delfur_fe2__2 &lt;dbl&gt; | ⋯ ⋯ | efeU__menFentC_ale30__1 &lt;dbl&gt; | efeU__menFentC_ale30__2 &lt;dbl&gt; | efeU__menFentCubiC_ale36__1 &lt;dbl&gt; | efeU__menFentCubiC_ale36__2 &lt;dbl&gt; | efeU__menFentCubiC_ale37__1 &lt;dbl&gt; | efeU__menFentCubiC_ale37__2 &lt;dbl&gt; | efeU__menFentCubiC_ale38__1 &lt;dbl&gt; | efeU__menFentCubiC_ale38__2 &lt;dbl&gt; | PROJECT__CONDITION__1 &lt;dbl&gt; | PROJECT__CONDITION__2 &lt;dbl&gt; |\n",
       "|---|---|---|---|---|---|---|---|---|---|---|---|---|---|---|---|---|---|---|---|---|---|\n",
       "| b0002 | -0.089117631 |  0.089117631 |  0.9183148 |  1.18271135 | -0.005214733 | -0.41744767 | -1.5754562 | -1.12139093 |  0.23276803 |  0.2101154 | ⋯ |  0.11558032 |  0.147376357 |  0.87741842 |  0.9488214 |  1.1730629 |  1.2332341 |  0.61745377 |  0.6987513 | -5.411560 | -5.706102 |\n",
       "| b0003 | -0.077533178 |  0.077533178 |  1.3769639 |  1.92511093 |  0.443755597 |  0.18526277 | -1.2588430 | -0.40091531 |  0.61825508 |  0.5651921 | ⋯ | -0.22372463 | -0.111296203 |  0.64492832 |  0.6346146 |  0.8000146 |  0.8209372 |  0.22348067 |  0.4253055 | -4.867040 | -5.068703 |\n",
       "| b0004 | -0.093912910 |  0.093912910 | -0.2924293 |  0.17196223 | -0.382307295 | -0.78773599 | -2.7675927 | -2.27619168 | -0.68501369 | -0.7145841 | ⋯ |  0.02824033 |  0.092312719 |  0.69731654 |  0.6531863 |  0.7571672 |  0.8394729 |  0.42305489 |  0.4920164 | -5.556867 | -5.690071 |\n",
       "| b0005 |  0.041551874 | -0.041551874 | -1.2481785 | -1.37226160 |  0.618583216 |  0.17826538 | -2.3953802 | -2.20897856 |  0.34675653 | -0.2180378 | ⋯ |  0.02715164 |  0.005828401 | -1.77273019 | -2.0944325 | -1.2107147 | -0.7636890 | -0.59631793 | -0.6905919 | -1.690318 | -2.104812 |\n",
       "| b0006 |  0.013109564 | -0.013109564 | -0.1890496 | -0.17900828 | -0.209003939 | -0.13006177 | -0.3172737 | -0.06729892 | -0.06425339 | -0.1286938 | ⋯ |  1.77571316 |  1.680961056 |  0.64552964 |  0.6619830 |  0.6079769 |  0.5887310 |  1.66063764 |  1.7291119 | -3.593377 | -3.734627 |\n",
       "| b0007 |  0.009798498 | -0.009798498 |  0.1835152 | -0.02226242 | -0.320620325 | -0.04944859 |  0.2803582 |  0.23628149 | -0.18718075 | -0.1088121 | ⋯ |  0.06173173 |  0.161417199 |  0.06073411 |  0.3539447 |  0.1965916 |  0.3485735 | -0.02959551 | -0.2831938 | -2.236483 | -1.967117 |\n",
       "\n"
      ],
      "text/plain": [
       "      control__wt_glc__1 control__wt_glc__2 fur__wt_dpd__1 fur__wt_dpd__2\n",
       "b0002 -0.089117631        0.089117631        0.9183148      1.18271135   \n",
       "b0003 -0.077533178        0.077533178        1.3769639      1.92511093   \n",
       "b0004 -0.093912910        0.093912910       -0.2924293      0.17196223   \n",
       "b0005  0.041551874       -0.041551874       -1.2481785     -1.37226160   \n",
       "b0006  0.013109564       -0.013109564       -0.1890496     -0.17900828   \n",
       "b0007  0.009798498       -0.009798498        0.1835152     -0.02226242   \n",
       "      fur__wt_fe__1 fur__wt_fe__2 fur__delfur_dpd__1 fur__delfur_dpd__2\n",
       "b0002 -0.005214733  -0.41744767   -1.5754562         -1.12139093       \n",
       "b0003  0.443755597   0.18526277   -1.2588430         -0.40091531       \n",
       "b0004 -0.382307295  -0.78773599   -2.7675927         -2.27619168       \n",
       "b0005  0.618583216   0.17826538   -2.3953802         -2.20897856       \n",
       "b0006 -0.209003939  -0.13006177   -0.3172737         -0.06729892       \n",
       "b0007 -0.320620325  -0.04944859    0.2803582          0.23628149       \n",
       "      fur__delfur_fe2__1 fur__delfur_fe2__2 ⋯ efeU__menFentC_ale30__1\n",
       "b0002  0.23276803         0.2101154         ⋯  0.11558032            \n",
       "b0003  0.61825508         0.5651921         ⋯ -0.22372463            \n",
       "b0004 -0.68501369        -0.7145841         ⋯  0.02824033            \n",
       "b0005  0.34675653        -0.2180378         ⋯  0.02715164            \n",
       "b0006 -0.06425339        -0.1286938         ⋯  1.77571316            \n",
       "b0007 -0.18718075        -0.1088121         ⋯  0.06173173            \n",
       "      efeU__menFentC_ale30__2 efeU__menFentCubiC_ale36__1\n",
       "b0002  0.147376357             0.87741842                \n",
       "b0003 -0.111296203             0.64492832                \n",
       "b0004  0.092312719             0.69731654                \n",
       "b0005  0.005828401            -1.77273019                \n",
       "b0006  1.680961056             0.64552964                \n",
       "b0007  0.161417199             0.06073411                \n",
       "      efeU__menFentCubiC_ale36__2 efeU__menFentCubiC_ale37__1\n",
       "b0002  0.9488214                   1.1730629                 \n",
       "b0003  0.6346146                   0.8000146                 \n",
       "b0004  0.6531863                   0.7571672                 \n",
       "b0005 -2.0944325                  -1.2107147                 \n",
       "b0006  0.6619830                   0.6079769                 \n",
       "b0007  0.3539447                   0.1965916                 \n",
       "      efeU__menFentCubiC_ale37__2 efeU__menFentCubiC_ale38__1\n",
       "b0002  1.2332341                   0.61745377                \n",
       "b0003  0.8209372                   0.22348067                \n",
       "b0004  0.8394729                   0.42305489                \n",
       "b0005 -0.7636890                  -0.59631793                \n",
       "b0006  0.5887310                   1.66063764                \n",
       "b0007  0.3485735                  -0.02959551                \n",
       "      efeU__menFentCubiC_ale38__2 PROJECT__CONDITION__1 PROJECT__CONDITION__2\n",
       "b0002  0.6987513                  -5.411560             -5.706102            \n",
       "b0003  0.4253055                  -4.867040             -5.068703            \n",
       "b0004  0.4920164                  -5.556867             -5.690071            \n",
       "b0005 -0.6905919                  -1.690318             -2.104812            \n",
       "b0006  1.7291119                  -3.593377             -3.734627            \n",
       "b0007 -0.2831938                  -2.236483             -1.967117            "
      ]
     },
     "metadata": {},
     "output_type": "display_data"
    }
   ],
   "source": [
    "log_tpm <- log2(final_tpm+1)\n",
    "log_tpm_norm <- log_tpm - rowMeans(log_tpm[,base_cond])\n",
    "head(log_tpm_norm)"
   ]
  },
  {
   "cell_type": "markdown",
   "metadata": {},
   "source": [
    "**MAKE SURE TO USE LOG_TPM_NORM FOR ICA CALCULATIONS**"
   ]
  },
  {
   "cell_type": "code",
   "execution_count": 52,
   "metadata": {},
   "outputs": [],
   "source": [
    "# write.csv(final_tpm, file = '../data/tpm.csv')\n",
    "# write.csv(log_tpm, file = '../data/log_tpm.csv')\n",
    "# write.csv(log_tpm_norm, file = '../data/log_tpm_norm.csv')"
   ]
  },
  {
   "cell_type": "code",
   "execution_count": null,
   "metadata": {},
   "outputs": [],
   "source": []
  }
 ],
 "metadata": {
  "kernelspec": {
   "display_name": "R",
   "language": "R",
   "name": "ir"
  },
  "language_info": {
   "codemirror_mode": "r",
   "file_extension": ".r",
   "mimetype": "text/x-r-source",
   "name": "R",
   "pygments_lexer": "r",
   "version": "3.6.0"
  },
  "toc": {
   "base_numbering": 1,
   "nav_menu": {},
   "number_sections": true,
   "sideBar": true,
   "skip_h1_title": false,
   "title_cell": "Table of Contents",
   "title_sidebar": "Contents",
   "toc_cell": true,
   "toc_position": {},
   "toc_section_display": true,
   "toc_window_display": false
  }
 },
 "nbformat": 4,
 "nbformat_minor": 1
}
