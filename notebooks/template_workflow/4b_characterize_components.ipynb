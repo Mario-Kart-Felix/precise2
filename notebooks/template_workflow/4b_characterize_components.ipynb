{
 "cells": [
  {
   "cell_type": "markdown",
   "metadata": {
    "toc": true
   },
   "source": [
    "<h1>Table of Contents<span class=\"tocSkip\"></span></h1>\n",
    "<div class=\"toc\"><ul class=\"toc-item\"><li><span><a href=\"#Quality-Control\" data-toc-modified-id=\"Quality-Control-1\"><span class=\"toc-item-num\">1&nbsp;&nbsp;</span>Quality Control</a></span></li><li><span><a href=\"#Get-regulator-enrichments-for-each-component\" data-toc-modified-id=\"Get-regulator-enrichments-for-each-component-2\"><span class=\"toc-item-num\">2&nbsp;&nbsp;</span>Get regulator enrichments for each component</a></span></li><li><span><a href=\"#GO-Enrichments\" data-toc-modified-id=\"GO-Enrichments-3\"><span class=\"toc-item-num\">3&nbsp;&nbsp;</span>GO Enrichments</a></span></li><li><span><a href=\"#Sensitivity-Analysis\" data-toc-modified-id=\"Sensitivity-Analysis-4\"><span class=\"toc-item-num\">4&nbsp;&nbsp;</span>Sensitivity Analysis</a></span></li></ul></div>"
   ]
  },
  {
   "cell_type": "markdown",
   "metadata": {},
   "source": [
    "**This notebook is only relevant if you are creating a new compendium for an organism. If you are just appending to PRECISE, use 3b_analyze_new_data.**"
   ]
  },
  {
   "cell_type": "code",
   "execution_count": 4,
   "metadata": {},
   "outputs": [],
   "source": [
    "import sys\n",
    "sys.path.append('../')\n",
    "from icaviz.plotting import *\n",
    "from tqdm import tqdm_notebook as tqdm"
   ]
  },
  {
   "cell_type": "code",
   "execution_count": 5,
   "metadata": {},
   "outputs": [],
   "source": [
    "DATA_DIR = '../data/example_data/'\n",
    "GENE_DIR = '../data/annotation/'"
   ]
  },
  {
   "cell_type": "code",
   "execution_count": 6,
   "metadata": {},
   "outputs": [],
   "source": [
    "ica_data = load_data(X=DATA_DIR+'log_tpm.csv',\n",
    "                     S=DATA_DIR+'S.csv',\n",
    "                     A=DATA_DIR+'A.csv',\n",
    "                     metadata=DATA_DIR+'metadata.csv',\n",
    "                     annotation=GENE_DIR+'gene_info.csv',\n",
    "                     trn=GENE_DIR+'TRN.csv',\n",
    "                     cutoff = 750) # Get correct cut-off score from 3_estimate_thresholds"
   ]
  },
  {
   "cell_type": "markdown",
   "metadata": {},
   "source": [
    "# Quality Control\n",
    "We can use the ICA activation matrix to remove components that relate specifically to experimental noise.\n",
    "If known replicates have activity differences greater than 5 times the standard deviation of the activity vector, these will be flagged."
   ]
  },
  {
   "cell_type": "code",
   "execution_count": 7,
   "metadata": {},
   "outputs": [],
   "source": [
    "from itertools import combinations"
   ]
  },
  {
   "cell_type": "code",
   "execution_count": 8,
   "metadata": {},
   "outputs": [
    {
     "data": {
      "application/vnd.jupyter.widget-view+json": {
       "model_id": "c9cae7a105df4ddc9a817ae6549c4512",
       "version_major": 2,
       "version_minor": 0
      },
      "text/plain": [
       "HBox(children=(IntProgress(value=0, max=164), HTML(value='')))"
      ]
     },
     "metadata": {},
     "output_type": "display_data"
    },
    {
     "name": "stdout",
     "output_type": "stream",
     "text": [
      "\n",
      "[]\n"
     ]
    }
   ],
   "source": [
    "bad_comps = []\n",
    "\n",
    "# Check if replicate activities are significantly different\n",
    "for name,group in tqdm(ica_data.metadata.groupby(['project_id','condition_id'])):\n",
    "    exps = group.index.tolist()\n",
    "    for e1,e2 in combinations(exps,2):\n",
    "        for k in ica_data.A.index:\n",
    "            if abs(ica_data.A.loc[k,e1]-ica_data.A.loc[k,e2]) > 3*np.std(ica_data.A.loc[k]):\n",
    "                bad_comps.append(k)\n",
    "print(bad_comps)"
   ]
  },
  {
   "cell_type": "markdown",
   "metadata": {},
   "source": [
    "# Get regulator enrichments for each component"
   ]
  },
  {
   "cell_type": "code",
   "execution_count": 9,
   "metadata": {},
   "outputs": [],
   "source": [
    "import warnings\n",
    "warnings.filterwarnings('ignore',category=FutureWarning)"
   ]
  },
  {
   "cell_type": "code",
   "execution_count": 15,
   "metadata": {
    "scrolled": false
   },
   "outputs": [
    {
     "data": {
      "application/vnd.jupyter.widget-view+json": {
       "model_id": "c22be91d91ca4ce480e36a12f856522a",
       "version_major": 2,
       "version_minor": 0
      },
      "text/plain": [
       "HBox(children=(IntProgress(value=0, max=74), HTML(value='')))"
      ]
     },
     "metadata": {},
     "output_type": "display_data"
    },
    {
     "name": "stdout",
     "output_type": "stream",
     "text": [
      "\n"
     ]
    },
    {
     "data": {
      "text/html": [
       "<div>\n",
       "<style scoped>\n",
       "    .dataframe tbody tr th:only-of-type {\n",
       "        vertical-align: middle;\n",
       "    }\n",
       "\n",
       "    .dataframe tbody tr th {\n",
       "        vertical-align: top;\n",
       "    }\n",
       "\n",
       "    .dataframe thead th {\n",
       "        text-align: right;\n",
       "    }\n",
       "</style>\n",
       "<table border=\"1\" class=\"dataframe\">\n",
       "  <thead>\n",
       "    <tr style=\"text-align: right;\">\n",
       "      <th></th>\n",
       "      <th>component</th>\n",
       "      <th>TF</th>\n",
       "      <th>log_odds</th>\n",
       "      <th>pvalue</th>\n",
       "      <th>qvalue</th>\n",
       "      <th>precision</th>\n",
       "      <th>recall</th>\n",
       "      <th>f1score</th>\n",
       "      <th>TP</th>\n",
       "      <th>n_genes</th>\n",
       "      <th>n_tf</th>\n",
       "    </tr>\n",
       "  </thead>\n",
       "  <tbody>\n",
       "    <tr>\n",
       "      <th>0</th>\n",
       "      <td>0</td>\n",
       "      <td>gadW</td>\n",
       "      <td>inf</td>\n",
       "      <td>2.192619e-18</td>\n",
       "      <td>5.766588e-16</td>\n",
       "      <td>1.000000</td>\n",
       "      <td>0.466667</td>\n",
       "      <td>0.636364</td>\n",
       "      <td>7.0</td>\n",
       "      <td>7</td>\n",
       "      <td>1.0</td>\n",
       "    </tr>\n",
       "    <tr>\n",
       "      <th>2</th>\n",
       "      <td>0</td>\n",
       "      <td>gadX</td>\n",
       "      <td>inf</td>\n",
       "      <td>1.546235e-14</td>\n",
       "      <td>2.033299e-12</td>\n",
       "      <td>1.000000</td>\n",
       "      <td>0.155556</td>\n",
       "      <td>0.269231</td>\n",
       "      <td>7.0</td>\n",
       "      <td>7</td>\n",
       "      <td>1.0</td>\n",
       "    </tr>\n",
       "    <tr>\n",
       "      <th>1</th>\n",
       "      <td>0</td>\n",
       "      <td>ydeO</td>\n",
       "      <td>5.923492</td>\n",
       "      <td>1.053817e-08</td>\n",
       "      <td>9.238460e-07</td>\n",
       "      <td>0.571429</td>\n",
       "      <td>0.222222</td>\n",
       "      <td>0.320000</td>\n",
       "      <td>4.0</td>\n",
       "      <td>7</td>\n",
       "      <td>1.0</td>\n",
       "    </tr>\n",
       "    <tr>\n",
       "      <th>4</th>\n",
       "      <td>1</td>\n",
       "      <td>Sigma32</td>\n",
       "      <td>inf</td>\n",
       "      <td>3.565445e-17</td>\n",
       "      <td>9.377120e-15</td>\n",
       "      <td>1.000000</td>\n",
       "      <td>0.083969</td>\n",
       "      <td>0.154930</td>\n",
       "      <td>11.0</td>\n",
       "      <td>11</td>\n",
       "      <td>1.0</td>\n",
       "    </tr>\n",
       "    <tr>\n",
       "      <th>3</th>\n",
       "      <td>1</td>\n",
       "      <td>gcvB</td>\n",
       "      <td>4.502378</td>\n",
       "      <td>4.163757e-08</td>\n",
       "      <td>5.475340e-06</td>\n",
       "      <td>0.454545</td>\n",
       "      <td>0.121951</td>\n",
       "      <td>0.192308</td>\n",
       "      <td>5.0</td>\n",
       "      <td>11</td>\n",
       "      <td>1.0</td>\n",
       "    </tr>\n",
       "  </tbody>\n",
       "</table>\n",
       "</div>"
      ],
      "text/plain": [
       "   component       TF  log_odds        pvalue        qvalue  precision  \\\n",
       "0          0     gadW       inf  2.192619e-18  5.766588e-16   1.000000   \n",
       "2          0     gadX       inf  1.546235e-14  2.033299e-12   1.000000   \n",
       "1          0     ydeO  5.923492  1.053817e-08  9.238460e-07   0.571429   \n",
       "4          1  Sigma32       inf  3.565445e-17  9.377120e-15   1.000000   \n",
       "3          1     gcvB  4.502378  4.163757e-08  5.475340e-06   0.454545   \n",
       "\n",
       "     recall   f1score    TP  n_genes  n_tf  \n",
       "0  0.466667  0.636364   7.0        7   1.0  \n",
       "2  0.155556  0.269231   7.0        7   1.0  \n",
       "1  0.222222  0.320000   4.0        7   1.0  \n",
       "4  0.083969  0.154930  11.0       11   1.0  \n",
       "3  0.121951  0.192308   5.0       11   1.0  "
      ]
     },
     "execution_count": 15,
     "metadata": {},
     "output_type": "execute_result"
    }
   ],
   "source": [
    "# Initialize objects\n",
    "list2struct = []\n",
    "\n",
    "all_genes = set(ica_data.S.index)\n",
    "\n",
    "for k in tqdm(ica_data.S.columns):\n",
    "    # Get significant genes\n",
    "    genes = set(ica_data.show_enriched(k).index)\n",
    "\n",
    "    # You can change max_tfs to account for and/or interactions between regulons\n",
    "    enrichments = compute_enrichments(genes, all_genes, \n",
    "                                      ica_data.trn, max_tfs=1, \n",
    "                                      fdr_rate=1e-5)\n",
    "    \n",
    "    enrichments['TF'] = enrichments.index\n",
    "    enrichments['component'] = k\n",
    "    enrichments['n_genes'] = len(genes)\n",
    "\n",
    "    list2struct.append(enrichments.reset_index(drop=True))\n",
    "    \n",
    "DF_enriched = pd.concat(list2struct, sort=False).reset_index(drop=True)\n",
    "DF_enriched = DF_enriched[['component', 'TF', 'log_odds', \n",
    "                           'pvalue', 'qvalue','precision',\n",
    "                           'recall','f1score','TP', 'n_genes','n_tf']]\n",
    "    \n",
    "# Sort by p-value\n",
    "DF_enriched = DF_enriched.sort_values(['component','qvalue'])\n",
    "DF_enriched.head()"
   ]
  },
  {
   "cell_type": "code",
   "execution_count": 16,
   "metadata": {
    "scrolled": true
   },
   "outputs": [
    {
     "name": "stdout",
     "output_type": "stream",
     "text": [
      "Total components: 74\n",
      "Components with regulator enrichments: 55\n",
      "Unique regulators: 84\n"
     ]
    }
   ],
   "source": [
    "print('Total components:',len(ica_data.S.columns))\n",
    "print('Components with regulator enrichments:',len(DF_enriched.drop_duplicates('component')))\n",
    "print('Unique regulators:',len(DF_enriched.TF.unique()))"
   ]
  },
  {
   "cell_type": "code",
   "execution_count": 17,
   "metadata": {},
   "outputs": [],
   "source": [
    "DF_enriched.to_csv(DATA_DIR+'trn_enrichments.csv')"
   ]
  },
  {
   "cell_type": "markdown",
   "metadata": {},
   "source": [
    "# GO Enrichments"
   ]
  },
  {
   "cell_type": "code",
   "execution_count": 18,
   "metadata": {},
   "outputs": [],
   "source": [
    "DF_GO = pd.read_csv('../data/annotation/DF_GO.csv',index_col=0)"
   ]
  },
  {
   "cell_type": "code",
   "execution_count": 19,
   "metadata": {},
   "outputs": [],
   "source": [
    "go_dict = {}\n",
    "for name,group in DF_GO.groupby('go_name'):\n",
    "    genes = set(group.index)\n",
    "    go_dict[name] = genes"
   ]
  },
  {
   "cell_type": "code",
   "execution_count": 24,
   "metadata": {},
   "outputs": [
    {
     "data": {
      "application/vnd.jupyter.widget-view+json": {
       "model_id": "e528224c327f4f809b3c41ea549f34e0",
       "version_major": 2,
       "version_minor": 0
      },
      "text/plain": [
       "HBox(children=(IntProgress(value=0, max=74), HTML(value='')))"
      ]
     },
     "metadata": {},
     "output_type": "display_data"
    },
    {
     "name": "stdout",
     "output_type": "stream",
     "text": [
      "\n"
     ]
    }
   ],
   "source": [
    "enrich_list = []\n",
    "all_genes = set(ica_data.S.index)\n",
    "for k in tqdm(ica_data.names):\n",
    "    \n",
    "    # Get i-modulon genes\n",
    "    ic_genes = set(ica_data.show_enriched(k).index)\n",
    "    \n",
    "    vals = []\n",
    "    \n",
    "    for go,go_genes in go_dict.items():\n",
    "        ((tp,fp),(fn,tn)) = contingency(go_genes,ic_genes,all_genes)\n",
    "        odds,pval = stats.fisher_exact(((tp,fp),(fn,tn)))\n",
    "        vals.append([go,k,tp,len(ic_genes),pval])\n",
    "    df_pvals = pd.DataFrame(vals,columns = ['go_term','component','n_matches','n_genes','pvalue'])\n",
    "    enrich_list.append(FDR(df_pvals,fdr_rate=0.01))\n",
    "go_enrichments = pd.concat(enrich_list).reset_index(drop=True)\n",
    "go_enrichments.component = go_enrichments.component.astype(int)"
   ]
  },
  {
   "cell_type": "code",
   "execution_count": 27,
   "metadata": {},
   "outputs": [
    {
     "data": {
      "text/html": [
       "<div>\n",
       "<style scoped>\n",
       "    .dataframe tbody tr th:only-of-type {\n",
       "        vertical-align: middle;\n",
       "    }\n",
       "\n",
       "    .dataframe tbody tr th {\n",
       "        vertical-align: top;\n",
       "    }\n",
       "\n",
       "    .dataframe thead th {\n",
       "        text-align: right;\n",
       "    }\n",
       "</style>\n",
       "<table border=\"1\" class=\"dataframe\">\n",
       "  <thead>\n",
       "    <tr style=\"text-align: right;\">\n",
       "      <th></th>\n",
       "      <th>go_term</th>\n",
       "      <th>component</th>\n",
       "      <th>n_matches</th>\n",
       "      <th>n_genes</th>\n",
       "      <th>pvalue</th>\n",
       "      <th>qvalue</th>\n",
       "    </tr>\n",
       "  </thead>\n",
       "  <tbody>\n",
       "    <tr>\n",
       "      <th>0</th>\n",
       "      <td>response to heat</td>\n",
       "      <td>1</td>\n",
       "      <td>9</td>\n",
       "      <td>11</td>\n",
       "      <td>3.779609e-16</td>\n",
       "      <td>1.234420e-12</td>\n",
       "    </tr>\n",
       "    <tr>\n",
       "      <th>1</th>\n",
       "      <td>unfolded protein binding</td>\n",
       "      <td>1</td>\n",
       "      <td>4</td>\n",
       "      <td>11</td>\n",
       "      <td>2.311759e-08</td>\n",
       "      <td>3.775102e-05</td>\n",
       "    </tr>\n",
       "    <tr>\n",
       "      <th>2</th>\n",
       "      <td>chaperone cofactor-dependent protein refolding</td>\n",
       "      <td>1</td>\n",
       "      <td>3</td>\n",
       "      <td>11</td>\n",
       "      <td>6.445001e-08</td>\n",
       "      <td>7.016457e-05</td>\n",
       "    </tr>\n",
       "    <tr>\n",
       "      <th>3</th>\n",
       "      <td>protein folding</td>\n",
       "      <td>1</td>\n",
       "      <td>4</td>\n",
       "      <td>11</td>\n",
       "      <td>9.774055e-08</td>\n",
       "      <td>7.980516e-05</td>\n",
       "    </tr>\n",
       "    <tr>\n",
       "      <th>4</th>\n",
       "      <td>identical protein binding</td>\n",
       "      <td>1</td>\n",
       "      <td>7</td>\n",
       "      <td>11</td>\n",
       "      <td>3.867399e-06</td>\n",
       "      <td>2.526185e-03</td>\n",
       "    </tr>\n",
       "  </tbody>\n",
       "</table>\n",
       "</div>"
      ],
      "text/plain": [
       "                                          go_term  component  n_matches  \\\n",
       "0                                response to heat          1          9   \n",
       "1                        unfolded protein binding          1          4   \n",
       "2  chaperone cofactor-dependent protein refolding          1          3   \n",
       "3                                 protein folding          1          4   \n",
       "4                       identical protein binding          1          7   \n",
       "\n",
       "   n_genes        pvalue        qvalue  \n",
       "0       11  3.779609e-16  1.234420e-12  \n",
       "1       11  2.311759e-08  3.775102e-05  \n",
       "2       11  6.445001e-08  7.016457e-05  \n",
       "3       11  9.774055e-08  7.980516e-05  \n",
       "4       11  3.867399e-06  2.526185e-03  "
      ]
     },
     "execution_count": 27,
     "metadata": {},
     "output_type": "execute_result"
    }
   ],
   "source": [
    "go_enrichments.head()"
   ]
  },
  {
   "cell_type": "code",
   "execution_count": 28,
   "metadata": {},
   "outputs": [],
   "source": [
    "go_enrichments.to_csv(DATA_DIR+'go_enrichments.csv')"
   ]
  },
  {
   "cell_type": "code",
   "execution_count": null,
   "metadata": {},
   "outputs": [],
   "source": []
  }
 ],
 "metadata": {
  "kernelspec": {
   "display_name": "Python 3",
   "language": "python",
   "name": "python3"
  },
  "language_info": {
   "codemirror_mode": {
    "name": "ipython",
    "version": 3
   },
   "file_extension": ".py",
   "mimetype": "text/x-python",
   "name": "python",
   "nbconvert_exporter": "python",
   "pygments_lexer": "ipython3",
   "version": "3.6.7"
  },
  "toc": {
   "base_numbering": 1,
   "nav_menu": {},
   "number_sections": true,
   "sideBar": true,
   "skip_h1_title": false,
   "title_cell": "Table of Contents",
   "title_sidebar": "Contents",
   "toc_cell": true,
   "toc_position": {},
   "toc_section_display": true,
   "toc_window_display": false
  }
 },
 "nbformat": 4,
 "nbformat_minor": 2
}
