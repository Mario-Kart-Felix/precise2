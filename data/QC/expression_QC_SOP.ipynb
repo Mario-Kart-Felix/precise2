{
 "cells": [
  {
   "cell_type": "markdown",
   "metadata": {
    "toc": true
   },
   "source": [
    "<h1>Table of Contents<span class=\"tocSkip\"></span></h1>\n",
    "<div class=\"toc\"><ul class=\"toc-item\"><li><span><a href=\"#Setup\" data-toc-modified-id=\"Setup-1\"><span class=\"toc-item-num\">1&nbsp;&nbsp;</span>Setup</a></span><ul class=\"toc-item\"><li><span><a href=\"#QC-Thresholds\" data-toc-modified-id=\"QC-Thresholds-1.1\"><span class=\"toc-item-num\">1.1&nbsp;&nbsp;</span>QC Thresholds</a></span></li><li><span><a href=\"#Inputs\" data-toc-modified-id=\"Inputs-1.2\"><span class=\"toc-item-num\">1.2&nbsp;&nbsp;</span>Inputs</a></span></li><li><span><a href=\"#Load-expression-data\" data-toc-modified-id=\"Load-expression-data-1.3\"><span class=\"toc-item-num\">1.3&nbsp;&nbsp;</span>Load expression data</a></span></li><li><span><a href=\"#Load-QC-data\" data-toc-modified-id=\"Load-QC-data-1.4\"><span class=\"toc-item-num\">1.4&nbsp;&nbsp;</span>Load QC data</a></span></li><li><span><a href=\"#Load-metadata\" data-toc-modified-id=\"Load-metadata-1.5\"><span class=\"toc-item-num\">1.5&nbsp;&nbsp;</span>Load metadata</a></span></li><li><span><a href=\"#Remove-extra-sample-rows\" data-toc-modified-id=\"Remove-extra-sample-rows-1.6\"><span class=\"toc-item-num\">1.6&nbsp;&nbsp;</span>Remove extra sample rows</a></span></li></ul></li><li><span><a href=\"#Check-statistics\" data-toc-modified-id=\"Check-statistics-2\"><span class=\"toc-item-num\">2&nbsp;&nbsp;</span>Check statistics</a></span><ul class=\"toc-item\"><li><span><a href=\"#FastQC-stats\" data-toc-modified-id=\"FastQC-stats-2.1\"><span class=\"toc-item-num\">2.1&nbsp;&nbsp;</span>FastQC stats</a></span></li><li><span><a href=\"#Percent-of-reads-aligned-to-genome\" data-toc-modified-id=\"Percent-of-reads-aligned-to-genome-2.2\"><span class=\"toc-item-num\">2.2&nbsp;&nbsp;</span>Percent of reads aligned to genome</a></span></li><li><span><a href=\"#Number-of-aligned-reads\" data-toc-modified-id=\"Number-of-aligned-reads-2.3\"><span class=\"toc-item-num\">2.3&nbsp;&nbsp;</span>Number of aligned reads</a></span></li></ul></li><li><span><a href=\"#Examine-Global-Correlations\" data-toc-modified-id=\"Examine-Global-Correlations-3\"><span class=\"toc-item-num\">3&nbsp;&nbsp;</span>Examine Global Correlations</a></span><ul class=\"toc-item\"><li><span><a href=\"#Hierarchical-Clustering\" data-toc-modified-id=\"Hierarchical-Clustering-3.1\"><span class=\"toc-item-num\">3.1&nbsp;&nbsp;</span>Hierarchical Clustering</a></span></li></ul></li><li><span><a href=\"#Remove-failed-samples\" data-toc-modified-id=\"Remove-failed-samples-4\"><span class=\"toc-item-num\">4&nbsp;&nbsp;</span>Remove failed samples</a></span></li><li><span><a href=\"#Metadata-Curation\" data-toc-modified-id=\"Metadata-Curation-5\"><span class=\"toc-item-num\">5&nbsp;&nbsp;</span>Metadata Curation</a></span><ul class=\"toc-item\"><li><span><a href=\"#BioProject-counts-of-passing-metadata\" data-toc-modified-id=\"BioProject-counts-of-passing-metadata-5.1\"><span class=\"toc-item-num\">5.1&nbsp;&nbsp;</span>BioProject counts of passing metadata</a></span></li><li><span><a href=\"#BioProject-counts-of-all-metadata\" data-toc-modified-id=\"BioProject-counts-of-all-metadata-5.2\"><span class=\"toc-item-num\">5.2&nbsp;&nbsp;</span>BioProject counts of all metadata</a></span></li></ul></li><li><span><a href=\"#Correlations-between-replicates\" data-toc-modified-id=\"Correlations-between-replicates-6\"><span class=\"toc-item-num\">6&nbsp;&nbsp;</span>Correlations between replicates</a></span><ul class=\"toc-item\"><li><span><a href=\"#Compute-Pearson-R-Score\" data-toc-modified-id=\"Compute-Pearson-R-Score-6.1\"><span class=\"toc-item-num\">6.1&nbsp;&nbsp;</span>Compute Pearson R Score</a></span></li></ul></li><li><span><a href=\"#Remove-failed-samples\" data-toc-modified-id=\"Remove-failed-samples-7\"><span class=\"toc-item-num\">7&nbsp;&nbsp;</span>Remove failed samples</a></span></li><li><span><a href=\"#Save-final-datasets\" data-toc-modified-id=\"Save-final-datasets-8\"><span class=\"toc-item-num\">8&nbsp;&nbsp;</span>Save final datasets</a></span></li></ul></div>"
   ]
  },
  {
   "cell_type": "markdown",
   "metadata": {},
   "source": [
    "<font size=\"4\">This is a template notebook for performing preliminary quality control on your organism's expression data.</font>"
   ]
  },
  {
   "cell_type": "code",
   "execution_count": 1,
   "metadata": {},
   "outputs": [],
   "source": [
    "import pandas as pd\n",
    "import os\n",
    "from os import path\n",
    "import matplotlib.pyplot as plt\n",
    "import seaborn as sns\n",
    "import numpy as np"
   ]
  },
  {
   "cell_type": "code",
   "execution_count": 2,
   "metadata": {},
   "outputs": [],
   "source": [
    "sns.set_style('ticks')"
   ]
  },
  {
   "cell_type": "markdown",
   "metadata": {},
   "source": [
    "# Setup"
   ]
  },
  {
   "cell_type": "markdown",
   "metadata": {},
   "source": [
    "## QC Thresholds"
   ]
  },
  {
   "cell_type": "code",
   "execution_count": 3,
   "metadata": {},
   "outputs": [],
   "source": [
    "min_pct_aligned = 40 # Minimum percent of reads aligned to genome\n",
    "min_mrna_reads = 5e5 # Minimum number of reads mapped to mRNA"
   ]
  },
  {
   "cell_type": "markdown",
   "metadata": {},
   "source": [
    "## Inputs"
   ]
  },
  {
   "cell_type": "markdown",
   "metadata": {},
   "source": [
    "<font size=\"4\">Enter organism name here</font>"
   ]
  },
  {
   "cell_type": "code",
   "execution_count": 4,
   "metadata": {},
   "outputs": [],
   "source": [
    "organism = \"Sulfolobus_acidocaldarius\""
   ]
  },
  {
   "cell_type": "markdown",
   "metadata": {},
   "source": [
    "<font size=\"4\">Show files in the organism directory</font>"
   ]
  },
  {
   "cell_type": "code",
   "execution_count": 5,
   "metadata": {},
   "outputs": [
    {
     "data": {
      "text/plain": [
       "['sequence_files',\n",
       " 'eggnog.annotations',\n",
       " 'multiqc_report.html',\n",
       " 'metadata_qc1.tsv',\n",
       " 'Sulfolobus_acidocaldarius_curated.tsv',\n",
       " 'CDS.fna',\n",
       " 'log_tpm.csv',\n",
       " 'README.md',\n",
       " 'multiqc_stats.tsv',\n",
       " 'Sulfolobus_acidocaldarius.tsv']"
      ]
     },
     "execution_count": 5,
     "metadata": {},
     "output_type": "execute_result"
    }
   ],
   "source": [
    "org_dir = path.join('../data/organisms/',organism)\n",
    "os.listdir(org_dir)"
   ]
  },
  {
   "cell_type": "markdown",
   "metadata": {},
   "source": [
    "<font size=\"4\">Enter name of curated metadata file here</font>"
   ]
  },
  {
   "cell_type": "code",
   "execution_count": 6,
   "metadata": {},
   "outputs": [],
   "source": [
    "metadata_file = \"Sulfolobus_acidocaldarius_curated.tsv\""
   ]
  },
  {
   "cell_type": "markdown",
   "metadata": {},
   "source": [
    "## Load expression data"
   ]
  },
  {
   "cell_type": "code",
   "execution_count": 7,
   "metadata": {},
   "outputs": [
    {
     "name": "stdout",
     "output_type": "stream",
     "text": [
      "Number of genes: 2296\n",
      "Number of samples: 116\n"
     ]
    }
   ],
   "source": [
    "DF_log_tpm = pd.read_csv(path.join(org_dir,'log_tpm.csv'),index_col=0).fillna(0)\n",
    "#DF_log_tpm = pd.read_csv('log_tpm.csv',index_col=0)\n",
    "print('Number of genes:',DF_log_tpm.shape[0])\n",
    "print('Number of samples:',DF_log_tpm.shape[1])"
   ]
  },
  {
   "cell_type": "code",
   "execution_count": 8,
   "metadata": {},
   "outputs": [
    {
     "data": {
      "text/html": [
       "<div>\n",
       "<style scoped>\n",
       "    .dataframe tbody tr th:only-of-type {\n",
       "        vertical-align: middle;\n",
       "    }\n",
       "\n",
       "    .dataframe tbody tr th {\n",
       "        vertical-align: top;\n",
       "    }\n",
       "\n",
       "    .dataframe thead th {\n",
       "        text-align: right;\n",
       "    }\n",
       "</style>\n",
       "<table border=\"1\" class=\"dataframe\">\n",
       "  <thead>\n",
       "    <tr style=\"text-align: right;\">\n",
       "      <th></th>\n",
       "      <th>SRX3565197</th>\n",
       "      <th>SRX2781382</th>\n",
       "      <th>SRX4001525</th>\n",
       "      <th>SRX3565174</th>\n",
       "      <th>SRX6762910</th>\n",
       "      <th>SRX5495523</th>\n",
       "      <th>SRX3823527</th>\n",
       "      <th>SRX3565187</th>\n",
       "      <th>SRX2548838</th>\n",
       "      <th>SRX3565203</th>\n",
       "      <th>...</th>\n",
       "      <th>SRX4001517</th>\n",
       "      <th>SRX5653267</th>\n",
       "      <th>SRX3565175</th>\n",
       "      <th>ERX3018360</th>\n",
       "      <th>ERX3018361</th>\n",
       "      <th>SRX3565189</th>\n",
       "      <th>SRX3565168</th>\n",
       "      <th>SRX3467357</th>\n",
       "      <th>SRX3565173</th>\n",
       "      <th>SRX3565172</th>\n",
       "    </tr>\n",
       "    <tr>\n",
       "      <th>Synonym</th>\n",
       "      <th></th>\n",
       "      <th></th>\n",
       "      <th></th>\n",
       "      <th></th>\n",
       "      <th></th>\n",
       "      <th></th>\n",
       "      <th></th>\n",
       "      <th></th>\n",
       "      <th></th>\n",
       "      <th></th>\n",
       "      <th></th>\n",
       "      <th></th>\n",
       "      <th></th>\n",
       "      <th></th>\n",
       "      <th></th>\n",
       "      <th></th>\n",
       "      <th></th>\n",
       "      <th></th>\n",
       "      <th></th>\n",
       "      <th></th>\n",
       "      <th></th>\n",
       "    </tr>\n",
       "  </thead>\n",
       "  <tbody>\n",
       "    <tr>\n",
       "      <th>SACI_RS00005</th>\n",
       "      <td>5.269578</td>\n",
       "      <td>7.883667</td>\n",
       "      <td>7.939798</td>\n",
       "      <td>6.890248</td>\n",
       "      <td>8.810122</td>\n",
       "      <td>8.529613</td>\n",
       "      <td>7.797435</td>\n",
       "      <td>7.455870</td>\n",
       "      <td>8.233796</td>\n",
       "      <td>6.629272</td>\n",
       "      <td>...</td>\n",
       "      <td>8.322835</td>\n",
       "      <td>7.679029</td>\n",
       "      <td>6.655219</td>\n",
       "      <td>8.967497</td>\n",
       "      <td>8.417129</td>\n",
       "      <td>6.831740</td>\n",
       "      <td>4.587188</td>\n",
       "      <td>9.022633</td>\n",
       "      <td>6.498048</td>\n",
       "      <td>6.288708</td>\n",
       "    </tr>\n",
       "    <tr>\n",
       "      <th>SACI_RS00010</th>\n",
       "      <td>4.518440</td>\n",
       "      <td>8.060876</td>\n",
       "      <td>6.461626</td>\n",
       "      <td>5.622223</td>\n",
       "      <td>8.420537</td>\n",
       "      <td>8.258344</td>\n",
       "      <td>6.715096</td>\n",
       "      <td>6.394491</td>\n",
       "      <td>6.763681</td>\n",
       "      <td>6.169149</td>\n",
       "      <td>...</td>\n",
       "      <td>6.112812</td>\n",
       "      <td>6.763317</td>\n",
       "      <td>5.755257</td>\n",
       "      <td>8.080377</td>\n",
       "      <td>7.920618</td>\n",
       "      <td>6.002169</td>\n",
       "      <td>2.613377</td>\n",
       "      <td>8.108422</td>\n",
       "      <td>5.401074</td>\n",
       "      <td>4.994199</td>\n",
       "    </tr>\n",
       "    <tr>\n",
       "      <th>SACI_RS00015</th>\n",
       "      <td>11.024625</td>\n",
       "      <td>11.168191</td>\n",
       "      <td>11.775624</td>\n",
       "      <td>12.913056</td>\n",
       "      <td>11.090120</td>\n",
       "      <td>10.606115</td>\n",
       "      <td>11.099548</td>\n",
       "      <td>12.335588</td>\n",
       "      <td>11.296925</td>\n",
       "      <td>11.101595</td>\n",
       "      <td>...</td>\n",
       "      <td>11.851360</td>\n",
       "      <td>10.862572</td>\n",
       "      <td>11.567606</td>\n",
       "      <td>10.861308</td>\n",
       "      <td>11.147948</td>\n",
       "      <td>10.663183</td>\n",
       "      <td>12.329937</td>\n",
       "      <td>10.857759</td>\n",
       "      <td>11.636880</td>\n",
       "      <td>12.706091</td>\n",
       "    </tr>\n",
       "    <tr>\n",
       "      <th>SACI_RS00020</th>\n",
       "      <td>6.747673</td>\n",
       "      <td>2.782238</td>\n",
       "      <td>6.366539</td>\n",
       "      <td>7.062894</td>\n",
       "      <td>5.795639</td>\n",
       "      <td>6.007733</td>\n",
       "      <td>5.692003</td>\n",
       "      <td>7.152947</td>\n",
       "      <td>6.876332</td>\n",
       "      <td>6.026868</td>\n",
       "      <td>...</td>\n",
       "      <td>6.168594</td>\n",
       "      <td>5.533535</td>\n",
       "      <td>7.077818</td>\n",
       "      <td>5.131887</td>\n",
       "      <td>5.788980</td>\n",
       "      <td>6.604440</td>\n",
       "      <td>7.513623</td>\n",
       "      <td>5.605870</td>\n",
       "      <td>7.621792</td>\n",
       "      <td>7.599522</td>\n",
       "    </tr>\n",
       "    <tr>\n",
       "      <th>SACI_RS00025</th>\n",
       "      <td>8.533264</td>\n",
       "      <td>4.779068</td>\n",
       "      <td>8.613596</td>\n",
       "      <td>9.134360</td>\n",
       "      <td>7.885170</td>\n",
       "      <td>7.741913</td>\n",
       "      <td>8.496711</td>\n",
       "      <td>8.804496</td>\n",
       "      <td>6.876332</td>\n",
       "      <td>7.892012</td>\n",
       "      <td>...</td>\n",
       "      <td>8.680297</td>\n",
       "      <td>8.121945</td>\n",
       "      <td>8.610315</td>\n",
       "      <td>7.886331</td>\n",
       "      <td>8.041154</td>\n",
       "      <td>8.003974</td>\n",
       "      <td>9.139879</td>\n",
       "      <td>8.063733</td>\n",
       "      <td>9.490924</td>\n",
       "      <td>9.140590</td>\n",
       "    </tr>\n",
       "  </tbody>\n",
       "</table>\n",
       "<p>5 rows × 116 columns</p>\n",
       "</div>"
      ],
      "text/plain": [
       "              SRX3565197  SRX2781382  SRX4001525  SRX3565174  SRX6762910  \\\n",
       "Synonym                                                                    \n",
       "SACI_RS00005    5.269578    7.883667    7.939798    6.890248    8.810122   \n",
       "SACI_RS00010    4.518440    8.060876    6.461626    5.622223    8.420537   \n",
       "SACI_RS00015   11.024625   11.168191   11.775624   12.913056   11.090120   \n",
       "SACI_RS00020    6.747673    2.782238    6.366539    7.062894    5.795639   \n",
       "SACI_RS00025    8.533264    4.779068    8.613596    9.134360    7.885170   \n",
       "\n",
       "              SRX5495523  SRX3823527  SRX3565187  SRX2548838  SRX3565203  ...  \\\n",
       "Synonym                                                                   ...   \n",
       "SACI_RS00005    8.529613    7.797435    7.455870    8.233796    6.629272  ...   \n",
       "SACI_RS00010    8.258344    6.715096    6.394491    6.763681    6.169149  ...   \n",
       "SACI_RS00015   10.606115   11.099548   12.335588   11.296925   11.101595  ...   \n",
       "SACI_RS00020    6.007733    5.692003    7.152947    6.876332    6.026868  ...   \n",
       "SACI_RS00025    7.741913    8.496711    8.804496    6.876332    7.892012  ...   \n",
       "\n",
       "              SRX4001517  SRX5653267  SRX3565175  ERX3018360  ERX3018361  \\\n",
       "Synonym                                                                    \n",
       "SACI_RS00005    8.322835    7.679029    6.655219    8.967497    8.417129   \n",
       "SACI_RS00010    6.112812    6.763317    5.755257    8.080377    7.920618   \n",
       "SACI_RS00015   11.851360   10.862572   11.567606   10.861308   11.147948   \n",
       "SACI_RS00020    6.168594    5.533535    7.077818    5.131887    5.788980   \n",
       "SACI_RS00025    8.680297    8.121945    8.610315    7.886331    8.041154   \n",
       "\n",
       "              SRX3565189  SRX3565168  SRX3467357  SRX3565173  SRX3565172  \n",
       "Synonym                                                                   \n",
       "SACI_RS00005    6.831740    4.587188    9.022633    6.498048    6.288708  \n",
       "SACI_RS00010    6.002169    2.613377    8.108422    5.401074    4.994199  \n",
       "SACI_RS00015   10.663183   12.329937   10.857759   11.636880   12.706091  \n",
       "SACI_RS00020    6.604440    7.513623    5.605870    7.621792    7.599522  \n",
       "SACI_RS00025    8.003974    9.139879    8.063733    9.490924    9.140590  \n",
       "\n",
       "[5 rows x 116 columns]"
      ]
     },
     "execution_count": 8,
     "metadata": {},
     "output_type": "execute_result"
    }
   ],
   "source": [
    "DF_log_tpm.fillna(0,inplace=True)\n",
    "DF_log_tpm.head()"
   ]
  },
  {
   "cell_type": "markdown",
   "metadata": {},
   "source": [
    "## Load QC data\n",
    "<font size=\"4\">There may be some datasets that failed along the processing pipeline, so the number of samples with QC data may be higher than the number of samples with expression data.</font>"
   ]
  },
  {
   "cell_type": "code",
   "execution_count": 9,
   "metadata": {},
   "outputs": [
    {
     "name": "stdout",
     "output_type": "stream",
     "text": [
      "Number of samples with QC data: 117\n"
     ]
    }
   ],
   "source": [
    "DF_qc_stats = pd.read_csv(path.join(org_dir,'multiqc_stats.tsv'),index_col=0, sep='\\t')\n",
    "print('Number of samples with QC data:',DF_qc_stats.shape[0])"
   ]
  },
  {
   "cell_type": "code",
   "execution_count": 10,
   "metadata": {},
   "outputs": [
    {
     "data": {
      "text/html": [
       "<div>\n",
       "<style scoped>\n",
       "    .dataframe tbody tr th:only-of-type {\n",
       "        vertical-align: middle;\n",
       "    }\n",
       "\n",
       "    .dataframe tbody tr th {\n",
       "        vertical-align: top;\n",
       "    }\n",
       "\n",
       "    .dataframe thead th {\n",
       "        text-align: right;\n",
       "    }\n",
       "</style>\n",
       "<table border=\"1\" class=\"dataframe\">\n",
       "  <thead>\n",
       "    <tr style=\"text-align: right;\">\n",
       "      <th></th>\n",
       "      <th>mRNA-sense</th>\n",
       "      <th>mRNA-antisense</th>\n",
       "      <th>rRNA-sense</th>\n",
       "      <th>rRNA-antisense</th>\n",
       "      <th>tRNA-sense</th>\n",
       "      <th>tRNA-antisense</th>\n",
       "      <th>ncRNA-sense</th>\n",
       "      <th>ncRNA-antisense</th>\n",
       "      <th>unannotated</th>\n",
       "      <th>total-reads</th>\n",
       "      <th>...</th>\n",
       "      <th>r_written</th>\n",
       "      <th>bp_processed</th>\n",
       "      <th>quality_trimmed</th>\n",
       "      <th>bp_written</th>\n",
       "      <th>percent_trimmed</th>\n",
       "      <th>pe_sense</th>\n",
       "      <th>pe_antisense</th>\n",
       "      <th>failed</th>\n",
       "      <th>se_sense</th>\n",
       "      <th>se_antisense</th>\n",
       "    </tr>\n",
       "  </thead>\n",
       "  <tbody>\n",
       "    <tr>\n",
       "      <th>ERX1518397</th>\n",
       "      <td>13208.0</td>\n",
       "      <td>455.0</td>\n",
       "      <td>24138.0</td>\n",
       "      <td>0.0</td>\n",
       "      <td>0.0</td>\n",
       "      <td>0.0</td>\n",
       "      <td>0.0</td>\n",
       "      <td>0.0</td>\n",
       "      <td>7742.0</td>\n",
       "      <td>8365915.0</td>\n",
       "      <td>...</td>\n",
       "      <td>8929982</td>\n",
       "      <td>607238776</td>\n",
       "      <td>3896544</td>\n",
       "      <td>545607801</td>\n",
       "      <td>10.149381</td>\n",
       "      <td>0.0625</td>\n",
       "      <td>0.9375</td>\n",
       "      <td>0.0000</td>\n",
       "      <td>0.0</td>\n",
       "      <td>0.0</td>\n",
       "    </tr>\n",
       "    <tr>\n",
       "      <th>ERX1518398</th>\n",
       "      <td>5114.0</td>\n",
       "      <td>222.0</td>\n",
       "      <td>12450.0</td>\n",
       "      <td>0.0</td>\n",
       "      <td>0.0</td>\n",
       "      <td>0.0</td>\n",
       "      <td>0.0</td>\n",
       "      <td>0.0</td>\n",
       "      <td>4224.0</td>\n",
       "      <td>4886827.0</td>\n",
       "      <td>...</td>\n",
       "      <td>5489885</td>\n",
       "      <td>373312180</td>\n",
       "      <td>2954939</td>\n",
       "      <td>301318297</td>\n",
       "      <td>19.285169</td>\n",
       "      <td>0.0000</td>\n",
       "      <td>1.0000</td>\n",
       "      <td>0.0000</td>\n",
       "      <td>0.0</td>\n",
       "      <td>0.0</td>\n",
       "    </tr>\n",
       "    <tr>\n",
       "      <th>ERX1518399</th>\n",
       "      <td>11439.0</td>\n",
       "      <td>738.0</td>\n",
       "      <td>18081.0</td>\n",
       "      <td>0.0</td>\n",
       "      <td>0.0</td>\n",
       "      <td>0.0</td>\n",
       "      <td>0.0</td>\n",
       "      <td>0.0</td>\n",
       "      <td>6642.0</td>\n",
       "      <td>6932975.0</td>\n",
       "      <td>...</td>\n",
       "      <td>7366354</td>\n",
       "      <td>552476550</td>\n",
       "      <td>9876077</td>\n",
       "      <td>515391384</td>\n",
       "      <td>6.712532</td>\n",
       "      <td>0.0000</td>\n",
       "      <td>1.0000</td>\n",
       "      <td>0.0000</td>\n",
       "      <td>0.0</td>\n",
       "      <td>0.0</td>\n",
       "    </tr>\n",
       "    <tr>\n",
       "      <th>ERX3018360</th>\n",
       "      <td>1497578.0</td>\n",
       "      <td>0.0</td>\n",
       "      <td>9907054.0</td>\n",
       "      <td>0.0</td>\n",
       "      <td>0.0</td>\n",
       "      <td>0.0</td>\n",
       "      <td>0.0</td>\n",
       "      <td>0.0</td>\n",
       "      <td>115198.0</td>\n",
       "      <td>11768789.0</td>\n",
       "      <td>...</td>\n",
       "      <td>11779481</td>\n",
       "      <td>1460655644</td>\n",
       "      <td>6687967</td>\n",
       "      <td>1422787367</td>\n",
       "      <td>2.592553</td>\n",
       "      <td>0.0132</td>\n",
       "      <td>0.9770</td>\n",
       "      <td>0.0098</td>\n",
       "      <td>0.0</td>\n",
       "      <td>0.0</td>\n",
       "    </tr>\n",
       "    <tr>\n",
       "      <th>ERX3018361</th>\n",
       "      <td>966509.0</td>\n",
       "      <td>0.0</td>\n",
       "      <td>6393827.0</td>\n",
       "      <td>0.0</td>\n",
       "      <td>0.0</td>\n",
       "      <td>0.0</td>\n",
       "      <td>0.0</td>\n",
       "      <td>0.0</td>\n",
       "      <td>74347.0</td>\n",
       "      <td>7611559.0</td>\n",
       "      <td>...</td>\n",
       "      <td>7618684</td>\n",
       "      <td>944716816</td>\n",
       "      <td>4641411</td>\n",
       "      <td>925248512</td>\n",
       "      <td>2.060756</td>\n",
       "      <td>0.0185</td>\n",
       "      <td>0.9720</td>\n",
       "      <td>0.0095</td>\n",
       "      <td>0.0</td>\n",
       "      <td>0.0</td>\n",
       "    </tr>\n",
       "  </tbody>\n",
       "</table>\n",
       "<p>5 rows × 43 columns</p>\n",
       "</div>"
      ],
      "text/plain": [
       "            mRNA-sense  mRNA-antisense  rRNA-sense  rRNA-antisense  \\\n",
       "ERX1518397     13208.0           455.0     24138.0             0.0   \n",
       "ERX1518398      5114.0           222.0     12450.0             0.0   \n",
       "ERX1518399     11439.0           738.0     18081.0             0.0   \n",
       "ERX3018360   1497578.0             0.0   9907054.0             0.0   \n",
       "ERX3018361    966509.0             0.0   6393827.0             0.0   \n",
       "\n",
       "            tRNA-sense  tRNA-antisense  ncRNA-sense  ncRNA-antisense  \\\n",
       "ERX1518397         0.0             0.0          0.0              0.0   \n",
       "ERX1518398         0.0             0.0          0.0              0.0   \n",
       "ERX1518399         0.0             0.0          0.0              0.0   \n",
       "ERX3018360         0.0             0.0          0.0              0.0   \n",
       "ERX3018361         0.0             0.0          0.0              0.0   \n",
       "\n",
       "            unannotated  total-reads  ...  r_written bp_processed  \\\n",
       "ERX1518397       7742.0    8365915.0  ...    8929982    607238776   \n",
       "ERX1518398       4224.0    4886827.0  ...    5489885    373312180   \n",
       "ERX1518399       6642.0    6932975.0  ...    7366354    552476550   \n",
       "ERX3018360     115198.0   11768789.0  ...   11779481   1460655644   \n",
       "ERX3018361      74347.0    7611559.0  ...    7618684    944716816   \n",
       "\n",
       "           quality_trimmed  bp_written  percent_trimmed  pe_sense  \\\n",
       "ERX1518397         3896544   545607801        10.149381    0.0625   \n",
       "ERX1518398         2954939   301318297        19.285169    0.0000   \n",
       "ERX1518399         9876077   515391384         6.712532    0.0000   \n",
       "ERX3018360         6687967  1422787367         2.592553    0.0132   \n",
       "ERX3018361         4641411   925248512         2.060756    0.0185   \n",
       "\n",
       "           pe_antisense  failed  se_sense  se_antisense  \n",
       "ERX1518397       0.9375  0.0000       0.0           0.0  \n",
       "ERX1518398       1.0000  0.0000       0.0           0.0  \n",
       "ERX1518399       1.0000  0.0000       0.0           0.0  \n",
       "ERX3018360       0.9770  0.0098       0.0           0.0  \n",
       "ERX3018361       0.9720  0.0095       0.0           0.0  \n",
       "\n",
       "[5 rows x 43 columns]"
      ]
     },
     "execution_count": 10,
     "metadata": {},
     "output_type": "execute_result"
    }
   ],
   "source": [
    "DF_qc_stats.fillna(0,inplace=True)\n",
    "DF_qc_stats.head()"
   ]
  },
  {
   "cell_type": "markdown",
   "metadata": {},
   "source": [
    "## Load metadata"
   ]
  },
  {
   "cell_type": "code",
   "execution_count": 11,
   "metadata": {},
   "outputs": [
    {
     "name": "stdout",
     "output_type": "stream",
     "text": [
      "Number of samples with metadata: 117\n"
     ]
    },
    {
     "data": {
      "text/html": [
       "<div>\n",
       "<style scoped>\n",
       "    .dataframe tbody tr th:only-of-type {\n",
       "        vertical-align: middle;\n",
       "    }\n",
       "\n",
       "    .dataframe tbody tr th {\n",
       "        vertical-align: top;\n",
       "    }\n",
       "\n",
       "    .dataframe thead th {\n",
       "        text-align: right;\n",
       "    }\n",
       "</style>\n",
       "<table border=\"1\" class=\"dataframe\">\n",
       "  <thead>\n",
       "    <tr style=\"text-align: right;\">\n",
       "      <th></th>\n",
       "      <th>species_tax_id</th>\n",
       "      <th>BioSample</th>\n",
       "      <th>LibraryLayout</th>\n",
       "      <th>species</th>\n",
       "      <th>ProjectID</th>\n",
       "      <th>class_tax_id</th>\n",
       "      <th>ReleaseDate</th>\n",
       "      <th>LibrarySource</th>\n",
       "      <th>ScientificName</th>\n",
       "      <th>InsertSize</th>\n",
       "      <th>...</th>\n",
       "      <th>base_media</th>\n",
       "      <th>carbon_source</th>\n",
       "      <th>nitrogen_source</th>\n",
       "      <th>aerobicity</th>\n",
       "      <th>supplement</th>\n",
       "      <th>temperature</th>\n",
       "      <th>pH</th>\n",
       "      <th>growth_phase</th>\n",
       "      <th>OD</th>\n",
       "      <th>additional_notes</th>\n",
       "    </tr>\n",
       "    <tr>\n",
       "      <th>Experiment</th>\n",
       "      <th></th>\n",
       "      <th></th>\n",
       "      <th></th>\n",
       "      <th></th>\n",
       "      <th></th>\n",
       "      <th></th>\n",
       "      <th></th>\n",
       "      <th></th>\n",
       "      <th></th>\n",
       "      <th></th>\n",
       "      <th></th>\n",
       "      <th></th>\n",
       "      <th></th>\n",
       "      <th></th>\n",
       "      <th></th>\n",
       "      <th></th>\n",
       "      <th></th>\n",
       "      <th></th>\n",
       "      <th></th>\n",
       "      <th></th>\n",
       "      <th></th>\n",
       "    </tr>\n",
       "  </thead>\n",
       "  <tbody>\n",
       "    <tr>\n",
       "      <th>ERX1518397</th>\n",
       "      <td>2285</td>\n",
       "      <td>SAMEA4025321</td>\n",
       "      <td>PAIRED</td>\n",
       "      <td>Sulfolobus acidocaldarius</td>\n",
       "      <td>328939</td>\n",
       "      <td>183924</td>\n",
       "      <td>2016-07-14 11:49:35</td>\n",
       "      <td>TRANSCRIPTOMIC</td>\n",
       "      <td>Sulfolobus acidocaldarius DSM 639</td>\n",
       "      <td>300</td>\n",
       "      <td>...</td>\n",
       "      <td>Brock</td>\n",
       "      <td>NaN</td>\n",
       "      <td>(NH4)2SO4(1.3)</td>\n",
       "      <td>NaN</td>\n",
       "      <td>0.1% Tryptophan (Difco)</td>\n",
       "      <td>NaN</td>\n",
       "      <td>NaN</td>\n",
       "      <td>NaN</td>\n",
       "      <td>NaN</td>\n",
       "      <td>NaN</td>\n",
       "    </tr>\n",
       "    <tr>\n",
       "      <th>ERX1518398</th>\n",
       "      <td>2285</td>\n",
       "      <td>SAMEA4025322</td>\n",
       "      <td>PAIRED</td>\n",
       "      <td>Sulfolobus acidocaldarius</td>\n",
       "      <td>328939</td>\n",
       "      <td>183924</td>\n",
       "      <td>2016-07-14 11:49:35</td>\n",
       "      <td>TRANSCRIPTOMIC</td>\n",
       "      <td>Sulfolobus acidocaldarius DSM 639</td>\n",
       "      <td>300</td>\n",
       "      <td>...</td>\n",
       "      <td>Brock</td>\n",
       "      <td>NaN</td>\n",
       "      <td>(NH4)2SO4(1.3)</td>\n",
       "      <td>NaN</td>\n",
       "      <td>0.1% Tryptophan (Difco)</td>\n",
       "      <td>NaN</td>\n",
       "      <td>NaN</td>\n",
       "      <td>NaN</td>\n",
       "      <td>NaN</td>\n",
       "      <td>NaN</td>\n",
       "    </tr>\n",
       "    <tr>\n",
       "      <th>ERX1518399</th>\n",
       "      <td>2285</td>\n",
       "      <td>SAMEA4025323</td>\n",
       "      <td>PAIRED</td>\n",
       "      <td>Sulfolobus acidocaldarius</td>\n",
       "      <td>328939</td>\n",
       "      <td>183924</td>\n",
       "      <td>2016-07-14 11:49:35</td>\n",
       "      <td>TRANSCRIPTOMIC</td>\n",
       "      <td>Sulfolobus acidocaldarius DSM 639</td>\n",
       "      <td>300</td>\n",
       "      <td>...</td>\n",
       "      <td>Brock</td>\n",
       "      <td>NaN</td>\n",
       "      <td>(NH4)2SO4(1.3)</td>\n",
       "      <td>NaN</td>\n",
       "      <td>0.1% Tryptophan (Difco)</td>\n",
       "      <td>NaN</td>\n",
       "      <td>NaN</td>\n",
       "      <td>NaN</td>\n",
       "      <td>NaN</td>\n",
       "      <td>NaN</td>\n",
       "    </tr>\n",
       "    <tr>\n",
       "      <th>ERX3018360</th>\n",
       "      <td>2285</td>\n",
       "      <td>SAMEA5198179</td>\n",
       "      <td>PAIRED</td>\n",
       "      <td>Sulfolobus acidocaldarius</td>\n",
       "      <td>512828</td>\n",
       "      <td>183924</td>\n",
       "      <td>2019-01-24 13:14:25</td>\n",
       "      <td>TRANSCRIPTOMIC</td>\n",
       "      <td>Sulfolobus acidocaldarius DSM 639</td>\n",
       "      <td>199</td>\n",
       "      <td>...</td>\n",
       "      <td>NaN</td>\n",
       "      <td>NaN</td>\n",
       "      <td>NaN</td>\n",
       "      <td>NaN</td>\n",
       "      <td>NaN</td>\n",
       "      <td>NaN</td>\n",
       "      <td>NaN</td>\n",
       "      <td>NaN</td>\n",
       "      <td>NaN</td>\n",
       "      <td>NaN</td>\n",
       "    </tr>\n",
       "    <tr>\n",
       "      <th>ERX3018361</th>\n",
       "      <td>2285</td>\n",
       "      <td>SAMEA5198180</td>\n",
       "      <td>PAIRED</td>\n",
       "      <td>Sulfolobus acidocaldarius</td>\n",
       "      <td>512828</td>\n",
       "      <td>183924</td>\n",
       "      <td>2019-01-24 13:14:25</td>\n",
       "      <td>TRANSCRIPTOMIC</td>\n",
       "      <td>Sulfolobus acidocaldarius DSM 639</td>\n",
       "      <td>210</td>\n",
       "      <td>...</td>\n",
       "      <td>NaN</td>\n",
       "      <td>NaN</td>\n",
       "      <td>NaN</td>\n",
       "      <td>NaN</td>\n",
       "      <td>NaN</td>\n",
       "      <td>NaN</td>\n",
       "      <td>NaN</td>\n",
       "      <td>NaN</td>\n",
       "      <td>NaN</td>\n",
       "      <td>NaN</td>\n",
       "    </tr>\n",
       "  </tbody>\n",
       "</table>\n",
       "<p>5 rows × 45 columns</p>\n",
       "</div>"
      ],
      "text/plain": [
       "            species_tax_id     BioSample LibraryLayout  \\\n",
       "Experiment                                               \n",
       "ERX1518397            2285  SAMEA4025321        PAIRED   \n",
       "ERX1518398            2285  SAMEA4025322        PAIRED   \n",
       "ERX1518399            2285  SAMEA4025323        PAIRED   \n",
       "ERX3018360            2285  SAMEA5198179        PAIRED   \n",
       "ERX3018361            2285  SAMEA5198180        PAIRED   \n",
       "\n",
       "                              species  ProjectID  class_tax_id  \\\n",
       "Experiment                                                       \n",
       "ERX1518397  Sulfolobus acidocaldarius     328939        183924   \n",
       "ERX1518398  Sulfolobus acidocaldarius     328939        183924   \n",
       "ERX1518399  Sulfolobus acidocaldarius     328939        183924   \n",
       "ERX3018360  Sulfolobus acidocaldarius     512828        183924   \n",
       "ERX3018361  Sulfolobus acidocaldarius     512828        183924   \n",
       "\n",
       "                    ReleaseDate   LibrarySource  \\\n",
       "Experiment                                        \n",
       "ERX1518397  2016-07-14 11:49:35  TRANSCRIPTOMIC   \n",
       "ERX1518398  2016-07-14 11:49:35  TRANSCRIPTOMIC   \n",
       "ERX1518399  2016-07-14 11:49:35  TRANSCRIPTOMIC   \n",
       "ERX3018360  2019-01-24 13:14:25  TRANSCRIPTOMIC   \n",
       "ERX3018361  2019-01-24 13:14:25  TRANSCRIPTOMIC   \n",
       "\n",
       "                               ScientificName  InsertSize  ... base_media  \\\n",
       "Experiment                                                 ...              \n",
       "ERX1518397  Sulfolobus acidocaldarius DSM 639         300  ...      Brock   \n",
       "ERX1518398  Sulfolobus acidocaldarius DSM 639         300  ...      Brock   \n",
       "ERX1518399  Sulfolobus acidocaldarius DSM 639         300  ...      Brock   \n",
       "ERX3018360  Sulfolobus acidocaldarius DSM 639         199  ...        NaN   \n",
       "ERX3018361  Sulfolobus acidocaldarius DSM 639         210  ...        NaN   \n",
       "\n",
       "           carbon_source  nitrogen_source  aerobicity  \\\n",
       "Experiment                                              \n",
       "ERX1518397           NaN   (NH4)2SO4(1.3)         NaN   \n",
       "ERX1518398           NaN   (NH4)2SO4(1.3)         NaN   \n",
       "ERX1518399           NaN   (NH4)2SO4(1.3)         NaN   \n",
       "ERX3018360           NaN              NaN         NaN   \n",
       "ERX3018361           NaN              NaN         NaN   \n",
       "\n",
       "                         supplement temperature  pH growth_phase  OD  \\\n",
       "Experiment                                                             \n",
       "ERX1518397  0.1% Tryptophan (Difco)         NaN NaN          NaN NaN   \n",
       "ERX1518398  0.1% Tryptophan (Difco)         NaN NaN          NaN NaN   \n",
       "ERX1518399  0.1% Tryptophan (Difco)         NaN NaN          NaN NaN   \n",
       "ERX3018360                      NaN         NaN NaN          NaN NaN   \n",
       "ERX3018361                      NaN         NaN NaN          NaN NaN   \n",
       "\n",
       "           additional_notes  \n",
       "Experiment                   \n",
       "ERX1518397              NaN  \n",
       "ERX1518398              NaN  \n",
       "ERX1518399              NaN  \n",
       "ERX3018360              NaN  \n",
       "ERX3018361              NaN  \n",
       "\n",
       "[5 rows x 45 columns]"
      ]
     },
     "execution_count": 11,
     "metadata": {},
     "output_type": "execute_result"
    }
   ],
   "source": [
    "DF_metadata = pd.read_csv(path.join(org_dir,metadata_file),index_col=0,sep='\\t')\n",
    "print('Number of samples with metadata:',DF_metadata.shape[0])\n",
    "DF_metadata.head()"
   ]
  },
  {
   "cell_type": "markdown",
   "metadata": {},
   "source": [
    "## Remove extra sample rows"
   ]
  },
  {
   "cell_type": "code",
   "execution_count": 12,
   "metadata": {},
   "outputs": [],
   "source": [
    "# Ensure that metadata and qc_stats data contain all log_tpm sample information\n",
    "assert(set(DF_log_tpm.columns) - set(DF_metadata.index) == set())\n",
    "assert(set(DF_log_tpm.columns) - set(DF_qc_stats.index) == set())"
   ]
  },
  {
   "cell_type": "code",
   "execution_count": 13,
   "metadata": {},
   "outputs": [],
   "source": [
    "DF_metadata = DF_metadata.loc[DF_log_tpm.columns]\n",
    "DF_qc_stats = DF_qc_stats.loc[DF_log_tpm.columns]"
   ]
  },
  {
   "cell_type": "markdown",
   "metadata": {},
   "source": [
    "# Check statistics"
   ]
  },
  {
   "cell_type": "markdown",
   "metadata": {},
   "source": [
    "<font size=\"4\">From here, create a new spreadsheet where you can flag samples based on various QC statistics</font>\n"
   ]
  },
  {
   "cell_type": "markdown",
   "metadata": {},
   "source": [
    "## FastQC stats"
   ]
  },
  {
   "cell_type": "code",
   "execution_count": 14,
   "metadata": {},
   "outputs": [],
   "source": [
    "fastqc_cols = ['per_base_sequence_quality',\n",
    "       'per_tile_sequence_quality', 'per_sequence_quality_scores',\n",
    "       'per_base_sequence_content', 'per_sequence_gc_content',\n",
    "       'per_base_n_content', 'sequence_length_distribution',\n",
    "       'sequence_duplication_levels', 'overrepresented_sequences',\n",
    "       'adapter_content']"
   ]
  },
  {
   "cell_type": "code",
   "execution_count": 15,
   "metadata": {},
   "outputs": [
    {
     "data": {
      "image/png": "[encoded data removed]",
      "text/plain": [
       "<Figure size 432x288 with 2 Axes>"
      ]
     },
     "metadata": {},
     "output_type": "display_data"
    }
   ],
   "source": [
    "DF_fastqc = DF_qc_stats[fastqc_cols]\n",
    "ax = sns.heatmap(DF_fastqc.replace('pass',1).replace('warn',0).replace('fail',-1),\n",
    "            cmap='RdYlBu',vmax=1.3,vmin=-1.3)\n",
    "cbar = ax.collections[0].colorbar\n",
    "cbar.set_ticks([-1,0,1])\n",
    "cbar.set_ticklabels(['fail','warn','pass'])"
   ]
  },
  {
   "cell_type": "markdown",
   "metadata": {},
   "source": [
    "<font size=\"4\">The following four categories are the most important:\n",
    "    - per_base_sequence_quality\n",
    "    - per_sequence_quality_scores\n",
    "    - per_base_n_content\n",
    "    - adapter_content\n",
    "    \n",
    "If a sample does not pass any of these four categories, discard the sample\n",
    "</font>"
   ]
  },
  {
   "cell_type": "code",
   "execution_count": 16,
   "metadata": {},
   "outputs": [],
   "source": [
    "fastqc_fail_cols = ['per_base_sequence_quality','per_sequence_quality_scores','per_base_n_content','adapter_content']"
   ]
  },
  {
   "cell_type": "code",
   "execution_count": 17,
   "metadata": {},
   "outputs": [
    {
     "data": {
      "text/html": [
       "<div>\n",
       "<style scoped>\n",
       "    .dataframe tbody tr th:only-of-type {\n",
       "        vertical-align: middle;\n",
       "    }\n",
       "\n",
       "    .dataframe tbody tr th {\n",
       "        vertical-align: top;\n",
       "    }\n",
       "\n",
       "    .dataframe thead th {\n",
       "        text-align: right;\n",
       "    }\n",
       "</style>\n",
       "<table border=\"1\" class=\"dataframe\">\n",
       "  <thead>\n",
       "    <tr style=\"text-align: right;\">\n",
       "      <th></th>\n",
       "      <th>per_base_sequence_quality</th>\n",
       "      <th>per_sequence_quality_scores</th>\n",
       "      <th>adapter_content</th>\n",
       "    </tr>\n",
       "  </thead>\n",
       "  <tbody>\n",
       "    <tr>\n",
       "      <th>SRX2781382</th>\n",
       "      <td>fail</td>\n",
       "      <td>pass</td>\n",
       "      <td>pass</td>\n",
       "    </tr>\n",
       "    <tr>\n",
       "      <th>SRX2548840</th>\n",
       "      <td>fail</td>\n",
       "      <td>pass</td>\n",
       "      <td>pass</td>\n",
       "    </tr>\n",
       "    <tr>\n",
       "      <th>ERX1518398</th>\n",
       "      <td>fail</td>\n",
       "      <td>pass</td>\n",
       "      <td>pass</td>\n",
       "    </tr>\n",
       "    <tr>\n",
       "      <th>ERX1518399</th>\n",
       "      <td>fail</td>\n",
       "      <td>pass</td>\n",
       "      <td>pass</td>\n",
       "    </tr>\n",
       "    <tr>\n",
       "      <th>SRX2548839</th>\n",
       "      <td>fail</td>\n",
       "      <td>pass</td>\n",
       "      <td>pass</td>\n",
       "    </tr>\n",
       "  </tbody>\n",
       "</table>\n",
       "</div>"
      ],
      "text/plain": [
       "           per_base_sequence_quality per_sequence_quality_scores  \\\n",
       "SRX2781382                      fail                        pass   \n",
       "SRX2548840                      fail                        pass   \n",
       "ERX1518398                      fail                        pass   \n",
       "ERX1518399                      fail                        pass   \n",
       "SRX2548839                      fail                        pass   \n",
       "\n",
       "           adapter_content  \n",
       "SRX2781382            pass  \n",
       "SRX2548840            pass  \n",
       "ERX1518398            pass  \n",
       "ERX1518399            pass  \n",
       "SRX2548839            pass  "
      ]
     },
     "execution_count": 17,
     "metadata": {},
     "output_type": "execute_result"
    }
   ],
   "source": [
    "DF_failed_fastqc = DF_fastqc[fastqc_fail_cols][(DF_fastqc[fastqc_fail_cols] != 'pass').any(axis=1)]\n",
    "DF_failed_fastqc[fastqc_fail_cols]"
   ]
  },
  {
   "cell_type": "markdown",
   "metadata": {},
   "source": [
    "<font size=\"4\">Mark samples as failed.</font>"
   ]
  },
  {
   "cell_type": "code",
   "execution_count": 18,
   "metadata": {},
   "outputs": [],
   "source": [
    "DF_metadata['passed_fastqc'] = ~DF_metadata.index.isin(DF_failed_fastqc.index)"
   ]
  },
  {
   "cell_type": "markdown",
   "metadata": {},
   "source": [
    "## Percent of reads aligned to genome"
   ]
  },
  {
   "cell_type": "code",
   "execution_count": 19,
   "metadata": {},
   "outputs": [
    {
     "data": {
      "text/plain": [
       "40"
      ]
     },
     "execution_count": 19,
     "metadata": {},
     "output_type": "execute_result"
    }
   ],
   "source": [
    "min_pct_aligned"
   ]
  },
  {
   "cell_type": "code",
   "execution_count": 20,
   "metadata": {},
   "outputs": [],
   "source": [
    "align_cols = ['mRNA-sense','mRNA-antisense','rRNA-sense','rRNA-antisense',\n",
    "              'tRNA-sense','tRNA-antisense','ncRNA-sense','ncRNA-antisense','unannotated']\n",
    "total_alignment = DF_qc_stats[align_cols].sum(axis=1)\n",
    "percent_alignment = total_alignment.divide(DF_qc_stats['total-reads'])*100"
   ]
  },
  {
   "cell_type": "code",
   "execution_count": 21,
   "metadata": {},
   "outputs": [
    {
     "data": {
      "text/plain": [
       "Text(0.5, 1.0, 'Histogram of Alignment Percentage')"
      ]
     },
     "execution_count": 21,
     "metadata": {},
     "output_type": "execute_result"
    },
    {
     "data": {
      "image/png": "[encoded data removed]",
      "text/plain": [
       "<Figure size 432x288 with 1 Axes>"
      ]
     },
     "metadata": {},
     "output_type": "display_data"
    }
   ],
   "source": [
    "fig,ax = plt.subplots()\n",
    "ax.hist(percent_alignment,bins=50,alpha=0.8)\n",
    "ymin,ymax = ax.get_ylim()\n",
    "ax.vlines(min_pct_aligned,ymin,ymax,color='r')\n",
    "ax.set_ylim((ymin,ymax))\n",
    "ax.set_xlabel('% of reads mapped to genome',fontsize=14)\n",
    "ax.set_ylabel('# Samples',fontsize=14)\n",
    "ax.set_title('Histogram of Alignment Percentage',fontsize=16)"
   ]
  },
  {
   "cell_type": "code",
   "execution_count": 22,
   "metadata": {},
   "outputs": [
    {
     "data": {
      "text/html": [
       "<div>\n",
       "<style scoped>\n",
       "    .dataframe tbody tr th:only-of-type {\n",
       "        vertical-align: middle;\n",
       "    }\n",
       "\n",
       "    .dataframe tbody tr th {\n",
       "        vertical-align: top;\n",
       "    }\n",
       "\n",
       "    .dataframe thead th {\n",
       "        text-align: right;\n",
       "    }\n",
       "</style>\n",
       "<table border=\"1\" class=\"dataframe\">\n",
       "  <thead>\n",
       "    <tr style=\"text-align: right;\">\n",
       "      <th></th>\n",
       "      <th>mRNA-sense</th>\n",
       "      <th>mRNA-antisense</th>\n",
       "      <th>rRNA-sense</th>\n",
       "      <th>rRNA-antisense</th>\n",
       "      <th>tRNA-sense</th>\n",
       "      <th>tRNA-antisense</th>\n",
       "      <th>ncRNA-sense</th>\n",
       "      <th>ncRNA-antisense</th>\n",
       "      <th>unannotated</th>\n",
       "      <th>total-reads</th>\n",
       "      <th>...</th>\n",
       "      <th>r_written</th>\n",
       "      <th>bp_processed</th>\n",
       "      <th>quality_trimmed</th>\n",
       "      <th>bp_written</th>\n",
       "      <th>percent_trimmed</th>\n",
       "      <th>pe_sense</th>\n",
       "      <th>pe_antisense</th>\n",
       "      <th>failed</th>\n",
       "      <th>se_sense</th>\n",
       "      <th>se_antisense</th>\n",
       "    </tr>\n",
       "  </thead>\n",
       "  <tbody>\n",
       "    <tr>\n",
       "      <th>SRX2781382</th>\n",
       "      <td>329910.0</td>\n",
       "      <td>62840.0</td>\n",
       "      <td>47130.0</td>\n",
       "      <td>0.0</td>\n",
       "      <td>0.0</td>\n",
       "      <td>0.0</td>\n",
       "      <td>0.0</td>\n",
       "      <td>0.0</td>\n",
       "      <td>1131121.0</td>\n",
       "      <td>4760383.0</td>\n",
       "      <td>...</td>\n",
       "      <td>5192923</td>\n",
       "      <td>280108073</td>\n",
       "      <td>781617</td>\n",
       "      <td>260898695</td>\n",
       "      <td>6.857845</td>\n",
       "      <td>0.0000</td>\n",
       "      <td>0.0000</td>\n",
       "      <td>0.1489</td>\n",
       "      <td>0.6502</td>\n",
       "      <td>0.2009</td>\n",
       "    </tr>\n",
       "    <tr>\n",
       "      <th>ERX1518397</th>\n",
       "      <td>13208.0</td>\n",
       "      <td>455.0</td>\n",
       "      <td>24138.0</td>\n",
       "      <td>0.0</td>\n",
       "      <td>0.0</td>\n",
       "      <td>0.0</td>\n",
       "      <td>0.0</td>\n",
       "      <td>0.0</td>\n",
       "      <td>7742.0</td>\n",
       "      <td>8365915.0</td>\n",
       "      <td>...</td>\n",
       "      <td>8929982</td>\n",
       "      <td>607238776</td>\n",
       "      <td>3896544</td>\n",
       "      <td>545607801</td>\n",
       "      <td>10.149381</td>\n",
       "      <td>0.0625</td>\n",
       "      <td>0.9375</td>\n",
       "      <td>0.0000</td>\n",
       "      <td>0.0000</td>\n",
       "      <td>0.0000</td>\n",
       "    </tr>\n",
       "    <tr>\n",
       "      <th>SRX3823536</th>\n",
       "      <td>1749580.0</td>\n",
       "      <td>57363.0</td>\n",
       "      <td>860449.0</td>\n",
       "      <td>0.0</td>\n",
       "      <td>0.0</td>\n",
       "      <td>0.0</td>\n",
       "      <td>0.0</td>\n",
       "      <td>0.0</td>\n",
       "      <td>172090.0</td>\n",
       "      <td>7452743.0</td>\n",
       "      <td>...</td>\n",
       "      <td>7466884</td>\n",
       "      <td>186672100</td>\n",
       "      <td>193560</td>\n",
       "      <td>184017957</td>\n",
       "      <td>1.421821</td>\n",
       "      <td>0.0424</td>\n",
       "      <td>0.9531</td>\n",
       "      <td>0.0045</td>\n",
       "      <td>0.0000</td>\n",
       "      <td>0.0000</td>\n",
       "    </tr>\n",
       "    <tr>\n",
       "      <th>SRX4001519</th>\n",
       "      <td>2667595.0</td>\n",
       "      <td>104612.0</td>\n",
       "      <td>2196843.0</td>\n",
       "      <td>0.0</td>\n",
       "      <td>0.0</td>\n",
       "      <td>0.0</td>\n",
       "      <td>0.0</td>\n",
       "      <td>0.0</td>\n",
       "      <td>261529.0</td>\n",
       "      <td>13264002.0</td>\n",
       "      <td>...</td>\n",
       "      <td>13378419</td>\n",
       "      <td>347838894</td>\n",
       "      <td>170325</td>\n",
       "      <td>341167810</td>\n",
       "      <td>1.917866</td>\n",
       "      <td>0.0398</td>\n",
       "      <td>0.9562</td>\n",
       "      <td>0.0040</td>\n",
       "      <td>0.0000</td>\n",
       "      <td>0.0000</td>\n",
       "    </tr>\n",
       "    <tr>\n",
       "      <th>SRX4001527</th>\n",
       "      <td>1011952.0</td>\n",
       "      <td>33732.0</td>\n",
       "      <td>539708.0</td>\n",
       "      <td>0.0</td>\n",
       "      <td>0.0</td>\n",
       "      <td>0.0</td>\n",
       "      <td>0.0</td>\n",
       "      <td>0.0</td>\n",
       "      <td>84329.0</td>\n",
       "      <td>4175735.0</td>\n",
       "      <td>...</td>\n",
       "      <td>4180332</td>\n",
       "      <td>313524900</td>\n",
       "      <td>132394</td>\n",
       "      <td>313379710</td>\n",
       "      <td>0.046309</td>\n",
       "      <td>0.0389</td>\n",
       "      <td>0.9518</td>\n",
       "      <td>0.0093</td>\n",
       "      <td>0.0000</td>\n",
       "      <td>0.0000</td>\n",
       "    </tr>\n",
       "    <tr>\n",
       "      <th>SRX2548840</th>\n",
       "      <td>285416.0</td>\n",
       "      <td>16789.0</td>\n",
       "      <td>1124874.0</td>\n",
       "      <td>0.0</td>\n",
       "      <td>16789.0</td>\n",
       "      <td>0.0</td>\n",
       "      <td>0.0</td>\n",
       "      <td>0.0</td>\n",
       "      <td>251837.0</td>\n",
       "      <td>6346266.0</td>\n",
       "      <td>...</td>\n",
       "      <td>10111800</td>\n",
       "      <td>319906842</td>\n",
       "      <td>1385320</td>\n",
       "      <td>303113159</td>\n",
       "      <td>5.249554</td>\n",
       "      <td>0.0000</td>\n",
       "      <td>0.0000</td>\n",
       "      <td>0.0195</td>\n",
       "      <td>0.9252</td>\n",
       "      <td>0.0553</td>\n",
       "    </tr>\n",
       "    <tr>\n",
       "      <th>SRX4001522</th>\n",
       "      <td>2854596.0</td>\n",
       "      <td>101950.0</td>\n",
       "      <td>1886072.0</td>\n",
       "      <td>0.0</td>\n",
       "      <td>0.0</td>\n",
       "      <td>0.0</td>\n",
       "      <td>0.0</td>\n",
       "      <td>0.0</td>\n",
       "      <td>305850.0</td>\n",
       "      <td>13032939.0</td>\n",
       "      <td>...</td>\n",
       "      <td>13071461</td>\n",
       "      <td>339857986</td>\n",
       "      <td>159683</td>\n",
       "      <td>339656968</td>\n",
       "      <td>0.059148</td>\n",
       "      <td>0.0396</td>\n",
       "      <td>0.9566</td>\n",
       "      <td>0.0038</td>\n",
       "      <td>0.0000</td>\n",
       "      <td>0.0000</td>\n",
       "    </tr>\n",
       "    <tr>\n",
       "      <th>ERX1518398</th>\n",
       "      <td>5114.0</td>\n",
       "      <td>222.0</td>\n",
       "      <td>12450.0</td>\n",
       "      <td>0.0</td>\n",
       "      <td>0.0</td>\n",
       "      <td>0.0</td>\n",
       "      <td>0.0</td>\n",
       "      <td>0.0</td>\n",
       "      <td>4224.0</td>\n",
       "      <td>4886827.0</td>\n",
       "      <td>...</td>\n",
       "      <td>5489885</td>\n",
       "      <td>373312180</td>\n",
       "      <td>2954939</td>\n",
       "      <td>301318297</td>\n",
       "      <td>19.285169</td>\n",
       "      <td>0.0000</td>\n",
       "      <td>1.0000</td>\n",
       "      <td>0.0000</td>\n",
       "      <td>0.0000</td>\n",
       "      <td>0.0000</td>\n",
       "    </tr>\n",
       "    <tr>\n",
       "      <th>ERX1518399</th>\n",
       "      <td>11439.0</td>\n",
       "      <td>738.0</td>\n",
       "      <td>18081.0</td>\n",
       "      <td>0.0</td>\n",
       "      <td>0.0</td>\n",
       "      <td>0.0</td>\n",
       "      <td>0.0</td>\n",
       "      <td>0.0</td>\n",
       "      <td>6642.0</td>\n",
       "      <td>6932975.0</td>\n",
       "      <td>...</td>\n",
       "      <td>7366354</td>\n",
       "      <td>552476550</td>\n",
       "      <td>9876077</td>\n",
       "      <td>515391384</td>\n",
       "      <td>6.712532</td>\n",
       "      <td>0.0000</td>\n",
       "      <td>1.0000</td>\n",
       "      <td>0.0000</td>\n",
       "      <td>0.0000</td>\n",
       "      <td>0.0000</td>\n",
       "    </tr>\n",
       "    <tr>\n",
       "      <th>SRX2548839</th>\n",
       "      <td>364328.0</td>\n",
       "      <td>101202.0</td>\n",
       "      <td>60721.0</td>\n",
       "      <td>0.0</td>\n",
       "      <td>0.0</td>\n",
       "      <td>0.0</td>\n",
       "      <td>0.0</td>\n",
       "      <td>0.0</td>\n",
       "      <td>1497795.0</td>\n",
       "      <td>6103884.0</td>\n",
       "      <td>...</td>\n",
       "      <td>6615689</td>\n",
       "      <td>337487202</td>\n",
       "      <td>920596</td>\n",
       "      <td>327766437</td>\n",
       "      <td>2.880336</td>\n",
       "      <td>0.0000</td>\n",
       "      <td>0.0000</td>\n",
       "      <td>0.1882</td>\n",
       "      <td>0.5947</td>\n",
       "      <td>0.2170</td>\n",
       "    </tr>\n",
       "    <tr>\n",
       "      <th>SRX4001528</th>\n",
       "      <td>2548306.0</td>\n",
       "      <td>104012.0</td>\n",
       "      <td>2132256.0</td>\n",
       "      <td>0.0</td>\n",
       "      <td>0.0</td>\n",
       "      <td>0.0</td>\n",
       "      <td>0.0</td>\n",
       "      <td>0.0</td>\n",
       "      <td>416050.0</td>\n",
       "      <td>13215307.0</td>\n",
       "      <td>...</td>\n",
       "      <td>13252003</td>\n",
       "      <td>344552078</td>\n",
       "      <td>174971</td>\n",
       "      <td>338112398</td>\n",
       "      <td>1.869000</td>\n",
       "      <td>0.0477</td>\n",
       "      <td>0.9473</td>\n",
       "      <td>0.0051</td>\n",
       "      <td>0.0000</td>\n",
       "      <td>0.0000</td>\n",
       "    </tr>\n",
       "  </tbody>\n",
       "</table>\n",
       "<p>11 rows × 43 columns</p>\n",
       "</div>"
      ],
      "text/plain": [
       "            mRNA-sense  mRNA-antisense  rRNA-sense  rRNA-antisense  \\\n",
       "SRX2781382    329910.0         62840.0     47130.0             0.0   \n",
       "ERX1518397     13208.0           455.0     24138.0             0.0   \n",
       "SRX3823536   1749580.0         57363.0    860449.0             0.0   \n",
       "SRX4001519   2667595.0        104612.0   2196843.0             0.0   \n",
       "SRX4001527   1011952.0         33732.0    539708.0             0.0   \n",
       "SRX2548840    285416.0         16789.0   1124874.0             0.0   \n",
       "SRX4001522   2854596.0        101950.0   1886072.0             0.0   \n",
       "ERX1518398      5114.0           222.0     12450.0             0.0   \n",
       "ERX1518399     11439.0           738.0     18081.0             0.0   \n",
       "SRX2548839    364328.0        101202.0     60721.0             0.0   \n",
       "SRX4001528   2548306.0        104012.0   2132256.0             0.0   \n",
       "\n",
       "            tRNA-sense  tRNA-antisense  ncRNA-sense  ncRNA-antisense  \\\n",
       "SRX2781382         0.0             0.0          0.0              0.0   \n",
       "ERX1518397         0.0             0.0          0.0              0.0   \n",
       "SRX3823536         0.0             0.0          0.0              0.0   \n",
       "SRX4001519         0.0             0.0          0.0              0.0   \n",
       "SRX4001527         0.0             0.0          0.0              0.0   \n",
       "SRX2548840     16789.0             0.0          0.0              0.0   \n",
       "SRX4001522         0.0             0.0          0.0              0.0   \n",
       "ERX1518398         0.0             0.0          0.0              0.0   \n",
       "ERX1518399         0.0             0.0          0.0              0.0   \n",
       "SRX2548839         0.0             0.0          0.0              0.0   \n",
       "SRX4001528         0.0             0.0          0.0              0.0   \n",
       "\n",
       "            unannotated  total-reads  ...  r_written bp_processed  \\\n",
       "SRX2781382    1131121.0    4760383.0  ...    5192923    280108073   \n",
       "ERX1518397       7742.0    8365915.0  ...    8929982    607238776   \n",
       "SRX3823536     172090.0    7452743.0  ...    7466884    186672100   \n",
       "SRX4001519     261529.0   13264002.0  ...   13378419    347838894   \n",
       "SRX4001527      84329.0    4175735.0  ...    4180332    313524900   \n",
       "SRX2548840     251837.0    6346266.0  ...   10111800    319906842   \n",
       "SRX4001522     305850.0   13032939.0  ...   13071461    339857986   \n",
       "ERX1518398       4224.0    4886827.0  ...    5489885    373312180   \n",
       "ERX1518399       6642.0    6932975.0  ...    7366354    552476550   \n",
       "SRX2548839    1497795.0    6103884.0  ...    6615689    337487202   \n",
       "SRX4001528     416050.0   13215307.0  ...   13252003    344552078   \n",
       "\n",
       "           quality_trimmed bp_written  percent_trimmed  pe_sense pe_antisense  \\\n",
       "SRX2781382          781617  260898695         6.857845    0.0000       0.0000   \n",
       "ERX1518397         3896544  545607801        10.149381    0.0625       0.9375   \n",
       "SRX3823536          193560  184017957         1.421821    0.0424       0.9531   \n",
       "SRX4001519          170325  341167810         1.917866    0.0398       0.9562   \n",
       "SRX4001527          132394  313379710         0.046309    0.0389       0.9518   \n",
       "SRX2548840         1385320  303113159         5.249554    0.0000       0.0000   \n",
       "SRX4001522          159683  339656968         0.059148    0.0396       0.9566   \n",
       "ERX1518398         2954939  301318297        19.285169    0.0000       1.0000   \n",
       "ERX1518399         9876077  515391384         6.712532    0.0000       1.0000   \n",
       "SRX2548839          920596  327766437         2.880336    0.0000       0.0000   \n",
       "SRX4001528          174971  338112398         1.869000    0.0477       0.9473   \n",
       "\n",
       "            failed  se_sense  se_antisense  \n",
       "SRX2781382  0.1489    0.6502        0.2009  \n",
       "ERX1518397  0.0000    0.0000        0.0000  \n",
       "SRX3823536  0.0045    0.0000        0.0000  \n",
       "SRX4001519  0.0040    0.0000        0.0000  \n",
       "SRX4001527  0.0093    0.0000        0.0000  \n",
       "SRX2548840  0.0195    0.9252        0.0553  \n",
       "SRX4001522  0.0038    0.0000        0.0000  \n",
       "ERX1518398  0.0000    0.0000        0.0000  \n",
       "ERX1518399  0.0000    0.0000        0.0000  \n",
       "SRX2548839  0.1882    0.5947        0.2170  \n",
       "SRX4001528  0.0051    0.0000        0.0000  \n",
       "\n",
       "[11 rows x 43 columns]"
      ]
     },
     "execution_count": 22,
     "metadata": {},
     "output_type": "execute_result"
    }
   ],
   "source": [
    "DF_failed_mapping = DF_qc_stats[percent_alignment < min_pct_aligned]\n",
    "DF_failed_mapping"
   ]
  },
  {
   "cell_type": "code",
   "execution_count": 23,
   "metadata": {},
   "outputs": [],
   "source": [
    "DF_metadata['passed_pct_reads_mapped'] = ~DF_metadata.index.isin(DF_failed_mapping.index)"
   ]
  },
  {
   "cell_type": "markdown",
   "metadata": {},
   "source": [
    "## Number of aligned reads"
   ]
  },
  {
   "cell_type": "markdown",
   "metadata": {},
   "source": [
    "<font size=\"4\">The following histogram shows how many reads map to coding sequences (i.e. mRNA). Too few aligned reads reduces the sensitivity of the resulting data.</font>"
   ]
  },
  {
   "cell_type": "code",
   "execution_count": 24,
   "metadata": {},
   "outputs": [
    {
     "data": {
      "text/plain": [
       "500000.0"
      ]
     },
     "execution_count": 24,
     "metadata": {},
     "output_type": "execute_result"
    }
   ],
   "source": [
    "min_mrna_reads"
   ]
  },
  {
   "cell_type": "code",
   "execution_count": 25,
   "metadata": {},
   "outputs": [
    {
     "data": {
      "text/plain": [
       "Text(0.5, 1.0, 'Number of reads mapped to CDS')"
      ]
     },
     "execution_count": 25,
     "metadata": {},
     "output_type": "execute_result"
    },
    {
     "data": {
      "image/png": "[encoded data removed]",
      "text/plain": [
       "<Figure size 432x288 with 1 Axes>"
      ]
     },
     "metadata": {},
     "output_type": "display_data"
    }
   ],
   "source": [
    "fig,ax = plt.subplots()\n",
    "ax.hist(DF_qc_stats['mRNA-sense']/1e6,bins=50,alpha=0.8)\n",
    "ymin,ymax = ax.get_ylim()\n",
    "ax.vlines(min_mrna_reads/1e6,ymin,ymax,color='r')\n",
    "ax.set_ylim((ymin,ymax))\n",
    "ax.set_xlabel('# Reads (M)',fontsize=14)\n",
    "ax.set_ylabel('# Samples',fontsize=14)\n",
    "ax.set_title('Number of reads mapped to CDS',fontsize=16)"
   ]
  },
  {
   "cell_type": "markdown",
   "metadata": {},
   "source": [
    "<font size=\"4\">Identify samples with poor read depth:</font>"
   ]
  },
  {
   "cell_type": "code",
   "execution_count": 26,
   "metadata": {},
   "outputs": [
    {
     "data": {
      "text/html": [
       "<div>\n",
       "<style scoped>\n",
       "    .dataframe tbody tr th:only-of-type {\n",
       "        vertical-align: middle;\n",
       "    }\n",
       "\n",
       "    .dataframe tbody tr th {\n",
       "        vertical-align: top;\n",
       "    }\n",
       "\n",
       "    .dataframe thead th {\n",
       "        text-align: right;\n",
       "    }\n",
       "</style>\n",
       "<table border=\"1\" class=\"dataframe\">\n",
       "  <thead>\n",
       "    <tr style=\"text-align: right;\">\n",
       "      <th></th>\n",
       "      <th>mRNA-sense</th>\n",
       "      <th>mRNA-antisense</th>\n",
       "      <th>rRNA-sense</th>\n",
       "      <th>rRNA-antisense</th>\n",
       "      <th>tRNA-sense</th>\n",
       "      <th>tRNA-antisense</th>\n",
       "      <th>ncRNA-sense</th>\n",
       "      <th>ncRNA-antisense</th>\n",
       "      <th>unannotated</th>\n",
       "      <th>total-reads</th>\n",
       "      <th>...</th>\n",
       "      <th>r_written</th>\n",
       "      <th>bp_processed</th>\n",
       "      <th>quality_trimmed</th>\n",
       "      <th>bp_written</th>\n",
       "      <th>percent_trimmed</th>\n",
       "      <th>pe_sense</th>\n",
       "      <th>pe_antisense</th>\n",
       "      <th>failed</th>\n",
       "      <th>se_sense</th>\n",
       "      <th>se_antisense</th>\n",
       "    </tr>\n",
       "  </thead>\n",
       "  <tbody>\n",
       "    <tr>\n",
       "      <th>ERX1518398</th>\n",
       "      <td>5114.0</td>\n",
       "      <td>222.0</td>\n",
       "      <td>12450.0</td>\n",
       "      <td>0.0</td>\n",
       "      <td>0.0</td>\n",
       "      <td>0.0</td>\n",
       "      <td>0.0</td>\n",
       "      <td>0.0</td>\n",
       "      <td>4224.0</td>\n",
       "      <td>4886827.0</td>\n",
       "      <td>...</td>\n",
       "      <td>5489885</td>\n",
       "      <td>373312180</td>\n",
       "      <td>2954939</td>\n",
       "      <td>301318297</td>\n",
       "      <td>19.285169</td>\n",
       "      <td>0.0000</td>\n",
       "      <td>1.0000</td>\n",
       "      <td>0.0000</td>\n",
       "      <td>0.0000</td>\n",
       "      <td>0.0000</td>\n",
       "    </tr>\n",
       "    <tr>\n",
       "      <th>ERX1518399</th>\n",
       "      <td>11439.0</td>\n",
       "      <td>738.0</td>\n",
       "      <td>18081.0</td>\n",
       "      <td>0.0</td>\n",
       "      <td>0.0</td>\n",
       "      <td>0.0</td>\n",
       "      <td>0.0</td>\n",
       "      <td>0.0</td>\n",
       "      <td>6642.0</td>\n",
       "      <td>6932975.0</td>\n",
       "      <td>...</td>\n",
       "      <td>7366354</td>\n",
       "      <td>552476550</td>\n",
       "      <td>9876077</td>\n",
       "      <td>515391384</td>\n",
       "      <td>6.712532</td>\n",
       "      <td>0.0000</td>\n",
       "      <td>1.0000</td>\n",
       "      <td>0.0000</td>\n",
       "      <td>0.0000</td>\n",
       "      <td>0.0000</td>\n",
       "    </tr>\n",
       "    <tr>\n",
       "      <th>ERX1518397</th>\n",
       "      <td>13208.0</td>\n",
       "      <td>455.0</td>\n",
       "      <td>24138.0</td>\n",
       "      <td>0.0</td>\n",
       "      <td>0.0</td>\n",
       "      <td>0.0</td>\n",
       "      <td>0.0</td>\n",
       "      <td>0.0</td>\n",
       "      <td>7742.0</td>\n",
       "      <td>8365915.0</td>\n",
       "      <td>...</td>\n",
       "      <td>8929982</td>\n",
       "      <td>607238776</td>\n",
       "      <td>3896544</td>\n",
       "      <td>545607801</td>\n",
       "      <td>10.149381</td>\n",
       "      <td>0.0625</td>\n",
       "      <td>0.9375</td>\n",
       "      <td>0.0000</td>\n",
       "      <td>0.0000</td>\n",
       "      <td>0.0000</td>\n",
       "    </tr>\n",
       "    <tr>\n",
       "      <th>SRX2548840</th>\n",
       "      <td>285416.0</td>\n",
       "      <td>16789.0</td>\n",
       "      <td>1124874.0</td>\n",
       "      <td>0.0</td>\n",
       "      <td>16789.0</td>\n",
       "      <td>0.0</td>\n",
       "      <td>0.0</td>\n",
       "      <td>0.0</td>\n",
       "      <td>251837.0</td>\n",
       "      <td>6346266.0</td>\n",
       "      <td>...</td>\n",
       "      <td>10111800</td>\n",
       "      <td>319906842</td>\n",
       "      <td>1385320</td>\n",
       "      <td>303113159</td>\n",
       "      <td>5.249554</td>\n",
       "      <td>0.0000</td>\n",
       "      <td>0.0000</td>\n",
       "      <td>0.0195</td>\n",
       "      <td>0.9252</td>\n",
       "      <td>0.0553</td>\n",
       "    </tr>\n",
       "    <tr>\n",
       "      <th>SRX2781382</th>\n",
       "      <td>329910.0</td>\n",
       "      <td>62840.0</td>\n",
       "      <td>47130.0</td>\n",
       "      <td>0.0</td>\n",
       "      <td>0.0</td>\n",
       "      <td>0.0</td>\n",
       "      <td>0.0</td>\n",
       "      <td>0.0</td>\n",
       "      <td>1131121.0</td>\n",
       "      <td>4760383.0</td>\n",
       "      <td>...</td>\n",
       "      <td>5192923</td>\n",
       "      <td>280108073</td>\n",
       "      <td>781617</td>\n",
       "      <td>260898695</td>\n",
       "      <td>6.857845</td>\n",
       "      <td>0.0000</td>\n",
       "      <td>0.0000</td>\n",
       "      <td>0.1489</td>\n",
       "      <td>0.6502</td>\n",
       "      <td>0.2009</td>\n",
       "    </tr>\n",
       "    <tr>\n",
       "      <th>SRX2548839</th>\n",
       "      <td>364328.0</td>\n",
       "      <td>101202.0</td>\n",
       "      <td>60721.0</td>\n",
       "      <td>0.0</td>\n",
       "      <td>0.0</td>\n",
       "      <td>0.0</td>\n",
       "      <td>0.0</td>\n",
       "      <td>0.0</td>\n",
       "      <td>1497795.0</td>\n",
       "      <td>6103884.0</td>\n",
       "      <td>...</td>\n",
       "      <td>6615689</td>\n",
       "      <td>337487202</td>\n",
       "      <td>920596</td>\n",
       "      <td>327766437</td>\n",
       "      <td>2.880336</td>\n",
       "      <td>0.0000</td>\n",
       "      <td>0.0000</td>\n",
       "      <td>0.1882</td>\n",
       "      <td>0.5947</td>\n",
       "      <td>0.2170</td>\n",
       "    </tr>\n",
       "  </tbody>\n",
       "</table>\n",
       "<p>6 rows × 43 columns</p>\n",
       "</div>"
      ],
      "text/plain": [
       "            mRNA-sense  mRNA-antisense  rRNA-sense  rRNA-antisense  \\\n",
       "ERX1518398      5114.0           222.0     12450.0             0.0   \n",
       "ERX1518399     11439.0           738.0     18081.0             0.0   \n",
       "ERX1518397     13208.0           455.0     24138.0             0.0   \n",
       "SRX2548840    285416.0         16789.0   1124874.0             0.0   \n",
       "SRX2781382    329910.0         62840.0     47130.0             0.0   \n",
       "SRX2548839    364328.0        101202.0     60721.0             0.0   \n",
       "\n",
       "            tRNA-sense  tRNA-antisense  ncRNA-sense  ncRNA-antisense  \\\n",
       "ERX1518398         0.0             0.0          0.0              0.0   \n",
       "ERX1518399         0.0             0.0          0.0              0.0   \n",
       "ERX1518397         0.0             0.0          0.0              0.0   \n",
       "SRX2548840     16789.0             0.0          0.0              0.0   \n",
       "SRX2781382         0.0             0.0          0.0              0.0   \n",
       "SRX2548839         0.0             0.0          0.0              0.0   \n",
       "\n",
       "            unannotated  total-reads  ...  r_written bp_processed  \\\n",
       "ERX1518398       4224.0    4886827.0  ...    5489885    373312180   \n",
       "ERX1518399       6642.0    6932975.0  ...    7366354    552476550   \n",
       "ERX1518397       7742.0    8365915.0  ...    8929982    607238776   \n",
       "SRX2548840     251837.0    6346266.0  ...   10111800    319906842   \n",
       "SRX2781382    1131121.0    4760383.0  ...    5192923    280108073   \n",
       "SRX2548839    1497795.0    6103884.0  ...    6615689    337487202   \n",
       "\n",
       "           quality_trimmed bp_written  percent_trimmed  pe_sense pe_antisense  \\\n",
       "ERX1518398         2954939  301318297        19.285169    0.0000       1.0000   \n",
       "ERX1518399         9876077  515391384         6.712532    0.0000       1.0000   \n",
       "ERX1518397         3896544  545607801        10.149381    0.0625       0.9375   \n",
       "SRX2548840         1385320  303113159         5.249554    0.0000       0.0000   \n",
       "SRX2781382          781617  260898695         6.857845    0.0000       0.0000   \n",
       "SRX2548839          920596  327766437         2.880336    0.0000       0.0000   \n",
       "\n",
       "            failed  se_sense  se_antisense  \n",
       "ERX1518398  0.0000    0.0000        0.0000  \n",
       "ERX1518399  0.0000    0.0000        0.0000  \n",
       "ERX1518397  0.0000    0.0000        0.0000  \n",
       "SRX2548840  0.0195    0.9252        0.0553  \n",
       "SRX2781382  0.1489    0.6502        0.2009  \n",
       "SRX2548839  0.1882    0.5947        0.2170  \n",
       "\n",
       "[6 rows x 43 columns]"
      ]
     },
     "execution_count": 26,
     "metadata": {},
     "output_type": "execute_result"
    }
   ],
   "source": [
    "DF_failed_mrna = DF_qc_stats[DF_qc_stats['mRNA-sense'] < min_mrna_reads].sort_values('mRNA-sense')\n",
    "DF_failed_mrna"
   ]
  },
  {
   "cell_type": "markdown",
   "metadata": {},
   "source": [
    "<font size=\"4\">Mark samples as failed.</font>"
   ]
  },
  {
   "cell_type": "code",
   "execution_count": 27,
   "metadata": {},
   "outputs": [],
   "source": [
    "DF_metadata['passed_reads_mapped_to_CDS'] = ~DF_metadata.index.isin(DF_failed_mrna.index)"
   ]
  },
  {
   "cell_type": "markdown",
   "metadata": {},
   "source": [
    "# Examine Global Correlations"
   ]
  },
  {
   "cell_type": "markdown",
   "metadata": {},
   "source": [
    "## Hierarchical Clustering"
   ]
  },
  {
   "cell_type": "markdown",
   "metadata": {},
   "source": [
    "<font size=4> A clustermap is a great way to visualize the global correlations between one sample and all others. The following code uses hierarchical clustering to identify specific clusters in the clustermap <font size=4>\n",
    "    \n",
    "<font size=4> To increase the number of clusters, decrease the value of `thresh`. To decrease the number of clusters, increase the value of `thresh` <font size=4>"
   ]
  },
  {
   "cell_type": "code",
   "execution_count": 28,
   "metadata": {},
   "outputs": [
    {
     "name": "stdout",
     "output_type": "stream",
     "text": [
      "Number of cluster:  7\n"
     ]
    }
   ],
   "source": [
    "import scipy.cluster.hierarchy as sch\n",
    "import matplotlib.patches as patches\n",
    "# change this to get different number of clusters\n",
    "thresh = .3\n",
    "\n",
    "# retrieve clusters using fcluster \n",
    "corr = DF_log_tpm.corr()\n",
    "corr.fillna(0,inplace=True)\n",
    "dist = sch.distance.pdist(corr)\n",
    "link = sch.linkage(dist, method='complete')\n",
    "clst = pd.DataFrame(index=DF_log_tpm.columns)\n",
    "clst['cluster'] = sch.fcluster(link, thresh * dist.max(), 'distance')\n",
    "\n",
    "#get colors for each cluster\n",
    "cm = plt.cm.get_cmap('tab20')\n",
    "clr = dict(zip(clst.cluster.unique(), cm.colors))\n",
    "clst['color'] = clst.cluster.map(clr)\n",
    "\n",
    "print('Number of cluster: ', len(clr))"
   ]
  },
  {
   "cell_type": "markdown",
   "metadata": {},
   "source": [
    "<font size=\"4\">To view sample IDs in the clustermap, set `xticklabels` and `yticklabels` to `True`. You can increase the `size` variable to improve readability of sample IDs<font>"
   ]
  },
  {
   "cell_type": "code",
   "execution_count": 29,
   "metadata": {},
   "outputs": [
    {
     "data": {
      "image/png": "[encoded data removed]",
      "text/plain": [
       "<Figure size 648x648 with 5 Axes>"
      ]
     },
     "metadata": {},
     "output_type": "display_data"
    }
   ],
   "source": [
    "size = 9\n",
    "\n",
    "legend_TN = [patches.Patch(color=c, label=l) for l,c in clr.items()]\n",
    "\n",
    "sns.set(rc={'figure.facecolor':'white'})\n",
    "g = sns.clustermap(DF_log_tpm.corr(), figsize=(size,size), \n",
    "                   row_linkage=link, col_linkage=link, col_colors=clst.color,\n",
    "                  yticklabels=False, xticklabels=False)\n",
    "\n",
    "l2=g.ax_heatmap.legend(loc='upper left', bbox_to_anchor=(1.01,0.85), handles=legend_TN,frameon=True)\n",
    "l2.set_title(title='Clusters',prop={'size':10})"
   ]
  },
  {
   "cell_type": "markdown",
   "metadata": {},
   "source": [
    "<font size=\"4\">Select clusters to remove.</font>"
   ]
  },
  {
   "cell_type": "code",
   "execution_count": 30,
   "metadata": {},
   "outputs": [],
   "source": [
    "#indicate which clusters you want to remove\n",
    "remove_clst = [6,7]\n",
    "failed_global_corr = clst[clst.cluster.isin(remove_clst)].index"
   ]
  },
  {
   "cell_type": "code",
   "execution_count": 31,
   "metadata": {},
   "outputs": [],
   "source": [
    "DF_metadata['passed_global_correlation'] = ~DF_metadata.index.isin(failed_global_corr)"
   ]
  },
  {
   "cell_type": "code",
   "execution_count": 32,
   "metadata": {},
   "outputs": [
    {
     "data": {
      "text/html": [
       "<div>\n",
       "<style scoped>\n",
       "    .dataframe tbody tr th:only-of-type {\n",
       "        vertical-align: middle;\n",
       "    }\n",
       "\n",
       "    .dataframe tbody tr th {\n",
       "        vertical-align: top;\n",
       "    }\n",
       "\n",
       "    .dataframe thead th {\n",
       "        text-align: right;\n",
       "    }\n",
       "</style>\n",
       "<table border=\"1\" class=\"dataframe\">\n",
       "  <thead>\n",
       "    <tr style=\"text-align: right;\">\n",
       "      <th></th>\n",
       "      <th>species_tax_id</th>\n",
       "      <th>BioSample</th>\n",
       "      <th>LibraryLayout</th>\n",
       "      <th>species</th>\n",
       "      <th>ProjectID</th>\n",
       "      <th>class_tax_id</th>\n",
       "      <th>ReleaseDate</th>\n",
       "      <th>LibrarySource</th>\n",
       "      <th>ScientificName</th>\n",
       "      <th>InsertSize</th>\n",
       "      <th>...</th>\n",
       "      <th>supplement</th>\n",
       "      <th>temperature</th>\n",
       "      <th>pH</th>\n",
       "      <th>growth_phase</th>\n",
       "      <th>OD</th>\n",
       "      <th>additional_notes</th>\n",
       "      <th>passed_fastqc</th>\n",
       "      <th>passed_pct_reads_mapped</th>\n",
       "      <th>passed_reads_mapped_to_CDS</th>\n",
       "      <th>passed_global_correlation</th>\n",
       "    </tr>\n",
       "  </thead>\n",
       "  <tbody>\n",
       "    <tr>\n",
       "      <th>SRX3565197</th>\n",
       "      <td>2285</td>\n",
       "      <td>SAMN07621591</td>\n",
       "      <td>SINGLE</td>\n",
       "      <td>Sulfolobus acidocaldarius</td>\n",
       "      <td>403223</td>\n",
       "      <td>183924</td>\n",
       "      <td>2018-01-16 10:29:12</td>\n",
       "      <td>TRANSCRIPTOMIC</td>\n",
       "      <td>Sulfolobus acidocaldarius</td>\n",
       "      <td>0</td>\n",
       "      <td>...</td>\n",
       "      <td>NaN</td>\n",
       "      <td>80.0</td>\n",
       "      <td>2.4</td>\n",
       "      <td>Log phase (B)</td>\n",
       "      <td>NaN</td>\n",
       "      <td>NaN</td>\n",
       "      <td>True</td>\n",
       "      <td>True</td>\n",
       "      <td>True</td>\n",
       "      <td>True</td>\n",
       "    </tr>\n",
       "    <tr>\n",
       "      <th>SRX2781382</th>\n",
       "      <td>2285</td>\n",
       "      <td>SAMN06886775</td>\n",
       "      <td>SINGLE</td>\n",
       "      <td>Sulfolobus acidocaldarius</td>\n",
       "      <td>373915</td>\n",
       "      <td>183924</td>\n",
       "      <td>2017-05-03 13:31:14</td>\n",
       "      <td>TRANSCRIPTOMIC</td>\n",
       "      <td>Sulfolobus acidocaldarius</td>\n",
       "      <td>0</td>\n",
       "      <td>...</td>\n",
       "      <td>NaN</td>\n",
       "      <td>NaN</td>\n",
       "      <td>NaN</td>\n",
       "      <td>NaN</td>\n",
       "      <td>NaN</td>\n",
       "      <td>NaN</td>\n",
       "      <td>False</td>\n",
       "      <td>False</td>\n",
       "      <td>False</td>\n",
       "      <td>False</td>\n",
       "    </tr>\n",
       "    <tr>\n",
       "      <th>SRX4001525</th>\n",
       "      <td>2285</td>\n",
       "      <td>SAMN08988058</td>\n",
       "      <td>PAIRED</td>\n",
       "      <td>Sulfolobus acidocaldarius</td>\n",
       "      <td>453776</td>\n",
       "      <td>183924</td>\n",
       "      <td>2018-12-23 11:52:17</td>\n",
       "      <td>TRANSCRIPTOMIC</td>\n",
       "      <td>Sulfolobus acidocaldarius</td>\n",
       "      <td>0</td>\n",
       "      <td>...</td>\n",
       "      <td>10µg/mL uracil</td>\n",
       "      <td>75.0</td>\n",
       "      <td>3.5</td>\n",
       "      <td>NaN</td>\n",
       "      <td>NaN</td>\n",
       "      <td>120 minutes after exposure to nutrient limitation</td>\n",
       "      <td>True</td>\n",
       "      <td>True</td>\n",
       "      <td>True</td>\n",
       "      <td>True</td>\n",
       "    </tr>\n",
       "    <tr>\n",
       "      <th>SRX3565174</th>\n",
       "      <td>2285</td>\n",
       "      <td>SAMN07621132</td>\n",
       "      <td>SINGLE</td>\n",
       "      <td>Sulfolobus acidocaldarius</td>\n",
       "      <td>403195</td>\n",
       "      <td>183924</td>\n",
       "      <td>2018-01-16 10:31:12</td>\n",
       "      <td>TRANSCRIPTOMIC</td>\n",
       "      <td>Sulfolobus acidocaldarius</td>\n",
       "      <td>0</td>\n",
       "      <td>...</td>\n",
       "      <td>NaN</td>\n",
       "      <td>65.0</td>\n",
       "      <td>3.5</td>\n",
       "      <td>Stationary phase (A)</td>\n",
       "      <td>NaN</td>\n",
       "      <td>NaN</td>\n",
       "      <td>True</td>\n",
       "      <td>True</td>\n",
       "      <td>True</td>\n",
       "      <td>True</td>\n",
       "    </tr>\n",
       "    <tr>\n",
       "      <th>SRX6762910</th>\n",
       "      <td>2285</td>\n",
       "      <td>SAMN12644730</td>\n",
       "      <td>PAIRED</td>\n",
       "      <td>Sulfolobus acidocaldarius</td>\n",
       "      <td>526225</td>\n",
       "      <td>183924</td>\n",
       "      <td>2019-09-19 16:33:15</td>\n",
       "      <td>TRANSCRIPTOMIC</td>\n",
       "      <td>Sulfolobus acidocaldarius</td>\n",
       "      <td>0</td>\n",
       "      <td>...</td>\n",
       "      <td>0.2% sucrose, 0.1% tryptone, 10µg/mL uracil</td>\n",
       "      <td>78.0</td>\n",
       "      <td>3.2</td>\n",
       "      <td>Log phase cells</td>\n",
       "      <td>NaN</td>\n",
       "      <td>NaN</td>\n",
       "      <td>True</td>\n",
       "      <td>True</td>\n",
       "      <td>True</td>\n",
       "      <td>True</td>\n",
       "    </tr>\n",
       "  </tbody>\n",
       "</table>\n",
       "<p>5 rows × 49 columns</p>\n",
       "</div>"
      ],
      "text/plain": [
       "            species_tax_id     BioSample LibraryLayout  \\\n",
       "SRX3565197            2285  SAMN07621591        SINGLE   \n",
       "SRX2781382            2285  SAMN06886775        SINGLE   \n",
       "SRX4001525            2285  SAMN08988058        PAIRED   \n",
       "SRX3565174            2285  SAMN07621132        SINGLE   \n",
       "SRX6762910            2285  SAMN12644730        PAIRED   \n",
       "\n",
       "                              species  ProjectID  class_tax_id  \\\n",
       "SRX3565197  Sulfolobus acidocaldarius     403223        183924   \n",
       "SRX2781382  Sulfolobus acidocaldarius     373915        183924   \n",
       "SRX4001525  Sulfolobus acidocaldarius     453776        183924   \n",
       "SRX3565174  Sulfolobus acidocaldarius     403195        183924   \n",
       "SRX6762910  Sulfolobus acidocaldarius     526225        183924   \n",
       "\n",
       "                    ReleaseDate   LibrarySource             ScientificName  \\\n",
       "SRX3565197  2018-01-16 10:29:12  TRANSCRIPTOMIC  Sulfolobus acidocaldarius   \n",
       "SRX2781382  2017-05-03 13:31:14  TRANSCRIPTOMIC  Sulfolobus acidocaldarius   \n",
       "SRX4001525  2018-12-23 11:52:17  TRANSCRIPTOMIC  Sulfolobus acidocaldarius   \n",
       "SRX3565174  2018-01-16 10:31:12  TRANSCRIPTOMIC  Sulfolobus acidocaldarius   \n",
       "SRX6762910  2019-09-19 16:33:15  TRANSCRIPTOMIC  Sulfolobus acidocaldarius   \n",
       "\n",
       "            InsertSize  ...                                   supplement  \\\n",
       "SRX3565197           0  ...                                          NaN   \n",
       "SRX2781382           0  ...                                          NaN   \n",
       "SRX4001525           0  ...                               10µg/mL uracil   \n",
       "SRX3565174           0  ...                                          NaN   \n",
       "SRX6762910           0  ...  0.2% sucrose, 0.1% tryptone, 10µg/mL uracil   \n",
       "\n",
       "           temperature   pH          growth_phase  OD  \\\n",
       "SRX3565197        80.0  2.4         Log phase (B) NaN   \n",
       "SRX2781382         NaN  NaN                   NaN NaN   \n",
       "SRX4001525        75.0  3.5                   NaN NaN   \n",
       "SRX3565174        65.0  3.5  Stationary phase (A) NaN   \n",
       "SRX6762910        78.0  3.2       Log phase cells NaN   \n",
       "\n",
       "                                             additional_notes  passed_fastqc  \\\n",
       "SRX3565197                                                NaN           True   \n",
       "SRX2781382                                                NaN          False   \n",
       "SRX4001525  120 minutes after exposure to nutrient limitation           True   \n",
       "SRX3565174                                                NaN           True   \n",
       "SRX6762910                                                NaN           True   \n",
       "\n",
       "           passed_pct_reads_mapped  passed_reads_mapped_to_CDS  \\\n",
       "SRX3565197                    True                        True   \n",
       "SRX2781382                   False                       False   \n",
       "SRX4001525                    True                        True   \n",
       "SRX3565174                    True                        True   \n",
       "SRX6762910                    True                        True   \n",
       "\n",
       "           passed_global_correlation  \n",
       "SRX3565197                      True  \n",
       "SRX2781382                     False  \n",
       "SRX4001525                      True  \n",
       "SRX3565174                      True  \n",
       "SRX6762910                      True  \n",
       "\n",
       "[5 rows x 49 columns]"
      ]
     },
     "execution_count": 32,
     "metadata": {},
     "output_type": "execute_result"
    }
   ],
   "source": [
    "DF_metadata.head()"
   ]
  },
  {
   "cell_type": "markdown",
   "metadata": {},
   "source": [
    "# Remove failed samples"
   ]
  },
  {
   "cell_type": "code",
   "execution_count": 33,
   "metadata": {},
   "outputs": [],
   "source": [
    "qc_columns = ['passed_fastqc',\n",
    "              'passed_reads_mapped_to_CDS',\n",
    "              'passed_pct_reads_mapped',\n",
    "              'passed_global_correlation']"
   ]
  },
  {
   "cell_type": "code",
   "execution_count": 34,
   "metadata": {},
   "outputs": [],
   "source": [
    "pass_qc = DF_metadata[qc_columns].all(axis=1)\n",
    "DF_metadata_passed = DF_metadata[pass_qc]"
   ]
  },
  {
   "cell_type": "code",
   "execution_count": 35,
   "metadata": {},
   "outputs": [
    {
     "data": {
      "image/png": "[encoded data removed]",
      "text/plain": [
       "<Figure size 432x288 with 1 Axes>"
      ]
     },
     "metadata": {},
     "output_type": "display_data"
    }
   ],
   "source": [
    "_,_,pcts = plt.pie(pass_qc.value_counts().sort_values(),\n",
    "        labels = ['Failed','Passed'],\n",
    "        colors=['tab:red','tab:blue'],\n",
    "        autopct='%.0f%%',textprops={'size':16});\n",
    "\n",
    "# Colors percents white\n",
    "for pct in pcts:\n",
    "    pct.set_color('white')"
   ]
  },
  {
   "cell_type": "markdown",
   "metadata": {},
   "source": [
    "# Metadata Curation"
   ]
  },
  {
   "cell_type": "markdown",
   "metadata": {},
   "source": [
    "<font size=4>The following sections can only be run after metadata curation is complete. To enable metadata curation, the code in this section sorts data by BioProject. </font>"
   ]
  },
  {
   "cell_type": "markdown",
   "metadata": {},
   "source": [
    "## BioProject counts of passing metadata"
   ]
  },
  {
   "cell_type": "code",
   "execution_count": 36,
   "metadata": {},
   "outputs": [
    {
     "data": {
      "text/plain": [
       "PRJNA439217    17\n",
       "PRJNA453776    14\n",
       "PRJNA526225     8\n",
       "PRJNA531435     6\n",
       "PRJEB30507      4\n",
       "PRJNA422245     4\n",
       "PRJNA388657     2\n",
       "PRJNA403203     1\n",
       "PRJNA403209     1\n",
       "PRJNA403190     1\n",
       "PRJNA403225     1\n",
       "PRJNA403197     1\n",
       "PRJNA403187     1\n",
       "PRJNA403216     1\n",
       "PRJNA403214     1\n",
       "PRJNA403215     1\n",
       "PRJNA403223     1\n",
       "PRJNA403211     1\n",
       "PRJNA403230     1\n",
       "PRJNA403231     1\n",
       "PRJNA403189     1\n",
       "PRJNA403228     1\n",
       "PRJNA403235     1\n",
       "PRJNA403224     1\n",
       "PRJNA403206     1\n",
       "PRJNA403188     1\n",
       "PRJNA403195     1\n",
       "PRJNA403198     1\n",
       "PRJNA403219     1\n",
       "PRJNA403213     1\n",
       "PRJNA403204     1\n",
       "PRJNA403208     1\n",
       "PRJNA403220     1\n",
       "PRJNA403207     1\n",
       "PRJNA403192     1\n",
       "PRJNA403199     1\n",
       "PRJNA403229     1\n",
       "PRJNA403200     1\n",
       "PRJNA403186     1\n",
       "PRJNA403181     1\n",
       "PRJNA213193     1\n",
       "PRJNA403205     1\n",
       "PRJNA403182     1\n",
       "PRJNA403202     1\n",
       "PRJNA403221     1\n",
       "PRJNA403201     1\n",
       "PRJNA403196     1\n",
       "PRJNA403191     1\n",
       "PRJNA403218     1\n",
       "PRJNA403183     1\n",
       "PRJNA373915     1\n",
       "PRJNA403227     1\n",
       "PRJNA403222     1\n",
       "PRJNA403217     1\n",
       "PRJNA403226     1\n",
       "PRJNA403236     1\n",
       "Name: BioProject, dtype: int64"
      ]
     },
     "execution_count": 36,
     "metadata": {},
     "output_type": "execute_result"
    }
   ],
   "source": [
    "DF_metadata_passed.BioProject.value_counts().sort_values(ascending=False)"
   ]
  },
  {
   "cell_type": "markdown",
   "metadata": {},
   "source": [
    "## BioProject counts of all metadata"
   ]
  },
  {
   "cell_type": "code",
   "execution_count": 37,
   "metadata": {},
   "outputs": [
    {
     "data": {
      "text/plain": [
       "PRJNA453776    18\n",
       "PRJNA439217    18\n",
       "PRJNA526225     8\n",
       "PRJNA531435     6\n",
       "PRJNA373915     5\n",
       "PRJEB30507      4\n",
       "PRJNA422245     4\n",
       "PRJEB14292      3\n",
       "PRJNA388657     2\n",
       "PRJNA403195     1\n",
       "PRJNA403197     1\n",
       "PRJNA403214     1\n",
       "PRJNA403216     1\n",
       "PRJNA403187     1\n",
       "PRJNA403203     1\n",
       "PRJNA403213     1\n",
       "PRJNA403209     1\n",
       "PRJNA403225     1\n",
       "PRJNA403223     1\n",
       "PRJNA403206     1\n",
       "PRJNA403224     1\n",
       "PRJNA403235     1\n",
       "PRJNA403198     1\n",
       "PRJNA403228     1\n",
       "PRJNA403211     1\n",
       "PRJNA403231     1\n",
       "PRJNA403230     1\n",
       "PRJNA403205     1\n",
       "PRJNA403219     1\n",
       "PRJNA403226     1\n",
       "PRJNA403188     1\n",
       "PRJNA403217     1\n",
       "PRJNA403189     1\n",
       "PRJNA403208     1\n",
       "PRJNA403220     1\n",
       "PRJNA403207     1\n",
       "PRJNA403192     1\n",
       "PRJNA403199     1\n",
       "PRJNA403229     1\n",
       "PRJNA403200     1\n",
       "PRJNA403186     1\n",
       "PRJNA403181     1\n",
       "PRJNA213193     1\n",
       "PRJNA403204     1\n",
       "PRJNA403182     1\n",
       "PRJNA403221     1\n",
       "PRJNA403201     1\n",
       "PRJNA403196     1\n",
       "PRJNA403191     1\n",
       "PRJNA403218     1\n",
       "PRJNA403183     1\n",
       "PRJNA403227     1\n",
       "PRJNA403222     1\n",
       "PRJNA403202     1\n",
       "PRJNA403190     1\n",
       "PRJNA403215     1\n",
       "PRJNA403236     1\n",
       "Name: BioProject, dtype: int64"
      ]
     },
     "execution_count": 37,
     "metadata": {},
     "output_type": "execute_result"
    }
   ],
   "source": [
    "DF_metadata.BioProject.value_counts().sort_values(ascending=False)"
   ]
  },
  {
   "cell_type": "markdown",
   "metadata": {},
   "source": [
    "# Correlations between replicates"
   ]
  },
  {
   "cell_type": "markdown",
   "metadata": {},
   "source": [
    "<font size=4> First, get a full sample name </font>"
   ]
  },
  {
   "cell_type": "code",
   "execution_count": 38,
   "metadata": {},
   "outputs": [],
   "source": [
    "# Turn off pesky warning\n",
    "pd.set_option('mode.chained_assignment', None)"
   ]
  },
  {
   "cell_type": "code",
   "execution_count": 39,
   "metadata": {},
   "outputs": [],
   "source": [
    "DF_metadata_passed['full_name'] = DF_metadata_passed.loc[:,'project_name'].str.cat(DF_metadata_passed.loc[:,'condition_name'],sep=':')"
   ]
  },
  {
   "cell_type": "code",
   "execution_count": 40,
   "metadata": {},
   "outputs": [
    {
     "data": {
      "text/plain": [
       "Index(['75_3.5_log', '65_1.6_stat', 'nc_rna8', 'nc_rna5', 'nc_rna6', 'nc_rna7',\n",
       "       '65_3.5_log', 't4'],\n",
       "      dtype='object')"
      ]
     },
     "execution_count": 40,
     "metadata": {},
     "output_type": "execute_result"
    }
   ],
   "source": [
    "# Drop Samples with no replicates\n",
    "cond_counts = DF_metadata_passed.condition_name.value_counts()\n",
    "drop_conds = cond_counts[cond_counts < 2].index\n",
    "drop_conds"
   ]
  },
  {
   "cell_type": "code",
   "execution_count": 41,
   "metadata": {},
   "outputs": [],
   "source": [
    "DF_metadata_passed['passed_number_replicates'] = ~DF_metadata_passed.condition_name.isin(drop_conds)"
   ]
  },
  {
   "cell_type": "code",
   "execution_count": 42,
   "metadata": {},
   "outputs": [],
   "source": [
    "DF_metadata_passed = DF_metadata_passed[DF_metadata_passed['passed_number_replicates']]"
   ]
  },
  {
   "cell_type": "markdown",
   "metadata": {},
   "source": [
    "## Compute Pearson R Score"
   ]
  },
  {
   "cell_type": "markdown",
   "metadata": {},
   "source": [
    "<font size=\"4\">Once you have updated your metadata files with the sample information, we can investigate correlations between biological replicates. We require biological replicates to have a Pearson R correlation above 0.95. </font>"
   ]
  },
  {
   "cell_type": "code",
   "execution_count": 43,
   "metadata": {},
   "outputs": [],
   "source": [
    "from tqdm import tqdm_notebook as tqdm\n",
    "import itertools\n",
    "from scipy import stats"
   ]
  },
  {
   "cell_type": "code",
   "execution_count": 44,
   "metadata": {},
   "outputs": [
    {
     "data": {
      "application/vnd.jupyter.widget-view+json": {
       "model_id": "e6540373f6d04c8e8d5ba57734a568f7",
       "version_major": 2,
       "version_minor": 0
      },
      "text/plain": [
       "HBox(children=(IntProgress(value=0, max=4560), HTML(value='')))"
      ]
     },
     "metadata": {},
     "output_type": "display_data"
    },
    {
     "name": "stdout",
     "output_type": "stream",
     "text": [
      "\n"
     ]
    }
   ],
   "source": [
    "rep_corrs = {}\n",
    "rand_corrs = {}\n",
    "\n",
    "num_comparisons = len(DF_metadata_passed)*(len(DF_metadata_passed)-1)/2\n",
    "for exp1,exp2 in tqdm(itertools.combinations(DF_metadata_passed.index,2),total=num_comparisons):\n",
    "    if DF_metadata_passed.loc[exp1,'full_name'] == DF_metadata_passed.loc[exp2,'full_name']:\n",
    "        rep_corrs[(exp1,exp2)] = stats.pearsonr(DF_log_tpm[exp1],DF_log_tpm[exp2])[0]\n",
    "    else:\n",
    "        rand_corrs[(exp1,exp2)] = stats.pearsonr(DF_log_tpm[exp1],DF_log_tpm[exp2])[0]"
   ]
  },
  {
   "cell_type": "code",
   "execution_count": 46,
   "metadata": {},
   "outputs": [],
   "source": [
    "sns.set_style('ticks')"
   ]
  },
  {
   "cell_type": "code",
   "execution_count": 48,
   "metadata": {},
   "outputs": [
    {
     "name": "stdout",
     "output_type": "stream",
     "text": [
      "Median Pearson R between replicates: 0.98\n"
     ]
    },
    {
     "data": {
      "image/png": "[encoded data removed]",
      "text/plain": [
       "<Figure size 360x360 with 2 Axes>"
      ]
     },
     "metadata": {},
     "output_type": "display_data"
    }
   ],
   "source": [
    "fig,ax = plt.subplots(figsize=(5,5))\n",
    "ax2 = ax.twinx()\n",
    "ax2.hist(rep_corrs.values(),bins=50,range=(0.2,1),alpha=0.8,color='green',linewidth=0)\n",
    "ax.hist(rand_corrs.values(),bins=50,range=(0.2,1),alpha=0.8,color='blue',linewidth=0)\n",
    "ax.set_title('Pearson R correlation between experiments',fontsize=14)\n",
    "ax.set_xlabel('Pearson R correlation',fontsize=14)\n",
    "ax.set_ylabel('Different Conditions',fontsize=14)\n",
    "ax2.set_ylabel('Known Replicates',fontsize=14)\n",
    "\n",
    "med_corr = np.median([v for k,v in rep_corrs.items()])\n",
    "print('Median Pearson R between replicates: {:.2f}'.format(med_corr))"
   ]
  },
  {
   "cell_type": "code",
   "execution_count": 49,
   "metadata": {},
   "outputs": [
    {
     "name": "stdout",
     "output_type": "stream",
     "text": [
      "Most dissimilar replicates:\n",
      "(('SRX4001525', 'SRX4001524'), 0.9180374769947339)\n",
      "(('SRX3565174', 'SRX3565187'), 0.9418855386148066)\n",
      "(('SRX3565191', 'SRX3565190'), 0.9336117087204334)\n",
      "(('SRX4001523', 'SRX4001524'), 0.9462789946993997)\n",
      "(('SRX4001518', 'SRX4001517'), 0.9215475866374004)\n",
      "(('SRX3565188', 'SRX3565190'), 0.9196232144381029)\n",
      "(('SRX4001512', 'SRX4001511'), 0.8858213914678069)\n",
      "(('SRX4001512', 'SRX4001513'), 0.8965937673217246)\n",
      "(('SRX4001516', 'SRX4001515'), 0.9388647283560501)\n",
      "(('SRX3565196', 'SRX3565194'), 0.9337207149604421)\n",
      "(('SRX3565196', 'SRX3565173'), 0.9418977610652712)\n",
      "(('SRX4001521', 'SRX4001520'), 0.9449841329372853)\n",
      "(('SRX4001514', 'SRX4001515'), 0.9295957708645574)\n",
      "(('SRX3565195', 'SRX3565202'), 0.946258578863688)\n"
     ]
    }
   ],
   "source": [
    "dissimilar = []\n",
    "print('Most dissimilar replicates:')\n",
    "for x in [(k,v) for k,v in rep_corrs.items() if v < 0.95]:\n",
    "    print(x)\n",
    "    dissimilar.append(x[0][0])\n",
    "    dissimilar.append(x[0][1])\n",
    "dissimilar = set(dissimilar)\n",
    "DF_metadata_passed['passed_similar_replicates'] = ~DF_metadata_passed.condition_name.isin(dissimilar)"
   ]
  },
  {
   "cell_type": "markdown",
   "metadata": {},
   "source": [
    "# Remove failed samples"
   ]
  },
  {
   "cell_type": "code",
   "execution_count": 50,
   "metadata": {},
   "outputs": [],
   "source": [
    "qc_columns = ['passed_number_replicates','passed_similar_replicates']"
   ]
  },
  {
   "cell_type": "code",
   "execution_count": 51,
   "metadata": {},
   "outputs": [],
   "source": [
    "DF_metadata_final = DF_metadata_passed[DF_metadata_passed[qc_columns].all(axis=1)]"
   ]
  },
  {
   "cell_type": "code",
   "execution_count": 52,
   "metadata": {},
   "outputs": [
    {
     "data": {
      "text/plain": [
       "(96, 52)"
      ]
     },
     "execution_count": 52,
     "metadata": {},
     "output_type": "execute_result"
    }
   ],
   "source": [
    "DF_metadata_final.shape"
   ]
  },
  {
   "cell_type": "code",
   "execution_count": 53,
   "metadata": {},
   "outputs": [],
   "source": [
    "DF_log_tpm_final = DF_log_tpm[DF_metadata_final.index]"
   ]
  },
  {
   "cell_type": "markdown",
   "metadata": {},
   "source": [
    "# Save final datasets"
   ]
  },
  {
   "cell_type": "markdown",
   "metadata": {},
   "source": [
    "<font size=4> Choose a condition as the reference condition. Ideally, this would be the WT strain, grown in the most common base media for your organism. Defined media like M9 or MOPS are preferred, but many organisms only grow on rich media such as LB. </font>"
   ]
  },
  {
   "cell_type": "code",
   "execution_count": 12,
   "metadata": {},
   "outputs": [],
   "source": [
    "# List all replicates for the reference condition\n",
    "reference = ['SRX4001511','SRX4001512','SRX4001513']"
   ]
  },
  {
   "cell_type": "code",
   "execution_count": 13,
   "metadata": {},
   "outputs": [],
   "source": [
    "# Subtract mean expression of reference from entire dataset\n",
    "DF_log_tpm_norm = DF_log_tpm_final.sub(DF_log_tpm_final[reference].mean(axis=1),axis=0)"
   ]
  },
  {
   "cell_type": "code",
   "execution_count": 17,
   "metadata": {},
   "outputs": [],
   "source": [
    "DF_log_tpm_final.to_csv(os.path.join(org_dir,'log_tpm_qc.csv'))\n",
    "DF_log_tpm_norm.to_csv(os.path.join(org_dir,'log_tpm_norm.csv'))\n",
    "DF_metadata_final.to_csv(os.path.join(org_dir,'metadata_qc.csv'))"
   ]
  }
 ],
 "metadata": {
  "kernelspec": {
   "display_name": "Python 3",
   "language": "python",
   "name": "python3"
  },
  "language_info": {
   "codemirror_mode": {
    "name": "ipython",
    "version": 3
   },
   "file_extension": ".py",
   "mimetype": "text/x-python",
   "name": "python",
   "nbconvert_exporter": "python",
   "pygments_lexer": "ipython3",
   "version": "3.6.7"
  },
  "toc": {
   "base_numbering": 1,
   "nav_menu": {},
   "number_sections": true,
   "sideBar": true,
   "skip_h1_title": false,
   "title_cell": "Table of Contents",
   "title_sidebar": "Contents",
   "toc_cell": true,
   "toc_position": {},
   "toc_section_display": true,
   "toc_window_display": false
  }
 },
 "nbformat": 4,
 "nbformat_minor": 2
}
